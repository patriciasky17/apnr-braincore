{
 "cells": [
  {
   "cell_type": "code",
   "execution_count": 27,
   "metadata": {},
   "outputs": [],
   "source": [
    "import os\n",
    "import sys\n",
    "import cv2\n",
    "import numpy as np\n",
    "from ultralytics import YOLO\n",
    "import torch\n",
    "import torchvision.transforms as transforms\n",
    "import shutil\n",
    "from sklearn.metrics import confusion_matrix, ConfusionMatrixDisplay, precision_score, recall_score, f1_score, accuracy_score\n",
    "import matplotlib.pyplot as plt"
   ]
  },
  {
   "cell_type": "code",
   "execution_count": 28,
   "metadata": {},
   "outputs": [],
   "source": [
    "base_dir = \"./data\"\n",
    "\n",
    "train_dir = os.path.join(base_dir, \"train\")\n",
    "valid_dir = os.path.join(base_dir, \"valid\")\n",
    "test_dir = os.path.join(base_dir, \"Test\")"
   ]
  },
  {
   "cell_type": "code",
   "execution_count": 29,
   "metadata": {},
   "outputs": [],
   "source": [
    "image_size = (640, 640)"
   ]
  },
  {
   "cell_type": "code",
   "execution_count": 9,
   "metadata": {},
   "outputs": [
    {
     "name": "stdout",
     "output_type": "stream",
     "text": [
      "Ultralytics YOLOv8.2.103  Python-3.10.5 torch-2.4.1+cu121 CUDA:0 (NVIDIA GeForce RTX 2070 with Max-Q Design, 8192MiB)\n",
      "\u001b[34m\u001b[1mengine\\trainer: \u001b[0mtask=detect, mode=train, model=yolov8n.pt, data=./data\\data.yaml, epochs=50, time=None, patience=100, batch=16, imgsz=640, save=True, save_period=-1, cache=False, device=None, workers=8, project=None, name=train9, exist_ok=False, pretrained=True, optimizer=auto, verbose=True, seed=0, deterministic=True, single_cls=False, rect=False, cos_lr=False, close_mosaic=10, resume=False, amp=True, fraction=1.0, profile=False, freeze=None, multi_scale=False, overlap_mask=True, mask_ratio=4, dropout=0.0, val=True, split=val, save_json=False, save_hybrid=False, conf=None, iou=0.7, max_det=300, half=False, dnn=False, plots=True, source=None, vid_stride=1, stream_buffer=False, visualize=False, augment=False, agnostic_nms=False, classes=None, retina_masks=False, embed=None, show=False, save_frames=False, save_txt=False, save_conf=False, save_crop=False, show_labels=True, show_conf=True, show_boxes=True, line_width=None, format=torchscript, keras=False, optimize=False, int8=False, dynamic=False, simplify=True, opset=None, workspace=4, nms=False, lr0=0.01, lrf=0.01, momentum=0.937, weight_decay=0.0005, warmup_epochs=3.0, warmup_momentum=0.8, warmup_bias_lr=0.1, box=7.5, cls=0.5, dfl=1.5, pose=12.0, kobj=1.0, label_smoothing=0.0, nbs=64, hsv_h=0.015, hsv_s=0.7, hsv_v=0.4, degrees=0.0, translate=0.1, scale=0.5, shear=0.0, perspective=0.0, flipud=0.0, fliplr=0.5, bgr=0.0, mosaic=1.0, mixup=0.0, copy_paste=0.0, auto_augment=randaugment, erasing=0.4, crop_fraction=1.0, cfg=None, tracker=botsort.yaml, save_dir=runs\\detect\\train9\n",
      "Downloading https://ultralytics.com/assets/Arial.ttf to 'C:\\Users\\dell\\AppData\\Roaming\\Ultralytics\\Arial.ttf'...\n"
     ]
    },
    {
     "name": "stderr",
     "output_type": "stream",
     "text": [
      "100%|█████████████████████████████████████████████████████████████████████████████████████████████████████████████| 755k/755k [00:00<00:00, 5.41MB/s]"
     ]
    },
    {
     "name": "stdout",
     "output_type": "stream",
     "text": [
      "Overriding model.yaml nc=80 with nc=1\n",
      "\n",
      "                   from  n    params  module                                       arguments                     \n"
     ]
    },
    {
     "name": "stderr",
     "output_type": "stream",
     "text": [
      "\n"
     ]
    },
    {
     "name": "stdout",
     "output_type": "stream",
     "text": [
      "  0                  -1  1       464  ultralytics.nn.modules.conv.Conv             [3, 16, 3, 2]                 \n",
      "  1                  -1  1      4672  ultralytics.nn.modules.conv.Conv             [16, 32, 3, 2]                \n",
      "  2                  -1  1      7360  ultralytics.nn.modules.block.C2f             [32, 32, 1, True]             \n",
      "  3                  -1  1     18560  ultralytics.nn.modules.conv.Conv             [32, 64, 3, 2]                \n",
      "  4                  -1  2     49664  ultralytics.nn.modules.block.C2f             [64, 64, 2, True]             \n",
      "  5                  -1  1     73984  ultralytics.nn.modules.conv.Conv             [64, 128, 3, 2]               \n",
      "  6                  -1  2    197632  ultralytics.nn.modules.block.C2f             [128, 128, 2, True]           \n",
      "  7                  -1  1    295424  ultralytics.nn.modules.conv.Conv             [128, 256, 3, 2]              \n",
      "  8                  -1  1    460288  ultralytics.nn.modules.block.C2f             [256, 256, 1, True]           \n",
      "  9                  -1  1    164608  ultralytics.nn.modules.block.SPPF            [256, 256, 5]                 \n",
      " 10                  -1  1         0  torch.nn.modules.upsampling.Upsample         [None, 2, 'nearest']          \n",
      " 11             [-1, 6]  1         0  ultralytics.nn.modules.conv.Concat           [1]                           \n",
      " 12                  -1  1    148224  ultralytics.nn.modules.block.C2f             [384, 128, 1]                 \n",
      " 13                  -1  1         0  torch.nn.modules.upsampling.Upsample         [None, 2, 'nearest']          \n",
      " 14             [-1, 4]  1         0  ultralytics.nn.modules.conv.Concat           [1]                           \n",
      " 15                  -1  1     37248  ultralytics.nn.modules.block.C2f             [192, 64, 1]                  \n",
      " 16                  -1  1     36992  ultralytics.nn.modules.conv.Conv             [64, 64, 3, 2]                \n",
      " 17            [-1, 12]  1         0  ultralytics.nn.modules.conv.Concat           [1]                           \n",
      " 18                  -1  1    123648  ultralytics.nn.modules.block.C2f             [192, 128, 1]                 \n",
      " 19                  -1  1    147712  ultralytics.nn.modules.conv.Conv             [128, 128, 3, 2]              \n",
      " 20             [-1, 9]  1         0  ultralytics.nn.modules.conv.Concat           [1]                           \n",
      " 21                  -1  1    493056  ultralytics.nn.modules.block.C2f             [384, 256, 1]                 \n",
      " 22        [15, 18, 21]  1    751507  ultralytics.nn.modules.head.Detect           [1, [64, 128, 256]]           \n",
      "Model summary: 225 layers, 3,011,043 parameters, 3,011,027 gradients, 8.2 GFLOPs\n",
      "\n",
      "Transferred 319/355 items from pretrained weights\n",
      "Freezing layer 'model.22.dfl.conv.weight'\n",
      "\u001b[34m\u001b[1mAMP: \u001b[0mrunning Automatic Mixed Precision (AMP) checks with YOLOv8n...\n",
      "\u001b[34m\u001b[1mAMP: \u001b[0mchecks passed \n"
     ]
    },
    {
     "name": "stderr",
     "output_type": "stream",
     "text": [
      "\u001b[34m\u001b[1mtrain: \u001b[0mScanning C:\\Patricia Ho\\Braincore\\apnr\\data\\train\\labels... 3087 images, 24 backgrounds, 152 corrupt: 100%|██████████| 3087/3087 [00:09<00:00,\u001b[0m"
     ]
    },
    {
     "name": "stdout",
     "output_type": "stream",
     "text": [
      "\u001b[34m\u001b[1mtrain: \u001b[0mWARNING  C:\\Patricia Ho\\Braincore\\apnr\\data\\train\\images\\1-E-3977-QM-09-19_jpg.rf.0e0eb04bbaac97f1ef2845dc4e00e609.jpg: ignoring corrupt image/label: non-normalized or out of bounds coordinates [     1.0352]\n",
      "\u001b[34m\u001b[1mtrain: \u001b[0mWARNING  C:\\Patricia Ho\\Braincore\\apnr\\data\\train\\images\\1-E-3977-QM-09-19_jpg.rf.80521b7fb43c77b1dedd6efda1cc8c33.jpg: ignoring corrupt image/label: non-normalized or out of bounds coordinates [     1.1022]\n",
      "\u001b[34m\u001b[1mtrain: \u001b[0mWARNING  C:\\Patricia Ho\\Braincore\\apnr\\data\\train\\images\\101-E-4604-PS-09-17_jpg.rf.71bb31497a41e7fb69bc37b29a4a630f.jpg: ignoring corrupt image/label: non-normalized or out of bounds coordinates [     1.0579]\n",
      "\u001b[34m\u001b[1mtrain: \u001b[0mWARNING  C:\\Patricia Ho\\Braincore\\apnr\\data\\train\\images\\101-E-4604-PS-09-17_jpg.rf.a054bbff55358984169c3957f1dff11e.jpg: ignoring corrupt image/label: non-normalized or out of bounds coordinates [     1.0995]\n",
      "\u001b[34m\u001b[1mtrain: \u001b[0mWARNING  C:\\Patricia Ho\\Braincore\\apnr\\data\\train\\images\\107-E-4145-QZ-12-20_jpg.rf.a3ecef7db5d3272a41070bc878ac4feb.jpg: ignoring corrupt image/label: non-normalized or out of bounds coordinates [     1.0034]\n",
      "\u001b[34m\u001b[1mtrain: \u001b[0mWARNING  C:\\Patricia Ho\\Braincore\\apnr\\data\\train\\images\\107-E-4145-QZ-12-20_jpg.rf.e1cbcd169f3ca930b944bf944e18f9b0.jpg: ignoring corrupt image/label: non-normalized or out of bounds coordinates [     1.0191]\n",
      "\u001b[34m\u001b[1mtrain: \u001b[0mWARNING  C:\\Patricia Ho\\Braincore\\apnr\\data\\train\\images\\11-E-6562-QO-12-19_jpg.rf.b03e617eb00b46746fc715ef3fa2bf77.jpg: ignoring corrupt image/label: non-normalized or out of bounds coordinates [     1.0281]\n",
      "\u001b[34m\u001b[1mtrain: \u001b[0mWARNING  C:\\Patricia Ho\\Braincore\\apnr\\data\\train\\images\\116-E-5241-TP-09-22_jpg.rf.b664d90633ad56f184a560df4f7014ab.jpg: ignoring corrupt image/label: non-normalized or out of bounds coordinates [     1.0689]\n",
      "\u001b[34m\u001b[1mtrain: \u001b[0mWARNING  C:\\Patricia Ho\\Braincore\\apnr\\data\\train\\images\\116-E-5241-TP-09-22_jpg.rf.d5874673e3b40ed4f4b3320aeabd1d81.jpg: ignoring corrupt image/label: non-normalized or out of bounds coordinates [     1.0561]\n",
      "\u001b[34m\u001b[1mtrain: \u001b[0mWARNING  C:\\Patricia Ho\\Braincore\\apnr\\data\\train\\images\\133-E-6586-PAM-06-22_jpg.rf.49d3e5419fe54c3fac1a10ecde070a33.jpg: ignoring corrupt image/label: non-normalized or out of bounds coordinates [     1.0336]\n",
      "\u001b[34m\u001b[1mtrain: \u001b[0mWARNING  C:\\Patricia Ho\\Braincore\\apnr\\data\\train\\images\\142-E-3229-SQ-11-18_jpg.rf.346d6dc6e1f23b1102e795aff2631e5e.jpg: ignoring corrupt image/label: non-normalized or out of bounds coordinates [     1.1402]\n",
      "\u001b[34m\u001b[1mtrain: \u001b[0mWARNING  C:\\Patricia Ho\\Braincore\\apnr\\data\\train\\images\\142-E-3229-SQ-11-18_jpg.rf.a3e91c09a835acd9ec4146c05abc9af5.jpg: ignoring corrupt image/label: non-normalized or out of bounds coordinates [     1.1996]\n",
      "\u001b[34m\u001b[1mtrain: \u001b[0mWARNING  C:\\Patricia Ho\\Braincore\\apnr\\data\\train\\images\\142-E-3229-SQ-11-18_jpg.rf.cba3e0dbe10eb8c009433336df5b3c9e.jpg: ignoring corrupt image/label: non-normalized or out of bounds coordinates [     1.0906]\n",
      "\u001b[34m\u001b[1mtrain: \u001b[0mWARNING  C:\\Patricia Ho\\Braincore\\apnr\\data\\train\\images\\143-E-5279-SD-12-21_jpg.rf.46240eb6e87e9adc9e510f32689bc3a7.jpg: ignoring corrupt image/label: non-normalized or out of bounds coordinates [     1.1202]\n",
      "\u001b[34m\u001b[1mtrain: \u001b[0mWARNING  C:\\Patricia Ho\\Braincore\\apnr\\data\\train\\images\\143-E-5279-SD-12-21_jpg.rf.5b7f4c3304db60478aa0513d96afc397.jpg: ignoring corrupt image/label: non-normalized or out of bounds coordinates [     1.1537]\n",
      "\u001b[34m\u001b[1mtrain: \u001b[0mWARNING  C:\\Patricia Ho\\Braincore\\apnr\\data\\train\\images\\143-E-5279-SD-12-21_jpg.rf.86be66670310c58e1a06407c8fbc0884.jpg: ignoring corrupt image/label: non-normalized or out of bounds coordinates [     1.1775]\n",
      "\u001b[34m\u001b[1mtrain: \u001b[0mWARNING  C:\\Patricia Ho\\Braincore\\apnr\\data\\train\\images\\148-E-3052-QU-06-20_jpg.rf.561302a7339b0f2c8bca73a76540fe83.jpg: ignoring corrupt image/label: non-normalized or out of bounds coordinates [     1.1003]\n",
      "\u001b[34m\u001b[1mtrain: \u001b[0mWARNING  C:\\Patricia Ho\\Braincore\\apnr\\data\\train\\images\\148-E-3052-QU-06-20_jpg.rf.d12b26de75e0a95b75ccbef6cad60fda.jpg: ignoring corrupt image/label: non-normalized or out of bounds coordinates [     1.0883]\n",
      "\u001b[34m\u001b[1mtrain: \u001b[0mWARNING  C:\\Patricia Ho\\Braincore\\apnr\\data\\train\\images\\148-E-3052-QU-06-20_jpg.rf.e2dfb925512b84eb64600b1178743365.jpg: ignoring corrupt image/label: non-normalized or out of bounds coordinates [     1.0545]\n",
      "\u001b[34m\u001b[1mtrain: \u001b[0mWARNING  C:\\Patricia Ho\\Braincore\\apnr\\data\\train\\images\\155-E-3392-TZ-07-18_jpg.rf.2ef58668eeeab30854196464a57c7ba6.jpg: ignoring corrupt image/label: non-normalized or out of bounds coordinates [     1.1216]\n",
      "\u001b[34m\u001b[1mtrain: \u001b[0mWARNING  C:\\Patricia Ho\\Braincore\\apnr\\data\\train\\images\\155-E-3392-TZ-07-18_jpg.rf.419e671c3391333d40c5cd90696c879c.jpg: ignoring corrupt image/label: non-normalized or out of bounds coordinates [      1.086]\n",
      "\u001b[34m\u001b[1mtrain: \u001b[0mWARNING  C:\\Patricia Ho\\Braincore\\apnr\\data\\train\\images\\155-E-3392-TZ-07-18_jpg.rf.5cb381ac8e4ea9e41e11597f7e8a8c91.jpg: ignoring corrupt image/label: non-normalized or out of bounds coordinates [     1.0733]\n",
      "\u001b[34m\u001b[1mtrain: \u001b[0mWARNING  C:\\Patricia Ho\\Braincore\\apnr\\data\\train\\images\\161-E-3332-ST-02-19_jpg.rf.59082b6c2fd6d7fb62f2dad262ce12a3.jpg: ignoring corrupt image/label: non-normalized or out of bounds coordinates [     1.0292]\n",
      "\u001b[34m\u001b[1mtrain: \u001b[0mWARNING  C:\\Patricia Ho\\Braincore\\apnr\\data\\train\\images\\161-E-3332-ST-02-19_jpg.rf.cd94bc69353d428489c951616935be85.jpg: ignoring corrupt image/label: non-normalized or out of bounds coordinates [     1.0655]\n",
      "\u001b[34m\u001b[1mtrain: \u001b[0mWARNING  C:\\Patricia Ho\\Braincore\\apnr\\data\\train\\images\\161-E-3332-ST-02-19_jpg.rf.d37d326d2302e97dfed11bddbdf4ef46.jpg: ignoring corrupt image/label: non-normalized or out of bounds coordinates [     1.0539]\n",
      "\u001b[34m\u001b[1mtrain: \u001b[0mWARNING  C:\\Patricia Ho\\Braincore\\apnr\\data\\train\\images\\165-E-5555-SR-05-20_jpg.rf.23949201bee2db1729620e3ac829d40f.jpg: ignoring corrupt image/label: non-normalized or out of bounds coordinates [     1.0233]\n",
      "\u001b[34m\u001b[1mtrain: \u001b[0mWARNING  C:\\Patricia Ho\\Braincore\\apnr\\data\\train\\images\\165-E-5555-SR-05-20_jpg.rf.f21b6350257d1b2766f0f0c0f7de0b53.jpg: ignoring corrupt image/label: non-normalized or out of bounds coordinates [     1.0011]\n",
      "\u001b[34m\u001b[1mtrain: \u001b[0mWARNING  C:\\Patricia Ho\\Braincore\\apnr\\data\\train\\images\\167-E-4314-RP-01-22_jpg.rf.584c2e47d7a556553d88f61475a3c769.jpg: ignoring corrupt image/label: non-normalized or out of bounds coordinates [     1.0384]\n",
      "\u001b[34m\u001b[1mtrain: \u001b[0mWARNING  C:\\Patricia Ho\\Braincore\\apnr\\data\\train\\images\\167-E-4314-RP-01-22_jpg.rf.7666f969a94995b81be9ee207ccfda66.jpg: ignoring corrupt image/label: non-normalized or out of bounds coordinates [     1.0005]\n",
      "\u001b[34m\u001b[1mtrain: \u001b[0mWARNING  C:\\Patricia Ho\\Braincore\\apnr\\data\\train\\images\\175-E-6962-PAA-02-21_jpg.rf.2ac9797153258e14d22ec59ce608b01b.jpg: ignoring corrupt image/label: non-normalized or out of bounds coordinates [     1.0107]\n",
      "\u001b[34m\u001b[1mtrain: \u001b[0mWARNING  C:\\Patricia Ho\\Braincore\\apnr\\data\\train\\images\\180-E-3646-RL-05-20_jpg.rf.534c901daa25eab8356913a98eabe067.jpg: ignoring corrupt image/label: non-normalized or out of bounds coordinates [     1.1585]\n",
      "\u001b[34m\u001b[1mtrain: \u001b[0mWARNING  C:\\Patricia Ho\\Braincore\\apnr\\data\\train\\images\\180-E-3646-RL-05-20_jpg.rf.9e3b4d4f3737d89b7d76220353c42c5d.jpg: ignoring corrupt image/label: non-normalized or out of bounds coordinates [      1.096]\n",
      "\u001b[34m\u001b[1mtrain: \u001b[0mWARNING  C:\\Patricia Ho\\Braincore\\apnr\\data\\train\\images\\180-E-3646-RL-05-20_jpg.rf.cebbbef93029fac7ba2a467c5916a6fa.jpg: ignoring corrupt image/label: non-normalized or out of bounds coordinates [     1.1538]\n",
      "\u001b[34m\u001b[1mtrain: \u001b[0mWARNING  C:\\Patricia Ho\\Braincore\\apnr\\data\\train\\images\\181-E-3708-TU-06-15_jpg.rf.4582b9f95e3f4566445b5b90316db367.jpg: ignoring corrupt image/label: non-normalized or out of bounds coordinates [     1.1094]\n",
      "\u001b[34m\u001b[1mtrain: \u001b[0mWARNING  C:\\Patricia Ho\\Braincore\\apnr\\data\\train\\images\\181-E-3708-TU-06-15_jpg.rf.4e9a0ddff75b9e7a0d8145470cff0c35.jpg: ignoring corrupt image/label: non-normalized or out of bounds coordinates [     1.0887]\n",
      "\u001b[34m\u001b[1mtrain: \u001b[0mWARNING  C:\\Patricia Ho\\Braincore\\apnr\\data\\train\\images\\181-E-3708-TU-06-15_jpg.rf.bb13c10d8c703cea8d7eb70fab1a456b.jpg: ignoring corrupt image/label: non-normalized or out of bounds coordinates [     1.1042]\n",
      "\u001b[34m\u001b[1mtrain: \u001b[0mWARNING  C:\\Patricia Ho\\Braincore\\apnr\\data\\train\\images\\182-E-3996-RS-08-17_jpg.rf.223ab1d177203094612637beee1b9144.jpg: ignoring corrupt image/label: non-normalized or out of bounds coordinates [     1.1603]\n",
      "\u001b[34m\u001b[1mtrain: \u001b[0mWARNING  C:\\Patricia Ho\\Braincore\\apnr\\data\\train\\images\\182-E-3996-RS-08-17_jpg.rf.3b4654902b67e2f9cc4f81f38a0d3443.jpg: ignoring corrupt image/label: non-normalized or out of bounds coordinates [      1.155]\n",
      "\u001b[34m\u001b[1mtrain: \u001b[0mWARNING  C:\\Patricia Ho\\Braincore\\apnr\\data\\train\\images\\182-E-3996-RS-08-17_jpg.rf.46c626259b3b307457b13e3c0e0ddd3f.jpg: ignoring corrupt image/label: non-normalized or out of bounds coordinates [     1.1372]\n",
      "\u001b[34m\u001b[1mtrain: \u001b[0mWARNING  C:\\Patricia Ho\\Braincore\\apnr\\data\\train\\images\\189-E-5182-QO-11-19_jpg.rf.8caa8f23c9a6f5278ecea53a73065dfc.jpg: ignoring corrupt image/label: non-normalized or out of bounds coordinates [     1.0489]\n",
      "\u001b[34m\u001b[1mtrain: \u001b[0mWARNING  C:\\Patricia Ho\\Braincore\\apnr\\data\\train\\images\\189-E-5182-QO-11-19_jpg.rf.bf27cf6fb6487d0a56a59147717f6fdb.jpg: ignoring corrupt image/label: non-normalized or out of bounds coordinates [     1.0481]\n",
      "\u001b[34m\u001b[1mtrain: \u001b[0mWARNING  C:\\Patricia Ho\\Braincore\\apnr\\data\\train\\images\\190-E-5621-OV-08-20_jpg.rf.83003594aea48d98eb374da117f964da.jpg: ignoring corrupt image/label: non-normalized or out of bounds coordinates [     1.0042]\n",
      "\u001b[34m\u001b[1mtrain: \u001b[0mWARNING  C:\\Patricia Ho\\Braincore\\apnr\\data\\train\\images\\191-E-3690-ZV-02-20_jpg.rf.467058279ed376297287fb5acc2e2430.jpg: ignoring corrupt image/label: non-normalized or out of bounds coordinates [     1.0637]\n",
      "\u001b[34m\u001b[1mtrain: \u001b[0mWARNING  C:\\Patricia Ho\\Braincore\\apnr\\data\\train\\images\\191-E-3690-ZV-02-20_jpg.rf.b859688eaca57e9d6a6567a5d735bb8d.jpg: ignoring corrupt image/label: non-normalized or out of bounds coordinates [     1.0092]\n",
      "\u001b[34m\u001b[1mtrain: \u001b[0mWARNING  C:\\Patricia Ho\\Braincore\\apnr\\data\\train\\images\\194-E-6037-SF-06-19_jpg.rf.38b715a5de77df0bec90616c4b2593d0.jpg: ignoring corrupt image/label: non-normalized or out of bounds coordinates [     1.0216]\n",
      "\u001b[34m\u001b[1mtrain: \u001b[0mWARNING  C:\\Patricia Ho\\Braincore\\apnr\\data\\train\\images\\20-E-4221-RL-04-19_jpg.rf.3f36193f60bdd761d1afa8ac30f2ce75.jpg: ignoring corrupt image/label: non-normalized or out of bounds coordinates [     1.0142]\n",
      "\u001b[34m\u001b[1mtrain: \u001b[0mWARNING  C:\\Patricia Ho\\Braincore\\apnr\\data\\train\\images\\20-E-4221-RL-04-19_jpg.rf.525c0e161651cd0b8c1953ff91e17216.jpg: ignoring corrupt image/label: non-normalized or out of bounds coordinates [      1.086]\n",
      "\u001b[34m\u001b[1mtrain: \u001b[0mWARNING  C:\\Patricia Ho\\Braincore\\apnr\\data\\train\\images\\20-E-4221-RL-04-19_jpg.rf.d1a0d9c776ad1fe08d340467172c0f19.jpg: ignoring corrupt image/label: non-normalized or out of bounds coordinates [      1.057]\n",
      "\u001b[34m\u001b[1mtrain: \u001b[0mWARNING  C:\\Patricia Ho\\Braincore\\apnr\\data\\train\\images\\20171211_110642_jpg.rf.448ecc83461eb8c8786602dee5d23d59.jpg: ignoring corrupt image/label: non-normalized or out of bounds coordinates [     1.0087]\n",
      "\u001b[34m\u001b[1mtrain: \u001b[0mWARNING  C:\\Patricia Ho\\Braincore\\apnr\\data\\train\\images\\20171211_110642_jpg.rf.4518be5aadcb33bb2df1ce3d70b6656c.jpg: ignoring corrupt image/label: non-normalized or out of bounds coordinates [     1.0762]\n",
      "\u001b[34m\u001b[1mtrain: \u001b[0mWARNING  C:\\Patricia Ho\\Braincore\\apnr\\data\\train\\images\\20171211_110642_jpg.rf.e1a7188f9e75877916fc355b5647368c.jpg: ignoring corrupt image/label: non-normalized or out of bounds coordinates [     1.0374]\n",
      "\u001b[34m\u001b[1mtrain: \u001b[0mWARNING  C:\\Patricia Ho\\Braincore\\apnr\\data\\train\\images\\20171214_121617_jpg.rf.1685ba804bcf637e6824a4144d4a573f.jpg: ignoring corrupt image/label: non-normalized or out of bounds coordinates [     1.1022]\n",
      "\u001b[34m\u001b[1mtrain: \u001b[0mWARNING  C:\\Patricia Ho\\Braincore\\apnr\\data\\train\\images\\20171214_121617_jpg.rf.1b6b26f0219eb171b2bdefdbf4724cf1.jpg: ignoring corrupt image/label: non-normalized or out of bounds coordinates [     1.0585]\n",
      "\u001b[34m\u001b[1mtrain: \u001b[0mWARNING  C:\\Patricia Ho\\Braincore\\apnr\\data\\train\\images\\20171214_121617_jpg.rf.f5e0e4802c441dc5e347b1df17c8a252.jpg: ignoring corrupt image/label: non-normalized or out of bounds coordinates [     1.0891]\n",
      "\u001b[34m\u001b[1mtrain: \u001b[0mWARNING  C:\\Patricia Ho\\Braincore\\apnr\\data\\train\\images\\204-E-6936-TF-10-21_jpg.rf.90ea80f5974012c850fb41b9d0e189bd.jpg: ignoring corrupt image/label: non-normalized or out of bounds coordinates [     1.0229]\n",
      "\u001b[34m\u001b[1mtrain: \u001b[0mWARNING  C:\\Patricia Ho\\Braincore\\apnr\\data\\train\\images\\204-E-6936-TF-10-21_jpg.rf.a36e7d9050aa2ebdd05bce096de71466.jpg: ignoring corrupt image/label: non-normalized or out of bounds coordinates [     1.0131]\n",
      "\u001b[34m\u001b[1mtrain: \u001b[0mWARNING  C:\\Patricia Ho\\Braincore\\apnr\\data\\train\\images\\204-E-6936-TF-10-21_jpg.rf.bbcc62387f7214a649031babdd9dbce3.jpg: ignoring corrupt image/label: non-normalized or out of bounds coordinates [     1.0391]\n",
      "\u001b[34m\u001b[1mtrain: \u001b[0mWARNING  C:\\Patricia Ho\\Braincore\\apnr\\data\\train\\images\\210-E-3166-PAO-06-22_jpg.rf.65d81897a8ba0434a85592884eeefc60.jpg: ignoring corrupt image/label: non-normalized or out of bounds coordinates [     1.0486]\n",
      "\u001b[34m\u001b[1mtrain: \u001b[0mWARNING  C:\\Patricia Ho\\Braincore\\apnr\\data\\train\\images\\210-E-3166-PAO-06-22_jpg.rf.83fe3ffe4594d55c1cef2378d13b27a6.jpg: ignoring corrupt image/label: non-normalized or out of bounds coordinates [     1.0069]\n",
      "\u001b[34m\u001b[1mtrain: \u001b[0mWARNING  C:\\Patricia Ho\\Braincore\\apnr\\data\\train\\images\\212-E-3817-PAH-11-21_jpg.rf.340779dbefd3bdd7db935edf489c11a5.jpg: ignoring corrupt image/label: non-normalized or out of bounds coordinates [     1.0328]\n",
      "\u001b[34m\u001b[1mtrain: \u001b[0mWARNING  C:\\Patricia Ho\\Braincore\\apnr\\data\\train\\images\\212-E-3817-PAH-11-21_jpg.rf.c09714136076845512694c9699c8867f.jpg: ignoring corrupt image/label: non-normalized or out of bounds coordinates [     1.0239]\n",
      "\u001b[34m\u001b[1mtrain: \u001b[0mWARNING  C:\\Patricia Ho\\Braincore\\apnr\\data\\train\\images\\212-E-3817-PAH-11-21_jpg.rf.f99dbb7e3630249b992beb16406e2e23.jpg: ignoring corrupt image/label: non-normalized or out of bounds coordinates [     1.0526]\n",
      "\u001b[34m\u001b[1mtrain: \u001b[0mWARNING  C:\\Patricia Ho\\Braincore\\apnr\\data\\train\\images\\219-E-6312-SW-07-21_jpg.rf.6d91bb45024cff2af20be716e17346d6.jpg: ignoring corrupt image/label: non-normalized or out of bounds coordinates [     1.0267]\n",
      "\u001b[34m\u001b[1mtrain: \u001b[0mWARNING  C:\\Patricia Ho\\Braincore\\apnr\\data\\train\\images\\219-E-6312-SW-07-21_jpg.rf.bb456730d7f3aa63158710eaed330270.jpg: ignoring corrupt image/label: non-normalized or out of bounds coordinates [      1.001]\n",
      "\u001b[34m\u001b[1mtrain: \u001b[0mWARNING  C:\\Patricia Ho\\Braincore\\apnr\\data\\train\\images\\223-E-6186-PAP-08-22_jpg.rf.23bb629c0538cb88e9676842f2c07d64.jpg: ignoring corrupt image/label: non-normalized or out of bounds coordinates [     1.0411]\n",
      "\u001b[34m\u001b[1mtrain: \u001b[0mWARNING  C:\\Patricia Ho\\Braincore\\apnr\\data\\train\\images\\223-E-6186-PAP-08-22_jpg.rf.e811e4e0eaa9b10826360ee41fcb11ec.jpg: ignoring corrupt image/label: non-normalized or out of bounds coordinates [      1.078]\n",
      "\u001b[34m\u001b[1mtrain: \u001b[0mWARNING  C:\\Patricia Ho\\Braincore\\apnr\\data\\train\\images\\228-E-6450-TM-06-22_jpg.rf.d08bd4eac25e590221b3e3265953a25c.jpg: ignoring corrupt image/label: non-normalized or out of bounds coordinates [     1.0247]\n",
      "\u001b[34m\u001b[1mtrain: \u001b[0mWARNING  C:\\Patricia Ho\\Braincore\\apnr\\data\\train\\images\\243-E-3309-QF-02-19_jpg.rf.315448d586410e2f501143f0a6a1033d.jpg: ignoring corrupt image/label: non-normalized or out of bounds coordinates [     1.0616]\n",
      "\u001b[34m\u001b[1mtrain: \u001b[0mWARNING  C:\\Patricia Ho\\Braincore\\apnr\\data\\train\\images\\243-E-3309-QF-02-19_jpg.rf.a48a8808d5135acbf45865903a32ec9b.jpg: ignoring corrupt image/label: non-normalized or out of bounds coordinates [     1.1072]\n",
      "\u001b[34m\u001b[1mtrain: \u001b[0mWARNING  C:\\Patricia Ho\\Braincore\\apnr\\data\\train\\images\\243-E-3309-QF-02-19_jpg.rf.bcea5d343366a6bf32caa2b514ffaf83.jpg: ignoring corrupt image/label: non-normalized or out of bounds coordinates [     1.0759]\n",
      "\u001b[34m\u001b[1mtrain: \u001b[0mWARNING  C:\\Patricia Ho\\Braincore\\apnr\\data\\train\\images\\244-E-6590-QW-09-20_jpg.rf.848259c90cbf3ea1af2008c42a7cecec.jpg: ignoring corrupt image/label: non-normalized or out of bounds coordinates [     1.0092]\n",
      "\u001b[34m\u001b[1mtrain: \u001b[0mWARNING  C:\\Patricia Ho\\Braincore\\apnr\\data\\train\\images\\244-E-6590-QW-09-20_jpg.rf.bcfcbf1630fcee6f3718e2390e732884.jpg: ignoring corrupt image/label: non-normalized or out of bounds coordinates [     1.0607]\n",
      "\u001b[34m\u001b[1mtrain: \u001b[0mWARNING  C:\\Patricia Ho\\Braincore\\apnr\\data\\train\\images\\244-E-6590-QW-09-20_jpg.rf.f42065880b5de45164da353d04f4b6f1.jpg: ignoring corrupt image/label: non-normalized or out of bounds coordinates [     1.0144]\n",
      "\u001b[34m\u001b[1mtrain: \u001b[0mWARNING  C:\\Patricia Ho\\Braincore\\apnr\\data\\train\\images\\247-E-2148-RI-01-16_jpg.rf.7560306b434685d70a9d74d81e465062.jpg: ignoring corrupt image/label: non-normalized or out of bounds coordinates [     1.0007]\n",
      "\u001b[34m\u001b[1mtrain: \u001b[0mWARNING  C:\\Patricia Ho\\Braincore\\apnr\\data\\train\\images\\247-E-2148-RI-01-16_jpg.rf.b861611a6d4b73cd013f624cb9ced92a.jpg: ignoring corrupt image/label: non-normalized or out of bounds coordinates [     1.0176]\n",
      "\u001b[34m\u001b[1mtrain: \u001b[0mWARNING  C:\\Patricia Ho\\Braincore\\apnr\\data\\train\\images\\254-E-4739-TA-01-14_jpg.rf.6584f4ac01cdc3d1c1ff95a1a87ce7b0.jpg: ignoring corrupt image/label: non-normalized or out of bounds coordinates [     1.0681]\n",
      "\u001b[34m\u001b[1mtrain: \u001b[0mWARNING  C:\\Patricia Ho\\Braincore\\apnr\\data\\train\\images\\254-E-4739-TA-01-14_jpg.rf.cb23664de5183ac349f867c9689cb8a5.jpg: ignoring corrupt image/label: non-normalized or out of bounds coordinates [     1.0037]\n",
      "\u001b[34m\u001b[1mtrain: \u001b[0mWARNING  C:\\Patricia Ho\\Braincore\\apnr\\data\\train\\images\\27-E-3524-PAG-09-21_jpg.rf.462d00e46cf7d214e2804bcc3e6353ec.jpg: ignoring corrupt image/label: non-normalized or out of bounds coordinates [     1.0059]\n",
      "\u001b[34m\u001b[1mtrain: \u001b[0mWARNING  C:\\Patricia Ho\\Braincore\\apnr\\data\\train\\images\\273-E-6078-RM-09-22_jpg.rf.406a6fb74b578635efb3ca35f3b2708c.jpg: ignoring corrupt image/label: non-normalized or out of bounds coordinates [     1.0581]\n",
      "\u001b[34m\u001b[1mtrain: \u001b[0mWARNING  C:\\Patricia Ho\\Braincore\\apnr\\data\\train\\images\\273-E-6078-RM-09-22_jpg.rf.4e9c4cd2ad60745f6a3b8ca5e078ea1f.jpg: ignoring corrupt image/label: non-normalized or out of bounds coordinates [     1.0276]\n",
      "\u001b[34m\u001b[1mtrain: \u001b[0mWARNING  C:\\Patricia Ho\\Braincore\\apnr\\data\\train\\images\\273-E-6078-RM-09-22_jpg.rf.eeaec4a77d945999b7841afb8ea3c62f.jpg: ignoring corrupt image/label: non-normalized or out of bounds coordinates [     1.0161]\n",
      "\u001b[34m\u001b[1mtrain: \u001b[0mWARNING  C:\\Patricia Ho\\Braincore\\apnr\\data\\train\\images\\275-E-4986-SO-10-20_jpg.rf.218114adeb81b9cfcf1c18aacae4ad89.jpg: ignoring corrupt image/label: non-normalized or out of bounds coordinates [     1.0091]\n",
      "\u001b[34m\u001b[1mtrain: \u001b[0mWARNING  C:\\Patricia Ho\\Braincore\\apnr\\data\\train\\images\\275-E-4986-SO-10-20_jpg.rf.289a8ff7395338558907b34d1ce9203b.jpg: ignoring corrupt image/label: non-normalized or out of bounds coordinates [      1.035]\n",
      "\u001b[34m\u001b[1mtrain: \u001b[0mWARNING  C:\\Patricia Ho\\Braincore\\apnr\\data\\train\\images\\286-E-5817-PT-04-18_jpg.rf.8d0e0a4f58b16887b7e82931815499b4.jpg: ignoring corrupt image/label: non-normalized or out of bounds coordinates [     1.0623]\n",
      "\u001b[34m\u001b[1mtrain: \u001b[0mWARNING  C:\\Patricia Ho\\Braincore\\apnr\\data\\train\\images\\29-E-3978-SC-12-21_jpg.rf.77069e863fb73f0339800c93b9a95312.jpg: ignoring corrupt image/label: non-normalized or out of bounds coordinates [     1.0155]\n",
      "\u001b[34m\u001b[1mtrain: \u001b[0mWARNING  C:\\Patricia Ho\\Braincore\\apnr\\data\\train\\images\\290-E-2157-PAO-06-22_jpg.rf.0e12676703aa15a0ecfec0cc5f4cef07.jpg: ignoring corrupt image/label: non-normalized or out of bounds coordinates [     1.1797]\n",
      "\u001b[34m\u001b[1mtrain: \u001b[0mWARNING  C:\\Patricia Ho\\Braincore\\apnr\\data\\train\\images\\290-E-2157-PAO-06-22_jpg.rf.b13812dee2c4b2c3cc531d3a49463005.jpg: ignoring corrupt image/label: non-normalized or out of bounds coordinates [     1.1591]\n",
      "\u001b[34m\u001b[1mtrain: \u001b[0mWARNING  C:\\Patricia Ho\\Braincore\\apnr\\data\\train\\images\\290-E-2157-PAO-06-22_jpg.rf.f10bedc05b46f88a543bda393c5e2a4d.jpg: ignoring corrupt image/label: non-normalized or out of bounds coordinates [     1.1777]\n",
      "\u001b[34m\u001b[1mtrain: \u001b[0mWARNING  C:\\Patricia Ho\\Braincore\\apnr\\data\\train\\images\\293-E-2509-OW-09-20_jpg.rf.26751e1eae1a8f73362f5ff4780c5376.jpg: ignoring corrupt image/label: non-normalized or out of bounds coordinates [     1.0013]\n",
      "\u001b[34m\u001b[1mtrain: \u001b[0mWARNING  C:\\Patricia Ho\\Braincore\\apnr\\data\\train\\images\\299-E-5051-SD-03-18_jpg.rf.012b7f2fd2b4b5012b553ca3fd6e0283.jpg: ignoring corrupt image/label: non-normalized or out of bounds coordinates [     1.0658]\n",
      "\u001b[34m\u001b[1mtrain: \u001b[0mWARNING  C:\\Patricia Ho\\Braincore\\apnr\\data\\train\\images\\299-E-5051-SD-03-18_jpg.rf.143e0d709ba05721178ece217eee8331.jpg: ignoring corrupt image/label: non-normalized or out of bounds coordinates [     1.1358]\n",
      "\u001b[34m\u001b[1mtrain: \u001b[0mWARNING  C:\\Patricia Ho\\Braincore\\apnr\\data\\train\\images\\299-E-5051-SD-03-18_jpg.rf.b308c41faced686fcc3f86702c6c81a7.jpg: ignoring corrupt image/label: non-normalized or out of bounds coordinates [      1.119]\n",
      "\u001b[34m\u001b[1mtrain: \u001b[0mWARNING  C:\\Patricia Ho\\Braincore\\apnr\\data\\train\\images\\306-E-3270-SJ-08-22_jpg.rf.122f0ebb41e0c56098351e30230ce657.jpg: ignoring corrupt image/label: non-normalized or out of bounds coordinates [     1.0076]\n",
      "\u001b[34m\u001b[1mtrain: \u001b[0mWARNING  C:\\Patricia Ho\\Braincore\\apnr\\data\\train\\images\\306-E-3270-SJ-08-22_jpg.rf.809464b79e7857b056183276b0d11a89.jpg: ignoring corrupt image/label: non-normalized or out of bounds coordinates [     1.0085]\n",
      "\u001b[34m\u001b[1mtrain: \u001b[0mWARNING  C:\\Patricia Ho\\Braincore\\apnr\\data\\train\\images\\329-E-5078-QF-02-19_jpg.rf.40f67580f740af8068446108969cc02c.jpg: ignoring corrupt image/label: non-normalized or out of bounds coordinates [     1.0534]\n",
      "\u001b[34m\u001b[1mtrain: \u001b[0mWARNING  C:\\Patricia Ho\\Braincore\\apnr\\data\\train\\images\\329-E-5078-QF-02-19_jpg.rf.53b656d71aaca05db07a7fd39768b82f.jpg: ignoring corrupt image/label: non-normalized or out of bounds coordinates [     1.1447]\n",
      "\u001b[34m\u001b[1mtrain: \u001b[0mWARNING  C:\\Patricia Ho\\Braincore\\apnr\\data\\train\\images\\329-E-5078-QF-02-19_jpg.rf.84d7f0c0309ef72a076fb792e1dee7f0.jpg: ignoring corrupt image/label: non-normalized or out of bounds coordinates [     1.1485]\n",
      "\u001b[34m\u001b[1mtrain: \u001b[0mWARNING  C:\\Patricia Ho\\Braincore\\apnr\\data\\train\\images\\330-E-5869-PAA-02-21_jpg.rf.0cbc3ef1f5329b8a1bdeb6975552fbfa.jpg: ignoring corrupt image/label: non-normalized or out of bounds coordinates [     1.1203]\n",
      "\u001b[34m\u001b[1mtrain: \u001b[0mWARNING  C:\\Patricia Ho\\Braincore\\apnr\\data\\train\\images\\330-E-5869-PAA-02-21_jpg.rf.4893c467fa3bad7e36fe7ec844fbec76.jpg: ignoring corrupt image/label: non-normalized or out of bounds coordinates [     1.1414]\n",
      "\u001b[34m\u001b[1mtrain: \u001b[0mWARNING  C:\\Patricia Ho\\Braincore\\apnr\\data\\train\\images\\330-E-5869-PAA-02-21_jpg.rf.ed10b4c43f57747f36a6d3baeca5657c.jpg: ignoring corrupt image/label: non-normalized or out of bounds coordinates [      1.144]\n",
      "\u001b[34m\u001b[1mtrain: \u001b[0mWARNING  C:\\Patricia Ho\\Braincore\\apnr\\data\\train\\images\\340-E-4235-RP-01-22_jpg.rf.af025842bb7c7e4a58821ac8f509f3af.jpg: ignoring corrupt image/label: non-normalized or out of bounds coordinates [     1.0299]\n",
      "\u001b[34m\u001b[1mtrain: \u001b[0mWARNING  C:\\Patricia Ho\\Braincore\\apnr\\data\\train\\images\\340-E-4235-RP-01-22_jpg.rf.bc4698df4584c65e7a5f32e06145cd5e.jpg: ignoring corrupt image/label: non-normalized or out of bounds coordinates [      1.029]\n",
      "\u001b[34m\u001b[1mtrain: \u001b[0mWARNING  C:\\Patricia Ho\\Braincore\\apnr\\data\\train\\images\\340-E-4235-RP-01-22_jpg.rf.cd5a0b5e2fb16a43dc0796c6c070c7f2.jpg: ignoring corrupt image/label: non-normalized or out of bounds coordinates [     1.0414]\n",
      "\u001b[34m\u001b[1mtrain: \u001b[0mWARNING  C:\\Patricia Ho\\Braincore\\apnr\\data\\train\\images\\345-E-2047-SF-05-19_jpg.rf.670fd126c9ec46624c55760d20c7b84d.jpg: ignoring corrupt image/label: non-normalized or out of bounds coordinates [     1.0748]\n",
      "\u001b[34m\u001b[1mtrain: \u001b[0mWARNING  C:\\Patricia Ho\\Braincore\\apnr\\data\\train\\images\\345-E-2047-SF-05-19_jpg.rf.6ba3b113c944beb842ce6b3ce318f2e2.jpg: ignoring corrupt image/label: non-normalized or out of bounds coordinates [     1.0444]\n",
      "\u001b[34m\u001b[1mtrain: \u001b[0mWARNING  C:\\Patricia Ho\\Braincore\\apnr\\data\\train\\images\\345-E-2047-SF-05-19_jpg.rf.9dde6b6ef6e99182e60379e294fcdbcb.jpg: ignoring corrupt image/label: non-normalized or out of bounds coordinates [     1.0926]\n",
      "\u001b[34m\u001b[1mtrain: \u001b[0mWARNING  C:\\Patricia Ho\\Braincore\\apnr\\data\\train\\images\\35-E-5026-SF-06-18_jpg.rf.b8bbefed34741af8770b22d024c397cd.jpg: ignoring corrupt image/label: non-normalized or out of bounds coordinates [     1.0697]\n",
      "\u001b[34m\u001b[1mtrain: \u001b[0mWARNING  C:\\Patricia Ho\\Braincore\\apnr\\data\\train\\images\\52-E-3765-QO-12-19_jpg.rf.a3920aa3fa86ceb8c17f5d968728e429.jpg: ignoring corrupt image/label: non-normalized or out of bounds coordinates [     1.0272]\n",
      "\u001b[34m\u001b[1mtrain: \u001b[0mWARNING  C:\\Patricia Ho\\Braincore\\apnr\\data\\train\\images\\52-E-3765-QO-12-19_jpg.rf.b7e8d7f7a804667bf205b815cbac255b.jpg: ignoring corrupt image/label: non-normalized or out of bounds coordinates [     1.0463]\n",
      "\u001b[34m\u001b[1mtrain: \u001b[0mWARNING  C:\\Patricia Ho\\Braincore\\apnr\\data\\train\\images\\56-E-5056-QD-12-18_jpg.rf.1be739ff9cc635b9a7587457939d51ab.jpg: ignoring corrupt image/label: non-normalized or out of bounds coordinates [     1.0023]\n",
      "\u001b[34m\u001b[1mtrain: \u001b[0mWARNING  C:\\Patricia Ho\\Braincore\\apnr\\data\\train\\images\\56-E-5056-QD-12-18_jpg.rf.4dbd46b980ca6a72320c3d514ee23f71.jpg: ignoring corrupt image/label: non-normalized or out of bounds coordinates [      1.036]\n",
      "\u001b[34m\u001b[1mtrain: \u001b[0mWARNING  C:\\Patricia Ho\\Braincore\\apnr\\data\\train\\images\\56-E-5056-QD-12-18_jpg.rf.f566c26470b988d2417b3b91652145cf.jpg: ignoring corrupt image/label: non-normalized or out of bounds coordinates [     1.0313]\n",
      "\u001b[34m\u001b[1mtrain: \u001b[0mWARNING  C:\\Patricia Ho\\Braincore\\apnr\\data\\train\\images\\58-E-5158-TP-09-17_jpg.rf.0d698fbdf5ecc5159912f2c3d5190c98.jpg: ignoring corrupt image/label: non-normalized or out of bounds coordinates [     1.3029]\n",
      "\u001b[34m\u001b[1mtrain: \u001b[0mWARNING  C:\\Patricia Ho\\Braincore\\apnr\\data\\train\\images\\58-E-5158-TP-09-17_jpg.rf.4dfa81ab213edcf388717d169972cb39.jpg: ignoring corrupt image/label: non-normalized or out of bounds coordinates [      1.279      1.0426]\n",
      "\u001b[34m\u001b[1mtrain: \u001b[0mWARNING  C:\\Patricia Ho\\Braincore\\apnr\\data\\train\\images\\58-E-5158-TP-09-17_jpg.rf.529f0b4fb12b43764139b2c38abf7d5d.jpg: ignoring corrupt image/label: non-normalized or out of bounds coordinates [     1.3097       1.058]\n",
      "\u001b[34m\u001b[1mtrain: \u001b[0mWARNING  C:\\Patricia Ho\\Braincore\\apnr\\data\\train\\images\\59-E-2153-SP-08-20_jpg.rf.b3141b43613d5b104d5883d9212f9429.jpg: ignoring corrupt image/label: non-normalized or out of bounds coordinates [     1.0909]\n",
      "\u001b[34m\u001b[1mtrain: \u001b[0mWARNING  C:\\Patricia Ho\\Braincore\\apnr\\data\\train\\images\\59-E-2153-SP-08-20_jpg.rf.f03da813fcf6d9d512ab2bf1b604f57f.jpg: ignoring corrupt image/label: non-normalized or out of bounds coordinates [     1.1467]\n",
      "\u001b[34m\u001b[1mtrain: \u001b[0mWARNING  C:\\Patricia Ho\\Braincore\\apnr\\data\\train\\images\\59-E-2153-SP-08-20_jpg.rf.f415d6bf54292faa387a58c2545743f2.jpg: ignoring corrupt image/label: non-normalized or out of bounds coordinates [     1.1288]\n",
      "\u001b[34m\u001b[1mtrain: \u001b[0mWARNING  C:\\Patricia Ho\\Braincore\\apnr\\data\\train\\images\\62-E-3977-TH-12-18_jpg.rf.351c05eba11fdeb6b5736a6797b4a49d.jpg: ignoring corrupt image/label: non-normalized or out of bounds coordinates [     1.0408]\n",
      "\u001b[34m\u001b[1mtrain: \u001b[0mWARNING  C:\\Patricia Ho\\Braincore\\apnr\\data\\train\\images\\62-E-3977-TH-12-18_jpg.rf.4e9422bfb160a7329c7fcccdbb983134.jpg: ignoring corrupt image/label: non-normalized or out of bounds coordinates [     1.0501]\n",
      "\u001b[34m\u001b[1mtrain: \u001b[0mWARNING  C:\\Patricia Ho\\Braincore\\apnr\\data\\train\\images\\62-E-3977-TH-12-18_jpg.rf.ae6bf9dc83e17271bab3e69930756bfc.jpg: ignoring corrupt image/label: non-normalized or out of bounds coordinates [     1.0378]\n",
      "\u001b[34m\u001b[1mtrain: \u001b[0mWARNING  C:\\Patricia Ho\\Braincore\\apnr\\data\\train\\images\\68-E-1267-RB-01-21_jpg.rf.41be873e73aa01c6e017e303eaa2b39a.jpg: ignoring corrupt image/label: non-normalized or out of bounds coordinates [     1.0404]\n",
      "\u001b[34m\u001b[1mtrain: \u001b[0mWARNING  C:\\Patricia Ho\\Braincore\\apnr\\data\\train\\images\\68-E-1267-RB-01-21_jpg.rf.f9d9e537ad80ac1ed23c4777398d1ea2.jpg: ignoring corrupt image/label: non-normalized or out of bounds coordinates [     1.0263]\n",
      "\u001b[34m\u001b[1mtrain: \u001b[0mWARNING  C:\\Patricia Ho\\Braincore\\apnr\\data\\train\\images\\70-E-4310-OR-03-20_jpg.rf.01691994fa5f331a864aa43803c85867.jpg: ignoring corrupt image/label: non-normalized or out of bounds coordinates [     1.0838]\n",
      "\u001b[34m\u001b[1mtrain: \u001b[0mWARNING  C:\\Patricia Ho\\Braincore\\apnr\\data\\train\\images\\70-E-4310-OR-03-20_jpg.rf.1b1dca5b3e4bfc84ef591213284fb068.jpg: ignoring corrupt image/label: non-normalized or out of bounds coordinates [     1.0381]\n",
      "\u001b[34m\u001b[1mtrain: \u001b[0mWARNING  C:\\Patricia Ho\\Braincore\\apnr\\data\\train\\images\\75-E-2956-RP-03-22_jpg.rf.3d81ad713aaaaf4e63e8ea9a555dbd01.jpg: ignoring corrupt image/label: non-normalized or out of bounds coordinates [     1.1068]\n",
      "\u001b[34m\u001b[1mtrain: \u001b[0mWARNING  C:\\Patricia Ho\\Braincore\\apnr\\data\\train\\images\\75-E-2956-RP-03-22_jpg.rf.5c4bdf9a4dae904110529324db846698.jpg: ignoring corrupt image/label: non-normalized or out of bounds coordinates [     1.1311]\n",
      "\u001b[34m\u001b[1mtrain: \u001b[0mWARNING  C:\\Patricia Ho\\Braincore\\apnr\\data\\train\\images\\75-E-2956-RP-03-22_jpg.rf.b4fd7f1e0c8f48c52326222a31888b5b.jpg: ignoring corrupt image/label: non-normalized or out of bounds coordinates [     1.1051]\n",
      "\u001b[34m\u001b[1mtrain: \u001b[0mWARNING  C:\\Patricia Ho\\Braincore\\apnr\\data\\train\\images\\87-E-6673-ZQ-04-18_jpg.rf.2e350cf9b8f3529290f839b9727bf9fe.jpg: ignoring corrupt image/label: non-normalized or out of bounds coordinates [     1.0872]\n",
      "\u001b[34m\u001b[1mtrain: \u001b[0mWARNING  C:\\Patricia Ho\\Braincore\\apnr\\data\\train\\images\\87-E-6673-ZQ-04-18_jpg.rf.3dd443026737a2864395bfab0e59177f.jpg: ignoring corrupt image/label: non-normalized or out of bounds coordinates [     1.0021]\n",
      "\u001b[34m\u001b[1mtrain: \u001b[0mWARNING  C:\\Patricia Ho\\Braincore\\apnr\\data\\train\\images\\87-E-6673-ZQ-04-18_jpg.rf.6ad9636978984998d39952180c01e5dc.jpg: ignoring corrupt image/label: non-normalized or out of bounds coordinates [      1.083]\n",
      "\u001b[34m\u001b[1mtrain: \u001b[0mWARNING  C:\\Patricia Ho\\Braincore\\apnr\\data\\train\\images\\88-E-3118-QP-01-20_jpg.rf.6dfd0b61dc51ac97a096c7494a3e16e0.jpg: ignoring corrupt image/label: non-normalized or out of bounds coordinates [     1.0001]\n",
      "\u001b[34m\u001b[1mtrain: \u001b[0mWARNING  C:\\Patricia Ho\\Braincore\\apnr\\data\\train\\images\\88-E-3118-QP-01-20_jpg.rf.98f6cee3060101820001bf6c1220a019.jpg: ignoring corrupt image/label: non-normalized or out of bounds coordinates [      1.015]\n",
      "\u001b[34m\u001b[1mtrain: \u001b[0mWARNING  C:\\Patricia Ho\\Braincore\\apnr\\data\\train\\images\\88-E-3118-QP-01-20_jpg.rf.ae60e94da258c11f15815ffaa51caa33.jpg: ignoring corrupt image/label: non-normalized or out of bounds coordinates [     1.0498]\n",
      "\u001b[34m\u001b[1mtrain: \u001b[0mWARNING  C:\\Patricia Ho\\Braincore\\apnr\\data\\train\\images\\97-E-6457-CA-11-21_jpg.rf.b308643aaf3d77ea43f55db4ca33cb69.jpg: ignoring corrupt image/label: non-normalized or out of bounds coordinates [     1.0065]\n",
      "\u001b[34m\u001b[1mtrain: \u001b[0mWARNING  C:\\Patricia Ho\\Braincore\\apnr\\data\\train\\images\\B1420BX_jpg.rf.013ed477e66868e2577117612e9f5ec2.jpg: ignoring corrupt image/label: non-normalized or out of bounds coordinates [     1.0084]\n",
      "\u001b[34m\u001b[1mtrain: \u001b[0mWARNING  C:\\Patricia Ho\\Braincore\\apnr\\data\\train\\images\\B1420BX_jpg.rf.aaee453d55421f0289a6e15766fdc5a7.jpg: ignoring corrupt image/label: non-normalized or out of bounds coordinates [     1.0647]\n",
      "\u001b[34m\u001b[1mtrain: \u001b[0mWARNING  C:\\Patricia Ho\\Braincore\\apnr\\data\\train\\images\\B6173TU_jpg.rf.386de3c9b36e4c97ff25a31fdc75d65f.jpg: ignoring corrupt image/label: non-normalized or out of bounds coordinates [     1.3422      1.0627]\n",
      "\u001b[34m\u001b[1mtrain: \u001b[0mWARNING  C:\\Patricia Ho\\Braincore\\apnr\\data\\train\\images\\B6173TU_jpg.rf.41021bf9bd9564bdcbee3ccb75428c7c.jpg: ignoring corrupt image/label: non-normalized or out of bounds coordinates [     1.3245      1.0732]\n",
      "\u001b[34m\u001b[1mtrain: \u001b[0mWARNING  C:\\Patricia Ho\\Braincore\\apnr\\data\\train\\images\\B6173TU_jpg.rf.68e97cc2c61d04b827a2e3513ec5e24d.jpg: ignoring corrupt image/label: non-normalized or out of bounds coordinates [     1.3024]\n",
      "\u001b[34m\u001b[1mtrain: \u001b[0mWARNING  C:\\Patricia Ho\\Braincore\\apnr\\data\\train\\images\\D4232UT_jpg.rf.0aa3acd1061dd6fff32e958c9a7ae87e.jpg: ignoring corrupt image/label: non-normalized or out of bounds coordinates [     1.1173      1.0559]\n",
      "\u001b[34m\u001b[1mtrain: \u001b[0mWARNING  C:\\Patricia Ho\\Braincore\\apnr\\data\\train\\images\\D4232UT_jpg.rf.6217a9ddbca6131cb420da0e5b8c9753.jpg: ignoring corrupt image/label: non-normalized or out of bounds coordinates [     1.2963      1.0388]\n",
      "\u001b[34m\u001b[1mtrain: \u001b[0mWARNING  C:\\Patricia Ho\\Braincore\\apnr\\data\\train\\images\\D4232UT_jpg.rf.9350151bb33396295d6bd461903bb622.jpg: ignoring corrupt image/label: non-normalized or out of bounds coordinates [     1.1961]\n",
      "\u001b[34m\u001b[1mtrain: \u001b[0mWARNING  C:\\Patricia Ho\\Braincore\\apnr\\data\\train\\images\\DM2042H_jpg.rf.483b82c58c004ecd0296ba8821c354e9.jpg: ignoring corrupt image/label: non-normalized or out of bounds coordinates [     1.1198]\n",
      "\u001b[34m\u001b[1mtrain: \u001b[0mWARNING  C:\\Patricia Ho\\Braincore\\apnr\\data\\train\\images\\DM2042H_jpg.rf.ba12249681f54e1b3054043c3e53324b.jpg: ignoring corrupt image/label: non-normalized or out of bounds coordinates [     1.1355]\n",
      "\u001b[34m\u001b[1mtrain: \u001b[0mWARNING  C:\\Patricia Ho\\Braincore\\apnr\\data\\train\\images\\DM2042H_jpg.rf.e6beab4fe847832c70955fe482e653d6.jpg: ignoring corrupt image/label: non-normalized or out of bounds coordinates [     1.1509]\n",
      "\u001b[34m\u001b[1mtrain: \u001b[0mWARNING  C:\\Patricia Ho\\Braincore\\apnr\\data\\train\\images\\M2042HC_jpg.rf.05f4127950a4e132f4dd3d05975050db.jpg: ignoring corrupt image/label: non-normalized or out of bounds coordinates [     1.1896]\n",
      "\u001b[34m\u001b[1mtrain: \u001b[0mWARNING  C:\\Patricia Ho\\Braincore\\apnr\\data\\train\\images\\M2042HC_jpg.rf.069928c0f9bb08b29df7996c78aa19ed.jpg: ignoring corrupt image/label: non-normalized or out of bounds coordinates [     1.2316]\n",
      "\u001b[34m\u001b[1mtrain: \u001b[0mWARNING  C:\\Patricia Ho\\Braincore\\apnr\\data\\train\\images\\M2042HC_jpg.rf.6c8a4a5775f76939b36f4aa15ca3de8e.jpg: ignoring corrupt image/label: non-normalized or out of bounds coordinates [      1.135]\n",
      "\u001b[34m\u001b[1mtrain: \u001b[0mWARNING  C:\\Patricia Ho\\Braincore\\apnr\\data\\train\\images\\PB2592I_jpg.rf.5f0ea23f7319b1133d8c33237b46a89b.jpg: ignoring corrupt image/label: non-normalized or out of bounds coordinates [     1.0787]\n",
      "\u001b[34m\u001b[1mtrain: \u001b[0mWARNING  C:\\Patricia Ho\\Braincore\\apnr\\data\\train\\images\\PB2592I_jpg.rf.ecdb559d8a35d0e889102ff44c03d464.jpg: ignoring corrupt image/label: non-normalized or out of bounds coordinates [     1.0546]\n",
      "\u001b[34m\u001b[1mtrain: \u001b[0mWARNING  C:\\Patricia Ho\\Braincore\\apnr\\data\\train\\images\\PB2592I_jpg.rf.f5ab584a7d03aa0e5616c386c8aa8120.jpg: ignoring corrupt image/label: non-normalized or out of bounds coordinates [      1.116]\n"
     ]
    },
    {
     "name": "stderr",
     "output_type": "stream",
     "text": [
      "\n"
     ]
    },
    {
     "name": "stdout",
     "output_type": "stream",
     "text": [
      "\u001b[34m\u001b[1mtrain: \u001b[0mNew cache created: C:\\Patricia Ho\\Braincore\\apnr\\data\\train\\labels.cache\n"
     ]
    },
    {
     "name": "stderr",
     "output_type": "stream",
     "text": [
      "\u001b[34m\u001b[1mval: \u001b[0mScanning C:\\Patricia Ho\\Braincore\\apnr\\data\\valid\\labels... 464 images, 1 backgrounds, 45 corrupt: 100%|██████████| 464/464 [00:02<00:00, 201.13\u001b[0m"
     ]
    },
    {
     "name": "stdout",
     "output_type": "stream",
     "text": [
      "\u001b[34m\u001b[1mval: \u001b[0mWARNING  C:\\Patricia Ho\\Braincore\\apnr\\data\\valid\\images\\106-E-4670-TL-05-22_jpg.rf.767f95258abd3a7ad3cf3198171bca5c.jpg: ignoring corrupt image/label: non-normalized or out of bounds coordinates [     1.0139]\n",
      "\u001b[34m\u001b[1mval: \u001b[0mWARNING  C:\\Patricia Ho\\Braincore\\apnr\\data\\valid\\images\\111-E-6810-IX-05-20_jpg.rf.70a1e83f186131251d45f0cf034cb61a.jpg: ignoring corrupt image/label: non-normalized or out of bounds coordinates [       1.02]\n",
      "\u001b[34m\u001b[1mval: \u001b[0mWARNING  C:\\Patricia Ho\\Braincore\\apnr\\data\\valid\\images\\115-E-5305-SM-06-20_jpg.rf.7fe05ff1e17b3541ae39a0a98825f2fe.jpg: ignoring corrupt image/label: non-normalized or out of bounds coordinates [     1.0033]\n",
      "\u001b[34m\u001b[1mval: \u001b[0mWARNING  C:\\Patricia Ho\\Braincore\\apnr\\data\\valid\\images\\123-E-4603-PAE-07-21_jpg.rf.f94576b7d5b69611916bbdaefb8c0676.jpg: ignoring corrupt image/label: non-normalized or out of bounds coordinates [     1.0606]\n",
      "\u001b[34m\u001b[1mval: \u001b[0mWARNING  C:\\Patricia Ho\\Braincore\\apnr\\data\\valid\\images\\125-E-4172-QB-11-22_jpg.rf.12edb9bc0287fe6be3ba4392ff2b3c03.jpg: ignoring corrupt image/label: non-normalized or out of bounds coordinates [     1.0489]\n",
      "\u001b[34m\u001b[1mval: \u001b[0mWARNING  C:\\Patricia Ho\\Braincore\\apnr\\data\\valid\\images\\128-E-4877-SV-05-21_jpg.rf.bef868cd670e0fdebe38337db11efd9d.jpg: ignoring corrupt image/label: non-normalized or out of bounds coordinates [     1.0528]\n",
      "\u001b[34m\u001b[1mval: \u001b[0mWARNING  C:\\Patricia Ho\\Braincore\\apnr\\data\\valid\\images\\130-E-9967-P-12-22_jpg.rf.386b24dd9586ac29423e3c396fda4e3d.jpg: ignoring corrupt image/label: non-normalized or out of bounds coordinates [     1.0823]\n",
      "\u001b[34m\u001b[1mval: \u001b[0mWARNING  C:\\Patricia Ho\\Braincore\\apnr\\data\\valid\\images\\14-E-1129-RP-07-18_jpg.rf.6f881d5de380caf2ee371705d711264d.jpg: ignoring corrupt image/label: non-normalized or out of bounds coordinates [     1.0225]\n",
      "\u001b[34m\u001b[1mval: \u001b[0mWARNING  C:\\Patricia Ho\\Braincore\\apnr\\data\\valid\\images\\149-E-4217-TT-01-18_jpg.rf.bf2ce888ed961bf5099d1871816538db.jpg: ignoring corrupt image/label: non-normalized or out of bounds coordinates [     1.0416]\n",
      "\u001b[34m\u001b[1mval: \u001b[0mWARNING  C:\\Patricia Ho\\Braincore\\apnr\\data\\valid\\images\\154-E-6151-PAL-04-22_jpg.rf.9389de84b3f339cc5b66a56bfd78ce29.jpg: ignoring corrupt image/label: non-normalized or out of bounds coordinates [     1.0975]\n",
      "\u001b[34m\u001b[1mval: \u001b[0mWARNING  C:\\Patricia Ho\\Braincore\\apnr\\data\\valid\\images\\156-E-3426-SB-10-18_jpg.rf.fb2b6c3f80b27c21499f1b46516de1b5.jpg: ignoring corrupt image/label: non-normalized or out of bounds coordinates [     1.0148]\n",
      "\u001b[34m\u001b[1mval: \u001b[0mWARNING  C:\\Patricia Ho\\Braincore\\apnr\\data\\valid\\images\\170-E-3913-QS-04-20_jpg.rf.503cbf5880886be17c9931da4fec4049.jpg: ignoring corrupt image/label: non-normalized or out of bounds coordinates [      1.032]\n",
      "\u001b[34m\u001b[1mval: \u001b[0mWARNING  C:\\Patricia Ho\\Braincore\\apnr\\data\\valid\\images\\173-E-4019-TL-05-22_jpg.rf.862defc6745eb1852fa951756f3e1525.jpg: ignoring corrupt image/label: non-normalized or out of bounds coordinates [     1.1007]\n",
      "\u001b[34m\u001b[1mval: \u001b[0mWARNING  C:\\Patricia Ho\\Braincore\\apnr\\data\\valid\\images\\176-E-4386-IY-09-18_jpg.rf.609e33e31b52cc8218f9419ed02d3ec6.jpg: ignoring corrupt image/label: non-normalized or out of bounds coordinates [     1.0534]\n",
      "\u001b[34m\u001b[1mval: \u001b[0mWARNING  C:\\Patricia Ho\\Braincore\\apnr\\data\\valid\\images\\188-E-2647-SL-01-20_jpg.rf.4fe4e107648d1eb7582f050b5d24863b.jpg: ignoring corrupt image/label: non-normalized or out of bounds coordinates [     1.0001]\n",
      "\u001b[34m\u001b[1mval: \u001b[0mWARNING  C:\\Patricia Ho\\Braincore\\apnr\\data\\valid\\images\\195-E-2110-QP-12-19_jpg.rf.67b73854e0d6df8b83f4909b61baaa55.jpg: ignoring corrupt image/label: non-normalized or out of bounds coordinates [     1.0685]\n",
      "\u001b[34m\u001b[1mval: \u001b[0mWARNING  C:\\Patricia Ho\\Braincore\\apnr\\data\\valid\\images\\198-E-3040-SI-09-19_jpg.rf.38a9d870e43e61cdf7ba8ed3a861227c.jpg: ignoring corrupt image/label: non-normalized or out of bounds coordinates [     1.1202]\n",
      "\u001b[34m\u001b[1mval: \u001b[0mWARNING  C:\\Patricia Ho\\Braincore\\apnr\\data\\valid\\images\\20171211_110659_jpg.rf.d69611a71d9669da5a6266826f92da8d.jpg: ignoring corrupt image/label: non-normalized or out of bounds coordinates [     1.0274]\n",
      "\u001b[34m\u001b[1mval: \u001b[0mWARNING  C:\\Patricia Ho\\Braincore\\apnr\\data\\valid\\images\\20171212_073402_jpg.rf.25322d813c959e57cf076ff3ba0f3669.jpg: ignoring corrupt image/label: non-normalized or out of bounds coordinates [     1.0387]\n",
      "\u001b[34m\u001b[1mval: \u001b[0mWARNING  C:\\Patricia Ho\\Braincore\\apnr\\data\\valid\\images\\20171212_100708_jpg.rf.30bd4dd0a33fb2e5a365bb5929134dd7.jpg: ignoring corrupt image/label: non-normalized or out of bounds coordinates [     1.0234]\n",
      "\u001b[34m\u001b[1mval: \u001b[0mWARNING  C:\\Patricia Ho\\Braincore\\apnr\\data\\valid\\images\\20171212_124357_jpg.rf.a75ba83efc0a01e56e7bcebfc25a5fe0.jpg: ignoring corrupt image/label: non-normalized or out of bounds coordinates [      1.017]\n",
      "\u001b[34m\u001b[1mval: \u001b[0mWARNING  C:\\Patricia Ho\\Braincore\\apnr\\data\\valid\\images\\20171212_142243_jpg.rf.631915e822454367042f58c0c43c64d2.jpg: ignoring corrupt image/label: non-normalized or out of bounds coordinates [     1.0115]\n",
      "\u001b[34m\u001b[1mval: \u001b[0mWARNING  C:\\Patricia Ho\\Braincore\\apnr\\data\\valid\\images\\217-E-4992-SW-06-15_jpg.rf.99e410414f4429b807b70500e5bcbba0.jpg: ignoring corrupt image/label: non-normalized or out of bounds coordinates [     1.0826]\n",
      "\u001b[34m\u001b[1mval: \u001b[0mWARNING  C:\\Patricia Ho\\Braincore\\apnr\\data\\valid\\images\\220-E-3246-OP-12-19_jpg.rf.ed67808e9e5532b8fe494db8e85fbef6.jpg: ignoring corrupt image/label: non-normalized or out of bounds coordinates [       1.06]\n",
      "\u001b[34m\u001b[1mval: \u001b[0mWARNING  C:\\Patricia Ho\\Braincore\\apnr\\data\\valid\\images\\225-E-3061-SQ-10-20_jpg.rf.1c30fb773d11bf2058ec37a8226cdd0a.jpg: ignoring corrupt image/label: non-normalized or out of bounds coordinates [     1.0353]\n",
      "\u001b[34m\u001b[1mval: \u001b[0mWARNING  C:\\Patricia Ho\\Braincore\\apnr\\data\\valid\\images\\236-E-536-YY-00-00_jpg.rf.5709d5325934c84ca0fa7a2b44aa6d89.jpg: ignoring corrupt image/label: non-normalized or out of bounds coordinates [      1.101]\n",
      "\u001b[34m\u001b[1mval: \u001b[0mWARNING  C:\\Patricia Ho\\Braincore\\apnr\\data\\valid\\images\\25-E-2101-PAD-06-21_jpg.rf.b30901f4be80407912b5ef9e62d72eed.jpg: ignoring corrupt image/label: non-normalized or out of bounds coordinates [     1.1171]\n",
      "\u001b[34m\u001b[1mval: \u001b[0mWARNING  C:\\Patricia Ho\\Braincore\\apnr\\data\\valid\\images\\297-E-1169-PY-05-20_jpg.rf.f22879b9d99e057a28e73ca9fa468f8e.jpg: ignoring corrupt image/label: non-normalized or out of bounds coordinates [     1.0692]\n",
      "\u001b[34m\u001b[1mval: \u001b[0mWARNING  C:\\Patricia Ho\\Braincore\\apnr\\data\\valid\\images\\314-E-3016-SB-10-18_jpg.rf.695a66f1757d64bfb36e5364ffdeacee.jpg: ignoring corrupt image/label: non-normalized or out of bounds coordinates [     1.0199]\n",
      "\u001b[34m\u001b[1mval: \u001b[0mWARNING  C:\\Patricia Ho\\Braincore\\apnr\\data\\valid\\images\\331-E-2843-HB-08-21_jpg.rf.65313485fee587fdd3c94c2733e712d7.jpg: ignoring corrupt image/label: non-normalized or out of bounds coordinates [     1.0168]\n",
      "\u001b[34m\u001b[1mval: \u001b[0mWARNING  C:\\Patricia Ho\\Braincore\\apnr\\data\\valid\\images\\336-E-2909-TP-12-21_jpg.rf.2a9f570a24de3c26fae29f8e2faca375.jpg: ignoring corrupt image/label: non-normalized or out of bounds coordinates [     1.0372]\n",
      "\u001b[34m\u001b[1mval: \u001b[0mWARNING  C:\\Patricia Ho\\Braincore\\apnr\\data\\valid\\images\\337-E-3955-PAK-02-22_jpg.rf.4e6cda82ce81880686d3f98d76e6ab6f.jpg: ignoring corrupt image/label: non-normalized or out of bounds coordinates [     1.2406]\n",
      "\u001b[34m\u001b[1mval: \u001b[0mWARNING  C:\\Patricia Ho\\Braincore\\apnr\\data\\valid\\images\\342-E-2544-QD-11-18_jpg.rf.daafde322961ac6bd4b92f183c82f7f4.jpg: ignoring corrupt image/label: non-normalized or out of bounds coordinates [     1.0396]\n",
      "\u001b[34m\u001b[1mval: \u001b[0mWARNING  C:\\Patricia Ho\\Braincore\\apnr\\data\\valid\\images\\348-E-4160TQ-10-17_jpeg_jpg.rf.369bfc5f41166f3f3b59d18fb63e5b20.jpg: ignoring corrupt image/label: non-normalized or out of bounds coordinates [     1.0427]\n",
      "\u001b[34m\u001b[1mval: \u001b[0mWARNING  C:\\Patricia Ho\\Braincore\\apnr\\data\\valid\\images\\38-E-3747-RE-08-15_jpg.rf.c840940e0819d2798ebeb22b9a2749e0.jpg: ignoring corrupt image/label: non-normalized or out of bounds coordinates [     1.0655]\n",
      "\u001b[34m\u001b[1mval: \u001b[0mWARNING  C:\\Patricia Ho\\Braincore\\apnr\\data\\valid\\images\\40-E-2324-OM-09-19_jpg.rf.0f462caa7dbe3c25ee038652006ea1a5.jpg: ignoring corrupt image/label: non-normalized or out of bounds coordinates [     1.0077]\n",
      "\u001b[34m\u001b[1mval: \u001b[0mWARNING  C:\\Patricia Ho\\Braincore\\apnr\\data\\valid\\images\\46-E-4531-TV-04-18_jpg.rf.156bf2fd41da3f2576f50642f868306c.jpg: ignoring corrupt image/label: non-normalized or out of bounds coordinates [     1.0824]\n",
      "\u001b[34m\u001b[1mval: \u001b[0mWARNING  C:\\Patricia Ho\\Braincore\\apnr\\data\\valid\\images\\7-E-4594-Q-08-18_jpg.rf.1696d072bc97d5153aedb6b49aa3625c.jpg: ignoring corrupt image/label: non-normalized or out of bounds coordinates [     1.0263]\n",
      "\u001b[34m\u001b[1mval: \u001b[0mWARNING  C:\\Patricia Ho\\Braincore\\apnr\\data\\valid\\images\\74-E-2393-TT-01-18_jpg.rf.4fdec37afeadb637c9abaf1a5b800c44.jpg: ignoring corrupt image/label: non-normalized or out of bounds coordinates [     1.0149]\n",
      "\u001b[34m\u001b[1mval: \u001b[0mWARNING  C:\\Patricia Ho\\Braincore\\apnr\\data\\valid\\images\\77-E-6295-QL-09-19_jpg.rf.2b63786adb78e72087008f17f63bc08d.jpg: ignoring corrupt image/label: non-normalized or out of bounds coordinates [      1.096]\n",
      "\u001b[34m\u001b[1mval: \u001b[0mWARNING  C:\\Patricia Ho\\Braincore\\apnr\\data\\valid\\images\\86-E-5202-TA-03-19_jpg.rf.51f5a0c8a3987729d04f7009d5e35daa.jpg: ignoring corrupt image/label: non-normalized or out of bounds coordinates [     1.0659]\n",
      "\u001b[34m\u001b[1mval: \u001b[0mWARNING  C:\\Patricia Ho\\Braincore\\apnr\\data\\valid\\images\\9-E-2633-RO-11-16_jpg.rf.3b57f8a98e3224623e3795e9ff9165ad.jpg: ignoring corrupt image/label: non-normalized or out of bounds coordinates [     1.0987]\n",
      "\u001b[34m\u001b[1mval: \u001b[0mWARNING  C:\\Patricia Ho\\Braincore\\apnr\\data\\valid\\images\\90-E-5811-RO-10-18_jpg.rf.46c37fb0e97f4079b3faed4a875bad70.jpg: ignoring corrupt image/label: non-normalized or out of bounds coordinates [     1.0059]\n",
      "\u001b[34m\u001b[1mval: \u001b[0mWARNING  C:\\Patricia Ho\\Braincore\\apnr\\data\\valid\\images\\91-E-6554-ZL-05-22_jpg.rf.15386228cff8a4e65952324711f69007.jpg: ignoring corrupt image/label: non-normalized or out of bounds coordinates [     1.0434]\n",
      "\u001b[34m\u001b[1mval: \u001b[0mWARNING  C:\\Patricia Ho\\Braincore\\apnr\\data\\valid\\images\\DM2043H_jpg.rf.a68007f82598969b06e2f9d34536186e.jpg: ignoring corrupt image/label: non-normalized or out of bounds coordinates [     1.1527]\n"
     ]
    },
    {
     "name": "stderr",
     "output_type": "stream",
     "text": [
      "\n"
     ]
    },
    {
     "name": "stdout",
     "output_type": "stream",
     "text": [
      "\u001b[34m\u001b[1mval: \u001b[0mNew cache created: C:\\Patricia Ho\\Braincore\\apnr\\data\\valid\\labels.cache\n",
      "Plotting labels to runs\\detect\\train9\\labels.jpg... \n",
      "\u001b[34m\u001b[1moptimizer:\u001b[0m 'optimizer=auto' found, ignoring 'lr0=0.01' and 'momentum=0.937' and determining best 'optimizer', 'lr0' and 'momentum' automatically... \n",
      "\u001b[34m\u001b[1moptimizer:\u001b[0m AdamW(lr=0.002, momentum=0.9) with parameter groups 57 weight(decay=0.0), 64 weight(decay=0.0005), 63 bias(decay=0.0)\n",
      "Image sizes 640 train, 640 val\n",
      "Using 8 dataloader workers\n",
      "Logging results to \u001b[1mruns\\detect\\train9\u001b[0m\n",
      "Starting training for 50 epochs...\n",
      "\n",
      "      Epoch    GPU_mem   box_loss   cls_loss   dfl_loss  Instances       Size\n"
     ]
    },
    {
     "name": "stderr",
     "output_type": "stream",
     "text": [
      "       1/50      2.25G      1.086      1.633      1.374         17        640: 100%|██████████| 184/184 [00:40<00:00,  4.59it/s]\n",
      "                 Class     Images  Instances      Box(P          R      mAP50  mAP50-95): 100%|██████████| 14/14 [00:05<00:00,  2.62it/s]"
     ]
    },
    {
     "name": "stdout",
     "output_type": "stream",
     "text": [
      "                   all        419        452      0.397      0.319      0.329      0.136\n"
     ]
    },
    {
     "name": "stderr",
     "output_type": "stream",
     "text": [
      "\n"
     ]
    },
    {
     "name": "stdout",
     "output_type": "stream",
     "text": [
      "\n",
      "      Epoch    GPU_mem   box_loss   cls_loss   dfl_loss  Instances       Size\n"
     ]
    },
    {
     "name": "stderr",
     "output_type": "stream",
     "text": [
      "       2/50      2.17G       1.05      1.107       1.32         16        640: 100%|██████████| 184/184 [00:37<00:00,  4.96it/s]\n",
      "                 Class     Images  Instances      Box(P          R      mAP50  mAP50-95): 100%|██████████| 14/14 [00:03<00:00,  3.88it/s]"
     ]
    },
    {
     "name": "stdout",
     "output_type": "stream",
     "text": [
      "                   all        419        452      0.757      0.712      0.777      0.444\n"
     ]
    },
    {
     "name": "stderr",
     "output_type": "stream",
     "text": [
      "\n"
     ]
    },
    {
     "name": "stdout",
     "output_type": "stream",
     "text": [
      "\n",
      "      Epoch    GPU_mem   box_loss   cls_loss   dfl_loss  Instances       Size\n"
     ]
    },
    {
     "name": "stderr",
     "output_type": "stream",
     "text": [
      "       3/50      2.15G      1.037     0.9446      1.312         18        640: 100%|██████████| 184/184 [00:35<00:00,  5.24it/s]\n",
      "                 Class     Images  Instances      Box(P          R      mAP50  mAP50-95): 100%|██████████| 14/14 [00:03<00:00,  3.87it/s]"
     ]
    },
    {
     "name": "stdout",
     "output_type": "stream",
     "text": [
      "                   all        419        452      0.482      0.823       0.67      0.303\n"
     ]
    },
    {
     "name": "stderr",
     "output_type": "stream",
     "text": [
      "\n"
     ]
    },
    {
     "name": "stdout",
     "output_type": "stream",
     "text": [
      "\n",
      "      Epoch    GPU_mem   box_loss   cls_loss   dfl_loss  Instances       Size\n"
     ]
    },
    {
     "name": "stderr",
     "output_type": "stream",
     "text": [
      "       4/50      2.15G      1.028     0.8685      1.308         21        640: 100%|██████████| 184/184 [00:40<00:00,  4.54it/s]\n",
      "                 Class     Images  Instances      Box(P          R      mAP50  mAP50-95): 100%|██████████| 14/14 [00:03<00:00,  3.73it/s]"
     ]
    },
    {
     "name": "stdout",
     "output_type": "stream",
     "text": [
      "                   all        419        452      0.755      0.905      0.895      0.481\n"
     ]
    },
    {
     "name": "stderr",
     "output_type": "stream",
     "text": [
      "\n"
     ]
    },
    {
     "name": "stdout",
     "output_type": "stream",
     "text": [
      "\n",
      "      Epoch    GPU_mem   box_loss   cls_loss   dfl_loss  Instances       Size\n"
     ]
    },
    {
     "name": "stderr",
     "output_type": "stream",
     "text": [
      "       5/50      2.16G     0.9847     0.8078      1.272         22        640: 100%|██████████| 184/184 [00:38<00:00,  4.74it/s]\n",
      "                 Class     Images  Instances      Box(P          R      mAP50  mAP50-95): 100%|██████████| 14/14 [00:04<00:00,  2.88it/s]"
     ]
    },
    {
     "name": "stdout",
     "output_type": "stream",
     "text": [
      "                   all        419        452      0.598      0.746      0.758      0.462\n"
     ]
    },
    {
     "name": "stderr",
     "output_type": "stream",
     "text": [
      "\n"
     ]
    },
    {
     "name": "stdout",
     "output_type": "stream",
     "text": [
      "\n",
      "      Epoch    GPU_mem   box_loss   cls_loss   dfl_loss  Instances       Size\n"
     ]
    },
    {
     "name": "stderr",
     "output_type": "stream",
     "text": [
      "       6/50      2.15G      0.956     0.7785      1.257         31        640: 100%|██████████| 184/184 [00:40<00:00,  4.55it/s]\n",
      "                 Class     Images  Instances      Box(P          R      mAP50  mAP50-95): 100%|██████████| 14/14 [00:04<00:00,  2.81it/s]"
     ]
    },
    {
     "name": "stdout",
     "output_type": "stream",
     "text": [
      "                   all        419        452      0.879      0.909      0.911      0.553\n"
     ]
    },
    {
     "name": "stderr",
     "output_type": "stream",
     "text": [
      "\n"
     ]
    },
    {
     "name": "stdout",
     "output_type": "stream",
     "text": [
      "\n",
      "      Epoch    GPU_mem   box_loss   cls_loss   dfl_loss  Instances       Size\n"
     ]
    },
    {
     "name": "stderr",
     "output_type": "stream",
     "text": [
      "       7/50      2.15G     0.9454     0.7466      1.236         19        640: 100%|██████████| 184/184 [00:41<00:00,  4.42it/s]\n",
      "                 Class     Images  Instances      Box(P          R      mAP50  mAP50-95): 100%|██████████| 14/14 [00:04<00:00,  2.91it/s]"
     ]
    },
    {
     "name": "stdout",
     "output_type": "stream",
     "text": [
      "                   all        419        452      0.864      0.741      0.869      0.492\n"
     ]
    },
    {
     "name": "stderr",
     "output_type": "stream",
     "text": [
      "\n"
     ]
    },
    {
     "name": "stdout",
     "output_type": "stream",
     "text": [
      "\n",
      "      Epoch    GPU_mem   box_loss   cls_loss   dfl_loss  Instances       Size\n"
     ]
    },
    {
     "name": "stderr",
     "output_type": "stream",
     "text": [
      "       8/50      2.15G     0.8844     0.6885      1.221         21        640: 100%|██████████| 184/184 [00:49<00:00,  3.73it/s]\n",
      "                 Class     Images  Instances      Box(P          R      mAP50  mAP50-95): 100%|██████████| 14/14 [00:05<00:00,  2.64it/s]"
     ]
    },
    {
     "name": "stdout",
     "output_type": "stream",
     "text": [
      "                   all        419        452      0.886      0.858      0.916      0.586\n"
     ]
    },
    {
     "name": "stderr",
     "output_type": "stream",
     "text": [
      "\n"
     ]
    },
    {
     "name": "stdout",
     "output_type": "stream",
     "text": [
      "\n",
      "      Epoch    GPU_mem   box_loss   cls_loss   dfl_loss  Instances       Size\n"
     ]
    },
    {
     "name": "stderr",
     "output_type": "stream",
     "text": [
      "       9/50      2.15G     0.8996     0.6859      1.214         25        640: 100%|██████████| 184/184 [00:49<00:00,  3.75it/s]\n",
      "                 Class     Images  Instances      Box(P          R      mAP50  mAP50-95): 100%|██████████| 14/14 [00:05<00:00,  2.64it/s]"
     ]
    },
    {
     "name": "stdout",
     "output_type": "stream",
     "text": [
      "                   all        419        452      0.875      0.872      0.954      0.619\n"
     ]
    },
    {
     "name": "stderr",
     "output_type": "stream",
     "text": [
      "\n"
     ]
    },
    {
     "name": "stdout",
     "output_type": "stream",
     "text": [
      "\n",
      "      Epoch    GPU_mem   box_loss   cls_loss   dfl_loss  Instances       Size\n"
     ]
    },
    {
     "name": "stderr",
     "output_type": "stream",
     "text": [
      "      10/50      2.15G     0.8965     0.6613      1.208         15        640: 100%|██████████| 184/184 [00:50<00:00,  3.66it/s]\n",
      "                 Class     Images  Instances      Box(P          R      mAP50  mAP50-95): 100%|██████████| 14/14 [00:05<00:00,  2.45it/s]"
     ]
    },
    {
     "name": "stdout",
     "output_type": "stream",
     "text": [
      "                   all        419        452      0.921      0.897       0.95      0.634\n"
     ]
    },
    {
     "name": "stderr",
     "output_type": "stream",
     "text": [
      "\n"
     ]
    },
    {
     "name": "stdout",
     "output_type": "stream",
     "text": [
      "\n",
      "      Epoch    GPU_mem   box_loss   cls_loss   dfl_loss  Instances       Size\n"
     ]
    },
    {
     "name": "stderr",
     "output_type": "stream",
     "text": [
      "      11/50      2.15G     0.8599      0.641      1.192         16        640: 100%|██████████| 184/184 [00:50<00:00,  3.64it/s]\n",
      "                 Class     Images  Instances      Box(P          R      mAP50  mAP50-95): 100%|██████████| 14/14 [00:05<00:00,  2.38it/s]"
     ]
    },
    {
     "name": "stdout",
     "output_type": "stream",
     "text": [
      "                   all        419        452      0.906       0.94      0.974      0.641\n"
     ]
    },
    {
     "name": "stderr",
     "output_type": "stream",
     "text": [
      "\n"
     ]
    },
    {
     "name": "stdout",
     "output_type": "stream",
     "text": [
      "\n",
      "      Epoch    GPU_mem   box_loss   cls_loss   dfl_loss  Instances       Size\n"
     ]
    },
    {
     "name": "stderr",
     "output_type": "stream",
     "text": [
      "      12/50      2.15G     0.8615     0.6316      1.188         24        640: 100%|██████████| 184/184 [00:53<00:00,  3.41it/s]\n",
      "                 Class     Images  Instances      Box(P          R      mAP50  mAP50-95): 100%|██████████| 14/14 [00:05<00:00,  2.33it/s]"
     ]
    },
    {
     "name": "stdout",
     "output_type": "stream",
     "text": [
      "                   all        419        452      0.877      0.967      0.966      0.681\n"
     ]
    },
    {
     "name": "stderr",
     "output_type": "stream",
     "text": [
      "\n"
     ]
    },
    {
     "name": "stdout",
     "output_type": "stream",
     "text": [
      "\n",
      "      Epoch    GPU_mem   box_loss   cls_loss   dfl_loss  Instances       Size\n"
     ]
    },
    {
     "name": "stderr",
     "output_type": "stream",
     "text": [
      "      13/50      2.15G     0.8534     0.6177      1.186         18        640: 100%|██████████| 184/184 [00:53<00:00,  3.43it/s]\n",
      "                 Class     Images  Instances      Box(P          R      mAP50  mAP50-95): 100%|██████████| 14/14 [00:05<00:00,  2.51it/s]"
     ]
    },
    {
     "name": "stdout",
     "output_type": "stream",
     "text": [
      "                   all        419        452      0.951      0.929      0.985      0.664\n"
     ]
    },
    {
     "name": "stderr",
     "output_type": "stream",
     "text": [
      "\n"
     ]
    },
    {
     "name": "stdout",
     "output_type": "stream",
     "text": [
      "\n",
      "      Epoch    GPU_mem   box_loss   cls_loss   dfl_loss  Instances       Size\n"
     ]
    },
    {
     "name": "stderr",
     "output_type": "stream",
     "text": [
      "      14/50      2.18G     0.8313     0.6028      1.175         17        640: 100%|██████████| 184/184 [00:51<00:00,  3.54it/s]\n",
      "                 Class     Images  Instances      Box(P          R      mAP50  mAP50-95): 100%|██████████| 14/14 [00:05<00:00,  2.38it/s]"
     ]
    },
    {
     "name": "stdout",
     "output_type": "stream",
     "text": [
      "                   all        419        452      0.967      0.967      0.986      0.715\n"
     ]
    },
    {
     "name": "stderr",
     "output_type": "stream",
     "text": [
      "\n"
     ]
    },
    {
     "name": "stdout",
     "output_type": "stream",
     "text": [
      "\n",
      "      Epoch    GPU_mem   box_loss   cls_loss   dfl_loss  Instances       Size\n"
     ]
    },
    {
     "name": "stderr",
     "output_type": "stream",
     "text": [
      "      15/50      2.15G     0.8224     0.5965      1.163         17        640: 100%|██████████| 184/184 [00:52<00:00,  3.49it/s]\n",
      "                 Class     Images  Instances      Box(P          R      mAP50  mAP50-95): 100%|██████████| 14/14 [00:05<00:00,  2.69it/s]"
     ]
    },
    {
     "name": "stdout",
     "output_type": "stream",
     "text": [
      "                   all        419        452      0.934      0.962      0.975      0.697\n"
     ]
    },
    {
     "name": "stderr",
     "output_type": "stream",
     "text": [
      "\n"
     ]
    },
    {
     "name": "stdout",
     "output_type": "stream",
     "text": [
      "\n",
      "      Epoch    GPU_mem   box_loss   cls_loss   dfl_loss  Instances       Size\n"
     ]
    },
    {
     "name": "stderr",
     "output_type": "stream",
     "text": [
      "      16/50      2.15G     0.8272     0.5849      1.168         17        640: 100%|██████████| 184/184 [00:49<00:00,  3.73it/s]\n",
      "                 Class     Images  Instances      Box(P          R      mAP50  mAP50-95): 100%|██████████| 14/14 [00:05<00:00,  2.70it/s]"
     ]
    },
    {
     "name": "stdout",
     "output_type": "stream",
     "text": [
      "                   all        419        452       0.94      0.969       0.98      0.694\n"
     ]
    },
    {
     "name": "stderr",
     "output_type": "stream",
     "text": [
      "\n"
     ]
    },
    {
     "name": "stdout",
     "output_type": "stream",
     "text": [
      "\n",
      "      Epoch    GPU_mem   box_loss   cls_loss   dfl_loss  Instances       Size\n"
     ]
    },
    {
     "name": "stderr",
     "output_type": "stream",
     "text": [
      "      17/50      2.15G     0.8198     0.5829      1.157         14        640: 100%|██████████| 184/184 [00:49<00:00,  3.71it/s]\n",
      "                 Class     Images  Instances      Box(P          R      mAP50  mAP50-95): 100%|██████████| 14/14 [00:05<00:00,  2.76it/s]"
     ]
    },
    {
     "name": "stdout",
     "output_type": "stream",
     "text": [
      "                   all        419        452      0.939      0.959      0.978      0.716\n"
     ]
    },
    {
     "name": "stderr",
     "output_type": "stream",
     "text": [
      "\n"
     ]
    },
    {
     "name": "stdout",
     "output_type": "stream",
     "text": [
      "\n",
      "      Epoch    GPU_mem   box_loss   cls_loss   dfl_loss  Instances       Size\n"
     ]
    },
    {
     "name": "stderr",
     "output_type": "stream",
     "text": [
      "      18/50      2.15G     0.7963      0.566      1.152         18        640: 100%|██████████| 184/184 [00:50<00:00,  3.64it/s]\n",
      "                 Class     Images  Instances      Box(P          R      mAP50  mAP50-95): 100%|██████████| 14/14 [00:05<00:00,  2.61it/s]"
     ]
    },
    {
     "name": "stdout",
     "output_type": "stream",
     "text": [
      "                   all        419        452      0.947      0.979      0.968      0.703\n"
     ]
    },
    {
     "name": "stderr",
     "output_type": "stream",
     "text": [
      "\n"
     ]
    },
    {
     "name": "stdout",
     "output_type": "stream",
     "text": [
      "\n",
      "      Epoch    GPU_mem   box_loss   cls_loss   dfl_loss  Instances       Size\n"
     ]
    },
    {
     "name": "stderr",
     "output_type": "stream",
     "text": [
      "      19/50      2.15G     0.7864     0.5428      1.148         18        640: 100%|██████████| 184/184 [00:49<00:00,  3.68it/s]\n",
      "                 Class     Images  Instances      Box(P          R      mAP50  mAP50-95): 100%|██████████| 14/14 [00:05<00:00,  2.64it/s]"
     ]
    },
    {
     "name": "stdout",
     "output_type": "stream",
     "text": [
      "                   all        419        452      0.971      0.979      0.988      0.712\n"
     ]
    },
    {
     "name": "stderr",
     "output_type": "stream",
     "text": [
      "\n"
     ]
    },
    {
     "name": "stdout",
     "output_type": "stream",
     "text": [
      "\n",
      "      Epoch    GPU_mem   box_loss   cls_loss   dfl_loss  Instances       Size\n"
     ]
    },
    {
     "name": "stderr",
     "output_type": "stream",
     "text": [
      "      20/50      2.16G     0.8232     0.5699      1.156         18        640: 100%|██████████| 184/184 [00:51<00:00,  3.55it/s]\n",
      "                 Class     Images  Instances      Box(P          R      mAP50  mAP50-95): 100%|██████████| 14/14 [00:05<00:00,  2.68it/s]"
     ]
    },
    {
     "name": "stdout",
     "output_type": "stream",
     "text": [
      "                   all        419        452      0.984      0.973      0.993      0.706\n"
     ]
    },
    {
     "name": "stderr",
     "output_type": "stream",
     "text": [
      "\n"
     ]
    },
    {
     "name": "stdout",
     "output_type": "stream",
     "text": [
      "\n",
      "      Epoch    GPU_mem   box_loss   cls_loss   dfl_loss  Instances       Size\n"
     ]
    },
    {
     "name": "stderr",
     "output_type": "stream",
     "text": [
      "      21/50      2.15G      0.786     0.5485       1.14         16        640: 100%|██████████| 184/184 [00:50<00:00,  3.64it/s]\n",
      "                 Class     Images  Instances      Box(P          R      mAP50  mAP50-95): 100%|██████████| 14/14 [00:05<00:00,  2.55it/s]"
     ]
    },
    {
     "name": "stdout",
     "output_type": "stream",
     "text": [
      "                   all        419        452       0.98      0.976      0.992      0.714\n"
     ]
    },
    {
     "name": "stderr",
     "output_type": "stream",
     "text": [
      "\n"
     ]
    },
    {
     "name": "stdout",
     "output_type": "stream",
     "text": [
      "\n",
      "      Epoch    GPU_mem   box_loss   cls_loss   dfl_loss  Instances       Size\n"
     ]
    },
    {
     "name": "stderr",
     "output_type": "stream",
     "text": [
      "      22/50      2.15G     0.7828     0.5416      1.138         26        640: 100%|██████████| 184/184 [01:03<00:00,  2.89it/s]\n",
      "                 Class     Images  Instances      Box(P          R      mAP50  mAP50-95): 100%|██████████| 14/14 [00:06<00:00,  2.18it/s]"
     ]
    },
    {
     "name": "stdout",
     "output_type": "stream",
     "text": [
      "                   all        419        452      0.978      0.977      0.989      0.714\n"
     ]
    },
    {
     "name": "stderr",
     "output_type": "stream",
     "text": [
      "\n"
     ]
    },
    {
     "name": "stdout",
     "output_type": "stream",
     "text": [
      "\n",
      "      Epoch    GPU_mem   box_loss   cls_loss   dfl_loss  Instances       Size\n"
     ]
    },
    {
     "name": "stderr",
     "output_type": "stream",
     "text": [
      "      23/50      2.15G      0.788     0.5418      1.144         23        640: 100%|██████████| 184/184 [01:03<00:00,  2.90it/s]\n",
      "                 Class     Images  Instances      Box(P          R      mAP50  mAP50-95): 100%|██████████| 14/14 [00:06<00:00,  2.21it/s]"
     ]
    },
    {
     "name": "stdout",
     "output_type": "stream",
     "text": [
      "                   all        419        452      0.982      0.982      0.992      0.745\n"
     ]
    },
    {
     "name": "stderr",
     "output_type": "stream",
     "text": [
      "\n"
     ]
    },
    {
     "name": "stdout",
     "output_type": "stream",
     "text": [
      "\n",
      "      Epoch    GPU_mem   box_loss   cls_loss   dfl_loss  Instances       Size\n"
     ]
    },
    {
     "name": "stderr",
     "output_type": "stream",
     "text": [
      "      24/50      2.15G     0.7558     0.5209       1.13         22        640: 100%|██████████| 184/184 [00:58<00:00,  3.14it/s]\n",
      "                 Class     Images  Instances      Box(P          R      mAP50  mAP50-95): 100%|██████████| 14/14 [00:07<00:00,  1.78it/s]"
     ]
    },
    {
     "name": "stdout",
     "output_type": "stream",
     "text": [
      "                   all        419        452      0.966      0.978      0.987      0.691\n"
     ]
    },
    {
     "name": "stderr",
     "output_type": "stream",
     "text": [
      "\n"
     ]
    },
    {
     "name": "stdout",
     "output_type": "stream",
     "text": [
      "\n",
      "      Epoch    GPU_mem   box_loss   cls_loss   dfl_loss  Instances       Size\n"
     ]
    },
    {
     "name": "stderr",
     "output_type": "stream",
     "text": [
      "      25/50      2.15G     0.7533     0.5114       1.13         18        640: 100%|██████████| 184/184 [00:58<00:00,  3.17it/s]\n",
      "                 Class     Images  Instances      Box(P          R      mAP50  mAP50-95): 100%|██████████| 14/14 [00:05<00:00,  2.61it/s]"
     ]
    },
    {
     "name": "stdout",
     "output_type": "stream",
     "text": [
      "                   all        419        452      0.982       0.97      0.984      0.743\n"
     ]
    },
    {
     "name": "stderr",
     "output_type": "stream",
     "text": [
      "\n"
     ]
    },
    {
     "name": "stdout",
     "output_type": "stream",
     "text": [
      "\n",
      "      Epoch    GPU_mem   box_loss   cls_loss   dfl_loss  Instances       Size\n"
     ]
    },
    {
     "name": "stderr",
     "output_type": "stream",
     "text": [
      "      26/50      2.15G     0.7676     0.5122      1.138         19        640: 100%|██████████| 184/184 [00:50<00:00,  3.67it/s]\n",
      "                 Class     Images  Instances      Box(P          R      mAP50  mAP50-95): 100%|██████████| 14/14 [00:05<00:00,  2.49it/s]"
     ]
    },
    {
     "name": "stdout",
     "output_type": "stream",
     "text": [
      "                   all        419        452      0.981      0.982      0.992      0.739\n"
     ]
    },
    {
     "name": "stderr",
     "output_type": "stream",
     "text": [
      "\n"
     ]
    },
    {
     "name": "stdout",
     "output_type": "stream",
     "text": [
      "\n",
      "      Epoch    GPU_mem   box_loss   cls_loss   dfl_loss  Instances       Size\n"
     ]
    },
    {
     "name": "stderr",
     "output_type": "stream",
     "text": [
      "      27/50      2.15G     0.7606     0.5096      1.129         14        640: 100%|██████████| 184/184 [00:49<00:00,  3.74it/s]\n",
      "                 Class     Images  Instances      Box(P          R      mAP50  mAP50-95): 100%|██████████| 14/14 [00:05<00:00,  2.60it/s]"
     ]
    },
    {
     "name": "stdout",
     "output_type": "stream",
     "text": [
      "                   all        419        452      0.975      0.987      0.992      0.734\n"
     ]
    },
    {
     "name": "stderr",
     "output_type": "stream",
     "text": [
      "\n"
     ]
    },
    {
     "name": "stdout",
     "output_type": "stream",
     "text": [
      "\n",
      "      Epoch    GPU_mem   box_loss   cls_loss   dfl_loss  Instances       Size\n"
     ]
    },
    {
     "name": "stderr",
     "output_type": "stream",
     "text": [
      "      28/50      2.15G     0.7609       0.51      1.124         21        640: 100%|██████████| 184/184 [00:49<00:00,  3.69it/s]\n",
      "                 Class     Images  Instances      Box(P          R      mAP50  mAP50-95): 100%|██████████| 14/14 [00:05<00:00,  2.60it/s]"
     ]
    },
    {
     "name": "stdout",
     "output_type": "stream",
     "text": [
      "                   all        419        452      0.978      0.981      0.993      0.724\n"
     ]
    },
    {
     "name": "stderr",
     "output_type": "stream",
     "text": [
      "\n"
     ]
    },
    {
     "name": "stdout",
     "output_type": "stream",
     "text": [
      "\n",
      "      Epoch    GPU_mem   box_loss   cls_loss   dfl_loss  Instances       Size\n"
     ]
    },
    {
     "name": "stderr",
     "output_type": "stream",
     "text": [
      "      29/50      2.17G     0.7332     0.4885      1.114         18        640: 100%|██████████| 184/184 [00:50<00:00,  3.66it/s]\n",
      "                 Class     Images  Instances      Box(P          R      mAP50  mAP50-95): 100%|██████████| 14/14 [00:05<00:00,  2.50it/s]"
     ]
    },
    {
     "name": "stdout",
     "output_type": "stream",
     "text": [
      "                   all        419        452      0.984      0.985      0.994      0.737\n"
     ]
    },
    {
     "name": "stderr",
     "output_type": "stream",
     "text": [
      "\n"
     ]
    },
    {
     "name": "stdout",
     "output_type": "stream",
     "text": [
      "\n",
      "      Epoch    GPU_mem   box_loss   cls_loss   dfl_loss  Instances       Size\n"
     ]
    },
    {
     "name": "stderr",
     "output_type": "stream",
     "text": [
      "      30/50      2.15G     0.7347     0.4858      1.114         25        640: 100%|██████████| 184/184 [00:50<00:00,  3.68it/s]\n",
      "                 Class     Images  Instances      Box(P          R      mAP50  mAP50-95): 100%|██████████| 14/14 [00:05<00:00,  2.54it/s]"
     ]
    },
    {
     "name": "stdout",
     "output_type": "stream",
     "text": [
      "                   all        419        452       0.98      0.985      0.992      0.749\n"
     ]
    },
    {
     "name": "stderr",
     "output_type": "stream",
     "text": [
      "\n"
     ]
    },
    {
     "name": "stdout",
     "output_type": "stream",
     "text": [
      "\n",
      "      Epoch    GPU_mem   box_loss   cls_loss   dfl_loss  Instances       Size\n"
     ]
    },
    {
     "name": "stderr",
     "output_type": "stream",
     "text": [
      "      31/50      2.15G     0.7425     0.4892      1.111         17        640: 100%|██████████| 184/184 [00:50<00:00,  3.63it/s]\n",
      "                 Class     Images  Instances      Box(P          R      mAP50  mAP50-95): 100%|██████████| 14/14 [00:05<00:00,  2.62it/s]"
     ]
    },
    {
     "name": "stdout",
     "output_type": "stream",
     "text": [
      "                   all        419        452      0.986      0.987      0.994      0.748\n"
     ]
    },
    {
     "name": "stderr",
     "output_type": "stream",
     "text": [
      "\n"
     ]
    },
    {
     "name": "stdout",
     "output_type": "stream",
     "text": [
      "\n",
      "      Epoch    GPU_mem   box_loss   cls_loss   dfl_loss  Instances       Size\n"
     ]
    },
    {
     "name": "stderr",
     "output_type": "stream",
     "text": [
      "      32/50      2.15G     0.7398     0.4903      1.116         16        640: 100%|██████████| 184/184 [00:49<00:00,  3.69it/s]\n",
      "                 Class     Images  Instances      Box(P          R      mAP50  mAP50-95): 100%|██████████| 14/14 [00:05<00:00,  2.65it/s]"
     ]
    },
    {
     "name": "stdout",
     "output_type": "stream",
     "text": [
      "                   all        419        452       0.98      0.986      0.994      0.758\n"
     ]
    },
    {
     "name": "stderr",
     "output_type": "stream",
     "text": [
      "\n"
     ]
    },
    {
     "name": "stdout",
     "output_type": "stream",
     "text": [
      "\n",
      "      Epoch    GPU_mem   box_loss   cls_loss   dfl_loss  Instances       Size\n"
     ]
    },
    {
     "name": "stderr",
     "output_type": "stream",
     "text": [
      "      33/50      2.15G     0.7267     0.4834       1.11         14        640: 100%|██████████| 184/184 [00:51<00:00,  3.60it/s]\n",
      "                 Class     Images  Instances      Box(P          R      mAP50  mAP50-95): 100%|██████████| 14/14 [00:05<00:00,  2.60it/s]"
     ]
    },
    {
     "name": "stdout",
     "output_type": "stream",
     "text": [
      "                   all        419        452       0.98      0.987       0.99      0.757\n"
     ]
    },
    {
     "name": "stderr",
     "output_type": "stream",
     "text": [
      "\n"
     ]
    },
    {
     "name": "stdout",
     "output_type": "stream",
     "text": [
      "\n",
      "      Epoch    GPU_mem   box_loss   cls_loss   dfl_loss  Instances       Size\n"
     ]
    },
    {
     "name": "stderr",
     "output_type": "stream",
     "text": [
      "      34/50      2.15G     0.7098     0.4654      1.102         23        640: 100%|██████████| 184/184 [00:50<00:00,  3.65it/s]\n",
      "                 Class     Images  Instances      Box(P          R      mAP50  mAP50-95): 100%|██████████| 14/14 [00:05<00:00,  2.62it/s]"
     ]
    },
    {
     "name": "stdout",
     "output_type": "stream",
     "text": [
      "                   all        419        452      0.979      0.985      0.992      0.756\n"
     ]
    },
    {
     "name": "stderr",
     "output_type": "stream",
     "text": [
      "\n"
     ]
    },
    {
     "name": "stdout",
     "output_type": "stream",
     "text": [
      "\n",
      "      Epoch    GPU_mem   box_loss   cls_loss   dfl_loss  Instances       Size\n"
     ]
    },
    {
     "name": "stderr",
     "output_type": "stream",
     "text": [
      "      35/50      2.15G     0.7295     0.4711      1.101         18        640: 100%|██████████| 184/184 [00:53<00:00,  3.46it/s]\n",
      "                 Class     Images  Instances      Box(P          R      mAP50  mAP50-95): 100%|██████████| 14/14 [00:06<00:00,  2.32it/s]"
     ]
    },
    {
     "name": "stdout",
     "output_type": "stream",
     "text": [
      "                   all        419        452      0.984      0.987      0.992      0.755\n"
     ]
    },
    {
     "name": "stderr",
     "output_type": "stream",
     "text": [
      "\n"
     ]
    },
    {
     "name": "stdout",
     "output_type": "stream",
     "text": [
      "\n",
      "      Epoch    GPU_mem   box_loss   cls_loss   dfl_loss  Instances       Size\n"
     ]
    },
    {
     "name": "stderr",
     "output_type": "stream",
     "text": [
      "      36/50      2.15G     0.7046     0.4665      1.095         27        640: 100%|██████████| 184/184 [00:49<00:00,  3.69it/s]\n",
      "                 Class     Images  Instances      Box(P          R      mAP50  mAP50-95): 100%|██████████| 14/14 [00:05<00:00,  2.44it/s]"
     ]
    },
    {
     "name": "stdout",
     "output_type": "stream",
     "text": [
      "                   all        419        452      0.986      0.987      0.994      0.754\n"
     ]
    },
    {
     "name": "stderr",
     "output_type": "stream",
     "text": [
      "\n"
     ]
    },
    {
     "name": "stdout",
     "output_type": "stream",
     "text": [
      "\n",
      "      Epoch    GPU_mem   box_loss   cls_loss   dfl_loss  Instances       Size\n"
     ]
    },
    {
     "name": "stderr",
     "output_type": "stream",
     "text": [
      "      37/50      2.15G     0.7046       0.46      1.099         21        640: 100%|██████████| 184/184 [00:50<00:00,  3.63it/s]\n",
      "                 Class     Images  Instances      Box(P          R      mAP50  mAP50-95): 100%|██████████| 14/14 [00:05<00:00,  2.54it/s]"
     ]
    },
    {
     "name": "stdout",
     "output_type": "stream",
     "text": [
      "                   all        419        452      0.986      0.987      0.987      0.754\n"
     ]
    },
    {
     "name": "stderr",
     "output_type": "stream",
     "text": [
      "\n"
     ]
    },
    {
     "name": "stdout",
     "output_type": "stream",
     "text": [
      "\n",
      "      Epoch    GPU_mem   box_loss   cls_loss   dfl_loss  Instances       Size\n"
     ]
    },
    {
     "name": "stderr",
     "output_type": "stream",
     "text": [
      "      38/50      2.17G     0.6869     0.4435       1.09         17        640: 100%|██████████| 184/184 [00:50<00:00,  3.67it/s]\n",
      "                 Class     Images  Instances      Box(P          R      mAP50  mAP50-95): 100%|██████████| 14/14 [00:05<00:00,  2.65it/s]"
     ]
    },
    {
     "name": "stdout",
     "output_type": "stream",
     "text": [
      "                   all        419        452       0.99      0.985      0.993      0.768\n"
     ]
    },
    {
     "name": "stderr",
     "output_type": "stream",
     "text": [
      "\n"
     ]
    },
    {
     "name": "stdout",
     "output_type": "stream",
     "text": [
      "\n",
      "      Epoch    GPU_mem   box_loss   cls_loss   dfl_loss  Instances       Size\n"
     ]
    },
    {
     "name": "stderr",
     "output_type": "stream",
     "text": [
      "      39/50      2.15G     0.6822     0.4426      1.089         14        640: 100%|██████████| 184/184 [00:50<00:00,  3.65it/s]\n",
      "                 Class     Images  Instances      Box(P          R      mAP50  mAP50-95): 100%|██████████| 14/14 [00:05<00:00,  2.58it/s]"
     ]
    },
    {
     "name": "stdout",
     "output_type": "stream",
     "text": [
      "                   all        419        452       0.98      0.987      0.991      0.773\n"
     ]
    },
    {
     "name": "stderr",
     "output_type": "stream",
     "text": [
      "\n"
     ]
    },
    {
     "name": "stdout",
     "output_type": "stream",
     "text": [
      "\n",
      "      Epoch    GPU_mem   box_loss   cls_loss   dfl_loss  Instances       Size\n"
     ]
    },
    {
     "name": "stderr",
     "output_type": "stream",
     "text": [
      "      40/50      2.15G     0.6866      0.447      1.089         19        640: 100%|██████████| 184/184 [00:50<00:00,  3.67it/s]\n",
      "                 Class     Images  Instances      Box(P          R      mAP50  mAP50-95): 100%|██████████| 14/14 [00:05<00:00,  2.55it/s]"
     ]
    },
    {
     "name": "stdout",
     "output_type": "stream",
     "text": [
      "                   all        419        452      0.988      0.985      0.993      0.767\n"
     ]
    },
    {
     "name": "stderr",
     "output_type": "stream",
     "text": [
      "\n"
     ]
    },
    {
     "name": "stdout",
     "output_type": "stream",
     "text": [
      "Closing dataloader mosaic\n",
      "\n",
      "      Epoch    GPU_mem   box_loss   cls_loss   dfl_loss  Instances       Size\n"
     ]
    },
    {
     "name": "stderr",
     "output_type": "stream",
     "text": [
      "      41/50      2.15G      0.838     0.4667      1.092          5        640: 100%|██████████| 184/184 [00:49<00:00,  3.74it/s]\n",
      "                 Class     Images  Instances      Box(P          R      mAP50  mAP50-95): 100%|██████████| 14/14 [00:04<00:00,  2.92it/s]"
     ]
    },
    {
     "name": "stdout",
     "output_type": "stream",
     "text": [
      "                   all        419        452      0.984      0.987      0.994      0.772\n"
     ]
    },
    {
     "name": "stderr",
     "output_type": "stream",
     "text": [
      "\n"
     ]
    },
    {
     "name": "stdout",
     "output_type": "stream",
     "text": [
      "\n",
      "      Epoch    GPU_mem   box_loss   cls_loss   dfl_loss  Instances       Size\n"
     ]
    },
    {
     "name": "stderr",
     "output_type": "stream",
     "text": [
      "      42/50      2.15G     0.8244     0.4364      1.078          7        640: 100%|██████████| 184/184 [00:43<00:00,  4.20it/s]\n",
      "                 Class     Images  Instances      Box(P          R      mAP50  mAP50-95): 100%|██████████| 14/14 [00:04<00:00,  2.84it/s]"
     ]
    },
    {
     "name": "stdout",
     "output_type": "stream",
     "text": [
      "                   all        419        452      0.987      0.989      0.994      0.762\n"
     ]
    },
    {
     "name": "stderr",
     "output_type": "stream",
     "text": [
      "\n"
     ]
    },
    {
     "name": "stdout",
     "output_type": "stream",
     "text": [
      "\n",
      "      Epoch    GPU_mem   box_loss   cls_loss   dfl_loss  Instances       Size\n"
     ]
    },
    {
     "name": "stderr",
     "output_type": "stream",
     "text": [
      "      43/50      2.15G     0.8064     0.4222      1.071          6        640: 100%|██████████| 184/184 [00:56<00:00,  3.25it/s]\n",
      "                 Class     Images  Instances      Box(P          R      mAP50  mAP50-95): 100%|██████████| 14/14 [00:06<00:00,  2.01it/s]"
     ]
    },
    {
     "name": "stdout",
     "output_type": "stream",
     "text": [
      "                   all        419        452      0.984      0.985      0.994      0.781\n"
     ]
    },
    {
     "name": "stderr",
     "output_type": "stream",
     "text": [
      "\n"
     ]
    },
    {
     "name": "stdout",
     "output_type": "stream",
     "text": [
      "\n",
      "      Epoch    GPU_mem   box_loss   cls_loss   dfl_loss  Instances       Size\n"
     ]
    },
    {
     "name": "stderr",
     "output_type": "stream",
     "text": [
      "      44/50      2.15G     0.7941     0.4221      1.053          6        640: 100%|██████████| 184/184 [00:52<00:00,  3.49it/s]\n",
      "                 Class     Images  Instances      Box(P          R      mAP50  mAP50-95): 100%|██████████| 14/14 [00:05<00:00,  2.62it/s]"
     ]
    },
    {
     "name": "stdout",
     "output_type": "stream",
     "text": [
      "                   all        419        452      0.985      0.985      0.992       0.77\n"
     ]
    },
    {
     "name": "stderr",
     "output_type": "stream",
     "text": [
      "\n"
     ]
    },
    {
     "name": "stdout",
     "output_type": "stream",
     "text": [
      "\n",
      "      Epoch    GPU_mem   box_loss   cls_loss   dfl_loss  Instances       Size\n"
     ]
    },
    {
     "name": "stderr",
     "output_type": "stream",
     "text": [
      "      45/50      2.15G     0.7931     0.4185      1.061          4        640: 100%|██████████| 184/184 [00:51<00:00,  3.55it/s]\n",
      "                 Class     Images  Instances      Box(P          R      mAP50  mAP50-95): 100%|██████████| 14/14 [00:06<00:00,  2.22it/s]"
     ]
    },
    {
     "name": "stdout",
     "output_type": "stream",
     "text": [
      "                   all        419        452      0.987      0.985      0.994      0.777\n"
     ]
    },
    {
     "name": "stderr",
     "output_type": "stream",
     "text": [
      "\n"
     ]
    },
    {
     "name": "stdout",
     "output_type": "stream",
     "text": [
      "\n",
      "      Epoch    GPU_mem   box_loss   cls_loss   dfl_loss  Instances       Size\n"
     ]
    },
    {
     "name": "stderr",
     "output_type": "stream",
     "text": [
      "      46/50      2.15G      0.777     0.4059      1.051          8        640: 100%|██████████| 184/184 [00:51<00:00,  3.55it/s]\n",
      "                 Class     Images  Instances      Box(P          R      mAP50  mAP50-95): 100%|██████████| 14/14 [00:05<00:00,  2.35it/s]"
     ]
    },
    {
     "name": "stdout",
     "output_type": "stream",
     "text": [
      "                   all        419        452      0.988      0.987      0.994       0.79\n"
     ]
    },
    {
     "name": "stderr",
     "output_type": "stream",
     "text": [
      "\n"
     ]
    },
    {
     "name": "stdout",
     "output_type": "stream",
     "text": [
      "\n",
      "      Epoch    GPU_mem   box_loss   cls_loss   dfl_loss  Instances       Size\n"
     ]
    },
    {
     "name": "stderr",
     "output_type": "stream",
     "text": [
      "      47/50      2.15G     0.7577     0.3955      1.051          9        640: 100%|██████████| 184/184 [00:52<00:00,  3.50it/s]\n",
      "                 Class     Images  Instances      Box(P          R      mAP50  mAP50-95): 100%|██████████| 14/14 [00:06<00:00,  2.10it/s]"
     ]
    },
    {
     "name": "stdout",
     "output_type": "stream",
     "text": [
      "                   all        419        452      0.985      0.988      0.994      0.783\n"
     ]
    },
    {
     "name": "stderr",
     "output_type": "stream",
     "text": [
      "\n"
     ]
    },
    {
     "name": "stdout",
     "output_type": "stream",
     "text": [
      "\n",
      "      Epoch    GPU_mem   box_loss   cls_loss   dfl_loss  Instances       Size\n"
     ]
    },
    {
     "name": "stderr",
     "output_type": "stream",
     "text": [
      "      48/50      2.15G      0.745     0.3877      1.042          7        640: 100%|██████████| 184/184 [00:50<00:00,  3.62it/s]\n",
      "                 Class     Images  Instances      Box(P          R      mAP50  mAP50-95): 100%|██████████| 14/14 [00:06<00:00,  2.28it/s]"
     ]
    },
    {
     "name": "stdout",
     "output_type": "stream",
     "text": [
      "                   all        419        452      0.986      0.987      0.994      0.791\n"
     ]
    },
    {
     "name": "stderr",
     "output_type": "stream",
     "text": [
      "\n"
     ]
    },
    {
     "name": "stdout",
     "output_type": "stream",
     "text": [
      "\n",
      "      Epoch    GPU_mem   box_loss   cls_loss   dfl_loss  Instances       Size\n"
     ]
    },
    {
     "name": "stderr",
     "output_type": "stream",
     "text": [
      "      49/50      2.15G     0.7451     0.3811      1.039         10        640: 100%|██████████| 184/184 [01:04<00:00,  2.87it/s]\n",
      "                 Class     Images  Instances      Box(P          R      mAP50  mAP50-95): 100%|██████████| 14/14 [00:07<00:00,  1.90it/s]"
     ]
    },
    {
     "name": "stdout",
     "output_type": "stream",
     "text": [
      "                   all        419        452      0.988      0.987      0.994      0.793\n"
     ]
    },
    {
     "name": "stderr",
     "output_type": "stream",
     "text": [
      "\n"
     ]
    },
    {
     "name": "stdout",
     "output_type": "stream",
     "text": [
      "\n",
      "      Epoch    GPU_mem   box_loss   cls_loss   dfl_loss  Instances       Size\n"
     ]
    },
    {
     "name": "stderr",
     "output_type": "stream",
     "text": [
      "      50/50      2.15G     0.7333     0.3774      1.033          5        640: 100%|██████████| 184/184 [00:53<00:00,  3.41it/s]\n",
      "                 Class     Images  Instances      Box(P          R      mAP50  mAP50-95): 100%|██████████| 14/14 [00:06<00:00,  2.28it/s]"
     ]
    },
    {
     "name": "stdout",
     "output_type": "stream",
     "text": [
      "                   all        419        452      0.988      0.987      0.994      0.797\n"
     ]
    },
    {
     "name": "stderr",
     "output_type": "stream",
     "text": [
      "\n"
     ]
    },
    {
     "name": "stdout",
     "output_type": "stream",
     "text": [
      "\n",
      "50 epochs completed in 0.815 hours.\n",
      "Optimizer stripped from runs\\detect\\train9\\weights\\last.pt, 6.2MB\n",
      "Optimizer stripped from runs\\detect\\train9\\weights\\best.pt, 6.2MB\n",
      "\n",
      "Validating runs\\detect\\train9\\weights\\best.pt...\n",
      "Ultralytics YOLOv8.2.103  Python-3.10.5 torch-2.4.1+cu121 CUDA:0 (NVIDIA GeForce RTX 2070 with Max-Q Design, 8192MiB)\n",
      "Model summary (fused): 168 layers, 3,005,843 parameters, 0 gradients, 8.1 GFLOPs\n"
     ]
    },
    {
     "name": "stderr",
     "output_type": "stream",
     "text": [
      "                 Class     Images  Instances      Box(P          R      mAP50  mAP50-95): 100%|██████████| 14/14 [00:08<00:00,  1.72it/s]\n"
     ]
    },
    {
     "name": "stdout",
     "output_type": "stream",
     "text": [
      "                   all        419        452      0.988      0.987      0.994      0.797\n",
      "Speed: 0.4ms preprocess, 2.9ms inference, 0.0ms loss, 3.5ms postprocess per image\n",
      "Results saved to \u001b[1mruns\\detect\\train9\u001b[0m\n"
     ]
    },
    {
     "data": {
      "text/plain": [
       "ultralytics.utils.metrics.DetMetrics object with attributes:\n",
       "\n",
       "ap_class_index: array([0])\n",
       "box: ultralytics.utils.metrics.Metric object\n",
       "confusion_matrix: <ultralytics.utils.metrics.ConfusionMatrix object at 0x000002471155D840>\n",
       "curves: ['Precision-Recall(B)', 'F1-Confidence(B)', 'Precision-Confidence(B)', 'Recall-Confidence(B)']\n",
       "curves_results: [[array([          0,    0.001001,    0.002002,    0.003003,    0.004004,    0.005005,    0.006006,    0.007007,    0.008008,    0.009009,     0.01001,    0.011011,    0.012012,    0.013013,    0.014014,    0.015015,    0.016016,    0.017017,    0.018018,    0.019019,     0.02002,    0.021021,    0.022022,    0.023023,\n",
       "          0.024024,    0.025025,    0.026026,    0.027027,    0.028028,    0.029029,     0.03003,    0.031031,    0.032032,    0.033033,    0.034034,    0.035035,    0.036036,    0.037037,    0.038038,    0.039039,     0.04004,    0.041041,    0.042042,    0.043043,    0.044044,    0.045045,    0.046046,    0.047047,\n",
       "          0.048048,    0.049049,     0.05005,    0.051051,    0.052052,    0.053053,    0.054054,    0.055055,    0.056056,    0.057057,    0.058058,    0.059059,     0.06006,    0.061061,    0.062062,    0.063063,    0.064064,    0.065065,    0.066066,    0.067067,    0.068068,    0.069069,     0.07007,    0.071071,\n",
       "          0.072072,    0.073073,    0.074074,    0.075075,    0.076076,    0.077077,    0.078078,    0.079079,     0.08008,    0.081081,    0.082082,    0.083083,    0.084084,    0.085085,    0.086086,    0.087087,    0.088088,    0.089089,     0.09009,    0.091091,    0.092092,    0.093093,    0.094094,    0.095095,\n",
       "          0.096096,    0.097097,    0.098098,    0.099099,      0.1001,      0.1011,      0.1021,      0.1031,      0.1041,     0.10511,     0.10611,     0.10711,     0.10811,     0.10911,     0.11011,     0.11111,     0.11211,     0.11311,     0.11411,     0.11512,     0.11612,     0.11712,     0.11812,     0.11912,\n",
       "           0.12012,     0.12112,     0.12212,     0.12312,     0.12412,     0.12513,     0.12613,     0.12713,     0.12813,     0.12913,     0.13013,     0.13113,     0.13213,     0.13313,     0.13413,     0.13514,     0.13614,     0.13714,     0.13814,     0.13914,     0.14014,     0.14114,     0.14214,     0.14314,\n",
       "           0.14414,     0.14515,     0.14615,     0.14715,     0.14815,     0.14915,     0.15015,     0.15115,     0.15215,     0.15315,     0.15415,     0.15516,     0.15616,     0.15716,     0.15816,     0.15916,     0.16016,     0.16116,     0.16216,     0.16316,     0.16416,     0.16517,     0.16617,     0.16717,\n",
       "           0.16817,     0.16917,     0.17017,     0.17117,     0.17217,     0.17317,     0.17417,     0.17518,     0.17618,     0.17718,     0.17818,     0.17918,     0.18018,     0.18118,     0.18218,     0.18318,     0.18418,     0.18519,     0.18619,     0.18719,     0.18819,     0.18919,     0.19019,     0.19119,\n",
       "           0.19219,     0.19319,     0.19419,      0.1952,      0.1962,      0.1972,      0.1982,      0.1992,      0.2002,      0.2012,      0.2022,      0.2032,      0.2042,     0.20521,     0.20621,     0.20721,     0.20821,     0.20921,     0.21021,     0.21121,     0.21221,     0.21321,     0.21421,     0.21522,\n",
       "           0.21622,     0.21722,     0.21822,     0.21922,     0.22022,     0.22122,     0.22222,     0.22322,     0.22422,     0.22523,     0.22623,     0.22723,     0.22823,     0.22923,     0.23023,     0.23123,     0.23223,     0.23323,     0.23423,     0.23524,     0.23624,     0.23724,     0.23824,     0.23924,\n",
       "           0.24024,     0.24124,     0.24224,     0.24324,     0.24424,     0.24525,     0.24625,     0.24725,     0.24825,     0.24925,     0.25025,     0.25125,     0.25225,     0.25325,     0.25425,     0.25526,     0.25626,     0.25726,     0.25826,     0.25926,     0.26026,     0.26126,     0.26226,     0.26326,\n",
       "           0.26426,     0.26527,     0.26627,     0.26727,     0.26827,     0.26927,     0.27027,     0.27127,     0.27227,     0.27327,     0.27427,     0.27528,     0.27628,     0.27728,     0.27828,     0.27928,     0.28028,     0.28128,     0.28228,     0.28328,     0.28428,     0.28529,     0.28629,     0.28729,\n",
       "           0.28829,     0.28929,     0.29029,     0.29129,     0.29229,     0.29329,     0.29429,      0.2953,      0.2963,      0.2973,      0.2983,      0.2993,      0.3003,      0.3013,      0.3023,      0.3033,      0.3043,     0.30531,     0.30631,     0.30731,     0.30831,     0.30931,     0.31031,     0.31131,\n",
       "           0.31231,     0.31331,     0.31431,     0.31532,     0.31632,     0.31732,     0.31832,     0.31932,     0.32032,     0.32132,     0.32232,     0.32332,     0.32432,     0.32533,     0.32633,     0.32733,     0.32833,     0.32933,     0.33033,     0.33133,     0.33233,     0.33333,     0.33433,     0.33534,\n",
       "           0.33634,     0.33734,     0.33834,     0.33934,     0.34034,     0.34134,     0.34234,     0.34334,     0.34434,     0.34535,     0.34635,     0.34735,     0.34835,     0.34935,     0.35035,     0.35135,     0.35235,     0.35335,     0.35435,     0.35536,     0.35636,     0.35736,     0.35836,     0.35936,\n",
       "           0.36036,     0.36136,     0.36236,     0.36336,     0.36436,     0.36537,     0.36637,     0.36737,     0.36837,     0.36937,     0.37037,     0.37137,     0.37237,     0.37337,     0.37437,     0.37538,     0.37638,     0.37738,     0.37838,     0.37938,     0.38038,     0.38138,     0.38238,     0.38338,\n",
       "           0.38438,     0.38539,     0.38639,     0.38739,     0.38839,     0.38939,     0.39039,     0.39139,     0.39239,     0.39339,     0.39439,      0.3954,      0.3964,      0.3974,      0.3984,      0.3994,      0.4004,      0.4014,      0.4024,      0.4034,      0.4044,     0.40541,     0.40641,     0.40741,\n",
       "           0.40841,     0.40941,     0.41041,     0.41141,     0.41241,     0.41341,     0.41441,     0.41542,     0.41642,     0.41742,     0.41842,     0.41942,     0.42042,     0.42142,     0.42242,     0.42342,     0.42442,     0.42543,     0.42643,     0.42743,     0.42843,     0.42943,     0.43043,     0.43143,\n",
       "           0.43243,     0.43343,     0.43443,     0.43544,     0.43644,     0.43744,     0.43844,     0.43944,     0.44044,     0.44144,     0.44244,     0.44344,     0.44444,     0.44545,     0.44645,     0.44745,     0.44845,     0.44945,     0.45045,     0.45145,     0.45245,     0.45345,     0.45445,     0.45546,\n",
       "           0.45646,     0.45746,     0.45846,     0.45946,     0.46046,     0.46146,     0.46246,     0.46346,     0.46446,     0.46547,     0.46647,     0.46747,     0.46847,     0.46947,     0.47047,     0.47147,     0.47247,     0.47347,     0.47447,     0.47548,     0.47648,     0.47748,     0.47848,     0.47948,\n",
       "           0.48048,     0.48148,     0.48248,     0.48348,     0.48448,     0.48549,     0.48649,     0.48749,     0.48849,     0.48949,     0.49049,     0.49149,     0.49249,     0.49349,     0.49449,      0.4955,      0.4965,      0.4975,      0.4985,      0.4995,      0.5005,      0.5015,      0.5025,      0.5035,\n",
       "            0.5045,     0.50551,     0.50651,     0.50751,     0.50851,     0.50951,     0.51051,     0.51151,     0.51251,     0.51351,     0.51451,     0.51552,     0.51652,     0.51752,     0.51852,     0.51952,     0.52052,     0.52152,     0.52252,     0.52352,     0.52452,     0.52553,     0.52653,     0.52753,\n",
       "           0.52853,     0.52953,     0.53053,     0.53153,     0.53253,     0.53353,     0.53453,     0.53554,     0.53654,     0.53754,     0.53854,     0.53954,     0.54054,     0.54154,     0.54254,     0.54354,     0.54454,     0.54555,     0.54655,     0.54755,     0.54855,     0.54955,     0.55055,     0.55155,\n",
       "           0.55255,     0.55355,     0.55455,     0.55556,     0.55656,     0.55756,     0.55856,     0.55956,     0.56056,     0.56156,     0.56256,     0.56356,     0.56456,     0.56557,     0.56657,     0.56757,     0.56857,     0.56957,     0.57057,     0.57157,     0.57257,     0.57357,     0.57457,     0.57558,\n",
       "           0.57658,     0.57758,     0.57858,     0.57958,     0.58058,     0.58158,     0.58258,     0.58358,     0.58458,     0.58559,     0.58659,     0.58759,     0.58859,     0.58959,     0.59059,     0.59159,     0.59259,     0.59359,     0.59459,      0.5956,      0.5966,      0.5976,      0.5986,      0.5996,\n",
       "            0.6006,      0.6016,      0.6026,      0.6036,      0.6046,     0.60561,     0.60661,     0.60761,     0.60861,     0.60961,     0.61061,     0.61161,     0.61261,     0.61361,     0.61461,     0.61562,     0.61662,     0.61762,     0.61862,     0.61962,     0.62062,     0.62162,     0.62262,     0.62362,\n",
       "           0.62462,     0.62563,     0.62663,     0.62763,     0.62863,     0.62963,     0.63063,     0.63163,     0.63263,     0.63363,     0.63463,     0.63564,     0.63664,     0.63764,     0.63864,     0.63964,     0.64064,     0.64164,     0.64264,     0.64364,     0.64464,     0.64565,     0.64665,     0.64765,\n",
       "           0.64865,     0.64965,     0.65065,     0.65165,     0.65265,     0.65365,     0.65465,     0.65566,     0.65666,     0.65766,     0.65866,     0.65966,     0.66066,     0.66166,     0.66266,     0.66366,     0.66466,     0.66567,     0.66667,     0.66767,     0.66867,     0.66967,     0.67067,     0.67167,\n",
       "           0.67267,     0.67367,     0.67467,     0.67568,     0.67668,     0.67768,     0.67868,     0.67968,     0.68068,     0.68168,     0.68268,     0.68368,     0.68468,     0.68569,     0.68669,     0.68769,     0.68869,     0.68969,     0.69069,     0.69169,     0.69269,     0.69369,     0.69469,      0.6957,\n",
       "            0.6967,      0.6977,      0.6987,      0.6997,      0.7007,      0.7017,      0.7027,      0.7037,      0.7047,     0.70571,     0.70671,     0.70771,     0.70871,     0.70971,     0.71071,     0.71171,     0.71271,     0.71371,     0.71471,     0.71572,     0.71672,     0.71772,     0.71872,     0.71972,\n",
       "           0.72072,     0.72172,     0.72272,     0.72372,     0.72472,     0.72573,     0.72673,     0.72773,     0.72873,     0.72973,     0.73073,     0.73173,     0.73273,     0.73373,     0.73473,     0.73574,     0.73674,     0.73774,     0.73874,     0.73974,     0.74074,     0.74174,     0.74274,     0.74374,\n",
       "           0.74474,     0.74575,     0.74675,     0.74775,     0.74875,     0.74975,     0.75075,     0.75175,     0.75275,     0.75375,     0.75475,     0.75576,     0.75676,     0.75776,     0.75876,     0.75976,     0.76076,     0.76176,     0.76276,     0.76376,     0.76476,     0.76577,     0.76677,     0.76777,\n",
       "           0.76877,     0.76977,     0.77077,     0.77177,     0.77277,     0.77377,     0.77477,     0.77578,     0.77678,     0.77778,     0.77878,     0.77978,     0.78078,     0.78178,     0.78278,     0.78378,     0.78478,     0.78579,     0.78679,     0.78779,     0.78879,     0.78979,     0.79079,     0.79179,\n",
       "           0.79279,     0.79379,     0.79479,      0.7958,      0.7968,      0.7978,      0.7988,      0.7998,      0.8008,      0.8018,      0.8028,      0.8038,      0.8048,     0.80581,     0.80681,     0.80781,     0.80881,     0.80981,     0.81081,     0.81181,     0.81281,     0.81381,     0.81481,     0.81582,\n",
       "           0.81682,     0.81782,     0.81882,     0.81982,     0.82082,     0.82182,     0.82282,     0.82382,     0.82482,     0.82583,     0.82683,     0.82783,     0.82883,     0.82983,     0.83083,     0.83183,     0.83283,     0.83383,     0.83483,     0.83584,     0.83684,     0.83784,     0.83884,     0.83984,\n",
       "           0.84084,     0.84184,     0.84284,     0.84384,     0.84484,     0.84585,     0.84685,     0.84785,     0.84885,     0.84985,     0.85085,     0.85185,     0.85285,     0.85385,     0.85485,     0.85586,     0.85686,     0.85786,     0.85886,     0.85986,     0.86086,     0.86186,     0.86286,     0.86386,\n",
       "           0.86486,     0.86587,     0.86687,     0.86787,     0.86887,     0.86987,     0.87087,     0.87187,     0.87287,     0.87387,     0.87487,     0.87588,     0.87688,     0.87788,     0.87888,     0.87988,     0.88088,     0.88188,     0.88288,     0.88388,     0.88488,     0.88589,     0.88689,     0.88789,\n",
       "           0.88889,     0.88989,     0.89089,     0.89189,     0.89289,     0.89389,     0.89489,      0.8959,      0.8969,      0.8979,      0.8989,      0.8999,      0.9009,      0.9019,      0.9029,      0.9039,      0.9049,     0.90591,     0.90691,     0.90791,     0.90891,     0.90991,     0.91091,     0.91191,\n",
       "           0.91291,     0.91391,     0.91491,     0.91592,     0.91692,     0.91792,     0.91892,     0.91992,     0.92092,     0.92192,     0.92292,     0.92392,     0.92492,     0.92593,     0.92693,     0.92793,     0.92893,     0.92993,     0.93093,     0.93193,     0.93293,     0.93393,     0.93493,     0.93594,\n",
       "           0.93694,     0.93794,     0.93894,     0.93994,     0.94094,     0.94194,     0.94294,     0.94394,     0.94494,     0.94595,     0.94695,     0.94795,     0.94895,     0.94995,     0.95095,     0.95195,     0.95295,     0.95395,     0.95495,     0.95596,     0.95696,     0.95796,     0.95896,     0.95996,\n",
       "           0.96096,     0.96196,     0.96296,     0.96396,     0.96496,     0.96597,     0.96697,     0.96797,     0.96897,     0.96997,     0.97097,     0.97197,     0.97297,     0.97397,     0.97497,     0.97598,     0.97698,     0.97798,     0.97898,     0.97998,     0.98098,     0.98198,     0.98298,     0.98398,\n",
       "           0.98498,     0.98599,     0.98699,     0.98799,     0.98899,     0.98999,     0.99099,     0.99199,     0.99299,     0.99399,     0.99499,       0.996,       0.997,       0.998,       0.999,           1]), array([[          1,           1,           1,           1,           1,           1,           1,           1,           1,           1,           1,           1,           1,           1,           1,           1,           1,           1,           1,           1,           1,           1,           1,\n",
       "                  1,           1,           1,           1,           1,           1,           1,           1,           1,           1,           1,           1,           1,           1,           1,           1,           1,           1,           1,           1,           1,           1,           1,\n",
       "                  1,           1,           1,           1,           1,           1,           1,           1,           1,           1,           1,           1,           1,           1,           1,           1,           1,           1,           1,           1,           1,           1,           1,\n",
       "                  1,           1,           1,           1,           1,           1,           1,           1,           1,           1,           1,           1,           1,           1,           1,           1,           1,           1,           1,           1,           1,           1,           1,\n",
       "                  1,           1,           1,           1,           1,           1,           1,           1,           1,           1,           1,           1,           1,           1,           1,           1,           1,           1,           1,           1,           1,           1,           1,\n",
       "                  1,           1,           1,           1,           1,           1,           1,           1,           1,           1,           1,           1,           1,           1,           1,           1,           1,           1,           1,           1,           1,           1,           1,\n",
       "                  1,           1,           1,           1,           1,           1,           1,           1,           1,           1,           1,           1,           1,           1,           1,           1,           1,           1,           1,           1,           1,           1,           1,\n",
       "                  1,           1,           1,           1,           1,           1,           1,           1,           1,           1,           1,           1,           1,           1,           1,           1,           1,           1,           1,           1,           1,           1,           1,\n",
       "                  1,           1,           1,           1,           1,           1,           1,           1,           1,           1,           1,           1,           1,           1,           1,           1,           1,           1,           1,           1,           1,           1,           1,\n",
       "                  1,           1,           1,           1,           1,           1,           1,           1,           1,           1,           1,           1,           1,           1,           1,           1,           1,           1,           1,           1,           1,           1,           1,\n",
       "                  1,           1,           1,           1,           1,           1,           1,           1,           1,           1,           1,           1,           1,           1,           1,           1,           1,           1,           1,           1,           1,           1,           1,\n",
       "                  1,           1,           1,           1,           1,           1,           1,           1,           1,           1,           1,           1,           1,           1,           1,           1,           1,           1,           1,           1,           1,           1,           1,\n",
       "                  1,           1,           1,           1,           1,           1,           1,           1,           1,           1,           1,           1,           1,           1,           1,           1,           1,           1,           1,           1,           1,           1,           1,\n",
       "                  1,           1,           1,           1,           1,           1,           1,           1,           1,           1,           1,           1,           1,           1,           1,           1,           1,           1,           1,           1,           1,           1,           1,\n",
       "                  1,           1,           1,           1,           1,           1,           1,           1,           1,           1,           1,           1,           1,           1,           1,           1,           1,           1,           1,           1,           1,           1,           1,\n",
       "                  1,           1,           1,           1,           1,           1,           1,           1,           1,           1,           1,           1,           1,           1,           1,           1,           1,           1,           1,           1,           1,           1,           1,\n",
       "                  1,           1,           1,           1,           1,           1,           1,           1,           1,           1,           1,           1,           1,           1,           1,           1,           1,           1,           1,           1,           1,           1,           1,\n",
       "                  1,           1,           1,           1,           1,           1,           1,           1,           1,           1,           1,           1,           1,           1,           1,           1,           1,           1,           1,           1,           1,           1,           1,\n",
       "                  1,           1,           1,           1,           1,           1,           1,           1,           1,           1,           1,           1,           1,           1,           1,           1,           1,           1,           1,           1,           1,           1,           1,\n",
       "                  1,           1,           1,           1,           1,           1,           1,           1,           1,           1,           1,           1,           1,           1,           1,           1,           1,           1,           1,           1,           1,           1,           1,\n",
       "                  1,           1,           1,           1,           1,           1,           1,           1,           1,           1,           1,           1,           1,           1,           1,           1,           1,           1,           1,           1,           1,           1,           1,\n",
       "                  1,           1,           1,           1,           1,           1,           1,           1,           1,           1,           1,           1,           1,           1,           1,           1,           1,           1,           1,           1,           1,           1,           1,\n",
       "                  1,           1,           1,           1,           1,           1,           1,           1,           1,           1,           1,           1,           1,           1,           1,           1,           1,           1,           1,           1,           1,           1,           1,\n",
       "                  1,           1,           1,           1,           1,           1,           1,           1,           1,           1,           1,           1,           1,           1,           1,           1,           1,           1,           1,           1,           1,           1,           1,\n",
       "                  1,           1,           1,           1,           1,           1,           1,           1,           1,           1,           1,           1,           1,           1,           1,           1,           1,           1,           1,           1,           1,           1,           1,\n",
       "                  1,           1,           1,           1,           1,           1,           1,           1,           1,           1,           1,           1,           1,           1,           1,           1,           1,           1,           1,           1,           1,           1,           1,\n",
       "                  1,           1,           1,           1,           1,           1,           1,           1,           1,           1,           1,           1,           1,           1,           1,           1,           1,           1,           1,           1,           1,           1,           1,\n",
       "                  1,           1,           1,           1,           1,           1,           1,           1,           1,           1,           1,           1,           1,           1,           1,           1,           1,           1,           1,           1,           1,           1,           1,\n",
       "                  1,           1,           1,           1,           1,           1,           1,           1,           1,           1,           1,           1,           1,           1,           1,           1,           1,           1,           1,           1,           1,           1,           1,\n",
       "                  1,           1,           1,           1,           1,           1,           1,           1,           1,           1,           1,           1,           1,           1,           1,           1,           1,           1,           1,           1,           1,           1,           1,\n",
       "                  1,           1,           1,           1,           1,           1,           1,           1,           1,           1,           1,           1,           1,           1,           1,           1,           1,           1,           1,           1,           1,           1,           1,\n",
       "                  1,           1,           1,           1,           1,           1,           1,           1,           1,           1,           1,           1,           1,           1,           1,           1,           1,           1,           1,           1,           1,           1,           1,\n",
       "                  1,           1,           1,           1,           1,           1,           1,           1,           1,           1,           1,           1,           1,           1,           1,           1,           1,           1,           1,           1,           1,           1,           1,\n",
       "                  1,           1,           1,           1,           1,           1,           1,           1,           1,           1,           1,           1,           1,           1,           1,           1,           1,           1,           1,           1,           1,           1,           1,\n",
       "                  1,           1,           1,           1,           1,           1,           1,           1,           1,           1,           1,           1,           1,           1,           1,           1,           1,           1,           1,           1,           1,           1,           1,\n",
       "                  1,           1,           1,           1,           1,           1,           1,           1,           1,           1,           1,           1,           1,           1,           1,           1,           1,           1,           1,           1,           1,           1,           1,\n",
       "                  1,           1,           1,           1,           1,           1,           1,           1,           1,           1,           1,           1,           1,           1,           1,           1,           1,           1,           1,           1,           1,           1,           1,\n",
       "                  1,           1,           1,           1,           1,           1,           1,           1,           1,           1,           1,     0.99765,     0.99765,     0.99765,     0.99765,     0.99765,     0.99765,     0.99765,     0.99765,     0.99765,     0.99765,     0.99765,     0.99765,\n",
       "            0.99765,     0.99765,     0.99765,     0.99765,     0.99765,     0.99765,     0.99765,     0.99765,     0.99765,     0.99765,     0.99765,     0.99765,     0.99765,     0.99765,     0.99765,     0.99765,     0.99765,     0.99765,     0.99765,     0.99765,     0.99765,     0.99765,     0.99765,\n",
       "            0.99765,     0.99765,     0.99765,     0.99765,     0.99765,     0.99765,     0.99765,     0.99765,     0.99765,     0.99765,     0.99765,     0.99765,     0.99765,     0.99765,     0.99765,     0.99765,     0.99765,     0.99765,     0.99765,     0.99765,     0.99765,     0.99765,     0.99765,\n",
       "            0.99765,     0.99765,     0.99765,     0.99765,     0.99765,     0.99765,     0.99765,     0.99765,     0.99765,     0.99765,     0.99765,     0.99765,     0.99765,     0.99765,     0.99765,     0.99765,     0.99765,     0.99765,      0.9932,      0.9932,      0.9932,      0.9932,      0.9932,\n",
       "             0.9932,      0.9932,      0.9932,      0.9932,      0.9932,      0.9932,      0.9932,      0.9932,      0.9932,      0.9932,      0.9932,      0.9932,      0.9932,      0.9932,      0.9932,      0.9932,      0.9932,      0.9932,      0.9932,      0.9932,      0.9932,      0.9932,      0.9932,\n",
       "             0.9932,      0.9932,      0.9932,     0.99105,     0.99105,     0.99105,     0.99105,     0.99105,     0.99105,     0.99105,     0.99105,     0.99105,     0.99105,     0.99105,     0.98891,     0.98891,     0.98891,     0.98891,     0.98891,     0.98891,     0.98026,     0.98026,     0.97391,\n",
       "            0.97391,     0.97391,       0.898,       0.898,     0.68913,     0.68913,     0.25419,     0.19064,     0.12709,    0.063547,           0]]), 'Recall', 'Precision'], [array([          0,    0.001001,    0.002002,    0.003003,    0.004004,    0.005005,    0.006006,    0.007007,    0.008008,    0.009009,     0.01001,    0.011011,    0.012012,    0.013013,    0.014014,    0.015015,    0.016016,    0.017017,    0.018018,    0.019019,     0.02002,    0.021021,    0.022022,    0.023023,\n",
       "          0.024024,    0.025025,    0.026026,    0.027027,    0.028028,    0.029029,     0.03003,    0.031031,    0.032032,    0.033033,    0.034034,    0.035035,    0.036036,    0.037037,    0.038038,    0.039039,     0.04004,    0.041041,    0.042042,    0.043043,    0.044044,    0.045045,    0.046046,    0.047047,\n",
       "          0.048048,    0.049049,     0.05005,    0.051051,    0.052052,    0.053053,    0.054054,    0.055055,    0.056056,    0.057057,    0.058058,    0.059059,     0.06006,    0.061061,    0.062062,    0.063063,    0.064064,    0.065065,    0.066066,    0.067067,    0.068068,    0.069069,     0.07007,    0.071071,\n",
       "          0.072072,    0.073073,    0.074074,    0.075075,    0.076076,    0.077077,    0.078078,    0.079079,     0.08008,    0.081081,    0.082082,    0.083083,    0.084084,    0.085085,    0.086086,    0.087087,    0.088088,    0.089089,     0.09009,    0.091091,    0.092092,    0.093093,    0.094094,    0.095095,\n",
       "          0.096096,    0.097097,    0.098098,    0.099099,      0.1001,      0.1011,      0.1021,      0.1031,      0.1041,     0.10511,     0.10611,     0.10711,     0.10811,     0.10911,     0.11011,     0.11111,     0.11211,     0.11311,     0.11411,     0.11512,     0.11612,     0.11712,     0.11812,     0.11912,\n",
       "           0.12012,     0.12112,     0.12212,     0.12312,     0.12412,     0.12513,     0.12613,     0.12713,     0.12813,     0.12913,     0.13013,     0.13113,     0.13213,     0.13313,     0.13413,     0.13514,     0.13614,     0.13714,     0.13814,     0.13914,     0.14014,     0.14114,     0.14214,     0.14314,\n",
       "           0.14414,     0.14515,     0.14615,     0.14715,     0.14815,     0.14915,     0.15015,     0.15115,     0.15215,     0.15315,     0.15415,     0.15516,     0.15616,     0.15716,     0.15816,     0.15916,     0.16016,     0.16116,     0.16216,     0.16316,     0.16416,     0.16517,     0.16617,     0.16717,\n",
       "           0.16817,     0.16917,     0.17017,     0.17117,     0.17217,     0.17317,     0.17417,     0.17518,     0.17618,     0.17718,     0.17818,     0.17918,     0.18018,     0.18118,     0.18218,     0.18318,     0.18418,     0.18519,     0.18619,     0.18719,     0.18819,     0.18919,     0.19019,     0.19119,\n",
       "           0.19219,     0.19319,     0.19419,      0.1952,      0.1962,      0.1972,      0.1982,      0.1992,      0.2002,      0.2012,      0.2022,      0.2032,      0.2042,     0.20521,     0.20621,     0.20721,     0.20821,     0.20921,     0.21021,     0.21121,     0.21221,     0.21321,     0.21421,     0.21522,\n",
       "           0.21622,     0.21722,     0.21822,     0.21922,     0.22022,     0.22122,     0.22222,     0.22322,     0.22422,     0.22523,     0.22623,     0.22723,     0.22823,     0.22923,     0.23023,     0.23123,     0.23223,     0.23323,     0.23423,     0.23524,     0.23624,     0.23724,     0.23824,     0.23924,\n",
       "           0.24024,     0.24124,     0.24224,     0.24324,     0.24424,     0.24525,     0.24625,     0.24725,     0.24825,     0.24925,     0.25025,     0.25125,     0.25225,     0.25325,     0.25425,     0.25526,     0.25626,     0.25726,     0.25826,     0.25926,     0.26026,     0.26126,     0.26226,     0.26326,\n",
       "           0.26426,     0.26527,     0.26627,     0.26727,     0.26827,     0.26927,     0.27027,     0.27127,     0.27227,     0.27327,     0.27427,     0.27528,     0.27628,     0.27728,     0.27828,     0.27928,     0.28028,     0.28128,     0.28228,     0.28328,     0.28428,     0.28529,     0.28629,     0.28729,\n",
       "           0.28829,     0.28929,     0.29029,     0.29129,     0.29229,     0.29329,     0.29429,      0.2953,      0.2963,      0.2973,      0.2983,      0.2993,      0.3003,      0.3013,      0.3023,      0.3033,      0.3043,     0.30531,     0.30631,     0.30731,     0.30831,     0.30931,     0.31031,     0.31131,\n",
       "           0.31231,     0.31331,     0.31431,     0.31532,     0.31632,     0.31732,     0.31832,     0.31932,     0.32032,     0.32132,     0.32232,     0.32332,     0.32432,     0.32533,     0.32633,     0.32733,     0.32833,     0.32933,     0.33033,     0.33133,     0.33233,     0.33333,     0.33433,     0.33534,\n",
       "           0.33634,     0.33734,     0.33834,     0.33934,     0.34034,     0.34134,     0.34234,     0.34334,     0.34434,     0.34535,     0.34635,     0.34735,     0.34835,     0.34935,     0.35035,     0.35135,     0.35235,     0.35335,     0.35435,     0.35536,     0.35636,     0.35736,     0.35836,     0.35936,\n",
       "           0.36036,     0.36136,     0.36236,     0.36336,     0.36436,     0.36537,     0.36637,     0.36737,     0.36837,     0.36937,     0.37037,     0.37137,     0.37237,     0.37337,     0.37437,     0.37538,     0.37638,     0.37738,     0.37838,     0.37938,     0.38038,     0.38138,     0.38238,     0.38338,\n",
       "           0.38438,     0.38539,     0.38639,     0.38739,     0.38839,     0.38939,     0.39039,     0.39139,     0.39239,     0.39339,     0.39439,      0.3954,      0.3964,      0.3974,      0.3984,      0.3994,      0.4004,      0.4014,      0.4024,      0.4034,      0.4044,     0.40541,     0.40641,     0.40741,\n",
       "           0.40841,     0.40941,     0.41041,     0.41141,     0.41241,     0.41341,     0.41441,     0.41542,     0.41642,     0.41742,     0.41842,     0.41942,     0.42042,     0.42142,     0.42242,     0.42342,     0.42442,     0.42543,     0.42643,     0.42743,     0.42843,     0.42943,     0.43043,     0.43143,\n",
       "           0.43243,     0.43343,     0.43443,     0.43544,     0.43644,     0.43744,     0.43844,     0.43944,     0.44044,     0.44144,     0.44244,     0.44344,     0.44444,     0.44545,     0.44645,     0.44745,     0.44845,     0.44945,     0.45045,     0.45145,     0.45245,     0.45345,     0.45445,     0.45546,\n",
       "           0.45646,     0.45746,     0.45846,     0.45946,     0.46046,     0.46146,     0.46246,     0.46346,     0.46446,     0.46547,     0.46647,     0.46747,     0.46847,     0.46947,     0.47047,     0.47147,     0.47247,     0.47347,     0.47447,     0.47548,     0.47648,     0.47748,     0.47848,     0.47948,\n",
       "           0.48048,     0.48148,     0.48248,     0.48348,     0.48448,     0.48549,     0.48649,     0.48749,     0.48849,     0.48949,     0.49049,     0.49149,     0.49249,     0.49349,     0.49449,      0.4955,      0.4965,      0.4975,      0.4985,      0.4995,      0.5005,      0.5015,      0.5025,      0.5035,\n",
       "            0.5045,     0.50551,     0.50651,     0.50751,     0.50851,     0.50951,     0.51051,     0.51151,     0.51251,     0.51351,     0.51451,     0.51552,     0.51652,     0.51752,     0.51852,     0.51952,     0.52052,     0.52152,     0.52252,     0.52352,     0.52452,     0.52553,     0.52653,     0.52753,\n",
       "           0.52853,     0.52953,     0.53053,     0.53153,     0.53253,     0.53353,     0.53453,     0.53554,     0.53654,     0.53754,     0.53854,     0.53954,     0.54054,     0.54154,     0.54254,     0.54354,     0.54454,     0.54555,     0.54655,     0.54755,     0.54855,     0.54955,     0.55055,     0.55155,\n",
       "           0.55255,     0.55355,     0.55455,     0.55556,     0.55656,     0.55756,     0.55856,     0.55956,     0.56056,     0.56156,     0.56256,     0.56356,     0.56456,     0.56557,     0.56657,     0.56757,     0.56857,     0.56957,     0.57057,     0.57157,     0.57257,     0.57357,     0.57457,     0.57558,\n",
       "           0.57658,     0.57758,     0.57858,     0.57958,     0.58058,     0.58158,     0.58258,     0.58358,     0.58458,     0.58559,     0.58659,     0.58759,     0.58859,     0.58959,     0.59059,     0.59159,     0.59259,     0.59359,     0.59459,      0.5956,      0.5966,      0.5976,      0.5986,      0.5996,\n",
       "            0.6006,      0.6016,      0.6026,      0.6036,      0.6046,     0.60561,     0.60661,     0.60761,     0.60861,     0.60961,     0.61061,     0.61161,     0.61261,     0.61361,     0.61461,     0.61562,     0.61662,     0.61762,     0.61862,     0.61962,     0.62062,     0.62162,     0.62262,     0.62362,\n",
       "           0.62462,     0.62563,     0.62663,     0.62763,     0.62863,     0.62963,     0.63063,     0.63163,     0.63263,     0.63363,     0.63463,     0.63564,     0.63664,     0.63764,     0.63864,     0.63964,     0.64064,     0.64164,     0.64264,     0.64364,     0.64464,     0.64565,     0.64665,     0.64765,\n",
       "           0.64865,     0.64965,     0.65065,     0.65165,     0.65265,     0.65365,     0.65465,     0.65566,     0.65666,     0.65766,     0.65866,     0.65966,     0.66066,     0.66166,     0.66266,     0.66366,     0.66466,     0.66567,     0.66667,     0.66767,     0.66867,     0.66967,     0.67067,     0.67167,\n",
       "           0.67267,     0.67367,     0.67467,     0.67568,     0.67668,     0.67768,     0.67868,     0.67968,     0.68068,     0.68168,     0.68268,     0.68368,     0.68468,     0.68569,     0.68669,     0.68769,     0.68869,     0.68969,     0.69069,     0.69169,     0.69269,     0.69369,     0.69469,      0.6957,\n",
       "            0.6967,      0.6977,      0.6987,      0.6997,      0.7007,      0.7017,      0.7027,      0.7037,      0.7047,     0.70571,     0.70671,     0.70771,     0.70871,     0.70971,     0.71071,     0.71171,     0.71271,     0.71371,     0.71471,     0.71572,     0.71672,     0.71772,     0.71872,     0.71972,\n",
       "           0.72072,     0.72172,     0.72272,     0.72372,     0.72472,     0.72573,     0.72673,     0.72773,     0.72873,     0.72973,     0.73073,     0.73173,     0.73273,     0.73373,     0.73473,     0.73574,     0.73674,     0.73774,     0.73874,     0.73974,     0.74074,     0.74174,     0.74274,     0.74374,\n",
       "           0.74474,     0.74575,     0.74675,     0.74775,     0.74875,     0.74975,     0.75075,     0.75175,     0.75275,     0.75375,     0.75475,     0.75576,     0.75676,     0.75776,     0.75876,     0.75976,     0.76076,     0.76176,     0.76276,     0.76376,     0.76476,     0.76577,     0.76677,     0.76777,\n",
       "           0.76877,     0.76977,     0.77077,     0.77177,     0.77277,     0.77377,     0.77477,     0.77578,     0.77678,     0.77778,     0.77878,     0.77978,     0.78078,     0.78178,     0.78278,     0.78378,     0.78478,     0.78579,     0.78679,     0.78779,     0.78879,     0.78979,     0.79079,     0.79179,\n",
       "           0.79279,     0.79379,     0.79479,      0.7958,      0.7968,      0.7978,      0.7988,      0.7998,      0.8008,      0.8018,      0.8028,      0.8038,      0.8048,     0.80581,     0.80681,     0.80781,     0.80881,     0.80981,     0.81081,     0.81181,     0.81281,     0.81381,     0.81481,     0.81582,\n",
       "           0.81682,     0.81782,     0.81882,     0.81982,     0.82082,     0.82182,     0.82282,     0.82382,     0.82482,     0.82583,     0.82683,     0.82783,     0.82883,     0.82983,     0.83083,     0.83183,     0.83283,     0.83383,     0.83483,     0.83584,     0.83684,     0.83784,     0.83884,     0.83984,\n",
       "           0.84084,     0.84184,     0.84284,     0.84384,     0.84484,     0.84585,     0.84685,     0.84785,     0.84885,     0.84985,     0.85085,     0.85185,     0.85285,     0.85385,     0.85485,     0.85586,     0.85686,     0.85786,     0.85886,     0.85986,     0.86086,     0.86186,     0.86286,     0.86386,\n",
       "           0.86486,     0.86587,     0.86687,     0.86787,     0.86887,     0.86987,     0.87087,     0.87187,     0.87287,     0.87387,     0.87487,     0.87588,     0.87688,     0.87788,     0.87888,     0.87988,     0.88088,     0.88188,     0.88288,     0.88388,     0.88488,     0.88589,     0.88689,     0.88789,\n",
       "           0.88889,     0.88989,     0.89089,     0.89189,     0.89289,     0.89389,     0.89489,      0.8959,      0.8969,      0.8979,      0.8989,      0.8999,      0.9009,      0.9019,      0.9029,      0.9039,      0.9049,     0.90591,     0.90691,     0.90791,     0.90891,     0.90991,     0.91091,     0.91191,\n",
       "           0.91291,     0.91391,     0.91491,     0.91592,     0.91692,     0.91792,     0.91892,     0.91992,     0.92092,     0.92192,     0.92292,     0.92392,     0.92492,     0.92593,     0.92693,     0.92793,     0.92893,     0.92993,     0.93093,     0.93193,     0.93293,     0.93393,     0.93493,     0.93594,\n",
       "           0.93694,     0.93794,     0.93894,     0.93994,     0.94094,     0.94194,     0.94294,     0.94394,     0.94494,     0.94595,     0.94695,     0.94795,     0.94895,     0.94995,     0.95095,     0.95195,     0.95295,     0.95395,     0.95495,     0.95596,     0.95696,     0.95796,     0.95896,     0.95996,\n",
       "           0.96096,     0.96196,     0.96296,     0.96396,     0.96496,     0.96597,     0.96697,     0.96797,     0.96897,     0.96997,     0.97097,     0.97197,     0.97297,     0.97397,     0.97497,     0.97598,     0.97698,     0.97798,     0.97898,     0.97998,     0.98098,     0.98198,     0.98298,     0.98398,\n",
       "           0.98498,     0.98599,     0.98699,     0.98799,     0.98899,     0.98999,     0.99099,     0.99199,     0.99299,     0.99399,     0.99499,       0.996,       0.997,       0.998,       0.999,           1]), array([[    0.43817,     0.43817,     0.57986,     0.66937,     0.72674,     0.77134,     0.80868,     0.83843,     0.85796,     0.87553,     0.89422,     0.90662,     0.91485,     0.92285,     0.92758,     0.93299,     0.93764,     0.93983,     0.94063,     0.94281,     0.94391,     0.94531,     0.94595,\n",
       "            0.94708,      0.9509,     0.95312,     0.95373,     0.95475,     0.95742,     0.95828,      0.9601,     0.96103,     0.96166,     0.96209,     0.96251,     0.96291,     0.96332,     0.96361,     0.96385,     0.96409,     0.96432,     0.96592,      0.9671,     0.96772,     0.96796,      0.9682,\n",
       "            0.96844,     0.96866,     0.96874,     0.96883,     0.96891,       0.969,     0.96908,     0.96916,     0.96925,     0.96933,     0.96942,      0.9695,     0.96958,     0.96967,     0.97046,     0.97081,      0.9709,     0.97098,     0.97107,     0.97115,     0.97124,     0.97132,      0.9714,\n",
       "            0.97149,     0.97157,     0.97166,     0.97174,      0.9723,     0.97301,     0.97324,     0.97348,     0.97371,     0.97393,     0.97408,     0.97423,     0.97438,     0.97453,     0.97468,     0.97482,     0.97497,     0.97528,      0.9756,     0.97591,     0.97608,     0.97616,     0.97624,\n",
       "            0.97632,     0.97639,     0.97647,     0.97655,     0.97663,     0.97671,     0.97679,     0.97686,     0.97694,     0.97702,      0.9771,     0.97728,     0.97746,     0.97764,     0.97783,     0.97801,     0.97818,     0.97825,     0.97833,     0.97841,     0.97849,     0.97857,     0.97864,\n",
       "            0.97872,      0.9788,     0.97888,     0.97896,     0.97903,     0.97911,     0.97919,     0.97925,     0.97927,      0.9793,     0.97933,     0.97936,     0.97939,     0.97942,     0.97944,     0.97947,      0.9795,     0.97953,     0.97956,     0.97958,     0.97961,     0.97964,     0.97967,\n",
       "             0.9797,     0.97973,     0.97975,     0.97978,     0.97981,     0.97984,     0.97987,     0.97989,     0.97992,     0.97995,     0.97998,     0.98001,     0.98004,     0.98006,     0.98009,     0.98012,     0.98015,     0.98018,      0.9802,     0.98023,     0.98026,     0.98029,     0.98056,\n",
       "            0.98123,      0.9814,     0.98142,     0.98144,     0.98146,     0.98148,     0.98151,     0.98153,     0.98155,     0.98157,     0.98159,     0.98162,     0.98164,     0.98166,     0.98168,      0.9817,     0.98172,     0.98175,     0.98177,     0.98179,     0.98181,     0.98183,     0.98185,\n",
       "            0.98188,      0.9819,     0.98192,     0.98194,     0.98196,     0.98199,     0.98201,     0.98203,     0.98205,     0.98207,     0.98209,     0.98212,     0.98214,     0.98216,     0.98218,      0.9822,     0.98223,     0.98225,     0.98227,     0.98229,     0.98231,     0.98233,     0.98236,\n",
       "            0.98238,      0.9824,     0.98242,     0.98244,     0.98223,     0.98166,     0.98135,     0.98137,      0.9814,     0.98142,     0.98144,     0.98147,     0.98149,     0.98152,     0.98154,     0.98156,     0.98159,     0.98161,     0.98163,     0.98166,     0.98168,     0.98171,     0.98173,\n",
       "            0.98175,     0.98178,      0.9818,     0.98182,     0.98185,     0.98187,      0.9819,     0.98192,     0.98194,     0.98197,     0.98199,     0.98201,     0.98204,     0.98206,     0.98208,     0.98211,     0.98213,     0.98216,     0.98218,      0.9822,     0.98223,     0.98225,     0.98227,\n",
       "             0.9823,     0.98232,     0.98235,     0.98237,     0.98239,     0.98242,     0.98246,     0.98251,     0.98256,      0.9826,     0.98265,      0.9827,     0.98274,     0.98279,     0.98284,     0.98288,     0.98293,     0.98298,     0.98302,     0.98307,     0.98312,     0.98316,     0.98321,\n",
       "            0.98326,      0.9833,     0.98335,      0.9834,     0.98344,     0.98349,      0.9836,     0.98372,     0.98384,     0.98397,     0.98409,     0.98421,     0.98434,     0.98446,     0.98458,     0.98457,     0.98456,     0.98455,     0.98454,     0.98453,     0.98452,     0.98451,      0.9845,\n",
       "            0.98449,     0.98448,     0.98447,     0.98446,     0.98445,     0.98444,     0.98443,     0.98442,     0.98441,      0.9844,     0.98439,     0.98438,     0.98436,     0.98435,     0.98434,     0.98433,     0.98432,     0.98431,      0.9843,     0.98429,     0.98428,     0.98427,     0.98426,\n",
       "            0.98425,     0.98424,     0.98423,     0.98422,     0.98421,      0.9842,     0.98419,     0.98418,     0.98417,     0.98416,     0.98415,     0.98414,     0.98413,     0.98412,     0.98411,      0.9841,     0.98409,     0.98408,     0.98407,     0.98406,     0.98405,     0.98404,     0.98402,\n",
       "            0.98401,       0.984,     0.98399,     0.98398,     0.98397,     0.98396,     0.98395,     0.98394,     0.98393,     0.98392,     0.98391,      0.9839,     0.98389,     0.98388,     0.98387,     0.98386,     0.98385,     0.98384,     0.98383,     0.98382,     0.98381,      0.9838,     0.98379,\n",
       "            0.98378,     0.98377,     0.98376,     0.98375,     0.98374,     0.98373,     0.98372,      0.9837,     0.98369,     0.98368,     0.98367,     0.98366,     0.98365,     0.98364,     0.98363,     0.98362,     0.98361,      0.9836,     0.98359,     0.98358,     0.98357,     0.98356,     0.98355,\n",
       "            0.98354,     0.98353,     0.98352,     0.98351,      0.9835,     0.98349,     0.98348,     0.98347,     0.98347,     0.98348,      0.9835,     0.98351,     0.98353,     0.98354,     0.98356,     0.98357,     0.98359,      0.9836,     0.98361,     0.98363,     0.98364,     0.98366,     0.98367,\n",
       "            0.98369,      0.9837,     0.98372,     0.98373,     0.98375,     0.98376,     0.98377,     0.98379,      0.9838,     0.98382,     0.98383,     0.98385,     0.98386,     0.98388,     0.98389,     0.98391,     0.98392,     0.98393,     0.98395,     0.98396,     0.98398,     0.98399,     0.98401,\n",
       "            0.98402,     0.98404,     0.98405,     0.98407,     0.98408,     0.98409,     0.98411,     0.98412,     0.98414,     0.98415,     0.98417,     0.98418,      0.9842,     0.98421,     0.98423,     0.98424,     0.98425,     0.98427,     0.98428,      0.9843,     0.98431,     0.98433,     0.98434,\n",
       "            0.98436,     0.98437,     0.98439,      0.9844,     0.98441,     0.98443,     0.98444,     0.98446,     0.98447,     0.98449,      0.9845,     0.98452,     0.98453,     0.98455,     0.98474,     0.98496,     0.98518,      0.9854,     0.98563,     0.98568,     0.98573,     0.98577,     0.98582,\n",
       "            0.98587,     0.98591,     0.98596,     0.98601,     0.98605,      0.9861,     0.98615,     0.98619,     0.98624,     0.98629,     0.98633,     0.98638,     0.98643,     0.98647,     0.98652,     0.98657,     0.98661,     0.98666,      0.9867,     0.98673,     0.98674,     0.98675,     0.98675,\n",
       "            0.98676,     0.98677,     0.98678,     0.98679,      0.9868,      0.9868,     0.98681,     0.98682,     0.98683,     0.98684,     0.98685,     0.98685,     0.98686,     0.98687,     0.98688,     0.98689,     0.98689,      0.9869,     0.98691,     0.98692,     0.98693,     0.98694,     0.98694,\n",
       "            0.98695,     0.98696,     0.98697,     0.98698,     0.98698,     0.98699,       0.987,     0.98701,     0.98702,     0.98703,     0.98703,     0.98704,     0.98705,     0.98706,     0.98707,     0.98708,     0.98708,     0.98709,      0.9871,     0.98711,     0.98712,     0.98712,     0.98713,\n",
       "            0.98714,     0.98715,     0.98716,     0.98717,     0.98717,     0.98718,     0.98719,      0.9872,     0.98721,     0.98721,     0.98722,     0.98723,     0.98724,     0.98725,     0.98726,     0.98726,     0.98727,     0.98728,     0.98729,      0.9873,      0.9873,     0.98731,     0.98732,\n",
       "            0.98733,     0.98734,     0.98735,     0.98735,     0.98736,     0.98737,     0.98738,     0.98739,      0.9874,      0.9874,     0.98741,     0.98742,     0.98743,     0.98744,     0.98744,     0.98745,     0.98746,     0.98747,     0.98748,     0.98749,     0.98749,      0.9875,     0.98751,\n",
       "            0.98752,     0.98753,     0.98753,     0.98754,     0.98755,     0.98756,     0.98757,     0.98758,     0.98758,     0.98759,      0.9876,     0.98761,     0.98762,     0.98762,     0.98763,     0.98764,     0.98765,     0.98766,     0.98767,     0.98767,     0.98768,     0.98769,      0.9877,\n",
       "            0.98771,     0.98771,     0.98772,     0.98773,     0.98774,     0.98775,     0.98776,     0.98776,     0.98777,     0.98778,     0.98779,      0.9878,     0.98781,     0.98781,     0.98738,     0.98669,     0.98666,     0.98664,     0.98661,     0.98659,     0.98656,     0.98654,     0.98651,\n",
       "            0.98649,     0.98646,     0.98644,     0.98641,     0.98639,     0.98636,     0.98634,     0.98631,     0.98629,     0.98627,     0.98624,     0.98622,     0.98619,     0.98617,     0.98614,     0.98612,     0.98609,     0.98607,     0.98604,     0.98602,     0.98599,     0.98597,     0.98594,\n",
       "            0.98592,     0.98589,     0.98587,     0.98584,     0.98582,     0.98579,     0.98577,     0.98574,     0.98572,     0.98569,     0.98567,     0.98565,     0.98562,      0.9856,     0.98557,     0.98542,     0.98528,     0.98513,     0.98499,     0.98484,      0.9847,     0.98455,     0.98449,\n",
       "            0.98468,     0.98486,     0.98505,     0.98524,     0.98542,     0.98536,      0.9849,     0.98444,     0.98424,     0.98406,     0.98388,     0.98371,     0.98353,     0.98335,     0.98194,     0.98161,     0.98128,     0.98099,     0.98091,     0.98083,     0.98075,     0.98067,     0.98059,\n",
       "            0.98051,     0.98043,     0.98035,     0.98027,     0.98018,      0.9801,     0.98002,     0.97994,     0.97988,      0.9801,     0.98033,     0.98055,     0.98078,     0.98095,     0.98084,     0.98073,     0.98063,     0.98052,     0.98041,     0.98031,      0.9802,     0.98009,     0.97999,\n",
       "            0.97988,     0.97965,     0.97926,     0.97887,     0.97838,     0.97779,     0.97734,       0.977,     0.97667,     0.97632,     0.97593,     0.97554,     0.97472,     0.97378,     0.97339,     0.97299,     0.97137,     0.97089,      0.9703,      0.9695,     0.96835,     0.96597,     0.96525,\n",
       "            0.96692,     0.96613,     0.96511,     0.96214,     0.96133,     0.95967,     0.95851,     0.95769,     0.95687,     0.95596,      0.9549,     0.95441,     0.95391,     0.95341,     0.95292,     0.95094,     0.94885,     0.94857,     0.94829,     0.94801,     0.94774,     0.94646,     0.94238,\n",
       "            0.94029,     0.93945,     0.93834,     0.93483,     0.93155,     0.93123,      0.9309,     0.93058,     0.92758,     0.92671,     0.92617,     0.92601,     0.92557,     0.92513,     0.91715,     0.91662,     0.91608,     0.91434,     0.91345,     0.91292,     0.91238,     0.91006,     0.90739,\n",
       "            0.90538,     0.90409,     0.90318,     0.89965,      0.8979,     0.89413,     0.89162,     0.89092,     0.88575,     0.88361,     0.88267,     0.87783,      0.8764,     0.87378,     0.87282,     0.87092,     0.86987,     0.86269,     0.86103,      0.8603,     0.85797,      0.8569,     0.85541,\n",
       "            0.85215,     0.84915,     0.84467,     0.84281,     0.84129,     0.83851,      0.8374,     0.83663,     0.83228,     0.83109,     0.82759,     0.82649,     0.81824,     0.81518,     0.81473,     0.81427,     0.81382,     0.80716,     0.80369,     0.79916,     0.79396,     0.79096,      0.7903,\n",
       "            0.78561,     0.78062,     0.77225,     0.76038,     0.75757,     0.75337,     0.74113,     0.72412,     0.71774,     0.70479,     0.69723,     0.68958,     0.67605,     0.67011,     0.66214,     0.65642,     0.64995,     0.63969,     0.63135,       0.625,     0.61436,     0.59922,     0.59333,\n",
       "            0.59108,     0.58575,     0.56997,     0.56304,     0.55373,      0.5443,     0.53948,     0.52746,     0.51525,     0.50531,     0.49272,     0.48805,     0.48632,      0.4771,     0.45938,     0.45339,     0.43991,      0.4207,     0.41502,     0.40369,     0.38932,     0.38052,     0.37163,\n",
       "            0.35668,     0.34743,     0.33977,     0.32579,     0.31628,     0.30348,     0.29048,     0.28423,      0.2804,     0.26705,     0.26255,     0.25744,     0.24773,     0.24633,     0.24494,     0.23903,     0.23197,     0.22543,     0.21908,     0.21045,     0.20766,     0.20466,     0.19201,\n",
       "            0.18457,     0.17908,     0.16206,     0.15436,     0.14723,     0.14463,     0.12313,     0.10998,     0.10367,     0.10204,    0.096568,    0.095541,    0.094512,    0.093482,    0.083988,    0.081904,    0.079816,    0.077724,    0.072713,    0.062171,    0.057904,    0.047107,    0.038837,\n",
       "           0.035925,    0.013119,     0.01256,       0.012,    0.011439,    0.010879,    0.010318,   0.0097565,   0.0091949,   0.0086753,    0.008247,   0.0078185,   0.0073898,    0.006961,   0.0065319,   0.0061027,   0.0056733,   0.0052437,   0.0048139,           0,           0,           0,           0,\n",
       "                  0,           0,           0,           0,           0,           0,           0,           0,           0,           0,           0,           0,           0,           0,           0,           0,           0,           0,           0,           0,           0,           0,           0,\n",
       "                  0,           0,           0,           0,           0,           0,           0,           0,           0,           0,           0]]), 'Confidence', 'F1'], [array([          0,    0.001001,    0.002002,    0.003003,    0.004004,    0.005005,    0.006006,    0.007007,    0.008008,    0.009009,     0.01001,    0.011011,    0.012012,    0.013013,    0.014014,    0.015015,    0.016016,    0.017017,    0.018018,    0.019019,     0.02002,    0.021021,    0.022022,    0.023023,\n",
       "          0.024024,    0.025025,    0.026026,    0.027027,    0.028028,    0.029029,     0.03003,    0.031031,    0.032032,    0.033033,    0.034034,    0.035035,    0.036036,    0.037037,    0.038038,    0.039039,     0.04004,    0.041041,    0.042042,    0.043043,    0.044044,    0.045045,    0.046046,    0.047047,\n",
       "          0.048048,    0.049049,     0.05005,    0.051051,    0.052052,    0.053053,    0.054054,    0.055055,    0.056056,    0.057057,    0.058058,    0.059059,     0.06006,    0.061061,    0.062062,    0.063063,    0.064064,    0.065065,    0.066066,    0.067067,    0.068068,    0.069069,     0.07007,    0.071071,\n",
       "          0.072072,    0.073073,    0.074074,    0.075075,    0.076076,    0.077077,    0.078078,    0.079079,     0.08008,    0.081081,    0.082082,    0.083083,    0.084084,    0.085085,    0.086086,    0.087087,    0.088088,    0.089089,     0.09009,    0.091091,    0.092092,    0.093093,    0.094094,    0.095095,\n",
       "          0.096096,    0.097097,    0.098098,    0.099099,      0.1001,      0.1011,      0.1021,      0.1031,      0.1041,     0.10511,     0.10611,     0.10711,     0.10811,     0.10911,     0.11011,     0.11111,     0.11211,     0.11311,     0.11411,     0.11512,     0.11612,     0.11712,     0.11812,     0.11912,\n",
       "           0.12012,     0.12112,     0.12212,     0.12312,     0.12412,     0.12513,     0.12613,     0.12713,     0.12813,     0.12913,     0.13013,     0.13113,     0.13213,     0.13313,     0.13413,     0.13514,     0.13614,     0.13714,     0.13814,     0.13914,     0.14014,     0.14114,     0.14214,     0.14314,\n",
       "           0.14414,     0.14515,     0.14615,     0.14715,     0.14815,     0.14915,     0.15015,     0.15115,     0.15215,     0.15315,     0.15415,     0.15516,     0.15616,     0.15716,     0.15816,     0.15916,     0.16016,     0.16116,     0.16216,     0.16316,     0.16416,     0.16517,     0.16617,     0.16717,\n",
       "           0.16817,     0.16917,     0.17017,     0.17117,     0.17217,     0.17317,     0.17417,     0.17518,     0.17618,     0.17718,     0.17818,     0.17918,     0.18018,     0.18118,     0.18218,     0.18318,     0.18418,     0.18519,     0.18619,     0.18719,     0.18819,     0.18919,     0.19019,     0.19119,\n",
       "           0.19219,     0.19319,     0.19419,      0.1952,      0.1962,      0.1972,      0.1982,      0.1992,      0.2002,      0.2012,      0.2022,      0.2032,      0.2042,     0.20521,     0.20621,     0.20721,     0.20821,     0.20921,     0.21021,     0.21121,     0.21221,     0.21321,     0.21421,     0.21522,\n",
       "           0.21622,     0.21722,     0.21822,     0.21922,     0.22022,     0.22122,     0.22222,     0.22322,     0.22422,     0.22523,     0.22623,     0.22723,     0.22823,     0.22923,     0.23023,     0.23123,     0.23223,     0.23323,     0.23423,     0.23524,     0.23624,     0.23724,     0.23824,     0.23924,\n",
       "           0.24024,     0.24124,     0.24224,     0.24324,     0.24424,     0.24525,     0.24625,     0.24725,     0.24825,     0.24925,     0.25025,     0.25125,     0.25225,     0.25325,     0.25425,     0.25526,     0.25626,     0.25726,     0.25826,     0.25926,     0.26026,     0.26126,     0.26226,     0.26326,\n",
       "           0.26426,     0.26527,     0.26627,     0.26727,     0.26827,     0.26927,     0.27027,     0.27127,     0.27227,     0.27327,     0.27427,     0.27528,     0.27628,     0.27728,     0.27828,     0.27928,     0.28028,     0.28128,     0.28228,     0.28328,     0.28428,     0.28529,     0.28629,     0.28729,\n",
       "           0.28829,     0.28929,     0.29029,     0.29129,     0.29229,     0.29329,     0.29429,      0.2953,      0.2963,      0.2973,      0.2983,      0.2993,      0.3003,      0.3013,      0.3023,      0.3033,      0.3043,     0.30531,     0.30631,     0.30731,     0.30831,     0.30931,     0.31031,     0.31131,\n",
       "           0.31231,     0.31331,     0.31431,     0.31532,     0.31632,     0.31732,     0.31832,     0.31932,     0.32032,     0.32132,     0.32232,     0.32332,     0.32432,     0.32533,     0.32633,     0.32733,     0.32833,     0.32933,     0.33033,     0.33133,     0.33233,     0.33333,     0.33433,     0.33534,\n",
       "           0.33634,     0.33734,     0.33834,     0.33934,     0.34034,     0.34134,     0.34234,     0.34334,     0.34434,     0.34535,     0.34635,     0.34735,     0.34835,     0.34935,     0.35035,     0.35135,     0.35235,     0.35335,     0.35435,     0.35536,     0.35636,     0.35736,     0.35836,     0.35936,\n",
       "           0.36036,     0.36136,     0.36236,     0.36336,     0.36436,     0.36537,     0.36637,     0.36737,     0.36837,     0.36937,     0.37037,     0.37137,     0.37237,     0.37337,     0.37437,     0.37538,     0.37638,     0.37738,     0.37838,     0.37938,     0.38038,     0.38138,     0.38238,     0.38338,\n",
       "           0.38438,     0.38539,     0.38639,     0.38739,     0.38839,     0.38939,     0.39039,     0.39139,     0.39239,     0.39339,     0.39439,      0.3954,      0.3964,      0.3974,      0.3984,      0.3994,      0.4004,      0.4014,      0.4024,      0.4034,      0.4044,     0.40541,     0.40641,     0.40741,\n",
       "           0.40841,     0.40941,     0.41041,     0.41141,     0.41241,     0.41341,     0.41441,     0.41542,     0.41642,     0.41742,     0.41842,     0.41942,     0.42042,     0.42142,     0.42242,     0.42342,     0.42442,     0.42543,     0.42643,     0.42743,     0.42843,     0.42943,     0.43043,     0.43143,\n",
       "           0.43243,     0.43343,     0.43443,     0.43544,     0.43644,     0.43744,     0.43844,     0.43944,     0.44044,     0.44144,     0.44244,     0.44344,     0.44444,     0.44545,     0.44645,     0.44745,     0.44845,     0.44945,     0.45045,     0.45145,     0.45245,     0.45345,     0.45445,     0.45546,\n",
       "           0.45646,     0.45746,     0.45846,     0.45946,     0.46046,     0.46146,     0.46246,     0.46346,     0.46446,     0.46547,     0.46647,     0.46747,     0.46847,     0.46947,     0.47047,     0.47147,     0.47247,     0.47347,     0.47447,     0.47548,     0.47648,     0.47748,     0.47848,     0.47948,\n",
       "           0.48048,     0.48148,     0.48248,     0.48348,     0.48448,     0.48549,     0.48649,     0.48749,     0.48849,     0.48949,     0.49049,     0.49149,     0.49249,     0.49349,     0.49449,      0.4955,      0.4965,      0.4975,      0.4985,      0.4995,      0.5005,      0.5015,      0.5025,      0.5035,\n",
       "            0.5045,     0.50551,     0.50651,     0.50751,     0.50851,     0.50951,     0.51051,     0.51151,     0.51251,     0.51351,     0.51451,     0.51552,     0.51652,     0.51752,     0.51852,     0.51952,     0.52052,     0.52152,     0.52252,     0.52352,     0.52452,     0.52553,     0.52653,     0.52753,\n",
       "           0.52853,     0.52953,     0.53053,     0.53153,     0.53253,     0.53353,     0.53453,     0.53554,     0.53654,     0.53754,     0.53854,     0.53954,     0.54054,     0.54154,     0.54254,     0.54354,     0.54454,     0.54555,     0.54655,     0.54755,     0.54855,     0.54955,     0.55055,     0.55155,\n",
       "           0.55255,     0.55355,     0.55455,     0.55556,     0.55656,     0.55756,     0.55856,     0.55956,     0.56056,     0.56156,     0.56256,     0.56356,     0.56456,     0.56557,     0.56657,     0.56757,     0.56857,     0.56957,     0.57057,     0.57157,     0.57257,     0.57357,     0.57457,     0.57558,\n",
       "           0.57658,     0.57758,     0.57858,     0.57958,     0.58058,     0.58158,     0.58258,     0.58358,     0.58458,     0.58559,     0.58659,     0.58759,     0.58859,     0.58959,     0.59059,     0.59159,     0.59259,     0.59359,     0.59459,      0.5956,      0.5966,      0.5976,      0.5986,      0.5996,\n",
       "            0.6006,      0.6016,      0.6026,      0.6036,      0.6046,     0.60561,     0.60661,     0.60761,     0.60861,     0.60961,     0.61061,     0.61161,     0.61261,     0.61361,     0.61461,     0.61562,     0.61662,     0.61762,     0.61862,     0.61962,     0.62062,     0.62162,     0.62262,     0.62362,\n",
       "           0.62462,     0.62563,     0.62663,     0.62763,     0.62863,     0.62963,     0.63063,     0.63163,     0.63263,     0.63363,     0.63463,     0.63564,     0.63664,     0.63764,     0.63864,     0.63964,     0.64064,     0.64164,     0.64264,     0.64364,     0.64464,     0.64565,     0.64665,     0.64765,\n",
       "           0.64865,     0.64965,     0.65065,     0.65165,     0.65265,     0.65365,     0.65465,     0.65566,     0.65666,     0.65766,     0.65866,     0.65966,     0.66066,     0.66166,     0.66266,     0.66366,     0.66466,     0.66567,     0.66667,     0.66767,     0.66867,     0.66967,     0.67067,     0.67167,\n",
       "           0.67267,     0.67367,     0.67467,     0.67568,     0.67668,     0.67768,     0.67868,     0.67968,     0.68068,     0.68168,     0.68268,     0.68368,     0.68468,     0.68569,     0.68669,     0.68769,     0.68869,     0.68969,     0.69069,     0.69169,     0.69269,     0.69369,     0.69469,      0.6957,\n",
       "            0.6967,      0.6977,      0.6987,      0.6997,      0.7007,      0.7017,      0.7027,      0.7037,      0.7047,     0.70571,     0.70671,     0.70771,     0.70871,     0.70971,     0.71071,     0.71171,     0.71271,     0.71371,     0.71471,     0.71572,     0.71672,     0.71772,     0.71872,     0.71972,\n",
       "           0.72072,     0.72172,     0.72272,     0.72372,     0.72472,     0.72573,     0.72673,     0.72773,     0.72873,     0.72973,     0.73073,     0.73173,     0.73273,     0.73373,     0.73473,     0.73574,     0.73674,     0.73774,     0.73874,     0.73974,     0.74074,     0.74174,     0.74274,     0.74374,\n",
       "           0.74474,     0.74575,     0.74675,     0.74775,     0.74875,     0.74975,     0.75075,     0.75175,     0.75275,     0.75375,     0.75475,     0.75576,     0.75676,     0.75776,     0.75876,     0.75976,     0.76076,     0.76176,     0.76276,     0.76376,     0.76476,     0.76577,     0.76677,     0.76777,\n",
       "           0.76877,     0.76977,     0.77077,     0.77177,     0.77277,     0.77377,     0.77477,     0.77578,     0.77678,     0.77778,     0.77878,     0.77978,     0.78078,     0.78178,     0.78278,     0.78378,     0.78478,     0.78579,     0.78679,     0.78779,     0.78879,     0.78979,     0.79079,     0.79179,\n",
       "           0.79279,     0.79379,     0.79479,      0.7958,      0.7968,      0.7978,      0.7988,      0.7998,      0.8008,      0.8018,      0.8028,      0.8038,      0.8048,     0.80581,     0.80681,     0.80781,     0.80881,     0.80981,     0.81081,     0.81181,     0.81281,     0.81381,     0.81481,     0.81582,\n",
       "           0.81682,     0.81782,     0.81882,     0.81982,     0.82082,     0.82182,     0.82282,     0.82382,     0.82482,     0.82583,     0.82683,     0.82783,     0.82883,     0.82983,     0.83083,     0.83183,     0.83283,     0.83383,     0.83483,     0.83584,     0.83684,     0.83784,     0.83884,     0.83984,\n",
       "           0.84084,     0.84184,     0.84284,     0.84384,     0.84484,     0.84585,     0.84685,     0.84785,     0.84885,     0.84985,     0.85085,     0.85185,     0.85285,     0.85385,     0.85485,     0.85586,     0.85686,     0.85786,     0.85886,     0.85986,     0.86086,     0.86186,     0.86286,     0.86386,\n",
       "           0.86486,     0.86587,     0.86687,     0.86787,     0.86887,     0.86987,     0.87087,     0.87187,     0.87287,     0.87387,     0.87487,     0.87588,     0.87688,     0.87788,     0.87888,     0.87988,     0.88088,     0.88188,     0.88288,     0.88388,     0.88488,     0.88589,     0.88689,     0.88789,\n",
       "           0.88889,     0.88989,     0.89089,     0.89189,     0.89289,     0.89389,     0.89489,      0.8959,      0.8969,      0.8979,      0.8989,      0.8999,      0.9009,      0.9019,      0.9029,      0.9039,      0.9049,     0.90591,     0.90691,     0.90791,     0.90891,     0.90991,     0.91091,     0.91191,\n",
       "           0.91291,     0.91391,     0.91491,     0.91592,     0.91692,     0.91792,     0.91892,     0.91992,     0.92092,     0.92192,     0.92292,     0.92392,     0.92492,     0.92593,     0.92693,     0.92793,     0.92893,     0.92993,     0.93093,     0.93193,     0.93293,     0.93393,     0.93493,     0.93594,\n",
       "           0.93694,     0.93794,     0.93894,     0.93994,     0.94094,     0.94194,     0.94294,     0.94394,     0.94494,     0.94595,     0.94695,     0.94795,     0.94895,     0.94995,     0.95095,     0.95195,     0.95295,     0.95395,     0.95495,     0.95596,     0.95696,     0.95796,     0.95896,     0.95996,\n",
       "           0.96096,     0.96196,     0.96296,     0.96396,     0.96496,     0.96597,     0.96697,     0.96797,     0.96897,     0.96997,     0.97097,     0.97197,     0.97297,     0.97397,     0.97497,     0.97598,     0.97698,     0.97798,     0.97898,     0.97998,     0.98098,     0.98198,     0.98298,     0.98398,\n",
       "           0.98498,     0.98599,     0.98699,     0.98799,     0.98899,     0.98999,     0.99099,     0.99199,     0.99299,     0.99399,     0.99499,       0.996,       0.997,       0.998,       0.999,           1]), array([[     0.2809,      0.2809,     0.40906,     0.50418,     0.57222,     0.62955,     0.68086,      0.7253,     0.75504,     0.78269,     0.81307,     0.83381,     0.84783,     0.86169,     0.86997,     0.87954,     0.88784,     0.89178,     0.89321,     0.89716,     0.90096,     0.90352,      0.9047,\n",
       "            0.90676,      0.9138,     0.91789,     0.91903,     0.92093,     0.92591,     0.92752,     0.93094,      0.9327,     0.93387,     0.93468,     0.93547,     0.93624,       0.937,     0.93755,     0.93801,     0.93846,     0.93891,     0.94194,     0.94419,     0.94536,     0.94583,     0.94629,\n",
       "            0.94675,     0.94717,     0.94733,     0.94749,     0.94765,     0.94781,     0.94797,     0.94813,     0.94829,     0.94845,     0.94861,     0.94877,     0.94893,      0.9491,     0.95062,     0.95129,     0.95145,     0.95162,     0.95178,     0.95194,      0.9521,     0.95227,     0.95243,\n",
       "            0.95259,     0.95276,     0.95292,     0.95308,     0.95416,     0.95552,     0.95597,     0.95642,     0.95687,      0.9573,     0.95759,     0.95788,     0.95817,     0.95845,     0.95874,     0.95903,     0.95932,     0.95992,     0.96052,     0.96112,     0.96146,     0.96161,     0.96177,\n",
       "            0.96192,     0.96207,     0.96222,     0.96238,     0.96253,     0.96268,     0.96283,     0.96298,     0.96314,     0.96329,     0.96344,     0.96379,     0.96415,      0.9645,     0.96486,     0.96521,     0.96554,     0.96569,     0.96584,     0.96599,     0.96615,      0.9663,     0.96645,\n",
       "             0.9666,     0.96675,     0.96691,     0.96706,     0.96721,     0.96736,     0.96751,     0.96763,     0.96768,     0.96774,     0.96779,     0.96785,      0.9679,     0.96796,     0.96801,     0.96807,     0.96812,     0.96818,     0.96823,     0.96829,     0.96834,      0.9684,     0.96845,\n",
       "            0.96851,     0.96856,     0.96862,     0.96867,     0.96873,     0.96878,     0.96884,     0.96889,     0.96895,       0.969,     0.96906,     0.96911,     0.96917,     0.96922,     0.96928,     0.96933,     0.96939,     0.96944,      0.9695,     0.96955,     0.96961,     0.96966,     0.97019,\n",
       "            0.97151,     0.97183,     0.97188,     0.97192,     0.97196,     0.97201,     0.97205,     0.97209,     0.97213,     0.97218,     0.97222,     0.97226,      0.9723,     0.97235,     0.97239,     0.97243,     0.97248,     0.97252,     0.97256,      0.9726,     0.97265,     0.97269,     0.97273,\n",
       "            0.97278,     0.97282,     0.97286,      0.9729,     0.97295,     0.97299,     0.97303,     0.97307,     0.97312,     0.97316,      0.9732,     0.97325,     0.97329,     0.97333,     0.97337,     0.97342,     0.97346,      0.9735,     0.97354,     0.97359,     0.97363,     0.97367,     0.97372,\n",
       "            0.97376,      0.9738,     0.97384,     0.97389,      0.9739,     0.97387,     0.97388,     0.97392,     0.97397,     0.97402,     0.97406,     0.97411,     0.97416,      0.9742,     0.97425,      0.9743,     0.97434,     0.97439,     0.97444,     0.97448,     0.97453,     0.97458,     0.97462,\n",
       "            0.97467,     0.97472,     0.97477,     0.97481,     0.97486,     0.97491,     0.97495,       0.975,     0.97505,     0.97509,     0.97514,     0.97519,     0.97523,     0.97528,     0.97533,     0.97537,     0.97542,     0.97547,     0.97551,     0.97556,     0.97561,     0.97565,      0.9757,\n",
       "            0.97575,     0.97579,     0.97584,     0.97589,     0.97593,     0.97598,     0.97607,     0.97616,     0.97626,     0.97635,     0.97644,     0.97653,     0.97662,     0.97672,     0.97681,      0.9769,     0.97699,     0.97708,     0.97718,     0.97727,     0.97736,     0.97745,     0.97755,\n",
       "            0.97764,     0.97773,     0.97782,     0.97791,     0.97801,      0.9781,     0.97831,     0.97855,      0.9788,     0.97904,     0.97929,     0.97953,     0.97978,     0.98002,     0.98026,     0.98026,     0.98026,     0.98026,     0.98026,     0.98026,     0.98026,     0.98026,     0.98026,\n",
       "            0.98026,     0.98026,     0.98026,     0.98026,     0.98026,     0.98026,     0.98026,     0.98026,     0.98026,     0.98026,     0.98026,     0.98026,     0.98025,     0.98025,     0.98025,     0.98025,     0.98025,     0.98025,     0.98025,     0.98025,     0.98025,     0.98025,     0.98025,\n",
       "            0.98025,     0.98025,     0.98025,     0.98025,     0.98025,     0.98025,     0.98025,     0.98025,     0.98025,     0.98025,     0.98025,     0.98025,     0.98025,     0.98025,     0.98024,     0.98024,     0.98024,     0.98024,     0.98024,     0.98024,     0.98024,     0.98024,     0.98024,\n",
       "            0.98024,     0.98024,     0.98024,     0.98024,     0.98024,     0.98024,     0.98024,     0.98024,     0.98024,     0.98024,     0.98024,     0.98024,     0.98024,     0.98024,     0.98024,     0.98024,     0.98023,     0.98023,     0.98023,     0.98023,     0.98023,     0.98023,     0.98023,\n",
       "            0.98023,     0.98023,     0.98023,     0.98023,     0.98023,     0.98023,     0.98023,     0.98023,     0.98023,     0.98023,     0.98023,     0.98023,     0.98023,     0.98023,     0.98023,     0.98023,     0.98023,     0.98023,     0.98022,     0.98022,     0.98022,     0.98022,     0.98022,\n",
       "            0.98022,     0.98022,     0.98022,     0.98022,     0.98022,     0.98022,     0.98022,     0.98022,     0.98023,     0.98026,     0.98029,     0.98032,     0.98035,     0.98038,     0.98041,     0.98044,     0.98046,     0.98049,     0.98052,     0.98055,     0.98058,     0.98061,     0.98064,\n",
       "            0.98067,      0.9807,     0.98073,     0.98075,     0.98078,     0.98081,     0.98084,     0.98087,      0.9809,     0.98093,     0.98096,     0.98099,     0.98101,     0.98104,     0.98107,      0.9811,     0.98113,     0.98116,     0.98119,     0.98122,     0.98125,     0.98127,      0.9813,\n",
       "            0.98133,     0.98136,     0.98139,     0.98142,     0.98145,     0.98148,     0.98151,     0.98154,     0.98156,     0.98159,     0.98162,     0.98165,     0.98168,     0.98171,     0.98174,     0.98177,      0.9818,     0.98182,     0.98185,     0.98188,     0.98191,     0.98194,     0.98197,\n",
       "              0.982,     0.98203,     0.98206,     0.98208,     0.98211,     0.98214,     0.98217,      0.9822,     0.98223,     0.98226,     0.98229,     0.98232,     0.98235,     0.98237,     0.98275,      0.9832,     0.98364,     0.98409,     0.98453,     0.98464,     0.98473,     0.98482,     0.98492,\n",
       "            0.98501,      0.9851,      0.9852,     0.98529,     0.98538,     0.98547,     0.98557,     0.98566,     0.98575,     0.98585,     0.98594,     0.98603,     0.98613,     0.98622,     0.98631,      0.9864,      0.9865,     0.98659,     0.98668,     0.98673,     0.98675,     0.98677,     0.98678,\n",
       "             0.9868,     0.98682,     0.98683,     0.98685,     0.98687,     0.98688,      0.9869,     0.98692,     0.98693,     0.98695,     0.98696,     0.98698,       0.987,     0.98701,     0.98703,     0.98705,     0.98706,     0.98708,      0.9871,     0.98711,     0.98713,     0.98715,     0.98716,\n",
       "            0.98718,     0.98719,     0.98721,     0.98723,     0.98724,     0.98726,     0.98728,     0.98729,     0.98731,     0.98733,     0.98734,     0.98736,     0.98738,     0.98739,     0.98741,     0.98742,     0.98744,     0.98746,     0.98747,     0.98749,     0.98751,     0.98752,     0.98754,\n",
       "            0.98756,     0.98757,     0.98759,     0.98761,     0.98762,     0.98764,     0.98765,     0.98767,     0.98769,      0.9877,     0.98772,     0.98774,     0.98775,     0.98777,     0.98779,      0.9878,     0.98782,     0.98784,     0.98785,     0.98787,     0.98788,      0.9879,     0.98792,\n",
       "            0.98793,     0.98795,     0.98797,     0.98798,       0.988,     0.98802,     0.98803,     0.98805,     0.98807,     0.98808,      0.9881,     0.98811,     0.98813,     0.98815,     0.98816,     0.98818,      0.9882,     0.98821,     0.98823,     0.98825,     0.98826,     0.98828,      0.9883,\n",
       "            0.98831,     0.98833,     0.98834,     0.98836,     0.98838,     0.98839,     0.98841,     0.98843,     0.98844,     0.98846,     0.98848,     0.98849,     0.98851,     0.98853,     0.98854,     0.98856,     0.98857,     0.98859,     0.98861,     0.98862,     0.98864,     0.98866,     0.98867,\n",
       "            0.98869,     0.98871,     0.98872,     0.98874,     0.98876,     0.98877,     0.98879,      0.9888,     0.98882,     0.98884,     0.98885,     0.98887,     0.98889,      0.9889,      0.9889,     0.98889,     0.98889,     0.98889,     0.98889,     0.98889,     0.98889,     0.98889,     0.98888,\n",
       "            0.98888,     0.98888,     0.98888,     0.98888,     0.98888,     0.98888,     0.98888,     0.98888,     0.98888,     0.98888,     0.98888,     0.98888,     0.98888,     0.98888,     0.98888,     0.98888,     0.98888,     0.98888,     0.98887,     0.98887,     0.98887,     0.98887,     0.98887,\n",
       "            0.98887,     0.98887,     0.98887,     0.98887,     0.98887,     0.98887,     0.98887,     0.98887,     0.98887,     0.98887,     0.98887,     0.98887,     0.98887,     0.98886,     0.98886,     0.98886,     0.98886,     0.98885,     0.98885,     0.98885,     0.98884,     0.98884,     0.98893,\n",
       "            0.98931,     0.98968,     0.99006,     0.99044,     0.99082,     0.99105,     0.99104,     0.99103,     0.99103,     0.99103,     0.99102,     0.99102,     0.99102,     0.99101,     0.99099,     0.99098,     0.99098,     0.99097,     0.99097,     0.99097,     0.99097,     0.99096,     0.99096,\n",
       "            0.99096,     0.99096,     0.99096,     0.99096,     0.99096,     0.99095,     0.99095,     0.99095,     0.99097,     0.99143,     0.99189,     0.99235,     0.99281,      0.9932,      0.9932,     0.99319,     0.99319,     0.99319,     0.99319,     0.99319,     0.99319,     0.99319,     0.99318,\n",
       "            0.99318,     0.99318,     0.99317,     0.99317,     0.99316,     0.99315,     0.99315,     0.99314,     0.99314,     0.99313,     0.99313,     0.99312,     0.99311,      0.9931,     0.99309,     0.99309,     0.99307,     0.99306,     0.99305,     0.99304,     0.99302,     0.99299,     0.99407,\n",
       "            0.99762,     0.99764,     0.99764,     0.99762,     0.99762,     0.99761,     0.99761,      0.9976,      0.9976,     0.99759,     0.99759,     0.99759,     0.99759,     0.99758,     0.99758,     0.99757,     0.99756,     0.99756,     0.99756,     0.99756,     0.99756,     0.99755,     0.99753,\n",
       "            0.99752,     0.99751,     0.99751,     0.99749,     0.99747,     0.99747,     0.99747,     0.99747,     0.99745,     0.99745,     0.99954,           1,           1,           1,           1,           1,           1,           1,           1,           1,           1,           1,           1,\n",
       "                  1,           1,           1,           1,           1,           1,           1,           1,           1,           1,           1,           1,           1,           1,           1,           1,           1,           1,           1,           1,           1,           1,           1,\n",
       "                  1,           1,           1,           1,           1,           1,           1,           1,           1,           1,           1,           1,           1,           1,           1,           1,           1,           1,           1,           1,           1,           1,           1,\n",
       "                  1,           1,           1,           1,           1,           1,           1,           1,           1,           1,           1,           1,           1,           1,           1,           1,           1,           1,           1,           1,           1,           1,           1,\n",
       "                  1,           1,           1,           1,           1,           1,           1,           1,           1,           1,           1,           1,           1,           1,           1,           1,           1,           1,           1,           1,           1,           1,           1,\n",
       "                  1,           1,           1,           1,           1,           1,           1,           1,           1,           1,           1,           1,           1,           1,           1,           1,           1,           1,           1,           1,           1,           1,           1,\n",
       "                  1,           1,           1,           1,           1,           1,           1,           1,           1,           1,           1,           1,           1,           1,           1,           1,           1,           1,           1,           1,           1,           1,           1,\n",
       "                  1,           1,           1,           1,           1,           1,           1,           1,           1,           1,           1,           1,           1,           1,           1,           1,           1,           1,           1,           1,           1,           1,           1,\n",
       "                  1,           1,           1,           1,           1,           1,           1,           1,           1,           1,           1,           1,           1,           1,           1,           1,           1,           1,           1,           1,           1,           1,           1,\n",
       "                  1,           1,           1,           1,           1,           1,           1,           1,           1,           1,           1]]), 'Confidence', 'Precision'], [array([          0,    0.001001,    0.002002,    0.003003,    0.004004,    0.005005,    0.006006,    0.007007,    0.008008,    0.009009,     0.01001,    0.011011,    0.012012,    0.013013,    0.014014,    0.015015,    0.016016,    0.017017,    0.018018,    0.019019,     0.02002,    0.021021,    0.022022,    0.023023,\n",
       "          0.024024,    0.025025,    0.026026,    0.027027,    0.028028,    0.029029,     0.03003,    0.031031,    0.032032,    0.033033,    0.034034,    0.035035,    0.036036,    0.037037,    0.038038,    0.039039,     0.04004,    0.041041,    0.042042,    0.043043,    0.044044,    0.045045,    0.046046,    0.047047,\n",
       "          0.048048,    0.049049,     0.05005,    0.051051,    0.052052,    0.053053,    0.054054,    0.055055,    0.056056,    0.057057,    0.058058,    0.059059,     0.06006,    0.061061,    0.062062,    0.063063,    0.064064,    0.065065,    0.066066,    0.067067,    0.068068,    0.069069,     0.07007,    0.071071,\n",
       "          0.072072,    0.073073,    0.074074,    0.075075,    0.076076,    0.077077,    0.078078,    0.079079,     0.08008,    0.081081,    0.082082,    0.083083,    0.084084,    0.085085,    0.086086,    0.087087,    0.088088,    0.089089,     0.09009,    0.091091,    0.092092,    0.093093,    0.094094,    0.095095,\n",
       "          0.096096,    0.097097,    0.098098,    0.099099,      0.1001,      0.1011,      0.1021,      0.1031,      0.1041,     0.10511,     0.10611,     0.10711,     0.10811,     0.10911,     0.11011,     0.11111,     0.11211,     0.11311,     0.11411,     0.11512,     0.11612,     0.11712,     0.11812,     0.11912,\n",
       "           0.12012,     0.12112,     0.12212,     0.12312,     0.12412,     0.12513,     0.12613,     0.12713,     0.12813,     0.12913,     0.13013,     0.13113,     0.13213,     0.13313,     0.13413,     0.13514,     0.13614,     0.13714,     0.13814,     0.13914,     0.14014,     0.14114,     0.14214,     0.14314,\n",
       "           0.14414,     0.14515,     0.14615,     0.14715,     0.14815,     0.14915,     0.15015,     0.15115,     0.15215,     0.15315,     0.15415,     0.15516,     0.15616,     0.15716,     0.15816,     0.15916,     0.16016,     0.16116,     0.16216,     0.16316,     0.16416,     0.16517,     0.16617,     0.16717,\n",
       "           0.16817,     0.16917,     0.17017,     0.17117,     0.17217,     0.17317,     0.17417,     0.17518,     0.17618,     0.17718,     0.17818,     0.17918,     0.18018,     0.18118,     0.18218,     0.18318,     0.18418,     0.18519,     0.18619,     0.18719,     0.18819,     0.18919,     0.19019,     0.19119,\n",
       "           0.19219,     0.19319,     0.19419,      0.1952,      0.1962,      0.1972,      0.1982,      0.1992,      0.2002,      0.2012,      0.2022,      0.2032,      0.2042,     0.20521,     0.20621,     0.20721,     0.20821,     0.20921,     0.21021,     0.21121,     0.21221,     0.21321,     0.21421,     0.21522,\n",
       "           0.21622,     0.21722,     0.21822,     0.21922,     0.22022,     0.22122,     0.22222,     0.22322,     0.22422,     0.22523,     0.22623,     0.22723,     0.22823,     0.22923,     0.23023,     0.23123,     0.23223,     0.23323,     0.23423,     0.23524,     0.23624,     0.23724,     0.23824,     0.23924,\n",
       "           0.24024,     0.24124,     0.24224,     0.24324,     0.24424,     0.24525,     0.24625,     0.24725,     0.24825,     0.24925,     0.25025,     0.25125,     0.25225,     0.25325,     0.25425,     0.25526,     0.25626,     0.25726,     0.25826,     0.25926,     0.26026,     0.26126,     0.26226,     0.26326,\n",
       "           0.26426,     0.26527,     0.26627,     0.26727,     0.26827,     0.26927,     0.27027,     0.27127,     0.27227,     0.27327,     0.27427,     0.27528,     0.27628,     0.27728,     0.27828,     0.27928,     0.28028,     0.28128,     0.28228,     0.28328,     0.28428,     0.28529,     0.28629,     0.28729,\n",
       "           0.28829,     0.28929,     0.29029,     0.29129,     0.29229,     0.29329,     0.29429,      0.2953,      0.2963,      0.2973,      0.2983,      0.2993,      0.3003,      0.3013,      0.3023,      0.3033,      0.3043,     0.30531,     0.30631,     0.30731,     0.30831,     0.30931,     0.31031,     0.31131,\n",
       "           0.31231,     0.31331,     0.31431,     0.31532,     0.31632,     0.31732,     0.31832,     0.31932,     0.32032,     0.32132,     0.32232,     0.32332,     0.32432,     0.32533,     0.32633,     0.32733,     0.32833,     0.32933,     0.33033,     0.33133,     0.33233,     0.33333,     0.33433,     0.33534,\n",
       "           0.33634,     0.33734,     0.33834,     0.33934,     0.34034,     0.34134,     0.34234,     0.34334,     0.34434,     0.34535,     0.34635,     0.34735,     0.34835,     0.34935,     0.35035,     0.35135,     0.35235,     0.35335,     0.35435,     0.35536,     0.35636,     0.35736,     0.35836,     0.35936,\n",
       "           0.36036,     0.36136,     0.36236,     0.36336,     0.36436,     0.36537,     0.36637,     0.36737,     0.36837,     0.36937,     0.37037,     0.37137,     0.37237,     0.37337,     0.37437,     0.37538,     0.37638,     0.37738,     0.37838,     0.37938,     0.38038,     0.38138,     0.38238,     0.38338,\n",
       "           0.38438,     0.38539,     0.38639,     0.38739,     0.38839,     0.38939,     0.39039,     0.39139,     0.39239,     0.39339,     0.39439,      0.3954,      0.3964,      0.3974,      0.3984,      0.3994,      0.4004,      0.4014,      0.4024,      0.4034,      0.4044,     0.40541,     0.40641,     0.40741,\n",
       "           0.40841,     0.40941,     0.41041,     0.41141,     0.41241,     0.41341,     0.41441,     0.41542,     0.41642,     0.41742,     0.41842,     0.41942,     0.42042,     0.42142,     0.42242,     0.42342,     0.42442,     0.42543,     0.42643,     0.42743,     0.42843,     0.42943,     0.43043,     0.43143,\n",
       "           0.43243,     0.43343,     0.43443,     0.43544,     0.43644,     0.43744,     0.43844,     0.43944,     0.44044,     0.44144,     0.44244,     0.44344,     0.44444,     0.44545,     0.44645,     0.44745,     0.44845,     0.44945,     0.45045,     0.45145,     0.45245,     0.45345,     0.45445,     0.45546,\n",
       "           0.45646,     0.45746,     0.45846,     0.45946,     0.46046,     0.46146,     0.46246,     0.46346,     0.46446,     0.46547,     0.46647,     0.46747,     0.46847,     0.46947,     0.47047,     0.47147,     0.47247,     0.47347,     0.47447,     0.47548,     0.47648,     0.47748,     0.47848,     0.47948,\n",
       "           0.48048,     0.48148,     0.48248,     0.48348,     0.48448,     0.48549,     0.48649,     0.48749,     0.48849,     0.48949,     0.49049,     0.49149,     0.49249,     0.49349,     0.49449,      0.4955,      0.4965,      0.4975,      0.4985,      0.4995,      0.5005,      0.5015,      0.5025,      0.5035,\n",
       "            0.5045,     0.50551,     0.50651,     0.50751,     0.50851,     0.50951,     0.51051,     0.51151,     0.51251,     0.51351,     0.51451,     0.51552,     0.51652,     0.51752,     0.51852,     0.51952,     0.52052,     0.52152,     0.52252,     0.52352,     0.52452,     0.52553,     0.52653,     0.52753,\n",
       "           0.52853,     0.52953,     0.53053,     0.53153,     0.53253,     0.53353,     0.53453,     0.53554,     0.53654,     0.53754,     0.53854,     0.53954,     0.54054,     0.54154,     0.54254,     0.54354,     0.54454,     0.54555,     0.54655,     0.54755,     0.54855,     0.54955,     0.55055,     0.55155,\n",
       "           0.55255,     0.55355,     0.55455,     0.55556,     0.55656,     0.55756,     0.55856,     0.55956,     0.56056,     0.56156,     0.56256,     0.56356,     0.56456,     0.56557,     0.56657,     0.56757,     0.56857,     0.56957,     0.57057,     0.57157,     0.57257,     0.57357,     0.57457,     0.57558,\n",
       "           0.57658,     0.57758,     0.57858,     0.57958,     0.58058,     0.58158,     0.58258,     0.58358,     0.58458,     0.58559,     0.58659,     0.58759,     0.58859,     0.58959,     0.59059,     0.59159,     0.59259,     0.59359,     0.59459,      0.5956,      0.5966,      0.5976,      0.5986,      0.5996,\n",
       "            0.6006,      0.6016,      0.6026,      0.6036,      0.6046,     0.60561,     0.60661,     0.60761,     0.60861,     0.60961,     0.61061,     0.61161,     0.61261,     0.61361,     0.61461,     0.61562,     0.61662,     0.61762,     0.61862,     0.61962,     0.62062,     0.62162,     0.62262,     0.62362,\n",
       "           0.62462,     0.62563,     0.62663,     0.62763,     0.62863,     0.62963,     0.63063,     0.63163,     0.63263,     0.63363,     0.63463,     0.63564,     0.63664,     0.63764,     0.63864,     0.63964,     0.64064,     0.64164,     0.64264,     0.64364,     0.64464,     0.64565,     0.64665,     0.64765,\n",
       "           0.64865,     0.64965,     0.65065,     0.65165,     0.65265,     0.65365,     0.65465,     0.65566,     0.65666,     0.65766,     0.65866,     0.65966,     0.66066,     0.66166,     0.66266,     0.66366,     0.66466,     0.66567,     0.66667,     0.66767,     0.66867,     0.66967,     0.67067,     0.67167,\n",
       "           0.67267,     0.67367,     0.67467,     0.67568,     0.67668,     0.67768,     0.67868,     0.67968,     0.68068,     0.68168,     0.68268,     0.68368,     0.68468,     0.68569,     0.68669,     0.68769,     0.68869,     0.68969,     0.69069,     0.69169,     0.69269,     0.69369,     0.69469,      0.6957,\n",
       "            0.6967,      0.6977,      0.6987,      0.6997,      0.7007,      0.7017,      0.7027,      0.7037,      0.7047,     0.70571,     0.70671,     0.70771,     0.70871,     0.70971,     0.71071,     0.71171,     0.71271,     0.71371,     0.71471,     0.71572,     0.71672,     0.71772,     0.71872,     0.71972,\n",
       "           0.72072,     0.72172,     0.72272,     0.72372,     0.72472,     0.72573,     0.72673,     0.72773,     0.72873,     0.72973,     0.73073,     0.73173,     0.73273,     0.73373,     0.73473,     0.73574,     0.73674,     0.73774,     0.73874,     0.73974,     0.74074,     0.74174,     0.74274,     0.74374,\n",
       "           0.74474,     0.74575,     0.74675,     0.74775,     0.74875,     0.74975,     0.75075,     0.75175,     0.75275,     0.75375,     0.75475,     0.75576,     0.75676,     0.75776,     0.75876,     0.75976,     0.76076,     0.76176,     0.76276,     0.76376,     0.76476,     0.76577,     0.76677,     0.76777,\n",
       "           0.76877,     0.76977,     0.77077,     0.77177,     0.77277,     0.77377,     0.77477,     0.77578,     0.77678,     0.77778,     0.77878,     0.77978,     0.78078,     0.78178,     0.78278,     0.78378,     0.78478,     0.78579,     0.78679,     0.78779,     0.78879,     0.78979,     0.79079,     0.79179,\n",
       "           0.79279,     0.79379,     0.79479,      0.7958,      0.7968,      0.7978,      0.7988,      0.7998,      0.8008,      0.8018,      0.8028,      0.8038,      0.8048,     0.80581,     0.80681,     0.80781,     0.80881,     0.80981,     0.81081,     0.81181,     0.81281,     0.81381,     0.81481,     0.81582,\n",
       "           0.81682,     0.81782,     0.81882,     0.81982,     0.82082,     0.82182,     0.82282,     0.82382,     0.82482,     0.82583,     0.82683,     0.82783,     0.82883,     0.82983,     0.83083,     0.83183,     0.83283,     0.83383,     0.83483,     0.83584,     0.83684,     0.83784,     0.83884,     0.83984,\n",
       "           0.84084,     0.84184,     0.84284,     0.84384,     0.84484,     0.84585,     0.84685,     0.84785,     0.84885,     0.84985,     0.85085,     0.85185,     0.85285,     0.85385,     0.85485,     0.85586,     0.85686,     0.85786,     0.85886,     0.85986,     0.86086,     0.86186,     0.86286,     0.86386,\n",
       "           0.86486,     0.86587,     0.86687,     0.86787,     0.86887,     0.86987,     0.87087,     0.87187,     0.87287,     0.87387,     0.87487,     0.87588,     0.87688,     0.87788,     0.87888,     0.87988,     0.88088,     0.88188,     0.88288,     0.88388,     0.88488,     0.88589,     0.88689,     0.88789,\n",
       "           0.88889,     0.88989,     0.89089,     0.89189,     0.89289,     0.89389,     0.89489,      0.8959,      0.8969,      0.8979,      0.8989,      0.8999,      0.9009,      0.9019,      0.9029,      0.9039,      0.9049,     0.90591,     0.90691,     0.90791,     0.90891,     0.90991,     0.91091,     0.91191,\n",
       "           0.91291,     0.91391,     0.91491,     0.91592,     0.91692,     0.91792,     0.91892,     0.91992,     0.92092,     0.92192,     0.92292,     0.92392,     0.92492,     0.92593,     0.92693,     0.92793,     0.92893,     0.92993,     0.93093,     0.93193,     0.93293,     0.93393,     0.93493,     0.93594,\n",
       "           0.93694,     0.93794,     0.93894,     0.93994,     0.94094,     0.94194,     0.94294,     0.94394,     0.94494,     0.94595,     0.94695,     0.94795,     0.94895,     0.94995,     0.95095,     0.95195,     0.95295,     0.95395,     0.95495,     0.95596,     0.95696,     0.95796,     0.95896,     0.95996,\n",
       "           0.96096,     0.96196,     0.96296,     0.96396,     0.96496,     0.96597,     0.96697,     0.96797,     0.96897,     0.96997,     0.97097,     0.97197,     0.97297,     0.97397,     0.97497,     0.97598,     0.97698,     0.97798,     0.97898,     0.97998,     0.98098,     0.98198,     0.98298,     0.98398,\n",
       "           0.98498,     0.98599,     0.98699,     0.98799,     0.98899,     0.98999,     0.99099,     0.99199,     0.99299,     0.99399,     0.99499,       0.996,       0.997,       0.998,       0.999,           1]), array([[    0.99558,     0.99558,     0.99558,     0.99558,     0.99558,     0.99558,     0.99558,     0.99336,     0.99336,     0.99336,     0.99336,     0.99336,     0.99336,     0.99336,     0.99336,     0.99336,     0.99336,     0.99336,     0.99336,     0.99336,     0.99115,     0.99115,     0.99115,\n",
       "            0.99115,     0.99115,     0.99115,     0.99115,     0.99115,     0.99115,     0.99115,     0.99115,     0.99115,     0.99115,     0.99115,     0.99115,     0.99115,     0.99115,     0.99115,     0.99115,     0.99115,     0.99115,     0.99115,     0.99115,     0.99115,     0.99115,     0.99115,\n",
       "            0.99115,     0.99115,     0.99115,     0.99115,     0.99115,     0.99115,     0.99115,     0.99115,     0.99115,     0.99115,     0.99115,     0.99115,     0.99115,     0.99115,     0.99115,     0.99115,     0.99115,     0.99115,     0.99115,     0.99115,     0.99115,     0.99115,     0.99115,\n",
       "            0.99115,     0.99115,     0.99115,     0.99115,     0.99115,     0.99115,     0.99115,     0.99115,     0.99115,     0.99115,     0.99115,     0.99115,     0.99115,     0.99115,     0.99115,     0.99115,     0.99115,     0.99115,     0.99115,     0.99115,     0.99115,     0.99115,     0.99115,\n",
       "            0.99115,     0.99115,     0.99115,     0.99115,     0.99115,     0.99115,     0.99115,     0.99115,     0.99115,     0.99115,     0.99115,     0.99115,     0.99115,     0.99115,     0.99115,     0.99115,     0.99115,     0.99115,     0.99115,     0.99115,     0.99115,     0.99115,     0.99115,\n",
       "            0.99115,     0.99115,     0.99115,     0.99115,     0.99115,     0.99115,     0.99115,     0.99115,     0.99115,     0.99115,     0.99115,     0.99115,     0.99115,     0.99115,     0.99115,     0.99115,     0.99115,     0.99115,     0.99115,     0.99115,     0.99115,     0.99115,     0.99115,\n",
       "            0.99115,     0.99115,     0.99115,     0.99115,     0.99115,     0.99115,     0.99115,     0.99115,     0.99115,     0.99115,     0.99115,     0.99115,     0.99115,     0.99115,     0.99115,     0.99115,     0.99115,     0.99115,     0.99115,     0.99115,     0.99115,     0.99115,     0.99115,\n",
       "            0.99115,     0.99115,     0.99115,     0.99115,     0.99115,     0.99115,     0.99115,     0.99115,     0.99115,     0.99115,     0.99115,     0.99115,     0.99115,     0.99115,     0.99115,     0.99115,     0.99115,     0.99115,     0.99115,     0.99115,     0.99115,     0.99115,     0.99115,\n",
       "            0.99115,     0.99115,     0.99115,     0.99115,     0.99115,     0.99115,     0.99115,     0.99115,     0.99115,     0.99115,     0.99115,     0.99115,     0.99115,     0.99115,     0.99115,     0.99115,     0.99115,     0.99115,     0.99115,     0.99115,     0.99115,     0.99115,     0.99115,\n",
       "            0.99115,     0.99115,     0.99115,     0.99115,      0.9907,     0.98957,     0.98894,     0.98894,     0.98894,     0.98894,     0.98894,     0.98894,     0.98894,     0.98894,     0.98894,     0.98894,     0.98894,     0.98894,     0.98894,     0.98894,     0.98894,     0.98894,     0.98894,\n",
       "            0.98894,     0.98894,     0.98894,     0.98894,     0.98894,     0.98894,     0.98894,     0.98894,     0.98894,     0.98894,     0.98894,     0.98894,     0.98894,     0.98894,     0.98894,     0.98894,     0.98894,     0.98894,     0.98894,     0.98894,     0.98894,     0.98894,     0.98894,\n",
       "            0.98894,     0.98894,     0.98894,     0.98894,     0.98894,     0.98894,     0.98894,     0.98894,     0.98894,     0.98894,     0.98894,     0.98894,     0.98894,     0.98894,     0.98894,     0.98894,     0.98894,     0.98894,     0.98894,     0.98894,     0.98894,     0.98894,     0.98894,\n",
       "            0.98894,     0.98894,     0.98894,     0.98894,     0.98894,     0.98894,     0.98894,     0.98894,     0.98894,     0.98894,     0.98894,     0.98894,     0.98894,     0.98894,     0.98894,     0.98892,      0.9889,     0.98888,     0.98886,     0.98884,     0.98882,      0.9888,     0.98877,\n",
       "            0.98875,     0.98873,     0.98871,     0.98869,     0.98867,     0.98865,     0.98863,     0.98861,     0.98859,     0.98857,     0.98855,     0.98853,     0.98851,     0.98849,     0.98847,     0.98845,     0.98843,     0.98841,     0.98839,     0.98837,     0.98835,     0.98833,     0.98831,\n",
       "            0.98829,     0.98827,     0.98824,     0.98822,      0.9882,     0.98818,     0.98816,     0.98814,     0.98812,      0.9881,     0.98808,     0.98806,     0.98804,     0.98802,       0.988,     0.98798,     0.98796,     0.98794,     0.98792,      0.9879,     0.98788,     0.98786,     0.98784,\n",
       "            0.98782,      0.9878,     0.98778,     0.98776,     0.98774,     0.98771,     0.98769,     0.98767,     0.98765,     0.98763,     0.98761,     0.98759,     0.98757,     0.98755,     0.98753,     0.98751,     0.98749,     0.98747,     0.98745,     0.98743,     0.98741,     0.98739,     0.98737,\n",
       "            0.98735,     0.98733,     0.98731,     0.98729,     0.98727,     0.98725,     0.98723,     0.98721,     0.98718,     0.98716,     0.98714,     0.98712,      0.9871,     0.98708,     0.98706,     0.98704,     0.98702,       0.987,     0.98698,     0.98696,     0.98694,     0.98692,      0.9869,\n",
       "            0.98688,     0.98686,     0.98684,     0.98682,      0.9868,     0.98678,     0.98676,     0.98674,     0.98673,     0.98673,     0.98673,     0.98673,     0.98673,     0.98673,     0.98673,     0.98673,     0.98673,     0.98673,     0.98673,     0.98673,     0.98673,     0.98673,     0.98673,\n",
       "            0.98673,     0.98673,     0.98673,     0.98673,     0.98673,     0.98673,     0.98673,     0.98673,     0.98673,     0.98673,     0.98673,     0.98673,     0.98673,     0.98673,     0.98673,     0.98673,     0.98673,     0.98673,     0.98673,     0.98673,     0.98673,     0.98673,     0.98673,\n",
       "            0.98673,     0.98673,     0.98673,     0.98673,     0.98673,     0.98673,     0.98673,     0.98673,     0.98673,     0.98673,     0.98673,     0.98673,     0.98673,     0.98673,     0.98673,     0.98673,     0.98673,     0.98673,     0.98673,     0.98673,     0.98673,     0.98673,     0.98673,\n",
       "            0.98673,     0.98673,     0.98673,     0.98673,     0.98673,     0.98673,     0.98673,     0.98673,     0.98673,     0.98673,     0.98673,     0.98673,     0.98673,     0.98673,     0.98673,     0.98673,     0.98673,     0.98673,     0.98673,     0.98673,     0.98673,     0.98673,     0.98673,\n",
       "            0.98673,     0.98673,     0.98673,     0.98673,     0.98673,     0.98673,     0.98673,     0.98673,     0.98673,     0.98673,     0.98673,     0.98673,     0.98673,     0.98673,     0.98673,     0.98673,     0.98673,     0.98673,     0.98673,     0.98673,     0.98673,     0.98673,     0.98673,\n",
       "            0.98673,     0.98673,     0.98673,     0.98673,     0.98673,     0.98673,     0.98673,     0.98673,     0.98673,     0.98673,     0.98673,     0.98673,     0.98673,     0.98673,     0.98673,     0.98673,     0.98673,     0.98673,     0.98673,     0.98673,     0.98673,     0.98673,     0.98673,\n",
       "            0.98673,     0.98673,     0.98673,     0.98673,     0.98673,     0.98673,     0.98673,     0.98673,     0.98673,     0.98673,     0.98673,     0.98673,     0.98673,     0.98673,     0.98673,     0.98673,     0.98673,     0.98673,     0.98673,     0.98673,     0.98673,     0.98673,     0.98673,\n",
       "            0.98673,     0.98673,     0.98673,     0.98673,     0.98673,     0.98673,     0.98673,     0.98673,     0.98673,     0.98673,     0.98673,     0.98673,     0.98673,     0.98673,     0.98673,     0.98673,     0.98673,     0.98673,     0.98673,     0.98673,     0.98673,     0.98673,     0.98673,\n",
       "            0.98673,     0.98673,     0.98673,     0.98673,     0.98673,     0.98673,     0.98673,     0.98673,     0.98673,     0.98673,     0.98673,     0.98673,     0.98673,     0.98673,     0.98673,     0.98673,     0.98673,     0.98673,     0.98673,     0.98673,     0.98673,     0.98673,     0.98673,\n",
       "            0.98673,     0.98673,     0.98673,     0.98673,     0.98673,     0.98673,     0.98673,     0.98673,     0.98673,     0.98673,     0.98673,     0.98673,     0.98673,     0.98673,     0.98673,     0.98673,     0.98673,     0.98673,     0.98673,     0.98673,     0.98673,     0.98673,     0.98673,\n",
       "            0.98673,     0.98673,     0.98673,     0.98673,     0.98673,     0.98673,     0.98673,     0.98673,     0.98673,     0.98673,     0.98673,     0.98673,     0.98673,     0.98673,     0.98586,     0.98449,     0.98444,      0.9844,     0.98435,      0.9843,     0.98425,      0.9842,     0.98415,\n",
       "             0.9841,     0.98405,     0.98401,     0.98396,     0.98391,     0.98386,     0.98381,     0.98376,     0.98371,     0.98366,     0.98362,     0.98357,     0.98352,     0.98347,     0.98342,     0.98337,     0.98332,     0.98327,     0.98323,     0.98318,     0.98313,     0.98308,     0.98303,\n",
       "            0.98298,     0.98293,     0.98288,     0.98284,     0.98279,     0.98274,     0.98269,     0.98264,     0.98259,     0.98254,     0.98249,     0.98245,      0.9824,     0.98235,     0.98229,     0.98201,     0.98172,     0.98144,     0.98116,     0.98087,     0.98059,      0.9803,     0.98009,\n",
       "            0.98009,     0.98009,     0.98009,     0.98009,     0.98009,     0.97974,     0.97883,     0.97793,     0.97755,      0.9772,     0.97685,      0.9765,     0.97615,      0.9758,     0.97306,     0.97241,     0.97177,     0.97121,     0.97105,      0.9709,     0.97074,     0.97058,     0.97043,\n",
       "            0.97027,     0.97011,     0.96996,      0.9698,     0.96965,     0.96949,     0.96933,     0.96918,     0.96903,     0.96903,     0.96903,     0.96903,     0.96903,     0.96899,     0.96879,     0.96858,     0.96837,     0.96817,     0.96796,     0.96776,     0.96755,     0.96734,     0.96714,\n",
       "            0.96693,     0.96649,     0.96573,     0.96498,     0.96403,     0.96289,     0.96203,     0.96138,     0.96073,     0.96007,     0.95932,     0.95856,       0.957,      0.9552,     0.95445,     0.95369,      0.9506,      0.9497,     0.94857,     0.94706,     0.94487,     0.94039,     0.93805,\n",
       "            0.93805,     0.93655,     0.93464,      0.9291,     0.92759,     0.92452,     0.92235,     0.92084,     0.91933,     0.91766,     0.91571,     0.91481,      0.9139,     0.91299,     0.91208,     0.90847,     0.90467,     0.90417,     0.90367,     0.90316,     0.90266,     0.90036,       0.893,\n",
       "            0.88928,     0.88777,      0.8858,     0.87958,      0.8738,     0.87323,     0.87267,      0.8721,     0.86686,     0.86535,     0.86283,     0.86221,     0.86145,      0.8607,     0.84697,     0.84607,     0.84516,     0.84219,     0.84069,     0.83978,     0.83888,     0.83497,     0.83049,\n",
       "            0.82711,     0.82497,     0.82346,     0.81761,     0.81472,     0.80854,     0.80443,      0.8033,     0.79493,     0.79149,     0.78998,     0.78226,     0.77999,     0.77585,     0.77434,     0.77136,     0.76971,     0.75854,     0.75598,     0.75484,     0.75126,     0.74962,     0.74735,\n",
       "            0.74239,     0.73785,      0.7311,     0.72833,     0.72606,     0.72192,     0.72028,     0.71914,     0.71274,     0.71099,     0.70588,     0.70428,     0.69238,     0.68802,     0.68738,     0.68673,     0.68608,     0.67667,     0.67181,      0.6655,     0.65831,     0.65421,      0.6533,\n",
       "            0.64692,     0.64017,       0.629,      0.6134,     0.60974,     0.60433,     0.58873,     0.56754,     0.55975,     0.54415,     0.53519,     0.52623,     0.51063,     0.50389,     0.49493,     0.48856,     0.48143,     0.47026,      0.4613,     0.45455,     0.44338,     0.42778,      0.4218,\n",
       "            0.41953,     0.41417,     0.39858,     0.39183,     0.38287,     0.37391,     0.36937,      0.3582,     0.34703,     0.33807,     0.32689,     0.32279,     0.32128,     0.31329,     0.29818,     0.29315,     0.28198,     0.26638,     0.26185,     0.25289,     0.24172,     0.23497,     0.22822,\n",
       "            0.21705,     0.21024,     0.20465,     0.19459,     0.18784,     0.17888,     0.16992,     0.16566,     0.16306,      0.1541,     0.15111,     0.14774,     0.14137,     0.14047,     0.13956,     0.13574,      0.1312,     0.12703,     0.12301,      0.1176,     0.11586,       0.114,      0.1062,\n",
       "            0.10167,    0.098345,    0.088172,    0.083637,    0.079464,    0.077953,    0.065605,     0.05819,     0.05467,    0.053763,    0.050734,    0.050167,      0.0496,    0.049033,    0.043835,    0.042701,    0.041567,    0.040433,    0.037728,    0.032083,    0.029815,    0.024121,    0.019803,\n",
       "           0.018291,    0.006603,   0.0063195,    0.006036,   0.0057526,   0.0054691,   0.0051856,   0.0049022,   0.0046187,   0.0043565,   0.0041406,   0.0039246,   0.0037086,   0.0034926,   0.0032767,   0.0030607,   0.0028447,   0.0026287,   0.0024128,           0,           0,           0,           0,\n",
       "                  0,           0,           0,           0,           0,           0,           0,           0,           0,           0,           0,           0,           0,           0,           0,           0,           0,           0,           0,           0,           0,           0,           0,\n",
       "                  0,           0,           0,           0,           0,           0,           0,           0,           0,           0,           0]]), 'Confidence', 'Recall']]\n",
       "fitness: 0.8168362707399056\n",
       "keys: ['metrics/precision(B)', 'metrics/recall(B)', 'metrics/mAP50(B)', 'metrics/mAP50-95(B)']\n",
       "maps: array([    0.79713])\n",
       "names: {0: 'plat'}\n",
       "plot: True\n",
       "results_dict: {'metrics/precision(B)': 0.9880983208200993, 'metrics/recall(B)': 0.9867256637168141, 'metrics/mAP50(B)': 0.9941913720025507, 'metrics/mAP50-95(B)': 0.7971301483773895, 'fitness': 0.8168362707399056}\n",
       "save_dir: WindowsPath('runs/detect/train9')\n",
       "speed: {'preprocess': 0.432986348227271, 'inference': 2.905648761831206, 'loss': 0.0023858928452812687, 'postprocess': 3.5342652359555045}\n",
       "task: 'detect'"
      ]
     },
     "execution_count": 9,
     "metadata": {},
     "output_type": "execute_result"
    }
   ],
   "source": [
    "# Load the YOLOv8 model\n",
    "model = YOLO('yolov8n.pt')\n",
    "\n",
    "# Train the model\n",
    "model.train(data=os.path.join(base_dir, \"data.yaml\"), epochs=50, imgsz=640)"
   ]
  },
  {
   "cell_type": "code",
   "execution_count": 10,
   "metadata": {},
   "outputs": [],
   "source": [
    "model_best = YOLO('./runs/detect/train9/weights/best.pt')"
   ]
  },
  {
   "cell_type": "code",
   "execution_count": 30,
   "metadata": {},
   "outputs": [
    {
     "name": "stdout",
     "output_type": "stream",
     "text": [
      "\n",
      "0: 640x640 1 plat, 24.0ms\n",
      "Speed: 5.0ms preprocess, 24.0ms inference, 92.0ms postprocess per image at shape (1, 3, 640, 640)\n",
      "\n",
      "0: 640x640 1 plat, 22.0ms\n",
      "Speed: 8.0ms preprocess, 22.0ms inference, 3.0ms postprocess per image at shape (1, 3, 640, 640)\n",
      "\n",
      "0: 640x640 1 plat, 24.0ms\n",
      "Speed: 6.0ms preprocess, 24.0ms inference, 3.0ms postprocess per image at shape (1, 3, 640, 640)\n",
      "\n",
      "0: 640x640 1 plat, 23.0ms\n",
      "Speed: 6.0ms preprocess, 23.0ms inference, 3.0ms postprocess per image at shape (1, 3, 640, 640)\n",
      "\n",
      "0: 640x640 1 plat, 24.0ms\n",
      "Speed: 6.0ms preprocess, 24.0ms inference, 2.0ms postprocess per image at shape (1, 3, 640, 640)\n",
      "\n",
      "0: 640x640 1 plat, 23.0ms\n",
      "Speed: 6.1ms preprocess, 23.0ms inference, 3.0ms postprocess per image at shape (1, 3, 640, 640)\n",
      "\n",
      "0: 640x640 2 plats, 23.0ms\n",
      "Speed: 7.0ms preprocess, 23.0ms inference, 4.0ms postprocess per image at shape (1, 3, 640, 640)\n",
      "\n",
      "0: 640x640 1 plat, 23.0ms\n",
      "Speed: 7.0ms preprocess, 23.0ms inference, 3.0ms postprocess per image at shape (1, 3, 640, 640)\n",
      "\n",
      "0: 640x640 1 plat, 22.0ms\n",
      "Speed: 8.0ms preprocess, 22.0ms inference, 3.0ms postprocess per image at shape (1, 3, 640, 640)\n",
      "\n",
      "0: 640x640 1 plat, 22.0ms\n",
      "Speed: 7.0ms preprocess, 22.0ms inference, 2.0ms postprocess per image at shape (1, 3, 640, 640)\n",
      "\n",
      "0: 640x640 1 plat, 22.0ms\n",
      "Speed: 7.0ms preprocess, 22.0ms inference, 5.0ms postprocess per image at shape (1, 3, 640, 640)\n",
      "\n",
      "0: 640x640 1 plat, 23.0ms\n",
      "Speed: 9.0ms preprocess, 23.0ms inference, 5.6ms postprocess per image at shape (1, 3, 640, 640)\n",
      "\n",
      "0: 640x640 1 plat, 21.3ms\n",
      "Speed: 9.2ms preprocess, 21.3ms inference, 4.0ms postprocess per image at shape (1, 3, 640, 640)\n",
      "\n",
      "0: 640x640 1 plat, 13.1ms\n",
      "Speed: 5.0ms preprocess, 13.1ms inference, 7.1ms postprocess per image at shape (1, 3, 640, 640)\n",
      "\n",
      "0: 640x640 1 plat, 15.7ms\n",
      "Speed: 7.7ms preprocess, 15.7ms inference, 5.0ms postprocess per image at shape (1, 3, 640, 640)\n",
      "\n",
      "0: 640x640 1 plat, 12.6ms\n",
      "Speed: 7.5ms preprocess, 12.6ms inference, 8.0ms postprocess per image at shape (1, 3, 640, 640)\n",
      "\n",
      "0: 640x640 1 plat, 12.8ms\n",
      "Speed: 7.0ms preprocess, 12.8ms inference, 4.6ms postprocess per image at shape (1, 3, 640, 640)\n",
      "\n",
      "0: 640x640 1 plat, 12.7ms\n",
      "Speed: 7.5ms preprocess, 12.7ms inference, 3.8ms postprocess per image at shape (1, 3, 640, 640)\n",
      "\n",
      "0: 640x640 1 plat, 11.8ms\n",
      "Speed: 6.7ms preprocess, 11.8ms inference, 4.9ms postprocess per image at shape (1, 3, 640, 640)\n",
      "\n",
      "0: 640x640 1 plat, 17.4ms\n",
      "Speed: 7.0ms preprocess, 17.4ms inference, 12.0ms postprocess per image at shape (1, 3, 640, 640)\n",
      "\n",
      "0: 640x640 1 plat, 21.9ms\n",
      "Speed: 7.5ms preprocess, 21.9ms inference, 11.0ms postprocess per image at shape (1, 3, 640, 640)\n",
      "\n",
      "0: 640x640 1 plat, 20.0ms\n",
      "Speed: 8.7ms preprocess, 20.0ms inference, 2.0ms postprocess per image at shape (1, 3, 640, 640)\n",
      "\n",
      "0: 640x640 1 plat, 13.0ms\n",
      "Speed: 7.0ms preprocess, 13.0ms inference, 4.0ms postprocess per image at shape (1, 3, 640, 640)\n",
      "\n",
      "0: 640x640 1 plat, 17.0ms\n",
      "Speed: 7.1ms preprocess, 17.0ms inference, 3.0ms postprocess per image at shape (1, 3, 640, 640)\n",
      "\n",
      "0: 640x640 2 plats, 16.0ms\n",
      "Speed: 6.0ms preprocess, 16.0ms inference, 7.0ms postprocess per image at shape (1, 3, 640, 640)\n",
      "\n",
      "0: 640x640 1 plat, 13.0ms\n",
      "Speed: 6.0ms preprocess, 13.0ms inference, 5.0ms postprocess per image at shape (1, 3, 640, 640)\n",
      "\n",
      "0: 640x640 1 plat, 15.0ms\n",
      "Speed: 7.0ms preprocess, 15.0ms inference, 3.0ms postprocess per image at shape (1, 3, 640, 640)\n",
      "\n",
      "0: 640x640 1 plat, 13.0ms\n",
      "Speed: 6.0ms preprocess, 13.0ms inference, 6.0ms postprocess per image at shape (1, 3, 640, 640)\n",
      "\n",
      "0: 640x640 2 plats, 12.0ms\n",
      "Speed: 6.0ms preprocess, 12.0ms inference, 3.0ms postprocess per image at shape (1, 3, 640, 640)\n",
      "\n",
      "0: 640x640 1 plat, 14.0ms\n",
      "Speed: 7.0ms preprocess, 14.0ms inference, 5.0ms postprocess per image at shape (1, 3, 640, 640)\n",
      "\n",
      "0: 640x640 1 plat, 12.0ms\n",
      "Speed: 6.0ms preprocess, 12.0ms inference, 4.0ms postprocess per image at shape (1, 3, 640, 640)\n",
      "\n",
      "0: 640x640 2 plats, 15.0ms\n",
      "Speed: 6.0ms preprocess, 15.0ms inference, 3.0ms postprocess per image at shape (1, 3, 640, 640)\n",
      "\n",
      "0: 640x640 1 plat, 12.0ms\n",
      "Speed: 6.0ms preprocess, 12.0ms inference, 7.0ms postprocess per image at shape (1, 3, 640, 640)\n",
      "\n",
      "0: 640x640 1 plat, 12.0ms\n",
      "Speed: 5.0ms preprocess, 12.0ms inference, 5.0ms postprocess per image at shape (1, 3, 640, 640)\n",
      "\n",
      "0: 640x640 1 plat, 13.0ms\n",
      "Speed: 7.0ms preprocess, 13.0ms inference, 5.0ms postprocess per image at shape (1, 3, 640, 640)\n",
      "\n",
      "0: 640x640 1 plat, 17.0ms\n",
      "Speed: 4.0ms preprocess, 17.0ms inference, 4.0ms postprocess per image at shape (1, 3, 640, 640)\n",
      "\n",
      "0: 640x640 1 plat, 12.0ms\n",
      "Speed: 4.0ms preprocess, 12.0ms inference, 4.0ms postprocess per image at shape (1, 3, 640, 640)\n",
      "\n",
      "0: 640x640 1 plat, 13.0ms\n",
      "Speed: 5.0ms preprocess, 13.0ms inference, 2.0ms postprocess per image at shape (1, 3, 640, 640)\n",
      "\n",
      "0: 640x640 1 plat, 12.0ms\n",
      "Speed: 6.0ms preprocess, 12.0ms inference, 2.0ms postprocess per image at shape (1, 3, 640, 640)\n",
      "\n",
      "0: 640x640 1 plat, 12.0ms\n",
      "Speed: 5.0ms preprocess, 12.0ms inference, 2.0ms postprocess per image at shape (1, 3, 640, 640)\n",
      "\n",
      "0: 640x640 1 plat, 11.0ms\n",
      "Speed: 5.0ms preprocess, 11.0ms inference, 4.0ms postprocess per image at shape (1, 3, 640, 640)\n",
      "\n",
      "0: 640x640 1 plat, 12.0ms\n",
      "Speed: 6.0ms preprocess, 12.0ms inference, 3.0ms postprocess per image at shape (1, 3, 640, 640)\n",
      "\n",
      "0: 640x640 1 plat, 12.0ms\n",
      "Speed: 5.0ms preprocess, 12.0ms inference, 2.0ms postprocess per image at shape (1, 3, 640, 640)\n",
      "\n",
      "0: 640x640 1 plat, 12.0ms\n",
      "Speed: 5.0ms preprocess, 12.0ms inference, 2.0ms postprocess per image at shape (1, 3, 640, 640)\n",
      "\n",
      "0: 640x640 1 plat, 12.0ms\n",
      "Speed: 5.0ms preprocess, 12.0ms inference, 2.0ms postprocess per image at shape (1, 3, 640, 640)\n",
      "\n",
      "0: 640x640 1 plat, 13.0ms\n",
      "Speed: 5.0ms preprocess, 13.0ms inference, 2.0ms postprocess per image at shape (1, 3, 640, 640)\n",
      "\n",
      "0: 640x640 1 plat, 12.0ms\n",
      "Speed: 5.0ms preprocess, 12.0ms inference, 2.0ms postprocess per image at shape (1, 3, 640, 640)\n",
      "\n",
      "0: 640x640 1 plat, 12.0ms\n",
      "Speed: 5.0ms preprocess, 12.0ms inference, 2.0ms postprocess per image at shape (1, 3, 640, 640)\n",
      "\n",
      "0: 640x640 1 plat, 12.0ms\n",
      "Speed: 4.0ms preprocess, 12.0ms inference, 2.0ms postprocess per image at shape (1, 3, 640, 640)\n",
      "\n",
      "0: 640x640 1 plat, 12.0ms\n",
      "Speed: 4.0ms preprocess, 12.0ms inference, 2.0ms postprocess per image at shape (1, 3, 640, 640)\n",
      "\n",
      "0: 640x640 1 plat, 11.0ms\n",
      "Speed: 5.0ms preprocess, 11.0ms inference, 2.0ms postprocess per image at shape (1, 3, 640, 640)\n",
      "\n",
      "0: 640x640 1 plat, 12.0ms\n",
      "Speed: 5.0ms preprocess, 12.0ms inference, 2.0ms postprocess per image at shape (1, 3, 640, 640)\n",
      "\n",
      "0: 640x640 1 plat, 11.0ms\n",
      "Speed: 4.0ms preprocess, 11.0ms inference, 2.0ms postprocess per image at shape (1, 3, 640, 640)\n",
      "\n",
      "0: 640x640 1 plat, 11.0ms\n",
      "Speed: 6.0ms preprocess, 11.0ms inference, 2.0ms postprocess per image at shape (1, 3, 640, 640)\n",
      "\n",
      "0: 640x640 1 plat, 11.0ms\n",
      "Speed: 5.0ms preprocess, 11.0ms inference, 2.0ms postprocess per image at shape (1, 3, 640, 640)\n",
      "\n",
      "0: 640x640 1 plat, 11.0ms\n",
      "Speed: 5.0ms preprocess, 11.0ms inference, 2.0ms postprocess per image at shape (1, 3, 640, 640)\n",
      "\n",
      "0: 640x640 1 plat, 10.0ms\n",
      "Speed: 5.0ms preprocess, 10.0ms inference, 2.0ms postprocess per image at shape (1, 3, 640, 640)\n",
      "\n",
      "0: 640x640 1 plat, 11.0ms\n",
      "Speed: 5.0ms preprocess, 11.0ms inference, 2.0ms postprocess per image at shape (1, 3, 640, 640)\n",
      "\n",
      "0: 640x640 1 plat, 11.0ms\n",
      "Speed: 4.0ms preprocess, 11.0ms inference, 2.0ms postprocess per image at shape (1, 3, 640, 640)\n",
      "\n",
      "0: 640x640 1 plat, 11.0ms\n",
      "Speed: 4.0ms preprocess, 11.0ms inference, 2.0ms postprocess per image at shape (1, 3, 640, 640)\n",
      "\n",
      "0: 640x640 1 plat, 13.0ms\n",
      "Speed: 5.0ms preprocess, 13.0ms inference, 2.0ms postprocess per image at shape (1, 3, 640, 640)\n",
      "\n",
      "0: 640x640 1 plat, 13.0ms\n",
      "Speed: 5.0ms preprocess, 13.0ms inference, 2.0ms postprocess per image at shape (1, 3, 640, 640)\n",
      "\n",
      "0: 640x640 1 plat, 11.0ms\n",
      "Speed: 5.0ms preprocess, 11.0ms inference, 2.0ms postprocess per image at shape (1, 3, 640, 640)\n",
      "\n",
      "0: 640x640 1 plat, 12.0ms\n",
      "Speed: 5.0ms preprocess, 12.0ms inference, 2.0ms postprocess per image at shape (1, 3, 640, 640)\n",
      "\n",
      "0: 640x640 1 plat, 12.0ms\n",
      "Speed: 6.0ms preprocess, 12.0ms inference, 2.0ms postprocess per image at shape (1, 3, 640, 640)\n",
      "\n",
      "0: 640x640 1 plat, 10.0ms\n",
      "Speed: 5.0ms preprocess, 10.0ms inference, 2.0ms postprocess per image at shape (1, 3, 640, 640)\n",
      "\n",
      "0: 640x640 1 plat, 11.0ms\n",
      "Speed: 5.0ms preprocess, 11.0ms inference, 3.0ms postprocess per image at shape (1, 3, 640, 640)\n",
      "\n",
      "0: 640x640 1 plat, 11.0ms\n",
      "Speed: 5.0ms preprocess, 11.0ms inference, 2.0ms postprocess per image at shape (1, 3, 640, 640)\n",
      "\n",
      "0: 640x640 1 plat, 11.0ms\n",
      "Speed: 5.0ms preprocess, 11.0ms inference, 2.0ms postprocess per image at shape (1, 3, 640, 640)\n",
      "\n",
      "0: 640x640 1 plat, 11.0ms\n",
      "Speed: 5.0ms preprocess, 11.0ms inference, 2.0ms postprocess per image at shape (1, 3, 640, 640)\n",
      "\n",
      "0: 640x640 1 plat, 11.0ms\n",
      "Speed: 5.0ms preprocess, 11.0ms inference, 3.0ms postprocess per image at shape (1, 3, 640, 640)\n",
      "\n",
      "0: 640x640 (no detections), 11.0ms\n",
      "Speed: 4.0ms preprocess, 11.0ms inference, 1.0ms postprocess per image at shape (1, 3, 640, 640)\n",
      "\n",
      "0: 640x640 1 plat, 11.0ms\n",
      "Speed: 4.0ms preprocess, 11.0ms inference, 4.0ms postprocess per image at shape (1, 3, 640, 640)\n",
      "\n",
      "0: 640x640 1 plat, 11.0ms\n",
      "Speed: 4.0ms preprocess, 11.0ms inference, 3.0ms postprocess per image at shape (1, 3, 640, 640)\n",
      "\n",
      "0: 640x640 1 plat, 11.0ms\n",
      "Speed: 5.0ms preprocess, 11.0ms inference, 3.0ms postprocess per image at shape (1, 3, 640, 640)\n",
      "\n",
      "0: 640x640 1 plat, 11.0ms\n",
      "Speed: 6.0ms preprocess, 11.0ms inference, 4.0ms postprocess per image at shape (1, 3, 640, 640)\n",
      "\n",
      "0: 640x640 1 plat, 10.0ms\n",
      "Speed: 6.0ms preprocess, 10.0ms inference, 4.0ms postprocess per image at shape (1, 3, 640, 640)\n",
      "\n",
      "0: 640x640 1 plat, 14.0ms\n",
      "Speed: 5.0ms preprocess, 14.0ms inference, 2.0ms postprocess per image at shape (1, 3, 640, 640)\n",
      "\n",
      "0: 640x640 1 plat, 11.0ms\n",
      "Speed: 5.0ms preprocess, 11.0ms inference, 2.0ms postprocess per image at shape (1, 3, 640, 640)\n",
      "\n",
      "0: 640x640 1 plat, 11.0ms\n",
      "Speed: 4.0ms preprocess, 11.0ms inference, 2.0ms postprocess per image at shape (1, 3, 640, 640)\n",
      "\n",
      "0: 640x640 (no detections), 10.0ms\n",
      "Speed: 5.0ms preprocess, 10.0ms inference, 1.0ms postprocess per image at shape (1, 3, 640, 640)\n",
      "\n",
      "0: 640x640 1 plat, 11.0ms\n",
      "Speed: 4.0ms preprocess, 11.0ms inference, 2.0ms postprocess per image at shape (1, 3, 640, 640)\n",
      "\n",
      "0: 640x640 2 plats, 12.0ms\n",
      "Speed: 4.0ms preprocess, 12.0ms inference, 2.0ms postprocess per image at shape (1, 3, 640, 640)\n",
      "\n",
      "0: 640x640 2 plats, 11.0ms\n",
      "Speed: 5.0ms preprocess, 11.0ms inference, 2.0ms postprocess per image at shape (1, 3, 640, 640)\n",
      "\n",
      "0: 640x640 (no detections), 10.0ms\n",
      "Speed: 6.0ms preprocess, 10.0ms inference, 3.0ms postprocess per image at shape (1, 3, 640, 640)\n",
      "\n",
      "0: 640x640 1 plat, 11.0ms\n",
      "Speed: 4.0ms preprocess, 11.0ms inference, 2.0ms postprocess per image at shape (1, 3, 640, 640)\n",
      "\n",
      "0: 640x640 1 plat, 10.0ms\n",
      "Speed: 6.0ms preprocess, 10.0ms inference, 3.0ms postprocess per image at shape (1, 3, 640, 640)\n",
      "\n",
      "0: 640x640 1 plat, 10.0ms\n",
      "Speed: 5.0ms preprocess, 10.0ms inference, 3.0ms postprocess per image at shape (1, 3, 640, 640)\n",
      "\n",
      "0: 640x640 1 plat, 10.0ms\n",
      "Speed: 4.0ms preprocess, 10.0ms inference, 2.0ms postprocess per image at shape (1, 3, 640, 640)\n",
      "\n",
      "0: 640x640 1 plat, 10.0ms\n",
      "Speed: 5.0ms preprocess, 10.0ms inference, 2.0ms postprocess per image at shape (1, 3, 640, 640)\n",
      "\n",
      "0: 640x640 2 plats, 10.0ms\n",
      "Speed: 5.0ms preprocess, 10.0ms inference, 4.0ms postprocess per image at shape (1, 3, 640, 640)\n",
      "\n",
      "0: 640x640 1 plat, 11.0ms\n",
      "Speed: 7.0ms preprocess, 11.0ms inference, 2.8ms postprocess per image at shape (1, 3, 640, 640)\n",
      "\n",
      "0: 640x640 1 plat, 9.9ms\n",
      "Speed: 7.6ms preprocess, 9.9ms inference, 2.2ms postprocess per image at shape (1, 3, 640, 640)\n",
      "\n",
      "0: 640x640 1 plat, 9.8ms\n",
      "Speed: 5.4ms preprocess, 9.8ms inference, 2.0ms postprocess per image at shape (1, 3, 640, 640)\n",
      "\n",
      "0: 640x640 1 plat, 17.0ms\n",
      "Speed: 4.0ms preprocess, 17.0ms inference, 7.0ms postprocess per image at shape (1, 3, 640, 640)\n",
      "\n",
      "0: 640x640 1 plat, 20.3ms\n",
      "Speed: 11.0ms preprocess, 20.3ms inference, 2.7ms postprocess per image at shape (1, 3, 640, 640)\n",
      "\n",
      "0: 640x640 1 plat, 14.0ms\n",
      "Speed: 9.0ms preprocess, 14.0ms inference, 5.0ms postprocess per image at shape (1, 3, 640, 640)\n",
      "\n",
      "0: 640x640 (no detections), 14.9ms\n",
      "Speed: 8.4ms preprocess, 14.9ms inference, 1.0ms postprocess per image at shape (1, 3, 640, 640)\n",
      "\n",
      "0: 640x640 1 plat, 11.0ms\n",
      "Speed: 6.7ms preprocess, 11.0ms inference, 3.0ms postprocess per image at shape (1, 3, 640, 640)\n",
      "\n",
      "0: 640x640 (no detections), 10.1ms\n",
      "Speed: 4.3ms preprocess, 10.1ms inference, 1.0ms postprocess per image at shape (1, 3, 640, 640)\n",
      "\n",
      "0: 640x640 1 plat, 9.5ms\n",
      "Speed: 4.3ms preprocess, 9.5ms inference, 2.1ms postprocess per image at shape (1, 3, 640, 640)\n",
      "\n",
      "0: 640x640 1 plat, 16.6ms\n",
      "Speed: 4.8ms preprocess, 16.6ms inference, 3.9ms postprocess per image at shape (1, 3, 640, 640)\n",
      "\n",
      "0: 640x640 1 plat, 22.0ms\n",
      "Speed: 9.0ms preprocess, 22.0ms inference, 6.0ms postprocess per image at shape (1, 3, 640, 640)\n",
      "\n",
      "0: 640x640 1 plat, 17.5ms\n",
      "Speed: 8.3ms preprocess, 17.5ms inference, 2.5ms postprocess per image at shape (1, 3, 640, 640)\n",
      "\n",
      "0: 640x640 2 plats, 12.0ms\n",
      "Speed: 6.0ms preprocess, 12.0ms inference, 4.0ms postprocess per image at shape (1, 3, 640, 640)\n",
      "\n",
      "0: 640x640 1 plat, 10.0ms\n",
      "Speed: 5.0ms preprocess, 10.0ms inference, 2.0ms postprocess per image at shape (1, 3, 640, 640)\n",
      "\n",
      "0: 640x640 1 plat, 10.0ms\n",
      "Speed: 5.0ms preprocess, 10.0ms inference, 2.0ms postprocess per image at shape (1, 3, 640, 640)\n",
      "\n",
      "0: 640x640 1 plat, 10.0ms\n",
      "Speed: 4.0ms preprocess, 10.0ms inference, 2.0ms postprocess per image at shape (1, 3, 640, 640)\n",
      "\n",
      "0: 640x640 1 plat, 10.0ms\n",
      "Speed: 4.0ms preprocess, 10.0ms inference, 1.0ms postprocess per image at shape (1, 3, 640, 640)\n",
      "\n",
      "0: 640x640 1 plat, 10.0ms\n",
      "Speed: 4.0ms preprocess, 10.0ms inference, 2.0ms postprocess per image at shape (1, 3, 640, 640)\n",
      "\n",
      "0: 640x640 1 plat, 10.0ms\n",
      "Speed: 5.0ms preprocess, 10.0ms inference, 2.0ms postprocess per image at shape (1, 3, 640, 640)\n",
      "\n",
      "0: 640x640 1 plat, 13.0ms\n",
      "Speed: 6.0ms preprocess, 13.0ms inference, 3.0ms postprocess per image at shape (1, 3, 640, 640)\n",
      "\n",
      "0: 640x640 1 plat, 18.0ms\n",
      "Speed: 10.0ms preprocess, 18.0ms inference, 3.0ms postprocess per image at shape (1, 3, 640, 640)\n",
      "\n",
      "0: 640x640 2 plats, 15.0ms\n",
      "Speed: 7.0ms preprocess, 15.0ms inference, 5.0ms postprocess per image at shape (1, 3, 640, 640)\n",
      "\n",
      "0: 640x640 1 plat, 15.0ms\n",
      "Speed: 8.0ms preprocess, 15.0ms inference, 2.0ms postprocess per image at shape (1, 3, 640, 640)\n",
      "\n",
      "0: 640x640 1 plat, 10.0ms\n",
      "Speed: 4.0ms preprocess, 10.0ms inference, 2.0ms postprocess per image at shape (1, 3, 640, 640)\n",
      "\n",
      "0: 640x640 1 plat, 10.0ms\n",
      "Speed: 4.0ms preprocess, 10.0ms inference, 2.0ms postprocess per image at shape (1, 3, 640, 640)\n",
      "\n",
      "0: 640x640 1 plat, 10.0ms\n",
      "Speed: 5.0ms preprocess, 10.0ms inference, 2.0ms postprocess per image at shape (1, 3, 640, 640)\n",
      "\n",
      "0: 640x640 1 plat, 14.0ms\n",
      "Speed: 8.0ms preprocess, 14.0ms inference, 3.0ms postprocess per image at shape (1, 3, 640, 640)\n",
      "\n",
      "0: 640x640 1 plat, 15.0ms\n",
      "Speed: 8.0ms preprocess, 15.0ms inference, 4.0ms postprocess per image at shape (1, 3, 640, 640)\n",
      "\n",
      "0: 640x640 1 plat, 16.0ms\n",
      "Speed: 10.0ms preprocess, 16.0ms inference, 3.0ms postprocess per image at shape (1, 3, 640, 640)\n",
      "\n",
      "0: 640x640 1 plat, 16.0ms\n",
      "Speed: 9.0ms preprocess, 16.0ms inference, 3.0ms postprocess per image at shape (1, 3, 640, 640)\n",
      "\n",
      "0: 640x640 1 plat, 10.0ms\n",
      "Speed: 7.0ms preprocess, 10.0ms inference, 2.0ms postprocess per image at shape (1, 3, 640, 640)\n",
      "\n",
      "0: 640x640 1 plat, 13.0ms\n",
      "Speed: 6.0ms preprocess, 13.0ms inference, 3.0ms postprocess per image at shape (1, 3, 640, 640)\n",
      "\n",
      "0: 640x640 1 plat, 13.0ms\n",
      "Speed: 6.0ms preprocess, 13.0ms inference, 3.0ms postprocess per image at shape (1, 3, 640, 640)\n",
      "\n",
      "0: 640x640 1 plat, 10.0ms\n",
      "Speed: 6.0ms preprocess, 10.0ms inference, 2.0ms postprocess per image at shape (1, 3, 640, 640)\n",
      "\n",
      "0: 640x640 1 plat, 14.0ms\n",
      "Speed: 9.0ms preprocess, 14.0ms inference, 3.0ms postprocess per image at shape (1, 3, 640, 640)\n",
      "\n",
      "0: 640x640 1 plat, 11.0ms\n",
      "Speed: 5.0ms preprocess, 11.0ms inference, 2.0ms postprocess per image at shape (1, 3, 640, 640)\n",
      "\n",
      "0: 640x640 1 plat, 10.0ms\n",
      "Speed: 4.0ms preprocess, 10.0ms inference, 2.0ms postprocess per image at shape (1, 3, 640, 640)\n",
      "\n",
      "0: 640x640 1 plat, 10.0ms\n",
      "Speed: 4.0ms preprocess, 10.0ms inference, 2.0ms postprocess per image at shape (1, 3, 640, 640)\n",
      "\n",
      "0: 640x640 1 plat, 11.0ms\n",
      "Speed: 4.0ms preprocess, 11.0ms inference, 2.0ms postprocess per image at shape (1, 3, 640, 640)\n",
      "\n",
      "0: 640x640 1 plat, 10.0ms\n",
      "Speed: 5.0ms preprocess, 10.0ms inference, 2.0ms postprocess per image at shape (1, 3, 640, 640)\n",
      "\n",
      "0: 640x640 1 plat, 10.0ms\n",
      "Speed: 4.0ms preprocess, 10.0ms inference, 2.0ms postprocess per image at shape (1, 3, 640, 640)\n",
      "\n",
      "0: 640x640 1 plat, 10.0ms\n",
      "Speed: 4.0ms preprocess, 10.0ms inference, 2.0ms postprocess per image at shape (1, 3, 640, 640)\n",
      "\n",
      "0: 640x640 1 plat, 11.0ms\n",
      "Speed: 4.0ms preprocess, 11.0ms inference, 2.0ms postprocess per image at shape (1, 3, 640, 640)\n",
      "\n",
      "0: 640x640 1 plat, 11.0ms\n",
      "Speed: 4.0ms preprocess, 11.0ms inference, 2.0ms postprocess per image at shape (1, 3, 640, 640)\n",
      "\n",
      "0: 640x640 1 plat, 11.0ms\n",
      "Speed: 5.0ms preprocess, 11.0ms inference, 2.0ms postprocess per image at shape (1, 3, 640, 640)\n",
      "\n",
      "0: 640x640 1 plat, 12.0ms\n",
      "Speed: 5.0ms preprocess, 12.0ms inference, 2.0ms postprocess per image at shape (1, 3, 640, 640)\n",
      "\n",
      "0: 640x640 1 plat, 11.0ms\n",
      "Speed: 4.0ms preprocess, 11.0ms inference, 2.0ms postprocess per image at shape (1, 3, 640, 640)\n",
      "\n",
      "0: 640x640 2 plats, 11.0ms\n",
      "Speed: 4.0ms preprocess, 11.0ms inference, 2.0ms postprocess per image at shape (1, 3, 640, 640)\n",
      "\n",
      "0: 640x640 1 plat, 10.0ms\n",
      "Speed: 5.0ms preprocess, 10.0ms inference, 2.0ms postprocess per image at shape (1, 3, 640, 640)\n",
      "\n",
      "0: 640x640 1 plat, 10.0ms\n",
      "Speed: 5.0ms preprocess, 10.0ms inference, 2.0ms postprocess per image at shape (1, 3, 640, 640)\n",
      "\n",
      "0: 640x640 1 plat, 13.0ms\n",
      "Speed: 5.0ms preprocess, 13.0ms inference, 2.0ms postprocess per image at shape (1, 3, 640, 640)\n",
      "\n",
      "0: 640x640 1 plat, 11.0ms\n",
      "Speed: 5.0ms preprocess, 11.0ms inference, 2.0ms postprocess per image at shape (1, 3, 640, 640)\n",
      "\n",
      "0: 640x640 1 plat, 10.0ms\n",
      "Speed: 10.0ms preprocess, 10.0ms inference, 3.0ms postprocess per image at shape (1, 3, 640, 640)\n",
      "\n",
      "0: 640x640 1 plat, 11.0ms\n",
      "Speed: 6.0ms preprocess, 11.0ms inference, 2.0ms postprocess per image at shape (1, 3, 640, 640)\n"
     ]
    }
   ],
   "source": [
    "# Set up directories\n",
    "base_dir = \"./data\"\n",
    "test_dir = os.path.join(base_dir, \"Test\")\n",
    "images_dir = os.path.join(test_dir, \"images\")\n",
    "labels_dir = os.path.join(test_dir, \"labels\")\n",
    "\n",
    "# Load the YOLOv8 model\n",
    "model = YOLO('runs/detect/train9/weights/best.pt')  # Path to your trained model\n",
    "\n",
    "# Initialize lists to store true and predicted labels\n",
    "y_true = []\n",
    "y_pred = []\n",
    "\n",
    "# Define class for 'plat'\n",
    "plat_class_id = 0  # Assuming class 0 corresponds to 'plat'\n",
    "\n",
    "# Process each image in the test set\n",
    "for img_name in os.listdir(images_dir):\n",
    "    if img_name.endswith(('.jpg', '.png', '.jpeg')):  # Filter for image files\n",
    "        img_path = os.path.join(images_dir, img_name)\n",
    "        \n",
    "        # Load image\n",
    "        image = cv2.imread(img_path)\n",
    "        image_rgb = cv2.cvtColor(image, cv2.COLOR_BGR2RGB)  # Convert BGR to RGB\n",
    "\n",
    "        # Run inference\n",
    "        results = model.predict(image_rgb)\n",
    "\n",
    "        # Get predictions\n",
    "        predictions = results[0]  # Get the first prediction result\n",
    "\n",
    "        # Extract predicted class indices\n",
    "        pred_classes = predictions.boxes.cls.cpu().numpy().astype(int) if predictions.boxes else []\n",
    "\n",
    "        # Determine if a 'plat' was detected in the predictions\n",
    "        detected_plat = any(pred_class == plat_class_id for pred_class in pred_classes)\n",
    "\n",
    "        # Load the true labels from the labels directory\n",
    "        label_path = os.path.join(labels_dir, img_name.replace('.jpg', '.txt').replace('.png', '.txt'))\n",
    "        \n",
    "        # Determine if 'plat' is present in the true labels\n",
    "        if os.path.exists(label_path):\n",
    "            true_labels = np.loadtxt(label_path, dtype=int, usecols=(0))  # Assuming class labels are in the first column\n",
    "            \n",
    "            # Ensure true_labels is a list\n",
    "            if true_labels.ndim == 0:  # Single value case\n",
    "                true_labels = [true_labels.item()]  # Convert to list\n",
    "            else:\n",
    "                true_labels = true_labels.tolist()  # Convert to list\n",
    "            \n",
    "            # Check if 'plat' is present in true labels\n",
    "            true_plat_present = any(true_label == plat_class_id for true_label in true_labels)\n",
    "        else:\n",
    "            true_plat_present = False  # No label file means no plat in the image\n",
    "\n",
    "        # Append the ground truth and prediction as binary values\n",
    "        y_true.append(1 if true_plat_present else 0)  # 1 if 'plat' is in true labels, 0 otherwise\n",
    "        y_pred.append(1 if detected_plat else 0)  # 1 if 'plat' was detected, 0 otherwise"
   ]
  },
  {
   "cell_type": "code",
   "execution_count": 31,
   "metadata": {},
   "outputs": [],
   "source": [
    "%matplotlib inline"
   ]
  },
  {
   "cell_type": "code",
   "execution_count": 33,
   "metadata": {},
   "outputs": [
    {
     "name": "stdout",
     "output_type": "stream",
     "text": [
      "Accuracy: 0.97\n",
      "Precision: 1.00\n",
      "Recall: 0.97\n",
      "F1-Score: 0.98\n"
     ]
    },
    {
     "data": {
      "image/png": "[encoded data removed]",
      "text/plain": [
       "<Figure size 640x480 with 2 Axes>"
      ]
     },
     "metadata": {},
     "output_type": "display_data"
    }
   ],
   "source": [
    "# Calculate confusion matrix if both lists are populated\n",
    "if y_true and y_pred:\n",
    "    # Calculate metrics (Accuracy, Precision, Recall, F1-Score)\n",
    "    accuracy = accuracy_score(y_true, y_pred)\n",
    "    precision = precision_score(y_true, y_pred)\n",
    "    recall = recall_score(y_true, y_pred)\n",
    "    f1 = f1_score(y_true, y_pred)\n",
    "    \n",
    "    # Display the results\n",
    "    print(f\"Accuracy: {accuracy:.2f}\")\n",
    "    print(f\"Precision: {precision:.2f}\")\n",
    "    print(f\"Recall: {recall:.2f}\")\n",
    "    print(f\"F1-Score: {f1:.2f}\")\n",
    "    \n",
    "    # Display the confusion matrix\n",
    "    cm = confusion_matrix(y_true, y_pred, labels=[0, 1])\n",
    "    disp = ConfusionMatrixDisplay(confusion_matrix=cm, display_labels=['No Plat', 'Plat'])\n",
    "    disp.plot(cmap=plt.cm.Blues)\n",
    "    plt.show()\n",
    "else:\n",
    "    print(\"No predictions or true labels to calculate metrics.\")"
   ]
  },
  {
   "cell_type": "code",
   "execution_count": null,
   "metadata": {},
   "outputs": [],
   "source": []
  }
 ],
 "metadata": {
  "kernelspec": {
   "display_name": "Python 3 (ipykernel)",
   "language": "python",
   "name": "python3"
  },
  "language_info": {
   "codemirror_mode": {
    "name": "ipython",
    "version": 3
   },
   "file_extension": ".py",
   "mimetype": "text/x-python",
   "name": "python",
   "nbconvert_exporter": "python",
   "pygments_lexer": "ipython3",
   "version": "3.10.5"
  }
 },
 "nbformat": 4,
 "nbformat_minor": 4
}
