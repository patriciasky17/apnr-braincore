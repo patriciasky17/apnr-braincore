{
 "cells": [
  {
   "cell_type": "code",
   "execution_count": 8,
   "metadata": {},
   "outputs": [],
   "source": [
    "import os\n",
    "import cv2\n",
    "import numpy as np\n",
    "import sys\n",
    "from ultralytics import YOLO\n",
    "import torch\n",
    "import torchvision.transforms as transforms\n",
    "import shutil\n",
    "from sklearn.metrics import confusion_matrix, ConfusionMatrixDisplay, accuracy_score, precision_score, recall_score, f1_score\n",
    "import supervision as sv\n",
    "import matplotlib.pyplot as plt"
   ]
  },
  {
   "cell_type": "code",
   "execution_count": 9,
   "metadata": {},
   "outputs": [],
   "source": [
    "base_dir = \"./data\"\n",
    "\n",
    "train_dir = os.path.join(base_dir, \"train\")\n",
    "valid_dir = os.path.join(base_dir, \"valid\")\n",
    "test_dir = os.path.join(base_dir, \"Test\")"
   ]
  },
  {
   "cell_type": "code",
   "execution_count": 3,
   "metadata": {},
   "outputs": [],
   "source": [
    "image_size = (640, 640)"
   ]
  },
  {
   "cell_type": "code",
   "execution_count": 4,
   "metadata": {},
   "outputs": [
    {
     "name": "stdout",
     "output_type": "stream",
     "text": [
      "Downloading https://github.com/ultralytics/assets/releases/download/v8.2.0/yolov8n-obb.pt to 'yolov8n-obb.pt'...\n"
     ]
    },
    {
     "name": "stderr",
     "output_type": "stream",
     "text": [
      "100%|███████████████████████████████████████████████████████████████████████████████████████████████████████████| 6.26M/6.26M [00:00<00:00, 7.69MB/s]\n"
     ]
    },
    {
     "name": "stdout",
     "output_type": "stream",
     "text": [
      "New https://pypi.org/project/ultralytics/8.3.0 available  Update with 'pip install -U ultralytics'\n",
      "Ultralytics YOLOv8.2.103  Python-3.10.5 torch-2.4.1+cu121 CUDA:0 (NVIDIA GeForce RTX 2070 with Max-Q Design, 8192MiB)\n",
      "\u001b[34m\u001b[1mengine\\trainer: \u001b[0mtask=obb, mode=train, model=yolov8n-obb.pt, data=./data\\data.yaml, epochs=50, time=None, patience=100, batch=16, imgsz=640, save=True, save_period=-1, cache=False, device=None, workers=8, project=None, name=train, exist_ok=False, pretrained=True, optimizer=auto, verbose=True, seed=0, deterministic=True, single_cls=False, rect=False, cos_lr=False, close_mosaic=10, resume=False, amp=True, fraction=1.0, profile=False, freeze=None, multi_scale=False, overlap_mask=True, mask_ratio=4, dropout=0.0, val=True, split=val, save_json=False, save_hybrid=False, conf=None, iou=0.7, max_det=300, half=False, dnn=False, plots=True, source=None, vid_stride=1, stream_buffer=False, visualize=False, augment=False, agnostic_nms=False, classes=None, retina_masks=False, embed=None, show=False, save_frames=False, save_txt=False, save_conf=False, save_crop=False, show_labels=True, show_conf=True, show_boxes=True, line_width=None, format=torchscript, keras=False, optimize=False, int8=False, dynamic=False, simplify=True, opset=None, workspace=4, nms=False, lr0=0.01, lrf=0.01, momentum=0.937, weight_decay=0.0005, warmup_epochs=3.0, warmup_momentum=0.8, warmup_bias_lr=0.1, box=7.5, cls=0.5, dfl=1.5, pose=12.0, kobj=1.0, label_smoothing=0.0, nbs=64, hsv_h=0.015, hsv_s=0.7, hsv_v=0.4, degrees=0.0, translate=0.1, scale=0.5, shear=0.0, perspective=0.0, flipud=0.0, fliplr=0.5, bgr=0.0, mosaic=1.0, mixup=0.0, copy_paste=0.0, auto_augment=randaugment, erasing=0.4, crop_fraction=1.0, cfg=None, tracker=botsort.yaml, save_dir=runs\\obb\\train\n",
      "Overriding model.yaml nc=15 with nc=1\n",
      "\n",
      "                   from  n    params  module                                       arguments                     \n",
      "  0                  -1  1       464  ultralytics.nn.modules.conv.Conv             [3, 16, 3, 2]                 \n",
      "  1                  -1  1      4672  ultralytics.nn.modules.conv.Conv             [16, 32, 3, 2]                \n",
      "  2                  -1  1      7360  ultralytics.nn.modules.block.C2f             [32, 32, 1, True]             \n",
      "  3                  -1  1     18560  ultralytics.nn.modules.conv.Conv             [32, 64, 3, 2]                \n",
      "  4                  -1  2     49664  ultralytics.nn.modules.block.C2f             [64, 64, 2, True]             \n",
      "  5                  -1  1     73984  ultralytics.nn.modules.conv.Conv             [64, 128, 3, 2]               \n",
      "  6                  -1  2    197632  ultralytics.nn.modules.block.C2f             [128, 128, 2, True]           \n",
      "  7                  -1  1    295424  ultralytics.nn.modules.conv.Conv             [128, 256, 3, 2]              \n",
      "  8                  -1  1    460288  ultralytics.nn.modules.block.C2f             [256, 256, 1, True]           \n",
      "  9                  -1  1    164608  ultralytics.nn.modules.block.SPPF            [256, 256, 5]                 \n",
      " 10                  -1  1         0  torch.nn.modules.upsampling.Upsample         [None, 2, 'nearest']          \n",
      " 11             [-1, 6]  1         0  ultralytics.nn.modules.conv.Concat           [1]                           \n",
      " 12                  -1  1    148224  ultralytics.nn.modules.block.C2f             [384, 128, 1]                 \n",
      " 13                  -1  1         0  torch.nn.modules.upsampling.Upsample         [None, 2, 'nearest']          \n",
      " 14             [-1, 4]  1         0  ultralytics.nn.modules.conv.Concat           [1]                           \n",
      " 15                  -1  1     37248  ultralytics.nn.modules.block.C2f             [192, 64, 1]                  \n",
      " 16                  -1  1     36992  ultralytics.nn.modules.conv.Conv             [64, 64, 3, 2]                \n",
      " 17            [-1, 12]  1         0  ultralytics.nn.modules.conv.Concat           [1]                           \n",
      " 18                  -1  1    123648  ultralytics.nn.modules.block.C2f             [192, 128, 1]                 \n",
      " 19                  -1  1    147712  ultralytics.nn.modules.conv.Conv             [128, 128, 3, 2]              \n",
      " 20             [-1, 9]  1         0  ultralytics.nn.modules.conv.Concat           [1]                           \n",
      " 21                  -1  1    493056  ultralytics.nn.modules.block.C2f             [384, 256, 1]                 \n",
      " 22        [15, 18, 21]  1    823174  ultralytics.nn.modules.head.OBB              [1, 1, [64, 128, 256]]        \n",
      "YOLOv8n-obb summary: 250 layers, 3,082,710 parameters, 3,082,694 gradients, 8.4 GFLOPs\n",
      "\n",
      "Transferred 391/397 items from pretrained weights\n",
      "Freezing layer 'model.22.dfl.conv.weight'\n",
      "\u001b[34m\u001b[1mAMP: \u001b[0mrunning Automatic Mixed Precision (AMP) checks with YOLOv8n...\n",
      "\u001b[34m\u001b[1mAMP: \u001b[0mchecks passed \n"
     ]
    },
    {
     "name": "stderr",
     "output_type": "stream",
     "text": [
      "\u001b[34m\u001b[1mtrain: \u001b[0mScanning C:\\Patricia Ho\\Braincore\\apnr\\data\\train\\labels.cache... 3087 images, 24 backgrounds, 152 corrupt: 100%|██████████| 3087/3087 [00:00<\u001b[0m"
     ]
    },
    {
     "name": "stdout",
     "output_type": "stream",
     "text": [
      "\u001b[34m\u001b[1mtrain: \u001b[0mWARNING  C:\\Patricia Ho\\Braincore\\apnr\\data\\train\\images\\1-E-3977-QM-09-19_jpg.rf.0e0eb04bbaac97f1ef2845dc4e00e609.jpg: ignoring corrupt image/label: non-normalized or out of bounds coordinates [     1.0352]\n",
      "\u001b[34m\u001b[1mtrain: \u001b[0mWARNING  C:\\Patricia Ho\\Braincore\\apnr\\data\\train\\images\\1-E-3977-QM-09-19_jpg.rf.80521b7fb43c77b1dedd6efda1cc8c33.jpg: ignoring corrupt image/label: non-normalized or out of bounds coordinates [     1.1022]\n",
      "\u001b[34m\u001b[1mtrain: \u001b[0mWARNING  C:\\Patricia Ho\\Braincore\\apnr\\data\\train\\images\\101-E-4604-PS-09-17_jpg.rf.71bb31497a41e7fb69bc37b29a4a630f.jpg: ignoring corrupt image/label: non-normalized or out of bounds coordinates [     1.0579]\n",
      "\u001b[34m\u001b[1mtrain: \u001b[0mWARNING  C:\\Patricia Ho\\Braincore\\apnr\\data\\train\\images\\101-E-4604-PS-09-17_jpg.rf.a054bbff55358984169c3957f1dff11e.jpg: ignoring corrupt image/label: non-normalized or out of bounds coordinates [     1.0995]\n",
      "\u001b[34m\u001b[1mtrain: \u001b[0mWARNING  C:\\Patricia Ho\\Braincore\\apnr\\data\\train\\images\\107-E-4145-QZ-12-20_jpg.rf.a3ecef7db5d3272a41070bc878ac4feb.jpg: ignoring corrupt image/label: non-normalized or out of bounds coordinates [     1.0034]\n",
      "\u001b[34m\u001b[1mtrain: \u001b[0mWARNING  C:\\Patricia Ho\\Braincore\\apnr\\data\\train\\images\\107-E-4145-QZ-12-20_jpg.rf.e1cbcd169f3ca930b944bf944e18f9b0.jpg: ignoring corrupt image/label: non-normalized or out of bounds coordinates [     1.0191]\n",
      "\u001b[34m\u001b[1mtrain: \u001b[0mWARNING  C:\\Patricia Ho\\Braincore\\apnr\\data\\train\\images\\11-E-6562-QO-12-19_jpg.rf.b03e617eb00b46746fc715ef3fa2bf77.jpg: ignoring corrupt image/label: non-normalized or out of bounds coordinates [     1.0281]\n",
      "\u001b[34m\u001b[1mtrain: \u001b[0mWARNING  C:\\Patricia Ho\\Braincore\\apnr\\data\\train\\images\\116-E-5241-TP-09-22_jpg.rf.b664d90633ad56f184a560df4f7014ab.jpg: ignoring corrupt image/label: non-normalized or out of bounds coordinates [     1.0689]\n",
      "\u001b[34m\u001b[1mtrain: \u001b[0mWARNING  C:\\Patricia Ho\\Braincore\\apnr\\data\\train\\images\\116-E-5241-TP-09-22_jpg.rf.d5874673e3b40ed4f4b3320aeabd1d81.jpg: ignoring corrupt image/label: non-normalized or out of bounds coordinates [     1.0561]\n",
      "\u001b[34m\u001b[1mtrain: \u001b[0mWARNING  C:\\Patricia Ho\\Braincore\\apnr\\data\\train\\images\\133-E-6586-PAM-06-22_jpg.rf.49d3e5419fe54c3fac1a10ecde070a33.jpg: ignoring corrupt image/label: non-normalized or out of bounds coordinates [     1.0336]\n",
      "\u001b[34m\u001b[1mtrain: \u001b[0mWARNING  C:\\Patricia Ho\\Braincore\\apnr\\data\\train\\images\\142-E-3229-SQ-11-18_jpg.rf.346d6dc6e1f23b1102e795aff2631e5e.jpg: ignoring corrupt image/label: non-normalized or out of bounds coordinates [     1.1402]\n",
      "\u001b[34m\u001b[1mtrain: \u001b[0mWARNING  C:\\Patricia Ho\\Braincore\\apnr\\data\\train\\images\\142-E-3229-SQ-11-18_jpg.rf.a3e91c09a835acd9ec4146c05abc9af5.jpg: ignoring corrupt image/label: non-normalized or out of bounds coordinates [     1.1996]\n",
      "\u001b[34m\u001b[1mtrain: \u001b[0mWARNING  C:\\Patricia Ho\\Braincore\\apnr\\data\\train\\images\\142-E-3229-SQ-11-18_jpg.rf.cba3e0dbe10eb8c009433336df5b3c9e.jpg: ignoring corrupt image/label: non-normalized or out of bounds coordinates [     1.0906]\n",
      "\u001b[34m\u001b[1mtrain: \u001b[0mWARNING  C:\\Patricia Ho\\Braincore\\apnr\\data\\train\\images\\143-E-5279-SD-12-21_jpg.rf.46240eb6e87e9adc9e510f32689bc3a7.jpg: ignoring corrupt image/label: non-normalized or out of bounds coordinates [     1.1202]\n",
      "\u001b[34m\u001b[1mtrain: \u001b[0mWARNING  C:\\Patricia Ho\\Braincore\\apnr\\data\\train\\images\\143-E-5279-SD-12-21_jpg.rf.5b7f4c3304db60478aa0513d96afc397.jpg: ignoring corrupt image/label: non-normalized or out of bounds coordinates [     1.1537]\n",
      "\u001b[34m\u001b[1mtrain: \u001b[0mWARNING  C:\\Patricia Ho\\Braincore\\apnr\\data\\train\\images\\143-E-5279-SD-12-21_jpg.rf.86be66670310c58e1a06407c8fbc0884.jpg: ignoring corrupt image/label: non-normalized or out of bounds coordinates [     1.1775]\n",
      "\u001b[34m\u001b[1mtrain: \u001b[0mWARNING  C:\\Patricia Ho\\Braincore\\apnr\\data\\train\\images\\148-E-3052-QU-06-20_jpg.rf.561302a7339b0f2c8bca73a76540fe83.jpg: ignoring corrupt image/label: non-normalized or out of bounds coordinates [     1.1003]\n",
      "\u001b[34m\u001b[1mtrain: \u001b[0mWARNING  C:\\Patricia Ho\\Braincore\\apnr\\data\\train\\images\\148-E-3052-QU-06-20_jpg.rf.d12b26de75e0a95b75ccbef6cad60fda.jpg: ignoring corrupt image/label: non-normalized or out of bounds coordinates [     1.0883]\n",
      "\u001b[34m\u001b[1mtrain: \u001b[0mWARNING  C:\\Patricia Ho\\Braincore\\apnr\\data\\train\\images\\148-E-3052-QU-06-20_jpg.rf.e2dfb925512b84eb64600b1178743365.jpg: ignoring corrupt image/label: non-normalized or out of bounds coordinates [     1.0545]\n",
      "\u001b[34m\u001b[1mtrain: \u001b[0mWARNING  C:\\Patricia Ho\\Braincore\\apnr\\data\\train\\images\\155-E-3392-TZ-07-18_jpg.rf.2ef58668eeeab30854196464a57c7ba6.jpg: ignoring corrupt image/label: non-normalized or out of bounds coordinates [     1.1216]\n",
      "\u001b[34m\u001b[1mtrain: \u001b[0mWARNING  C:\\Patricia Ho\\Braincore\\apnr\\data\\train\\images\\155-E-3392-TZ-07-18_jpg.rf.419e671c3391333d40c5cd90696c879c.jpg: ignoring corrupt image/label: non-normalized or out of bounds coordinates [      1.086]\n",
      "\u001b[34m\u001b[1mtrain: \u001b[0mWARNING  C:\\Patricia Ho\\Braincore\\apnr\\data\\train\\images\\155-E-3392-TZ-07-18_jpg.rf.5cb381ac8e4ea9e41e11597f7e8a8c91.jpg: ignoring corrupt image/label: non-normalized or out of bounds coordinates [     1.0733]\n",
      "\u001b[34m\u001b[1mtrain: \u001b[0mWARNING  C:\\Patricia Ho\\Braincore\\apnr\\data\\train\\images\\161-E-3332-ST-02-19_jpg.rf.59082b6c2fd6d7fb62f2dad262ce12a3.jpg: ignoring corrupt image/label: non-normalized or out of bounds coordinates [     1.0292]\n",
      "\u001b[34m\u001b[1mtrain: \u001b[0mWARNING  C:\\Patricia Ho\\Braincore\\apnr\\data\\train\\images\\161-E-3332-ST-02-19_jpg.rf.cd94bc69353d428489c951616935be85.jpg: ignoring corrupt image/label: non-normalized or out of bounds coordinates [     1.0655]\n",
      "\u001b[34m\u001b[1mtrain: \u001b[0mWARNING  C:\\Patricia Ho\\Braincore\\apnr\\data\\train\\images\\161-E-3332-ST-02-19_jpg.rf.d37d326d2302e97dfed11bddbdf4ef46.jpg: ignoring corrupt image/label: non-normalized or out of bounds coordinates [     1.0539]\n",
      "\u001b[34m\u001b[1mtrain: \u001b[0mWARNING  C:\\Patricia Ho\\Braincore\\apnr\\data\\train\\images\\165-E-5555-SR-05-20_jpg.rf.23949201bee2db1729620e3ac829d40f.jpg: ignoring corrupt image/label: non-normalized or out of bounds coordinates [     1.0233]\n",
      "\u001b[34m\u001b[1mtrain: \u001b[0mWARNING  C:\\Patricia Ho\\Braincore\\apnr\\data\\train\\images\\165-E-5555-SR-05-20_jpg.rf.f21b6350257d1b2766f0f0c0f7de0b53.jpg: ignoring corrupt image/label: non-normalized or out of bounds coordinates [     1.0011]\n",
      "\u001b[34m\u001b[1mtrain: \u001b[0mWARNING  C:\\Patricia Ho\\Braincore\\apnr\\data\\train\\images\\167-E-4314-RP-01-22_jpg.rf.584c2e47d7a556553d88f61475a3c769.jpg: ignoring corrupt image/label: non-normalized or out of bounds coordinates [     1.0384]\n",
      "\u001b[34m\u001b[1mtrain: \u001b[0mWARNING  C:\\Patricia Ho\\Braincore\\apnr\\data\\train\\images\\167-E-4314-RP-01-22_jpg.rf.7666f969a94995b81be9ee207ccfda66.jpg: ignoring corrupt image/label: non-normalized or out of bounds coordinates [     1.0005]\n",
      "\u001b[34m\u001b[1mtrain: \u001b[0mWARNING  C:\\Patricia Ho\\Braincore\\apnr\\data\\train\\images\\175-E-6962-PAA-02-21_jpg.rf.2ac9797153258e14d22ec59ce608b01b.jpg: ignoring corrupt image/label: non-normalized or out of bounds coordinates [     1.0107]\n",
      "\u001b[34m\u001b[1mtrain: \u001b[0mWARNING  C:\\Patricia Ho\\Braincore\\apnr\\data\\train\\images\\180-E-3646-RL-05-20_jpg.rf.534c901daa25eab8356913a98eabe067.jpg: ignoring corrupt image/label: non-normalized or out of bounds coordinates [     1.1585]\n",
      "\u001b[34m\u001b[1mtrain: \u001b[0mWARNING  C:\\Patricia Ho\\Braincore\\apnr\\data\\train\\images\\180-E-3646-RL-05-20_jpg.rf.9e3b4d4f3737d89b7d76220353c42c5d.jpg: ignoring corrupt image/label: non-normalized or out of bounds coordinates [      1.096]\n",
      "\u001b[34m\u001b[1mtrain: \u001b[0mWARNING  C:\\Patricia Ho\\Braincore\\apnr\\data\\train\\images\\180-E-3646-RL-05-20_jpg.rf.cebbbef93029fac7ba2a467c5916a6fa.jpg: ignoring corrupt image/label: non-normalized or out of bounds coordinates [     1.1538]\n",
      "\u001b[34m\u001b[1mtrain: \u001b[0mWARNING  C:\\Patricia Ho\\Braincore\\apnr\\data\\train\\images\\181-E-3708-TU-06-15_jpg.rf.4582b9f95e3f4566445b5b90316db367.jpg: ignoring corrupt image/label: non-normalized or out of bounds coordinates [     1.1094]\n",
      "\u001b[34m\u001b[1mtrain: \u001b[0mWARNING  C:\\Patricia Ho\\Braincore\\apnr\\data\\train\\images\\181-E-3708-TU-06-15_jpg.rf.4e9a0ddff75b9e7a0d8145470cff0c35.jpg: ignoring corrupt image/label: non-normalized or out of bounds coordinates [     1.0887]\n",
      "\u001b[34m\u001b[1mtrain: \u001b[0mWARNING  C:\\Patricia Ho\\Braincore\\apnr\\data\\train\\images\\181-E-3708-TU-06-15_jpg.rf.bb13c10d8c703cea8d7eb70fab1a456b.jpg: ignoring corrupt image/label: non-normalized or out of bounds coordinates [     1.1042]\n",
      "\u001b[34m\u001b[1mtrain: \u001b[0mWARNING  C:\\Patricia Ho\\Braincore\\apnr\\data\\train\\images\\182-E-3996-RS-08-17_jpg.rf.223ab1d177203094612637beee1b9144.jpg: ignoring corrupt image/label: non-normalized or out of bounds coordinates [     1.1603]\n",
      "\u001b[34m\u001b[1mtrain: \u001b[0mWARNING  C:\\Patricia Ho\\Braincore\\apnr\\data\\train\\images\\182-E-3996-RS-08-17_jpg.rf.3b4654902b67e2f9cc4f81f38a0d3443.jpg: ignoring corrupt image/label: non-normalized or out of bounds coordinates [      1.155]\n",
      "\u001b[34m\u001b[1mtrain: \u001b[0mWARNING  C:\\Patricia Ho\\Braincore\\apnr\\data\\train\\images\\182-E-3996-RS-08-17_jpg.rf.46c626259b3b307457b13e3c0e0ddd3f.jpg: ignoring corrupt image/label: non-normalized or out of bounds coordinates [     1.1372]\n",
      "\u001b[34m\u001b[1mtrain: \u001b[0mWARNING  C:\\Patricia Ho\\Braincore\\apnr\\data\\train\\images\\189-E-5182-QO-11-19_jpg.rf.8caa8f23c9a6f5278ecea53a73065dfc.jpg: ignoring corrupt image/label: non-normalized or out of bounds coordinates [     1.0489]\n",
      "\u001b[34m\u001b[1mtrain: \u001b[0mWARNING  C:\\Patricia Ho\\Braincore\\apnr\\data\\train\\images\\189-E-5182-QO-11-19_jpg.rf.bf27cf6fb6487d0a56a59147717f6fdb.jpg: ignoring corrupt image/label: non-normalized or out of bounds coordinates [     1.0481]\n",
      "\u001b[34m\u001b[1mtrain: \u001b[0mWARNING  C:\\Patricia Ho\\Braincore\\apnr\\data\\train\\images\\190-E-5621-OV-08-20_jpg.rf.83003594aea48d98eb374da117f964da.jpg: ignoring corrupt image/label: non-normalized or out of bounds coordinates [     1.0042]\n",
      "\u001b[34m\u001b[1mtrain: \u001b[0mWARNING  C:\\Patricia Ho\\Braincore\\apnr\\data\\train\\images\\191-E-3690-ZV-02-20_jpg.rf.467058279ed376297287fb5acc2e2430.jpg: ignoring corrupt image/label: non-normalized or out of bounds coordinates [     1.0637]\n",
      "\u001b[34m\u001b[1mtrain: \u001b[0mWARNING  C:\\Patricia Ho\\Braincore\\apnr\\data\\train\\images\\191-E-3690-ZV-02-20_jpg.rf.b859688eaca57e9d6a6567a5d735bb8d.jpg: ignoring corrupt image/label: non-normalized or out of bounds coordinates [     1.0092]\n",
      "\u001b[34m\u001b[1mtrain: \u001b[0mWARNING  C:\\Patricia Ho\\Braincore\\apnr\\data\\train\\images\\194-E-6037-SF-06-19_jpg.rf.38b715a5de77df0bec90616c4b2593d0.jpg: ignoring corrupt image/label: non-normalized or out of bounds coordinates [     1.0216]\n",
      "\u001b[34m\u001b[1mtrain: \u001b[0mWARNING  C:\\Patricia Ho\\Braincore\\apnr\\data\\train\\images\\20-E-4221-RL-04-19_jpg.rf.3f36193f60bdd761d1afa8ac30f2ce75.jpg: ignoring corrupt image/label: non-normalized or out of bounds coordinates [     1.0142]\n",
      "\u001b[34m\u001b[1mtrain: \u001b[0mWARNING  C:\\Patricia Ho\\Braincore\\apnr\\data\\train\\images\\20-E-4221-RL-04-19_jpg.rf.525c0e161651cd0b8c1953ff91e17216.jpg: ignoring corrupt image/label: non-normalized or out of bounds coordinates [      1.086]\n",
      "\u001b[34m\u001b[1mtrain: \u001b[0mWARNING  C:\\Patricia Ho\\Braincore\\apnr\\data\\train\\images\\20-E-4221-RL-04-19_jpg.rf.d1a0d9c776ad1fe08d340467172c0f19.jpg: ignoring corrupt image/label: non-normalized or out of bounds coordinates [      1.057]\n",
      "\u001b[34m\u001b[1mtrain: \u001b[0mWARNING  C:\\Patricia Ho\\Braincore\\apnr\\data\\train\\images\\20171211_110642_jpg.rf.448ecc83461eb8c8786602dee5d23d59.jpg: ignoring corrupt image/label: non-normalized or out of bounds coordinates [     1.0087]\n",
      "\u001b[34m\u001b[1mtrain: \u001b[0mWARNING  C:\\Patricia Ho\\Braincore\\apnr\\data\\train\\images\\20171211_110642_jpg.rf.4518be5aadcb33bb2df1ce3d70b6656c.jpg: ignoring corrupt image/label: non-normalized or out of bounds coordinates [     1.0762]\n",
      "\u001b[34m\u001b[1mtrain: \u001b[0mWARNING  C:\\Patricia Ho\\Braincore\\apnr\\data\\train\\images\\20171211_110642_jpg.rf.e1a7188f9e75877916fc355b5647368c.jpg: ignoring corrupt image/label: non-normalized or out of bounds coordinates [     1.0374]\n",
      "\u001b[34m\u001b[1mtrain: \u001b[0mWARNING  C:\\Patricia Ho\\Braincore\\apnr\\data\\train\\images\\20171214_121617_jpg.rf.1685ba804bcf637e6824a4144d4a573f.jpg: ignoring corrupt image/label: non-normalized or out of bounds coordinates [     1.1022]\n",
      "\u001b[34m\u001b[1mtrain: \u001b[0mWARNING  C:\\Patricia Ho\\Braincore\\apnr\\data\\train\\images\\20171214_121617_jpg.rf.1b6b26f0219eb171b2bdefdbf4724cf1.jpg: ignoring corrupt image/label: non-normalized or out of bounds coordinates [     1.0585]\n",
      "\u001b[34m\u001b[1mtrain: \u001b[0mWARNING  C:\\Patricia Ho\\Braincore\\apnr\\data\\train\\images\\20171214_121617_jpg.rf.f5e0e4802c441dc5e347b1df17c8a252.jpg: ignoring corrupt image/label: non-normalized or out of bounds coordinates [     1.0891]\n",
      "\u001b[34m\u001b[1mtrain: \u001b[0mWARNING  C:\\Patricia Ho\\Braincore\\apnr\\data\\train\\images\\204-E-6936-TF-10-21_jpg.rf.90ea80f5974012c850fb41b9d0e189bd.jpg: ignoring corrupt image/label: non-normalized or out of bounds coordinates [     1.0229]\n",
      "\u001b[34m\u001b[1mtrain: \u001b[0mWARNING  C:\\Patricia Ho\\Braincore\\apnr\\data\\train\\images\\204-E-6936-TF-10-21_jpg.rf.a36e7d9050aa2ebdd05bce096de71466.jpg: ignoring corrupt image/label: non-normalized or out of bounds coordinates [     1.0131]\n",
      "\u001b[34m\u001b[1mtrain: \u001b[0mWARNING  C:\\Patricia Ho\\Braincore\\apnr\\data\\train\\images\\204-E-6936-TF-10-21_jpg.rf.bbcc62387f7214a649031babdd9dbce3.jpg: ignoring corrupt image/label: non-normalized or out of bounds coordinates [     1.0391]\n",
      "\u001b[34m\u001b[1mtrain: \u001b[0mWARNING  C:\\Patricia Ho\\Braincore\\apnr\\data\\train\\images\\210-E-3166-PAO-06-22_jpg.rf.65d81897a8ba0434a85592884eeefc60.jpg: ignoring corrupt image/label: non-normalized or out of bounds coordinates [     1.0486]\n",
      "\u001b[34m\u001b[1mtrain: \u001b[0mWARNING  C:\\Patricia Ho\\Braincore\\apnr\\data\\train\\images\\210-E-3166-PAO-06-22_jpg.rf.83fe3ffe4594d55c1cef2378d13b27a6.jpg: ignoring corrupt image/label: non-normalized or out of bounds coordinates [     1.0069]\n",
      "\u001b[34m\u001b[1mtrain: \u001b[0mWARNING  C:\\Patricia Ho\\Braincore\\apnr\\data\\train\\images\\212-E-3817-PAH-11-21_jpg.rf.340779dbefd3bdd7db935edf489c11a5.jpg: ignoring corrupt image/label: non-normalized or out of bounds coordinates [     1.0328]\n",
      "\u001b[34m\u001b[1mtrain: \u001b[0mWARNING  C:\\Patricia Ho\\Braincore\\apnr\\data\\train\\images\\212-E-3817-PAH-11-21_jpg.rf.c09714136076845512694c9699c8867f.jpg: ignoring corrupt image/label: non-normalized or out of bounds coordinates [     1.0239]\n",
      "\u001b[34m\u001b[1mtrain: \u001b[0mWARNING  C:\\Patricia Ho\\Braincore\\apnr\\data\\train\\images\\212-E-3817-PAH-11-21_jpg.rf.f99dbb7e3630249b992beb16406e2e23.jpg: ignoring corrupt image/label: non-normalized or out of bounds coordinates [     1.0526]\n",
      "\u001b[34m\u001b[1mtrain: \u001b[0mWARNING  C:\\Patricia Ho\\Braincore\\apnr\\data\\train\\images\\219-E-6312-SW-07-21_jpg.rf.6d91bb45024cff2af20be716e17346d6.jpg: ignoring corrupt image/label: non-normalized or out of bounds coordinates [     1.0267]\n",
      "\u001b[34m\u001b[1mtrain: \u001b[0mWARNING  C:\\Patricia Ho\\Braincore\\apnr\\data\\train\\images\\219-E-6312-SW-07-21_jpg.rf.bb456730d7f3aa63158710eaed330270.jpg: ignoring corrupt image/label: non-normalized or out of bounds coordinates [      1.001]\n",
      "\u001b[34m\u001b[1mtrain: \u001b[0mWARNING  C:\\Patricia Ho\\Braincore\\apnr\\data\\train\\images\\223-E-6186-PAP-08-22_jpg.rf.23bb629c0538cb88e9676842f2c07d64.jpg: ignoring corrupt image/label: non-normalized or out of bounds coordinates [     1.0411]\n",
      "\u001b[34m\u001b[1mtrain: \u001b[0mWARNING  C:\\Patricia Ho\\Braincore\\apnr\\data\\train\\images\\223-E-6186-PAP-08-22_jpg.rf.e811e4e0eaa9b10826360ee41fcb11ec.jpg: ignoring corrupt image/label: non-normalized or out of bounds coordinates [      1.078]\n",
      "\u001b[34m\u001b[1mtrain: \u001b[0mWARNING  C:\\Patricia Ho\\Braincore\\apnr\\data\\train\\images\\228-E-6450-TM-06-22_jpg.rf.d08bd4eac25e590221b3e3265953a25c.jpg: ignoring corrupt image/label: non-normalized or out of bounds coordinates [     1.0247]\n",
      "\u001b[34m\u001b[1mtrain: \u001b[0mWARNING  C:\\Patricia Ho\\Braincore\\apnr\\data\\train\\images\\243-E-3309-QF-02-19_jpg.rf.315448d586410e2f501143f0a6a1033d.jpg: ignoring corrupt image/label: non-normalized or out of bounds coordinates [     1.0616]\n",
      "\u001b[34m\u001b[1mtrain: \u001b[0mWARNING  C:\\Patricia Ho\\Braincore\\apnr\\data\\train\\images\\243-E-3309-QF-02-19_jpg.rf.a48a8808d5135acbf45865903a32ec9b.jpg: ignoring corrupt image/label: non-normalized or out of bounds coordinates [     1.1072]\n",
      "\u001b[34m\u001b[1mtrain: \u001b[0mWARNING  C:\\Patricia Ho\\Braincore\\apnr\\data\\train\\images\\243-E-3309-QF-02-19_jpg.rf.bcea5d343366a6bf32caa2b514ffaf83.jpg: ignoring corrupt image/label: non-normalized or out of bounds coordinates [     1.0759]\n",
      "\u001b[34m\u001b[1mtrain: \u001b[0mWARNING  C:\\Patricia Ho\\Braincore\\apnr\\data\\train\\images\\244-E-6590-QW-09-20_jpg.rf.848259c90cbf3ea1af2008c42a7cecec.jpg: ignoring corrupt image/label: non-normalized or out of bounds coordinates [     1.0092]\n",
      "\u001b[34m\u001b[1mtrain: \u001b[0mWARNING  C:\\Patricia Ho\\Braincore\\apnr\\data\\train\\images\\244-E-6590-QW-09-20_jpg.rf.bcfcbf1630fcee6f3718e2390e732884.jpg: ignoring corrupt image/label: non-normalized or out of bounds coordinates [     1.0607]\n",
      "\u001b[34m\u001b[1mtrain: \u001b[0mWARNING  C:\\Patricia Ho\\Braincore\\apnr\\data\\train\\images\\244-E-6590-QW-09-20_jpg.rf.f42065880b5de45164da353d04f4b6f1.jpg: ignoring corrupt image/label: non-normalized or out of bounds coordinates [     1.0144]\n",
      "\u001b[34m\u001b[1mtrain: \u001b[0mWARNING  C:\\Patricia Ho\\Braincore\\apnr\\data\\train\\images\\247-E-2148-RI-01-16_jpg.rf.7560306b434685d70a9d74d81e465062.jpg: ignoring corrupt image/label: non-normalized or out of bounds coordinates [     1.0007]\n",
      "\u001b[34m\u001b[1mtrain: \u001b[0mWARNING  C:\\Patricia Ho\\Braincore\\apnr\\data\\train\\images\\247-E-2148-RI-01-16_jpg.rf.b861611a6d4b73cd013f624cb9ced92a.jpg: ignoring corrupt image/label: non-normalized or out of bounds coordinates [     1.0176]\n",
      "\u001b[34m\u001b[1mtrain: \u001b[0mWARNING  C:\\Patricia Ho\\Braincore\\apnr\\data\\train\\images\\254-E-4739-TA-01-14_jpg.rf.6584f4ac01cdc3d1c1ff95a1a87ce7b0.jpg: ignoring corrupt image/label: non-normalized or out of bounds coordinates [     1.0681]\n",
      "\u001b[34m\u001b[1mtrain: \u001b[0mWARNING  C:\\Patricia Ho\\Braincore\\apnr\\data\\train\\images\\254-E-4739-TA-01-14_jpg.rf.cb23664de5183ac349f867c9689cb8a5.jpg: ignoring corrupt image/label: non-normalized or out of bounds coordinates [     1.0037]\n",
      "\u001b[34m\u001b[1mtrain: \u001b[0mWARNING  C:\\Patricia Ho\\Braincore\\apnr\\data\\train\\images\\27-E-3524-PAG-09-21_jpg.rf.462d00e46cf7d214e2804bcc3e6353ec.jpg: ignoring corrupt image/label: non-normalized or out of bounds coordinates [     1.0059]\n",
      "\u001b[34m\u001b[1mtrain: \u001b[0mWARNING  C:\\Patricia Ho\\Braincore\\apnr\\data\\train\\images\\273-E-6078-RM-09-22_jpg.rf.406a6fb74b578635efb3ca35f3b2708c.jpg: ignoring corrupt image/label: non-normalized or out of bounds coordinates [     1.0581]\n",
      "\u001b[34m\u001b[1mtrain: \u001b[0mWARNING  C:\\Patricia Ho\\Braincore\\apnr\\data\\train\\images\\273-E-6078-RM-09-22_jpg.rf.4e9c4cd2ad60745f6a3b8ca5e078ea1f.jpg: ignoring corrupt image/label: non-normalized or out of bounds coordinates [     1.0276]\n",
      "\u001b[34m\u001b[1mtrain: \u001b[0mWARNING  C:\\Patricia Ho\\Braincore\\apnr\\data\\train\\images\\273-E-6078-RM-09-22_jpg.rf.eeaec4a77d945999b7841afb8ea3c62f.jpg: ignoring corrupt image/label: non-normalized or out of bounds coordinates [     1.0161]\n",
      "\u001b[34m\u001b[1mtrain: \u001b[0mWARNING  C:\\Patricia Ho\\Braincore\\apnr\\data\\train\\images\\275-E-4986-SO-10-20_jpg.rf.218114adeb81b9cfcf1c18aacae4ad89.jpg: ignoring corrupt image/label: non-normalized or out of bounds coordinates [     1.0091]\n",
      "\u001b[34m\u001b[1mtrain: \u001b[0mWARNING  C:\\Patricia Ho\\Braincore\\apnr\\data\\train\\images\\275-E-4986-SO-10-20_jpg.rf.289a8ff7395338558907b34d1ce9203b.jpg: ignoring corrupt image/label: non-normalized or out of bounds coordinates [      1.035]\n",
      "\u001b[34m\u001b[1mtrain: \u001b[0mWARNING  C:\\Patricia Ho\\Braincore\\apnr\\data\\train\\images\\286-E-5817-PT-04-18_jpg.rf.8d0e0a4f58b16887b7e82931815499b4.jpg: ignoring corrupt image/label: non-normalized or out of bounds coordinates [     1.0623]\n",
      "\u001b[34m\u001b[1mtrain: \u001b[0mWARNING  C:\\Patricia Ho\\Braincore\\apnr\\data\\train\\images\\29-E-3978-SC-12-21_jpg.rf.77069e863fb73f0339800c93b9a95312.jpg: ignoring corrupt image/label: non-normalized or out of bounds coordinates [     1.0155]\n",
      "\u001b[34m\u001b[1mtrain: \u001b[0mWARNING  C:\\Patricia Ho\\Braincore\\apnr\\data\\train\\images\\290-E-2157-PAO-06-22_jpg.rf.0e12676703aa15a0ecfec0cc5f4cef07.jpg: ignoring corrupt image/label: non-normalized or out of bounds coordinates [     1.1797]\n",
      "\u001b[34m\u001b[1mtrain: \u001b[0mWARNING  C:\\Patricia Ho\\Braincore\\apnr\\data\\train\\images\\290-E-2157-PAO-06-22_jpg.rf.b13812dee2c4b2c3cc531d3a49463005.jpg: ignoring corrupt image/label: non-normalized or out of bounds coordinates [     1.1591]\n",
      "\u001b[34m\u001b[1mtrain: \u001b[0mWARNING  C:\\Patricia Ho\\Braincore\\apnr\\data\\train\\images\\290-E-2157-PAO-06-22_jpg.rf.f10bedc05b46f88a543bda393c5e2a4d.jpg: ignoring corrupt image/label: non-normalized or out of bounds coordinates [     1.1777]\n",
      "\u001b[34m\u001b[1mtrain: \u001b[0mWARNING  C:\\Patricia Ho\\Braincore\\apnr\\data\\train\\images\\293-E-2509-OW-09-20_jpg.rf.26751e1eae1a8f73362f5ff4780c5376.jpg: ignoring corrupt image/label: non-normalized or out of bounds coordinates [     1.0013]\n",
      "\u001b[34m\u001b[1mtrain: \u001b[0mWARNING  C:\\Patricia Ho\\Braincore\\apnr\\data\\train\\images\\299-E-5051-SD-03-18_jpg.rf.012b7f2fd2b4b5012b553ca3fd6e0283.jpg: ignoring corrupt image/label: non-normalized or out of bounds coordinates [     1.0658]\n",
      "\u001b[34m\u001b[1mtrain: \u001b[0mWARNING  C:\\Patricia Ho\\Braincore\\apnr\\data\\train\\images\\299-E-5051-SD-03-18_jpg.rf.143e0d709ba05721178ece217eee8331.jpg: ignoring corrupt image/label: non-normalized or out of bounds coordinates [     1.1358]\n",
      "\u001b[34m\u001b[1mtrain: \u001b[0mWARNING  C:\\Patricia Ho\\Braincore\\apnr\\data\\train\\images\\299-E-5051-SD-03-18_jpg.rf.b308c41faced686fcc3f86702c6c81a7.jpg: ignoring corrupt image/label: non-normalized or out of bounds coordinates [      1.119]\n",
      "\u001b[34m\u001b[1mtrain: \u001b[0mWARNING  C:\\Patricia Ho\\Braincore\\apnr\\data\\train\\images\\306-E-3270-SJ-08-22_jpg.rf.122f0ebb41e0c56098351e30230ce657.jpg: ignoring corrupt image/label: non-normalized or out of bounds coordinates [     1.0076]\n",
      "\u001b[34m\u001b[1mtrain: \u001b[0mWARNING  C:\\Patricia Ho\\Braincore\\apnr\\data\\train\\images\\306-E-3270-SJ-08-22_jpg.rf.809464b79e7857b056183276b0d11a89.jpg: ignoring corrupt image/label: non-normalized or out of bounds coordinates [     1.0085]\n",
      "\u001b[34m\u001b[1mtrain: \u001b[0mWARNING  C:\\Patricia Ho\\Braincore\\apnr\\data\\train\\images\\329-E-5078-QF-02-19_jpg.rf.40f67580f740af8068446108969cc02c.jpg: ignoring corrupt image/label: non-normalized or out of bounds coordinates [     1.0534]\n",
      "\u001b[34m\u001b[1mtrain: \u001b[0mWARNING  C:\\Patricia Ho\\Braincore\\apnr\\data\\train\\images\\329-E-5078-QF-02-19_jpg.rf.53b656d71aaca05db07a7fd39768b82f.jpg: ignoring corrupt image/label: non-normalized or out of bounds coordinates [     1.1447]\n",
      "\u001b[34m\u001b[1mtrain: \u001b[0mWARNING  C:\\Patricia Ho\\Braincore\\apnr\\data\\train\\images\\329-E-5078-QF-02-19_jpg.rf.84d7f0c0309ef72a076fb792e1dee7f0.jpg: ignoring corrupt image/label: non-normalized or out of bounds coordinates [     1.1485]\n",
      "\u001b[34m\u001b[1mtrain: \u001b[0mWARNING  C:\\Patricia Ho\\Braincore\\apnr\\data\\train\\images\\330-E-5869-PAA-02-21_jpg.rf.0cbc3ef1f5329b8a1bdeb6975552fbfa.jpg: ignoring corrupt image/label: non-normalized or out of bounds coordinates [     1.1203]\n",
      "\u001b[34m\u001b[1mtrain: \u001b[0mWARNING  C:\\Patricia Ho\\Braincore\\apnr\\data\\train\\images\\330-E-5869-PAA-02-21_jpg.rf.4893c467fa3bad7e36fe7ec844fbec76.jpg: ignoring corrupt image/label: non-normalized or out of bounds coordinates [     1.1414]\n",
      "\u001b[34m\u001b[1mtrain: \u001b[0mWARNING  C:\\Patricia Ho\\Braincore\\apnr\\data\\train\\images\\330-E-5869-PAA-02-21_jpg.rf.ed10b4c43f57747f36a6d3baeca5657c.jpg: ignoring corrupt image/label: non-normalized or out of bounds coordinates [      1.144]\n",
      "\u001b[34m\u001b[1mtrain: \u001b[0mWARNING  C:\\Patricia Ho\\Braincore\\apnr\\data\\train\\images\\340-E-4235-RP-01-22_jpg.rf.af025842bb7c7e4a58821ac8f509f3af.jpg: ignoring corrupt image/label: non-normalized or out of bounds coordinates [     1.0299]\n",
      "\u001b[34m\u001b[1mtrain: \u001b[0mWARNING  C:\\Patricia Ho\\Braincore\\apnr\\data\\train\\images\\340-E-4235-RP-01-22_jpg.rf.bc4698df4584c65e7a5f32e06145cd5e.jpg: ignoring corrupt image/label: non-normalized or out of bounds coordinates [      1.029]\n",
      "\u001b[34m\u001b[1mtrain: \u001b[0mWARNING  C:\\Patricia Ho\\Braincore\\apnr\\data\\train\\images\\340-E-4235-RP-01-22_jpg.rf.cd5a0b5e2fb16a43dc0796c6c070c7f2.jpg: ignoring corrupt image/label: non-normalized or out of bounds coordinates [     1.0414]\n",
      "\u001b[34m\u001b[1mtrain: \u001b[0mWARNING  C:\\Patricia Ho\\Braincore\\apnr\\data\\train\\images\\345-E-2047-SF-05-19_jpg.rf.670fd126c9ec46624c55760d20c7b84d.jpg: ignoring corrupt image/label: non-normalized or out of bounds coordinates [     1.0748]\n",
      "\u001b[34m\u001b[1mtrain: \u001b[0mWARNING  C:\\Patricia Ho\\Braincore\\apnr\\data\\train\\images\\345-E-2047-SF-05-19_jpg.rf.6ba3b113c944beb842ce6b3ce318f2e2.jpg: ignoring corrupt image/label: non-normalized or out of bounds coordinates [     1.0444]\n",
      "\u001b[34m\u001b[1mtrain: \u001b[0mWARNING  C:\\Patricia Ho\\Braincore\\apnr\\data\\train\\images\\345-E-2047-SF-05-19_jpg.rf.9dde6b6ef6e99182e60379e294fcdbcb.jpg: ignoring corrupt image/label: non-normalized or out of bounds coordinates [     1.0926]\n",
      "\u001b[34m\u001b[1mtrain: \u001b[0mWARNING  C:\\Patricia Ho\\Braincore\\apnr\\data\\train\\images\\35-E-5026-SF-06-18_jpg.rf.b8bbefed34741af8770b22d024c397cd.jpg: ignoring corrupt image/label: non-normalized or out of bounds coordinates [     1.0697]\n",
      "\u001b[34m\u001b[1mtrain: \u001b[0mWARNING  C:\\Patricia Ho\\Braincore\\apnr\\data\\train\\images\\52-E-3765-QO-12-19_jpg.rf.a3920aa3fa86ceb8c17f5d968728e429.jpg: ignoring corrupt image/label: non-normalized or out of bounds coordinates [     1.0272]\n",
      "\u001b[34m\u001b[1mtrain: \u001b[0mWARNING  C:\\Patricia Ho\\Braincore\\apnr\\data\\train\\images\\52-E-3765-QO-12-19_jpg.rf.b7e8d7f7a804667bf205b815cbac255b.jpg: ignoring corrupt image/label: non-normalized or out of bounds coordinates [     1.0463]\n",
      "\u001b[34m\u001b[1mtrain: \u001b[0mWARNING  C:\\Patricia Ho\\Braincore\\apnr\\data\\train\\images\\56-E-5056-QD-12-18_jpg.rf.1be739ff9cc635b9a7587457939d51ab.jpg: ignoring corrupt image/label: non-normalized or out of bounds coordinates [     1.0023]\n",
      "\u001b[34m\u001b[1mtrain: \u001b[0mWARNING  C:\\Patricia Ho\\Braincore\\apnr\\data\\train\\images\\56-E-5056-QD-12-18_jpg.rf.4dbd46b980ca6a72320c3d514ee23f71.jpg: ignoring corrupt image/label: non-normalized or out of bounds coordinates [      1.036]\n",
      "\u001b[34m\u001b[1mtrain: \u001b[0mWARNING  C:\\Patricia Ho\\Braincore\\apnr\\data\\train\\images\\56-E-5056-QD-12-18_jpg.rf.f566c26470b988d2417b3b91652145cf.jpg: ignoring corrupt image/label: non-normalized or out of bounds coordinates [     1.0313]\n",
      "\u001b[34m\u001b[1mtrain: \u001b[0mWARNING  C:\\Patricia Ho\\Braincore\\apnr\\data\\train\\images\\58-E-5158-TP-09-17_jpg.rf.0d698fbdf5ecc5159912f2c3d5190c98.jpg: ignoring corrupt image/label: non-normalized or out of bounds coordinates [     1.3029]\n",
      "\u001b[34m\u001b[1mtrain: \u001b[0mWARNING  C:\\Patricia Ho\\Braincore\\apnr\\data\\train\\images\\58-E-5158-TP-09-17_jpg.rf.4dfa81ab213edcf388717d169972cb39.jpg: ignoring corrupt image/label: non-normalized or out of bounds coordinates [      1.279      1.0426]\n",
      "\u001b[34m\u001b[1mtrain: \u001b[0mWARNING  C:\\Patricia Ho\\Braincore\\apnr\\data\\train\\images\\58-E-5158-TP-09-17_jpg.rf.529f0b4fb12b43764139b2c38abf7d5d.jpg: ignoring corrupt image/label: non-normalized or out of bounds coordinates [     1.3097       1.058]\n",
      "\u001b[34m\u001b[1mtrain: \u001b[0mWARNING  C:\\Patricia Ho\\Braincore\\apnr\\data\\train\\images\\59-E-2153-SP-08-20_jpg.rf.b3141b43613d5b104d5883d9212f9429.jpg: ignoring corrupt image/label: non-normalized or out of bounds coordinates [     1.0909]\n",
      "\u001b[34m\u001b[1mtrain: \u001b[0mWARNING  C:\\Patricia Ho\\Braincore\\apnr\\data\\train\\images\\59-E-2153-SP-08-20_jpg.rf.f03da813fcf6d9d512ab2bf1b604f57f.jpg: ignoring corrupt image/label: non-normalized or out of bounds coordinates [     1.1467]\n",
      "\u001b[34m\u001b[1mtrain: \u001b[0mWARNING  C:\\Patricia Ho\\Braincore\\apnr\\data\\train\\images\\59-E-2153-SP-08-20_jpg.rf.f415d6bf54292faa387a58c2545743f2.jpg: ignoring corrupt image/label: non-normalized or out of bounds coordinates [     1.1288]\n",
      "\u001b[34m\u001b[1mtrain: \u001b[0mWARNING  C:\\Patricia Ho\\Braincore\\apnr\\data\\train\\images\\62-E-3977-TH-12-18_jpg.rf.351c05eba11fdeb6b5736a6797b4a49d.jpg: ignoring corrupt image/label: non-normalized or out of bounds coordinates [     1.0408]\n",
      "\u001b[34m\u001b[1mtrain: \u001b[0mWARNING  C:\\Patricia Ho\\Braincore\\apnr\\data\\train\\images\\62-E-3977-TH-12-18_jpg.rf.4e9422bfb160a7329c7fcccdbb983134.jpg: ignoring corrupt image/label: non-normalized or out of bounds coordinates [     1.0501]\n",
      "\u001b[34m\u001b[1mtrain: \u001b[0mWARNING  C:\\Patricia Ho\\Braincore\\apnr\\data\\train\\images\\62-E-3977-TH-12-18_jpg.rf.ae6bf9dc83e17271bab3e69930756bfc.jpg: ignoring corrupt image/label: non-normalized or out of bounds coordinates [     1.0378]\n",
      "\u001b[34m\u001b[1mtrain: \u001b[0mWARNING  C:\\Patricia Ho\\Braincore\\apnr\\data\\train\\images\\68-E-1267-RB-01-21_jpg.rf.41be873e73aa01c6e017e303eaa2b39a.jpg: ignoring corrupt image/label: non-normalized or out of bounds coordinates [     1.0404]\n",
      "\u001b[34m\u001b[1mtrain: \u001b[0mWARNING  C:\\Patricia Ho\\Braincore\\apnr\\data\\train\\images\\68-E-1267-RB-01-21_jpg.rf.f9d9e537ad80ac1ed23c4777398d1ea2.jpg: ignoring corrupt image/label: non-normalized or out of bounds coordinates [     1.0263]\n",
      "\u001b[34m\u001b[1mtrain: \u001b[0mWARNING  C:\\Patricia Ho\\Braincore\\apnr\\data\\train\\images\\70-E-4310-OR-03-20_jpg.rf.01691994fa5f331a864aa43803c85867.jpg: ignoring corrupt image/label: non-normalized or out of bounds coordinates [     1.0838]\n",
      "\u001b[34m\u001b[1mtrain: \u001b[0mWARNING  C:\\Patricia Ho\\Braincore\\apnr\\data\\train\\images\\70-E-4310-OR-03-20_jpg.rf.1b1dca5b3e4bfc84ef591213284fb068.jpg: ignoring corrupt image/label: non-normalized or out of bounds coordinates [     1.0381]\n",
      "\u001b[34m\u001b[1mtrain: \u001b[0mWARNING  C:\\Patricia Ho\\Braincore\\apnr\\data\\train\\images\\75-E-2956-RP-03-22_jpg.rf.3d81ad713aaaaf4e63e8ea9a555dbd01.jpg: ignoring corrupt image/label: non-normalized or out of bounds coordinates [     1.1068]\n",
      "\u001b[34m\u001b[1mtrain: \u001b[0mWARNING  C:\\Patricia Ho\\Braincore\\apnr\\data\\train\\images\\75-E-2956-RP-03-22_jpg.rf.5c4bdf9a4dae904110529324db846698.jpg: ignoring corrupt image/label: non-normalized or out of bounds coordinates [     1.1311]\n",
      "\u001b[34m\u001b[1mtrain: \u001b[0mWARNING  C:\\Patricia Ho\\Braincore\\apnr\\data\\train\\images\\75-E-2956-RP-03-22_jpg.rf.b4fd7f1e0c8f48c52326222a31888b5b.jpg: ignoring corrupt image/label: non-normalized or out of bounds coordinates [     1.1051]\n",
      "\u001b[34m\u001b[1mtrain: \u001b[0mWARNING  C:\\Patricia Ho\\Braincore\\apnr\\data\\train\\images\\87-E-6673-ZQ-04-18_jpg.rf.2e350cf9b8f3529290f839b9727bf9fe.jpg: ignoring corrupt image/label: non-normalized or out of bounds coordinates [     1.0872]\n",
      "\u001b[34m\u001b[1mtrain: \u001b[0mWARNING  C:\\Patricia Ho\\Braincore\\apnr\\data\\train\\images\\87-E-6673-ZQ-04-18_jpg.rf.3dd443026737a2864395bfab0e59177f.jpg: ignoring corrupt image/label: non-normalized or out of bounds coordinates [     1.0021]\n",
      "\u001b[34m\u001b[1mtrain: \u001b[0mWARNING  C:\\Patricia Ho\\Braincore\\apnr\\data\\train\\images\\87-E-6673-ZQ-04-18_jpg.rf.6ad9636978984998d39952180c01e5dc.jpg: ignoring corrupt image/label: non-normalized or out of bounds coordinates [      1.083]\n",
      "\u001b[34m\u001b[1mtrain: \u001b[0mWARNING  C:\\Patricia Ho\\Braincore\\apnr\\data\\train\\images\\88-E-3118-QP-01-20_jpg.rf.6dfd0b61dc51ac97a096c7494a3e16e0.jpg: ignoring corrupt image/label: non-normalized or out of bounds coordinates [     1.0001]\n",
      "\u001b[34m\u001b[1mtrain: \u001b[0mWARNING  C:\\Patricia Ho\\Braincore\\apnr\\data\\train\\images\\88-E-3118-QP-01-20_jpg.rf.98f6cee3060101820001bf6c1220a019.jpg: ignoring corrupt image/label: non-normalized or out of bounds coordinates [      1.015]\n",
      "\u001b[34m\u001b[1mtrain: \u001b[0mWARNING  C:\\Patricia Ho\\Braincore\\apnr\\data\\train\\images\\88-E-3118-QP-01-20_jpg.rf.ae60e94da258c11f15815ffaa51caa33.jpg: ignoring corrupt image/label: non-normalized or out of bounds coordinates [     1.0498]\n",
      "\u001b[34m\u001b[1mtrain: \u001b[0mWARNING  C:\\Patricia Ho\\Braincore\\apnr\\data\\train\\images\\97-E-6457-CA-11-21_jpg.rf.b308643aaf3d77ea43f55db4ca33cb69.jpg: ignoring corrupt image/label: non-normalized or out of bounds coordinates [     1.0065]\n",
      "\u001b[34m\u001b[1mtrain: \u001b[0mWARNING  C:\\Patricia Ho\\Braincore\\apnr\\data\\train\\images\\B1420BX_jpg.rf.013ed477e66868e2577117612e9f5ec2.jpg: ignoring corrupt image/label: non-normalized or out of bounds coordinates [     1.0084]\n",
      "\u001b[34m\u001b[1mtrain: \u001b[0mWARNING  C:\\Patricia Ho\\Braincore\\apnr\\data\\train\\images\\B1420BX_jpg.rf.aaee453d55421f0289a6e15766fdc5a7.jpg: ignoring corrupt image/label: non-normalized or out of bounds coordinates [     1.0647]\n",
      "\u001b[34m\u001b[1mtrain: \u001b[0mWARNING  C:\\Patricia Ho\\Braincore\\apnr\\data\\train\\images\\B6173TU_jpg.rf.386de3c9b36e4c97ff25a31fdc75d65f.jpg: ignoring corrupt image/label: non-normalized or out of bounds coordinates [     1.3422      1.0627]\n",
      "\u001b[34m\u001b[1mtrain: \u001b[0mWARNING  C:\\Patricia Ho\\Braincore\\apnr\\data\\train\\images\\B6173TU_jpg.rf.41021bf9bd9564bdcbee3ccb75428c7c.jpg: ignoring corrupt image/label: non-normalized or out of bounds coordinates [     1.3245      1.0732]\n",
      "\u001b[34m\u001b[1mtrain: \u001b[0mWARNING  C:\\Patricia Ho\\Braincore\\apnr\\data\\train\\images\\B6173TU_jpg.rf.68e97cc2c61d04b827a2e3513ec5e24d.jpg: ignoring corrupt image/label: non-normalized or out of bounds coordinates [     1.3024]\n",
      "\u001b[34m\u001b[1mtrain: \u001b[0mWARNING  C:\\Patricia Ho\\Braincore\\apnr\\data\\train\\images\\D4232UT_jpg.rf.0aa3acd1061dd6fff32e958c9a7ae87e.jpg: ignoring corrupt image/label: non-normalized or out of bounds coordinates [     1.1173      1.0559]\n",
      "\u001b[34m\u001b[1mtrain: \u001b[0mWARNING  C:\\Patricia Ho\\Braincore\\apnr\\data\\train\\images\\D4232UT_jpg.rf.6217a9ddbca6131cb420da0e5b8c9753.jpg: ignoring corrupt image/label: non-normalized or out of bounds coordinates [     1.2963      1.0388]\n",
      "\u001b[34m\u001b[1mtrain: \u001b[0mWARNING  C:\\Patricia Ho\\Braincore\\apnr\\data\\train\\images\\D4232UT_jpg.rf.9350151bb33396295d6bd461903bb622.jpg: ignoring corrupt image/label: non-normalized or out of bounds coordinates [     1.1961]\n",
      "\u001b[34m\u001b[1mtrain: \u001b[0mWARNING  C:\\Patricia Ho\\Braincore\\apnr\\data\\train\\images\\DM2042H_jpg.rf.483b82c58c004ecd0296ba8821c354e9.jpg: ignoring corrupt image/label: non-normalized or out of bounds coordinates [     1.1198]\n",
      "\u001b[34m\u001b[1mtrain: \u001b[0mWARNING  C:\\Patricia Ho\\Braincore\\apnr\\data\\train\\images\\DM2042H_jpg.rf.ba12249681f54e1b3054043c3e53324b.jpg: ignoring corrupt image/label: non-normalized or out of bounds coordinates [     1.1355]\n",
      "\u001b[34m\u001b[1mtrain: \u001b[0mWARNING  C:\\Patricia Ho\\Braincore\\apnr\\data\\train\\images\\DM2042H_jpg.rf.e6beab4fe847832c70955fe482e653d6.jpg: ignoring corrupt image/label: non-normalized or out of bounds coordinates [     1.1509]\n",
      "\u001b[34m\u001b[1mtrain: \u001b[0mWARNING  C:\\Patricia Ho\\Braincore\\apnr\\data\\train\\images\\M2042HC_jpg.rf.05f4127950a4e132f4dd3d05975050db.jpg: ignoring corrupt image/label: non-normalized or out of bounds coordinates [     1.1896]\n",
      "\u001b[34m\u001b[1mtrain: \u001b[0mWARNING  C:\\Patricia Ho\\Braincore\\apnr\\data\\train\\images\\M2042HC_jpg.rf.069928c0f9bb08b29df7996c78aa19ed.jpg: ignoring corrupt image/label: non-normalized or out of bounds coordinates [     1.2316]\n",
      "\u001b[34m\u001b[1mtrain: \u001b[0mWARNING  C:\\Patricia Ho\\Braincore\\apnr\\data\\train\\images\\M2042HC_jpg.rf.6c8a4a5775f76939b36f4aa15ca3de8e.jpg: ignoring corrupt image/label: non-normalized or out of bounds coordinates [      1.135]\n",
      "\u001b[34m\u001b[1mtrain: \u001b[0mWARNING  C:\\Patricia Ho\\Braincore\\apnr\\data\\train\\images\\PB2592I_jpg.rf.5f0ea23f7319b1133d8c33237b46a89b.jpg: ignoring corrupt image/label: non-normalized or out of bounds coordinates [     1.0787]\n",
      "\u001b[34m\u001b[1mtrain: \u001b[0mWARNING  C:\\Patricia Ho\\Braincore\\apnr\\data\\train\\images\\PB2592I_jpg.rf.ecdb559d8a35d0e889102ff44c03d464.jpg: ignoring corrupt image/label: non-normalized or out of bounds coordinates [     1.0546]\n",
      "\u001b[34m\u001b[1mtrain: \u001b[0mWARNING  C:\\Patricia Ho\\Braincore\\apnr\\data\\train\\images\\PB2592I_jpg.rf.f5ab584a7d03aa0e5616c386c8aa8120.jpg: ignoring corrupt image/label: non-normalized or out of bounds coordinates [      1.116]\n"
     ]
    },
    {
     "name": "stderr",
     "output_type": "stream",
     "text": [
      "\n",
      "\u001b[34m\u001b[1mval: \u001b[0mScanning C:\\Patricia Ho\\Braincore\\apnr\\data\\valid\\labels.cache... 464 images, 1 backgrounds, 45 corrupt: 100%|██████████| 464/464 [00:00<?, ?it/\u001b[0m"
     ]
    },
    {
     "name": "stdout",
     "output_type": "stream",
     "text": [
      "\u001b[34m\u001b[1mval: \u001b[0mWARNING  C:\\Patricia Ho\\Braincore\\apnr\\data\\valid\\images\\106-E-4670-TL-05-22_jpg.rf.767f95258abd3a7ad3cf3198171bca5c.jpg: ignoring corrupt image/label: non-normalized or out of bounds coordinates [     1.0139]\n",
      "\u001b[34m\u001b[1mval: \u001b[0mWARNING  C:\\Patricia Ho\\Braincore\\apnr\\data\\valid\\images\\111-E-6810-IX-05-20_jpg.rf.70a1e83f186131251d45f0cf034cb61a.jpg: ignoring corrupt image/label: non-normalized or out of bounds coordinates [       1.02]\n",
      "\u001b[34m\u001b[1mval: \u001b[0mWARNING  C:\\Patricia Ho\\Braincore\\apnr\\data\\valid\\images\\115-E-5305-SM-06-20_jpg.rf.7fe05ff1e17b3541ae39a0a98825f2fe.jpg: ignoring corrupt image/label: non-normalized or out of bounds coordinates [     1.0033]\n",
      "\u001b[34m\u001b[1mval: \u001b[0mWARNING  C:\\Patricia Ho\\Braincore\\apnr\\data\\valid\\images\\123-E-4603-PAE-07-21_jpg.rf.f94576b7d5b69611916bbdaefb8c0676.jpg: ignoring corrupt image/label: non-normalized or out of bounds coordinates [     1.0606]\n",
      "\u001b[34m\u001b[1mval: \u001b[0mWARNING  C:\\Patricia Ho\\Braincore\\apnr\\data\\valid\\images\\125-E-4172-QB-11-22_jpg.rf.12edb9bc0287fe6be3ba4392ff2b3c03.jpg: ignoring corrupt image/label: non-normalized or out of bounds coordinates [     1.0489]\n",
      "\u001b[34m\u001b[1mval: \u001b[0mWARNING  C:\\Patricia Ho\\Braincore\\apnr\\data\\valid\\images\\128-E-4877-SV-05-21_jpg.rf.bef868cd670e0fdebe38337db11efd9d.jpg: ignoring corrupt image/label: non-normalized or out of bounds coordinates [     1.0528]\n",
      "\u001b[34m\u001b[1mval: \u001b[0mWARNING  C:\\Patricia Ho\\Braincore\\apnr\\data\\valid\\images\\130-E-9967-P-12-22_jpg.rf.386b24dd9586ac29423e3c396fda4e3d.jpg: ignoring corrupt image/label: non-normalized or out of bounds coordinates [     1.0823]\n",
      "\u001b[34m\u001b[1mval: \u001b[0mWARNING  C:\\Patricia Ho\\Braincore\\apnr\\data\\valid\\images\\14-E-1129-RP-07-18_jpg.rf.6f881d5de380caf2ee371705d711264d.jpg: ignoring corrupt image/label: non-normalized or out of bounds coordinates [     1.0225]\n",
      "\u001b[34m\u001b[1mval: \u001b[0mWARNING  C:\\Patricia Ho\\Braincore\\apnr\\data\\valid\\images\\149-E-4217-TT-01-18_jpg.rf.bf2ce888ed961bf5099d1871816538db.jpg: ignoring corrupt image/label: non-normalized or out of bounds coordinates [     1.0416]\n",
      "\u001b[34m\u001b[1mval: \u001b[0mWARNING  C:\\Patricia Ho\\Braincore\\apnr\\data\\valid\\images\\154-E-6151-PAL-04-22_jpg.rf.9389de84b3f339cc5b66a56bfd78ce29.jpg: ignoring corrupt image/label: non-normalized or out of bounds coordinates [     1.0975]\n",
      "\u001b[34m\u001b[1mval: \u001b[0mWARNING  C:\\Patricia Ho\\Braincore\\apnr\\data\\valid\\images\\156-E-3426-SB-10-18_jpg.rf.fb2b6c3f80b27c21499f1b46516de1b5.jpg: ignoring corrupt image/label: non-normalized or out of bounds coordinates [     1.0148]\n",
      "\u001b[34m\u001b[1mval: \u001b[0mWARNING  C:\\Patricia Ho\\Braincore\\apnr\\data\\valid\\images\\170-E-3913-QS-04-20_jpg.rf.503cbf5880886be17c9931da4fec4049.jpg: ignoring corrupt image/label: non-normalized or out of bounds coordinates [      1.032]\n",
      "\u001b[34m\u001b[1mval: \u001b[0mWARNING  C:\\Patricia Ho\\Braincore\\apnr\\data\\valid\\images\\173-E-4019-TL-05-22_jpg.rf.862defc6745eb1852fa951756f3e1525.jpg: ignoring corrupt image/label: non-normalized or out of bounds coordinates [     1.1007]\n",
      "\u001b[34m\u001b[1mval: \u001b[0mWARNING  C:\\Patricia Ho\\Braincore\\apnr\\data\\valid\\images\\176-E-4386-IY-09-18_jpg.rf.609e33e31b52cc8218f9419ed02d3ec6.jpg: ignoring corrupt image/label: non-normalized or out of bounds coordinates [     1.0534]\n",
      "\u001b[34m\u001b[1mval: \u001b[0mWARNING  C:\\Patricia Ho\\Braincore\\apnr\\data\\valid\\images\\188-E-2647-SL-01-20_jpg.rf.4fe4e107648d1eb7582f050b5d24863b.jpg: ignoring corrupt image/label: non-normalized or out of bounds coordinates [     1.0001]\n",
      "\u001b[34m\u001b[1mval: \u001b[0mWARNING  C:\\Patricia Ho\\Braincore\\apnr\\data\\valid\\images\\195-E-2110-QP-12-19_jpg.rf.67b73854e0d6df8b83f4909b61baaa55.jpg: ignoring corrupt image/label: non-normalized or out of bounds coordinates [     1.0685]\n",
      "\u001b[34m\u001b[1mval: \u001b[0mWARNING  C:\\Patricia Ho\\Braincore\\apnr\\data\\valid\\images\\198-E-3040-SI-09-19_jpg.rf.38a9d870e43e61cdf7ba8ed3a861227c.jpg: ignoring corrupt image/label: non-normalized or out of bounds coordinates [     1.1202]\n",
      "\u001b[34m\u001b[1mval: \u001b[0mWARNING  C:\\Patricia Ho\\Braincore\\apnr\\data\\valid\\images\\20171211_110659_jpg.rf.d69611a71d9669da5a6266826f92da8d.jpg: ignoring corrupt image/label: non-normalized or out of bounds coordinates [     1.0274]\n",
      "\u001b[34m\u001b[1mval: \u001b[0mWARNING  C:\\Patricia Ho\\Braincore\\apnr\\data\\valid\\images\\20171212_073402_jpg.rf.25322d813c959e57cf076ff3ba0f3669.jpg: ignoring corrupt image/label: non-normalized or out of bounds coordinates [     1.0387]\n",
      "\u001b[34m\u001b[1mval: \u001b[0mWARNING  C:\\Patricia Ho\\Braincore\\apnr\\data\\valid\\images\\20171212_100708_jpg.rf.30bd4dd0a33fb2e5a365bb5929134dd7.jpg: ignoring corrupt image/label: non-normalized or out of bounds coordinates [     1.0234]\n",
      "\u001b[34m\u001b[1mval: \u001b[0mWARNING  C:\\Patricia Ho\\Braincore\\apnr\\data\\valid\\images\\20171212_124357_jpg.rf.a75ba83efc0a01e56e7bcebfc25a5fe0.jpg: ignoring corrupt image/label: non-normalized or out of bounds coordinates [      1.017]\n",
      "\u001b[34m\u001b[1mval: \u001b[0mWARNING  C:\\Patricia Ho\\Braincore\\apnr\\data\\valid\\images\\20171212_142243_jpg.rf.631915e822454367042f58c0c43c64d2.jpg: ignoring corrupt image/label: non-normalized or out of bounds coordinates [     1.0115]\n",
      "\u001b[34m\u001b[1mval: \u001b[0mWARNING  C:\\Patricia Ho\\Braincore\\apnr\\data\\valid\\images\\217-E-4992-SW-06-15_jpg.rf.99e410414f4429b807b70500e5bcbba0.jpg: ignoring corrupt image/label: non-normalized or out of bounds coordinates [     1.0826]\n",
      "\u001b[34m\u001b[1mval: \u001b[0mWARNING  C:\\Patricia Ho\\Braincore\\apnr\\data\\valid\\images\\220-E-3246-OP-12-19_jpg.rf.ed67808e9e5532b8fe494db8e85fbef6.jpg: ignoring corrupt image/label: non-normalized or out of bounds coordinates [       1.06]\n",
      "\u001b[34m\u001b[1mval: \u001b[0mWARNING  C:\\Patricia Ho\\Braincore\\apnr\\data\\valid\\images\\225-E-3061-SQ-10-20_jpg.rf.1c30fb773d11bf2058ec37a8226cdd0a.jpg: ignoring corrupt image/label: non-normalized or out of bounds coordinates [     1.0353]\n",
      "\u001b[34m\u001b[1mval: \u001b[0mWARNING  C:\\Patricia Ho\\Braincore\\apnr\\data\\valid\\images\\236-E-536-YY-00-00_jpg.rf.5709d5325934c84ca0fa7a2b44aa6d89.jpg: ignoring corrupt image/label: non-normalized or out of bounds coordinates [      1.101]\n",
      "\u001b[34m\u001b[1mval: \u001b[0mWARNING  C:\\Patricia Ho\\Braincore\\apnr\\data\\valid\\images\\25-E-2101-PAD-06-21_jpg.rf.b30901f4be80407912b5ef9e62d72eed.jpg: ignoring corrupt image/label: non-normalized or out of bounds coordinates [     1.1171]\n",
      "\u001b[34m\u001b[1mval: \u001b[0mWARNING  C:\\Patricia Ho\\Braincore\\apnr\\data\\valid\\images\\297-E-1169-PY-05-20_jpg.rf.f22879b9d99e057a28e73ca9fa468f8e.jpg: ignoring corrupt image/label: non-normalized or out of bounds coordinates [     1.0692]\n",
      "\u001b[34m\u001b[1mval: \u001b[0mWARNING  C:\\Patricia Ho\\Braincore\\apnr\\data\\valid\\images\\314-E-3016-SB-10-18_jpg.rf.695a66f1757d64bfb36e5364ffdeacee.jpg: ignoring corrupt image/label: non-normalized or out of bounds coordinates [     1.0199]\n",
      "\u001b[34m\u001b[1mval: \u001b[0mWARNING  C:\\Patricia Ho\\Braincore\\apnr\\data\\valid\\images\\331-E-2843-HB-08-21_jpg.rf.65313485fee587fdd3c94c2733e712d7.jpg: ignoring corrupt image/label: non-normalized or out of bounds coordinates [     1.0168]\n",
      "\u001b[34m\u001b[1mval: \u001b[0mWARNING  C:\\Patricia Ho\\Braincore\\apnr\\data\\valid\\images\\336-E-2909-TP-12-21_jpg.rf.2a9f570a24de3c26fae29f8e2faca375.jpg: ignoring corrupt image/label: non-normalized or out of bounds coordinates [     1.0372]\n",
      "\u001b[34m\u001b[1mval: \u001b[0mWARNING  C:\\Patricia Ho\\Braincore\\apnr\\data\\valid\\images\\337-E-3955-PAK-02-22_jpg.rf.4e6cda82ce81880686d3f98d76e6ab6f.jpg: ignoring corrupt image/label: non-normalized or out of bounds coordinates [     1.2406]\n",
      "\u001b[34m\u001b[1mval: \u001b[0mWARNING  C:\\Patricia Ho\\Braincore\\apnr\\data\\valid\\images\\342-E-2544-QD-11-18_jpg.rf.daafde322961ac6bd4b92f183c82f7f4.jpg: ignoring corrupt image/label: non-normalized or out of bounds coordinates [     1.0396]\n",
      "\u001b[34m\u001b[1mval: \u001b[0mWARNING  C:\\Patricia Ho\\Braincore\\apnr\\data\\valid\\images\\348-E-4160TQ-10-17_jpeg_jpg.rf.369bfc5f41166f3f3b59d18fb63e5b20.jpg: ignoring corrupt image/label: non-normalized or out of bounds coordinates [     1.0427]\n",
      "\u001b[34m\u001b[1mval: \u001b[0mWARNING  C:\\Patricia Ho\\Braincore\\apnr\\data\\valid\\images\\38-E-3747-RE-08-15_jpg.rf.c840940e0819d2798ebeb22b9a2749e0.jpg: ignoring corrupt image/label: non-normalized or out of bounds coordinates [     1.0655]\n",
      "\u001b[34m\u001b[1mval: \u001b[0mWARNING  C:\\Patricia Ho\\Braincore\\apnr\\data\\valid\\images\\40-E-2324-OM-09-19_jpg.rf.0f462caa7dbe3c25ee038652006ea1a5.jpg: ignoring corrupt image/label: non-normalized or out of bounds coordinates [     1.0077]\n",
      "\u001b[34m\u001b[1mval: \u001b[0mWARNING  C:\\Patricia Ho\\Braincore\\apnr\\data\\valid\\images\\46-E-4531-TV-04-18_jpg.rf.156bf2fd41da3f2576f50642f868306c.jpg: ignoring corrupt image/label: non-normalized or out of bounds coordinates [     1.0824]\n",
      "\u001b[34m\u001b[1mval: \u001b[0mWARNING  C:\\Patricia Ho\\Braincore\\apnr\\data\\valid\\images\\7-E-4594-Q-08-18_jpg.rf.1696d072bc97d5153aedb6b49aa3625c.jpg: ignoring corrupt image/label: non-normalized or out of bounds coordinates [     1.0263]\n",
      "\u001b[34m\u001b[1mval: \u001b[0mWARNING  C:\\Patricia Ho\\Braincore\\apnr\\data\\valid\\images\\74-E-2393-TT-01-18_jpg.rf.4fdec37afeadb637c9abaf1a5b800c44.jpg: ignoring corrupt image/label: non-normalized or out of bounds coordinates [     1.0149]\n",
      "\u001b[34m\u001b[1mval: \u001b[0mWARNING  C:\\Patricia Ho\\Braincore\\apnr\\data\\valid\\images\\77-E-6295-QL-09-19_jpg.rf.2b63786adb78e72087008f17f63bc08d.jpg: ignoring corrupt image/label: non-normalized or out of bounds coordinates [      1.096]\n",
      "\u001b[34m\u001b[1mval: \u001b[0mWARNING  C:\\Patricia Ho\\Braincore\\apnr\\data\\valid\\images\\86-E-5202-TA-03-19_jpg.rf.51f5a0c8a3987729d04f7009d5e35daa.jpg: ignoring corrupt image/label: non-normalized or out of bounds coordinates [     1.0659]\n",
      "\u001b[34m\u001b[1mval: \u001b[0mWARNING  C:\\Patricia Ho\\Braincore\\apnr\\data\\valid\\images\\9-E-2633-RO-11-16_jpg.rf.3b57f8a98e3224623e3795e9ff9165ad.jpg: ignoring corrupt image/label: non-normalized or out of bounds coordinates [     1.0987]\n",
      "\u001b[34m\u001b[1mval: \u001b[0mWARNING  C:\\Patricia Ho\\Braincore\\apnr\\data\\valid\\images\\90-E-5811-RO-10-18_jpg.rf.46c37fb0e97f4079b3faed4a875bad70.jpg: ignoring corrupt image/label: non-normalized or out of bounds coordinates [     1.0059]\n",
      "\u001b[34m\u001b[1mval: \u001b[0mWARNING  C:\\Patricia Ho\\Braincore\\apnr\\data\\valid\\images\\91-E-6554-ZL-05-22_jpg.rf.15386228cff8a4e65952324711f69007.jpg: ignoring corrupt image/label: non-normalized or out of bounds coordinates [     1.0434]\n",
      "\u001b[34m\u001b[1mval: \u001b[0mWARNING  C:\\Patricia Ho\\Braincore\\apnr\\data\\valid\\images\\DM2043H_jpg.rf.a68007f82598969b06e2f9d34536186e.jpg: ignoring corrupt image/label: non-normalized or out of bounds coordinates [     1.1527]\n"
     ]
    },
    {
     "name": "stderr",
     "output_type": "stream",
     "text": [
      "\n"
     ]
    },
    {
     "name": "stdout",
     "output_type": "stream",
     "text": [
      "Plotting labels to runs\\obb\\train\\labels.jpg... \n",
      "\u001b[34m\u001b[1moptimizer:\u001b[0m 'optimizer=auto' found, ignoring 'lr0=0.01' and 'momentum=0.937' and determining best 'optimizer', 'lr0' and 'momentum' automatically... \n",
      "\u001b[34m\u001b[1moptimizer:\u001b[0m AdamW(lr=0.002, momentum=0.9) with parameter groups 63 weight(decay=0.0), 73 weight(decay=0.0005), 72 bias(decay=0.0)\n",
      "Image sizes 640 train, 640 val\n",
      "Using 8 dataloader workers\n",
      "Logging results to \u001b[1mruns\\obb\\train\u001b[0m\n",
      "Starting training for 50 epochs...\n",
      "\n",
      "      Epoch    GPU_mem   box_loss   cls_loss   dfl_loss  Instances       Size\n"
     ]
    },
    {
     "name": "stderr",
     "output_type": "stream",
     "text": [
      "       1/50      2.25G      1.333      1.486      2.903         17        640: 100%|██████████| 184/184 [00:44<00:00,  4.17it/s]\n",
      "                 Class     Images  Instances      Box(P          R      mAP50  mAP50-95): 100%|██████████| 27/27 [00:05<00:00,  4.96it/s]\n"
     ]
    },
    {
     "name": "stdout",
     "output_type": "stream",
     "text": [
      "                   all        419        452      0.742      0.867      0.887      0.561\n",
      "\n",
      "      Epoch    GPU_mem   box_loss   cls_loss   dfl_loss  Instances       Size\n"
     ]
    },
    {
     "name": "stderr",
     "output_type": "stream",
     "text": [
      "       2/50      2.17G       1.07     0.8375       2.65         16        640: 100%|██████████| 184/184 [00:36<00:00,  5.10it/s]\n",
      "                 Class     Images  Instances      Box(P          R      mAP50  mAP50-95): 100%|██████████| 27/27 [00:05<00:00,  5.11it/s]"
     ]
    },
    {
     "name": "stdout",
     "output_type": "stream",
     "text": [
      "                   all        419        452      0.796      0.921      0.884      0.532\n"
     ]
    },
    {
     "name": "stderr",
     "output_type": "stream",
     "text": [
      "\n"
     ]
    },
    {
     "name": "stdout",
     "output_type": "stream",
     "text": [
      "\n",
      "      Epoch    GPU_mem   box_loss   cls_loss   dfl_loss  Instances       Size\n"
     ]
    },
    {
     "name": "stderr",
     "output_type": "stream",
     "text": [
      "       3/50      2.17G      1.026     0.7667      2.544         17        640: 100%|██████████| 184/184 [00:38<00:00,  4.78it/s]\n",
      "                 Class     Images  Instances      Box(P          R      mAP50  mAP50-95): 100%|██████████| 27/27 [00:05<00:00,  4.93it/s]"
     ]
    },
    {
     "name": "stdout",
     "output_type": "stream",
     "text": [
      "                   all        419        452       0.87      0.763      0.905      0.571\n"
     ]
    },
    {
     "name": "stderr",
     "output_type": "stream",
     "text": [
      "\n"
     ]
    },
    {
     "name": "stdout",
     "output_type": "stream",
     "text": [
      "\n",
      "      Epoch    GPU_mem   box_loss   cls_loss   dfl_loss  Instances       Size\n"
     ]
    },
    {
     "name": "stderr",
     "output_type": "stream",
     "text": [
      "       4/50      2.17G     0.9844     0.7324      2.534         21        640: 100%|██████████| 184/184 [00:39<00:00,  4.69it/s]\n",
      "                 Class     Images  Instances      Box(P          R      mAP50  mAP50-95): 100%|██████████| 27/27 [00:05<00:00,  4.83it/s]"
     ]
    },
    {
     "name": "stdout",
     "output_type": "stream",
     "text": [
      "                   all        419        452      0.749      0.628      0.723      0.471\n"
     ]
    },
    {
     "name": "stderr",
     "output_type": "stream",
     "text": [
      "\n"
     ]
    },
    {
     "name": "stdout",
     "output_type": "stream",
     "text": [
      "\n",
      "      Epoch    GPU_mem   box_loss   cls_loss   dfl_loss  Instances       Size\n"
     ]
    },
    {
     "name": "stderr",
     "output_type": "stream",
     "text": [
      "       5/50      2.17G     0.9516     0.6966      2.484         22        640: 100%|██████████| 184/184 [00:44<00:00,  4.15it/s]\n",
      "                 Class     Images  Instances      Box(P          R      mAP50  mAP50-95): 100%|██████████| 27/27 [00:09<00:00,  2.90it/s]"
     ]
    },
    {
     "name": "stdout",
     "output_type": "stream",
     "text": [
      "                   all        419        452      0.761      0.591      0.747      0.514\n"
     ]
    },
    {
     "name": "stderr",
     "output_type": "stream",
     "text": [
      "\n"
     ]
    },
    {
     "name": "stdout",
     "output_type": "stream",
     "text": [
      "\n",
      "      Epoch    GPU_mem   box_loss   cls_loss   dfl_loss  Instances       Size\n"
     ]
    },
    {
     "name": "stderr",
     "output_type": "stream",
     "text": [
      "       6/50      2.17G     0.9274     0.6825      2.443         31        640: 100%|██████████| 184/184 [00:47<00:00,  3.89it/s]\n",
      "                 Class     Images  Instances      Box(P          R      mAP50  mAP50-95): 100%|██████████| 27/27 [00:07<00:00,  3.49it/s]"
     ]
    },
    {
     "name": "stdout",
     "output_type": "stream",
     "text": [
      "                   all        419        452      0.894      0.952      0.945      0.679\n"
     ]
    },
    {
     "name": "stderr",
     "output_type": "stream",
     "text": [
      "\n"
     ]
    },
    {
     "name": "stdout",
     "output_type": "stream",
     "text": [
      "\n",
      "      Epoch    GPU_mem   box_loss   cls_loss   dfl_loss  Instances       Size\n"
     ]
    },
    {
     "name": "stderr",
     "output_type": "stream",
     "text": [
      "       7/50      2.17G     0.8988     0.6538      2.389         19        640: 100%|██████████| 184/184 [00:57<00:00,  3.18it/s]\n",
      "                 Class     Images  Instances      Box(P          R      mAP50  mAP50-95): 100%|██████████| 27/27 [00:08<00:00,  3.30it/s]"
     ]
    },
    {
     "name": "stdout",
     "output_type": "stream",
     "text": [
      "                   all        419        452      0.887      0.969      0.951      0.678\n"
     ]
    },
    {
     "name": "stderr",
     "output_type": "stream",
     "text": [
      "\n"
     ]
    },
    {
     "name": "stdout",
     "output_type": "stream",
     "text": [
      "\n",
      "      Epoch    GPU_mem   box_loss   cls_loss   dfl_loss  Instances       Size\n"
     ]
    },
    {
     "name": "stderr",
     "output_type": "stream",
     "text": [
      "       8/50      2.17G     0.8712     0.6193      2.391         21        640: 100%|██████████| 184/184 [00:53<00:00,  3.44it/s]\n",
      "                 Class     Images  Instances      Box(P          R      mAP50  mAP50-95): 100%|██████████| 27/27 [00:08<00:00,  3.22it/s]"
     ]
    },
    {
     "name": "stdout",
     "output_type": "stream",
     "text": [
      "                   all        419        452      0.903      0.951      0.968      0.716\n"
     ]
    },
    {
     "name": "stderr",
     "output_type": "stream",
     "text": [
      "\n"
     ]
    },
    {
     "name": "stdout",
     "output_type": "stream",
     "text": [
      "\n",
      "      Epoch    GPU_mem   box_loss   cls_loss   dfl_loss  Instances       Size\n"
     ]
    },
    {
     "name": "stderr",
     "output_type": "stream",
     "text": [
      "       9/50      2.17G     0.8713      0.622      2.389         25        640: 100%|██████████| 184/184 [00:52<00:00,  3.48it/s]\n",
      "                 Class     Images  Instances      Box(P          R      mAP50  mAP50-95): 100%|██████████| 27/27 [00:08<00:00,  3.31it/s]"
     ]
    },
    {
     "name": "stdout",
     "output_type": "stream",
     "text": [
      "                   all        419        452      0.933      0.951      0.978      0.732\n"
     ]
    },
    {
     "name": "stderr",
     "output_type": "stream",
     "text": [
      "\n"
     ]
    },
    {
     "name": "stdout",
     "output_type": "stream",
     "text": [
      "\n",
      "      Epoch    GPU_mem   box_loss   cls_loss   dfl_loss  Instances       Size\n"
     ]
    },
    {
     "name": "stderr",
     "output_type": "stream",
     "text": [
      "      10/50      2.17G     0.8643      0.614       2.37         15        640: 100%|██████████| 184/184 [01:07<00:00,  2.73it/s]\n",
      "                 Class     Images  Instances      Box(P          R      mAP50  mAP50-95): 100%|██████████| 27/27 [00:09<00:00,  2.92it/s]"
     ]
    },
    {
     "name": "stdout",
     "output_type": "stream",
     "text": [
      "                   all        419        452      0.937       0.81      0.948      0.762\n"
     ]
    },
    {
     "name": "stderr",
     "output_type": "stream",
     "text": [
      "\n"
     ]
    },
    {
     "name": "stdout",
     "output_type": "stream",
     "text": [
      "\n",
      "      Epoch    GPU_mem   box_loss   cls_loss   dfl_loss  Instances       Size\n"
     ]
    },
    {
     "name": "stderr",
     "output_type": "stream",
     "text": [
      "      11/50      2.17G     0.8383     0.5955      2.352         16        640: 100%|██████████| 184/184 [01:00<00:00,  3.05it/s]\n",
      "                 Class     Images  Instances      Box(P          R      mAP50  mAP50-95): 100%|██████████| 27/27 [00:08<00:00,  3.34it/s]"
     ]
    },
    {
     "name": "stdout",
     "output_type": "stream",
     "text": [
      "                   all        419        452      0.926       0.94      0.977      0.727\n"
     ]
    },
    {
     "name": "stderr",
     "output_type": "stream",
     "text": [
      "\n"
     ]
    },
    {
     "name": "stdout",
     "output_type": "stream",
     "text": [
      "\n",
      "      Epoch    GPU_mem   box_loss   cls_loss   dfl_loss  Instances       Size\n"
     ]
    },
    {
     "name": "stderr",
     "output_type": "stream",
     "text": [
      "      12/50      2.17G     0.8336     0.5889      2.339         24        640: 100%|██████████| 184/184 [00:51<00:00,  3.59it/s]\n",
      "                 Class     Images  Instances      Box(P          R      mAP50  mAP50-95): 100%|██████████| 27/27 [00:08<00:00,  3.27it/s]"
     ]
    },
    {
     "name": "stdout",
     "output_type": "stream",
     "text": [
      "                   all        419        452      0.905      0.965       0.96      0.738\n"
     ]
    },
    {
     "name": "stderr",
     "output_type": "stream",
     "text": [
      "\n"
     ]
    },
    {
     "name": "stdout",
     "output_type": "stream",
     "text": [
      "\n",
      "      Epoch    GPU_mem   box_loss   cls_loss   dfl_loss  Instances       Size\n"
     ]
    },
    {
     "name": "stderr",
     "output_type": "stream",
     "text": [
      "      13/50      2.17G     0.8291      0.583       2.34         18        640: 100%|██████████| 184/184 [00:50<00:00,  3.64it/s]\n",
      "                 Class     Images  Instances      Box(P          R      mAP50  mAP50-95): 100%|██████████| 27/27 [00:08<00:00,  3.31it/s]"
     ]
    },
    {
     "name": "stdout",
     "output_type": "stream",
     "text": [
      "                   all        419        452      0.922      0.971      0.979       0.76\n"
     ]
    },
    {
     "name": "stderr",
     "output_type": "stream",
     "text": [
      "\n"
     ]
    },
    {
     "name": "stdout",
     "output_type": "stream",
     "text": [
      "\n",
      "      Epoch    GPU_mem   box_loss   cls_loss   dfl_loss  Instances       Size\n"
     ]
    },
    {
     "name": "stderr",
     "output_type": "stream",
     "text": [
      "      14/50      2.19G     0.8172     0.5737      2.335         17        640: 100%|██████████| 184/184 [00:54<00:00,  3.39it/s]\n",
      "                 Class     Images  Instances      Box(P          R      mAP50  mAP50-95): 100%|██████████| 27/27 [00:08<00:00,  3.35it/s]"
     ]
    },
    {
     "name": "stdout",
     "output_type": "stream",
     "text": [
      "                   all        419        452      0.961      0.978      0.987      0.778\n"
     ]
    },
    {
     "name": "stderr",
     "output_type": "stream",
     "text": [
      "\n"
     ]
    },
    {
     "name": "stdout",
     "output_type": "stream",
     "text": [
      "\n",
      "      Epoch    GPU_mem   box_loss   cls_loss   dfl_loss  Instances       Size\n"
     ]
    },
    {
     "name": "stderr",
     "output_type": "stream",
     "text": [
      "      15/50      2.17G     0.8021     0.5728      2.292         17        640: 100%|██████████| 184/184 [00:51<00:00,  3.57it/s]\n",
      "                 Class     Images  Instances      Box(P          R      mAP50  mAP50-95): 100%|██████████| 27/27 [00:08<00:00,  3.18it/s]"
     ]
    },
    {
     "name": "stdout",
     "output_type": "stream",
     "text": [
      "                   all        419        452       0.87       0.92      0.961       0.76\n"
     ]
    },
    {
     "name": "stderr",
     "output_type": "stream",
     "text": [
      "\n"
     ]
    },
    {
     "name": "stdout",
     "output_type": "stream",
     "text": [
      "\n",
      "      Epoch    GPU_mem   box_loss   cls_loss   dfl_loss  Instances       Size\n"
     ]
    },
    {
     "name": "stderr",
     "output_type": "stream",
     "text": [
      "      16/50      2.17G     0.8016     0.5652      2.318         17        640: 100%|██████████| 184/184 [00:52<00:00,  3.52it/s]\n",
      "                 Class     Images  Instances      Box(P          R      mAP50  mAP50-95): 100%|██████████| 27/27 [00:08<00:00,  3.30it/s]"
     ]
    },
    {
     "name": "stdout",
     "output_type": "stream",
     "text": [
      "                   all        419        452      0.876      0.876      0.955      0.754\n"
     ]
    },
    {
     "name": "stderr",
     "output_type": "stream",
     "text": [
      "\n"
     ]
    },
    {
     "name": "stdout",
     "output_type": "stream",
     "text": [
      "\n",
      "      Epoch    GPU_mem   box_loss   cls_loss   dfl_loss  Instances       Size\n"
     ]
    },
    {
     "name": "stderr",
     "output_type": "stream",
     "text": [
      "      17/50      2.17G     0.7925     0.5519      2.279         14        640: 100%|██████████| 184/184 [00:55<00:00,  3.29it/s]\n",
      "                 Class     Images  Instances      Box(P          R      mAP50  mAP50-95): 100%|██████████| 27/27 [00:08<00:00,  3.16it/s]"
     ]
    },
    {
     "name": "stdout",
     "output_type": "stream",
     "text": [
      "                   all        419        452      0.972      0.983      0.987      0.797\n"
     ]
    },
    {
     "name": "stderr",
     "output_type": "stream",
     "text": [
      "\n"
     ]
    },
    {
     "name": "stdout",
     "output_type": "stream",
     "text": [
      "\n",
      "      Epoch    GPU_mem   box_loss   cls_loss   dfl_loss  Instances       Size\n"
     ]
    },
    {
     "name": "stderr",
     "output_type": "stream",
     "text": [
      "      18/50      2.17G     0.7841     0.5438       2.27         18        640: 100%|██████████| 184/184 [00:51<00:00,  3.59it/s]\n",
      "                 Class     Images  Instances      Box(P          R      mAP50  mAP50-95): 100%|██████████| 27/27 [00:08<00:00,  3.09it/s]"
     ]
    },
    {
     "name": "stdout",
     "output_type": "stream",
     "text": [
      "                   all        419        452      0.956      0.955      0.988      0.773\n"
     ]
    },
    {
     "name": "stderr",
     "output_type": "stream",
     "text": [
      "\n"
     ]
    },
    {
     "name": "stdout",
     "output_type": "stream",
     "text": [
      "\n",
      "      Epoch    GPU_mem   box_loss   cls_loss   dfl_loss  Instances       Size\n"
     ]
    },
    {
     "name": "stderr",
     "output_type": "stream",
     "text": [
      "      19/50      2.17G     0.7719      0.533      2.255         17        640: 100%|██████████| 184/184 [00:51<00:00,  3.55it/s]\n",
      "                 Class     Images  Instances      Box(P          R      mAP50  mAP50-95): 100%|██████████| 27/27 [00:07<00:00,  3.41it/s]"
     ]
    },
    {
     "name": "stdout",
     "output_type": "stream",
     "text": [
      "                   all        419        452      0.955      0.967      0.987      0.792\n"
     ]
    },
    {
     "name": "stderr",
     "output_type": "stream",
     "text": [
      "\n"
     ]
    },
    {
     "name": "stdout",
     "output_type": "stream",
     "text": [
      "\n",
      "      Epoch    GPU_mem   box_loss   cls_loss   dfl_loss  Instances       Size\n"
     ]
    },
    {
     "name": "stderr",
     "output_type": "stream",
     "text": [
      "      20/50      2.17G     0.7871     0.5506      2.264         18        640: 100%|██████████| 184/184 [00:51<00:00,  3.59it/s]\n",
      "                 Class     Images  Instances      Box(P          R      mAP50  mAP50-95): 100%|██████████| 27/27 [00:09<00:00,  2.98it/s]"
     ]
    },
    {
     "name": "stdout",
     "output_type": "stream",
     "text": [
      "                   all        419        452       0.93      0.949      0.981      0.821\n"
     ]
    },
    {
     "name": "stderr",
     "output_type": "stream",
     "text": [
      "\n"
     ]
    },
    {
     "name": "stdout",
     "output_type": "stream",
     "text": [
      "\n",
      "      Epoch    GPU_mem   box_loss   cls_loss   dfl_loss  Instances       Size\n"
     ]
    },
    {
     "name": "stderr",
     "output_type": "stream",
     "text": [
      "      21/50      2.17G     0.7677     0.5334      2.272         16        640: 100%|██████████| 184/184 [00:52<00:00,  3.50it/s]\n",
      "                 Class     Images  Instances      Box(P          R      mAP50  mAP50-95): 100%|██████████| 27/27 [00:08<00:00,  3.27it/s]"
     ]
    },
    {
     "name": "stdout",
     "output_type": "stream",
     "text": [
      "                   all        419        452      0.899      0.936       0.97      0.789\n"
     ]
    },
    {
     "name": "stderr",
     "output_type": "stream",
     "text": [
      "\n"
     ]
    },
    {
     "name": "stdout",
     "output_type": "stream",
     "text": [
      "\n",
      "      Epoch    GPU_mem   box_loss   cls_loss   dfl_loss  Instances       Size\n"
     ]
    },
    {
     "name": "stderr",
     "output_type": "stream",
     "text": [
      "      22/50      2.17G     0.7628     0.5321      2.264         26        640: 100%|██████████| 184/184 [00:52<00:00,  3.51it/s]\n",
      "                 Class     Images  Instances      Box(P          R      mAP50  mAP50-95): 100%|██████████| 27/27 [00:07<00:00,  3.38it/s]"
     ]
    },
    {
     "name": "stdout",
     "output_type": "stream",
     "text": [
      "                   all        419        452      0.929      0.923      0.964      0.796\n"
     ]
    },
    {
     "name": "stderr",
     "output_type": "stream",
     "text": [
      "\n"
     ]
    },
    {
     "name": "stdout",
     "output_type": "stream",
     "text": [
      "\n",
      "      Epoch    GPU_mem   box_loss   cls_loss   dfl_loss  Instances       Size\n"
     ]
    },
    {
     "name": "stderr",
     "output_type": "stream",
     "text": [
      "      23/50      2.17G     0.7607     0.5263       2.26         21        640: 100%|██████████| 184/184 [00:53<00:00,  3.43it/s]\n",
      "                 Class     Images  Instances      Box(P          R      mAP50  mAP50-95): 100%|██████████| 27/27 [00:08<00:00,  3.24it/s]"
     ]
    },
    {
     "name": "stdout",
     "output_type": "stream",
     "text": [
      "                   all        419        452      0.976      0.981      0.984      0.822\n"
     ]
    },
    {
     "name": "stderr",
     "output_type": "stream",
     "text": [
      "\n"
     ]
    },
    {
     "name": "stdout",
     "output_type": "stream",
     "text": [
      "\n",
      "      Epoch    GPU_mem   box_loss   cls_loss   dfl_loss  Instances       Size\n"
     ]
    },
    {
     "name": "stderr",
     "output_type": "stream",
     "text": [
      "      24/50      2.17G     0.7391      0.506       2.23         21        640: 100%|██████████| 184/184 [00:51<00:00,  3.60it/s]\n",
      "                 Class     Images  Instances      Box(P          R      mAP50  mAP50-95): 100%|██████████| 27/27 [00:07<00:00,  3.41it/s]"
     ]
    },
    {
     "name": "stdout",
     "output_type": "stream",
     "text": [
      "                   all        419        452      0.959      0.987      0.991      0.793\n"
     ]
    },
    {
     "name": "stderr",
     "output_type": "stream",
     "text": [
      "\n"
     ]
    },
    {
     "name": "stdout",
     "output_type": "stream",
     "text": [
      "\n",
      "      Epoch    GPU_mem   box_loss   cls_loss   dfl_loss  Instances       Size\n"
     ]
    },
    {
     "name": "stderr",
     "output_type": "stream",
     "text": [
      "      25/50      2.17G     0.7292     0.4984      2.205         18        640: 100%|██████████| 184/184 [00:52<00:00,  3.52it/s]\n",
      "                 Class     Images  Instances      Box(P          R      mAP50  mAP50-95): 100%|██████████| 27/27 [00:08<00:00,  3.24it/s]"
     ]
    },
    {
     "name": "stdout",
     "output_type": "stream",
     "text": [
      "                   all        419        452      0.976      0.976       0.99       0.81\n"
     ]
    },
    {
     "name": "stderr",
     "output_type": "stream",
     "text": [
      "\n"
     ]
    },
    {
     "name": "stdout",
     "output_type": "stream",
     "text": [
      "\n",
      "      Epoch    GPU_mem   box_loss   cls_loss   dfl_loss  Instances       Size\n"
     ]
    },
    {
     "name": "stderr",
     "output_type": "stream",
     "text": [
      "      26/50      2.17G      0.737     0.4995      2.218         19        640: 100%|██████████| 184/184 [00:51<00:00,  3.59it/s]\n",
      "                 Class     Images  Instances      Box(P          R      mAP50  mAP50-95): 100%|██████████| 27/27 [00:07<00:00,  3.38it/s]"
     ]
    },
    {
     "name": "stdout",
     "output_type": "stream",
     "text": [
      "                   all        419        452      0.946      0.982      0.983      0.803\n"
     ]
    },
    {
     "name": "stderr",
     "output_type": "stream",
     "text": [
      "\n"
     ]
    },
    {
     "name": "stdout",
     "output_type": "stream",
     "text": [
      "\n",
      "      Epoch    GPU_mem   box_loss   cls_loss   dfl_loss  Instances       Size\n"
     ]
    },
    {
     "name": "stderr",
     "output_type": "stream",
     "text": [
      "      27/50      2.17G     0.7273     0.5003      2.211         14        640: 100%|██████████| 184/184 [00:52<00:00,  3.52it/s]\n",
      "                 Class     Images  Instances      Box(P          R      mAP50  mAP50-95): 100%|██████████| 27/27 [00:08<00:00,  3.37it/s]"
     ]
    },
    {
     "name": "stdout",
     "output_type": "stream",
     "text": [
      "                   all        419        452      0.978      0.984       0.99      0.825\n"
     ]
    },
    {
     "name": "stderr",
     "output_type": "stream",
     "text": [
      "\n"
     ]
    },
    {
     "name": "stdout",
     "output_type": "stream",
     "text": [
      "\n",
      "      Epoch    GPU_mem   box_loss   cls_loss   dfl_loss  Instances       Size\n"
     ]
    },
    {
     "name": "stderr",
     "output_type": "stream",
     "text": [
      "      28/50      2.17G     0.7259     0.4962      2.211         21        640: 100%|██████████| 184/184 [00:52<00:00,  3.53it/s]\n",
      "                 Class     Images  Instances      Box(P          R      mAP50  mAP50-95): 100%|██████████| 27/27 [00:08<00:00,  3.37it/s]"
     ]
    },
    {
     "name": "stdout",
     "output_type": "stream",
     "text": [
      "                   all        419        452      0.922      0.968      0.981      0.798\n"
     ]
    },
    {
     "name": "stderr",
     "output_type": "stream",
     "text": [
      "\n"
     ]
    },
    {
     "name": "stdout",
     "output_type": "stream",
     "text": [
      "\n",
      "      Epoch    GPU_mem   box_loss   cls_loss   dfl_loss  Instances       Size\n"
     ]
    },
    {
     "name": "stderr",
     "output_type": "stream",
     "text": [
      "      29/50      2.19G     0.7168     0.4886      2.202         18        640: 100%|██████████| 184/184 [00:52<00:00,  3.49it/s]\n",
      "                 Class     Images  Instances      Box(P          R      mAP50  mAP50-95): 100%|██████████| 27/27 [00:10<00:00,  2.62it/s]"
     ]
    },
    {
     "name": "stdout",
     "output_type": "stream",
     "text": [
      "                   all        419        452      0.985      0.984      0.991      0.804\n"
     ]
    },
    {
     "name": "stderr",
     "output_type": "stream",
     "text": [
      "\n"
     ]
    },
    {
     "name": "stdout",
     "output_type": "stream",
     "text": [
      "\n",
      "      Epoch    GPU_mem   box_loss   cls_loss   dfl_loss  Instances       Size\n"
     ]
    },
    {
     "name": "stderr",
     "output_type": "stream",
     "text": [
      "      30/50      2.17G     0.7066     0.4795      2.184         25        640: 100%|██████████| 184/184 [00:52<00:00,  3.48it/s]\n",
      "                 Class     Images  Instances      Box(P          R      mAP50  mAP50-95): 100%|██████████| 27/27 [00:08<00:00,  3.18it/s]"
     ]
    },
    {
     "name": "stdout",
     "output_type": "stream",
     "text": [
      "                   all        419        452       0.98      0.986      0.988       0.82\n"
     ]
    },
    {
     "name": "stderr",
     "output_type": "stream",
     "text": [
      "\n"
     ]
    },
    {
     "name": "stdout",
     "output_type": "stream",
     "text": [
      "\n",
      "      Epoch    GPU_mem   box_loss   cls_loss   dfl_loss  Instances       Size\n"
     ]
    },
    {
     "name": "stderr",
     "output_type": "stream",
     "text": [
      "      31/50      2.17G     0.7085     0.4868       2.18         17        640: 100%|██████████| 184/184 [00:52<00:00,  3.49it/s]\n",
      "                 Class     Images  Instances      Box(P          R      mAP50  mAP50-95): 100%|██████████| 27/27 [00:09<00:00,  2.95it/s]"
     ]
    },
    {
     "name": "stdout",
     "output_type": "stream",
     "text": [
      "                   all        419        452      0.976      0.985      0.987      0.835\n"
     ]
    },
    {
     "name": "stderr",
     "output_type": "stream",
     "text": [
      "\n"
     ]
    },
    {
     "name": "stdout",
     "output_type": "stream",
     "text": [
      "\n",
      "      Epoch    GPU_mem   box_loss   cls_loss   dfl_loss  Instances       Size\n"
     ]
    },
    {
     "name": "stderr",
     "output_type": "stream",
     "text": [
      "      32/50      2.17G     0.7099     0.4905      2.213         16        640: 100%|██████████| 184/184 [00:52<00:00,  3.48it/s]\n",
      "                 Class     Images  Instances      Box(P          R      mAP50  mAP50-95): 100%|██████████| 27/27 [00:08<00:00,  3.31it/s]"
     ]
    },
    {
     "name": "stdout",
     "output_type": "stream",
     "text": [
      "                   all        419        452      0.982      0.986      0.992      0.836\n"
     ]
    },
    {
     "name": "stderr",
     "output_type": "stream",
     "text": [
      "\n"
     ]
    },
    {
     "name": "stdout",
     "output_type": "stream",
     "text": [
      "\n",
      "      Epoch    GPU_mem   box_loss   cls_loss   dfl_loss  Instances       Size\n"
     ]
    },
    {
     "name": "stderr",
     "output_type": "stream",
     "text": [
      "      33/50      2.17G     0.6984     0.4772      2.192         14        640: 100%|██████████| 184/184 [00:53<00:00,  3.44it/s]\n",
      "                 Class     Images  Instances      Box(P          R      mAP50  mAP50-95): 100%|██████████| 27/27 [00:08<00:00,  3.09it/s]"
     ]
    },
    {
     "name": "stdout",
     "output_type": "stream",
     "text": [
      "                   all        419        452      0.976      0.982      0.991      0.829\n"
     ]
    },
    {
     "name": "stderr",
     "output_type": "stream",
     "text": [
      "\n"
     ]
    },
    {
     "name": "stdout",
     "output_type": "stream",
     "text": [
      "\n",
      "      Epoch    GPU_mem   box_loss   cls_loss   dfl_loss  Instances       Size\n"
     ]
    },
    {
     "name": "stderr",
     "output_type": "stream",
     "text": [
      "      34/50      2.17G     0.6903     0.4664       2.17         22        640: 100%|██████████| 184/184 [00:51<00:00,  3.58it/s]\n",
      "                 Class     Images  Instances      Box(P          R      mAP50  mAP50-95): 100%|██████████| 27/27 [00:07<00:00,  3.44it/s]"
     ]
    },
    {
     "name": "stdout",
     "output_type": "stream",
     "text": [
      "                   all        419        452      0.981      0.985      0.991      0.836\n"
     ]
    },
    {
     "name": "stderr",
     "output_type": "stream",
     "text": [
      "\n"
     ]
    },
    {
     "name": "stdout",
     "output_type": "stream",
     "text": [
      "\n",
      "      Epoch    GPU_mem   box_loss   cls_loss   dfl_loss  Instances       Size\n"
     ]
    },
    {
     "name": "stderr",
     "output_type": "stream",
     "text": [
      "      35/50      2.17G     0.6826     0.4585      2.165         18        640: 100%|██████████| 184/184 [00:52<00:00,  3.48it/s]\n",
      "                 Class     Images  Instances      Box(P          R      mAP50  mAP50-95): 100%|██████████| 27/27 [00:08<00:00,  3.16it/s]"
     ]
    },
    {
     "name": "stdout",
     "output_type": "stream",
     "text": [
      "                   all        419        452      0.956      0.971      0.987      0.838\n"
     ]
    },
    {
     "name": "stderr",
     "output_type": "stream",
     "text": [
      "\n"
     ]
    },
    {
     "name": "stdout",
     "output_type": "stream",
     "text": [
      "\n",
      "      Epoch    GPU_mem   box_loss   cls_loss   dfl_loss  Instances       Size\n"
     ]
    },
    {
     "name": "stderr",
     "output_type": "stream",
     "text": [
      "      36/50      2.17G     0.6807     0.4641      2.178         27        640: 100%|██████████| 184/184 [00:52<00:00,  3.49it/s]\n",
      "                 Class     Images  Instances      Box(P          R      mAP50  mAP50-95): 100%|██████████| 27/27 [00:08<00:00,  3.05it/s]"
     ]
    },
    {
     "name": "stdout",
     "output_type": "stream",
     "text": [
      "                   all        419        452      0.959      0.987       0.99      0.853\n"
     ]
    },
    {
     "name": "stderr",
     "output_type": "stream",
     "text": [
      "\n"
     ]
    },
    {
     "name": "stdout",
     "output_type": "stream",
     "text": [
      "\n",
      "      Epoch    GPU_mem   box_loss   cls_loss   dfl_loss  Instances       Size\n"
     ]
    },
    {
     "name": "stderr",
     "output_type": "stream",
     "text": [
      "      37/50      2.17G     0.6828     0.4611      2.156         20        640: 100%|██████████| 184/184 [00:54<00:00,  3.38it/s]\n",
      "                 Class     Images  Instances      Box(P          R      mAP50  mAP50-95): 100%|██████████| 27/27 [00:08<00:00,  3.29it/s]"
     ]
    },
    {
     "name": "stdout",
     "output_type": "stream",
     "text": [
      "                   all        419        452      0.974      0.985       0.99      0.831\n"
     ]
    },
    {
     "name": "stderr",
     "output_type": "stream",
     "text": [
      "\n"
     ]
    },
    {
     "name": "stdout",
     "output_type": "stream",
     "text": [
      "\n",
      "      Epoch    GPU_mem   box_loss   cls_loss   dfl_loss  Instances       Size\n"
     ]
    },
    {
     "name": "stderr",
     "output_type": "stream",
     "text": [
      "      38/50      2.19G      0.661     0.4498      2.155         16        640: 100%|██████████| 184/184 [00:53<00:00,  3.45it/s]\n",
      "                 Class     Images  Instances      Box(P          R      mAP50  mAP50-95): 100%|██████████| 27/27 [00:08<00:00,  3.30it/s]"
     ]
    },
    {
     "name": "stdout",
     "output_type": "stream",
     "text": [
      "                   all        419        452      0.982      0.989      0.992      0.831\n"
     ]
    },
    {
     "name": "stderr",
     "output_type": "stream",
     "text": [
      "\n"
     ]
    },
    {
     "name": "stdout",
     "output_type": "stream",
     "text": [
      "\n",
      "      Epoch    GPU_mem   box_loss   cls_loss   dfl_loss  Instances       Size\n"
     ]
    },
    {
     "name": "stderr",
     "output_type": "stream",
     "text": [
      "      39/50      2.17G     0.6592     0.4489      2.151         13        640: 100%|██████████| 184/184 [00:52<00:00,  3.52it/s]\n",
      "                 Class     Images  Instances      Box(P          R      mAP50  mAP50-95): 100%|██████████| 27/27 [00:08<00:00,  3.34it/s]"
     ]
    },
    {
     "name": "stdout",
     "output_type": "stream",
     "text": [
      "                   all        419        452      0.982      0.989      0.991      0.842\n"
     ]
    },
    {
     "name": "stderr",
     "output_type": "stream",
     "text": [
      "\n"
     ]
    },
    {
     "name": "stdout",
     "output_type": "stream",
     "text": [
      "\n",
      "      Epoch    GPU_mem   box_loss   cls_loss   dfl_loss  Instances       Size\n"
     ]
    },
    {
     "name": "stderr",
     "output_type": "stream",
     "text": [
      "      40/50      2.17G     0.6576      0.447      2.164         18        640: 100%|██████████| 184/184 [00:53<00:00,  3.41it/s]\n",
      "                 Class     Images  Instances      Box(P          R      mAP50  mAP50-95): 100%|██████████| 27/27 [00:08<00:00,  3.19it/s]"
     ]
    },
    {
     "name": "stdout",
     "output_type": "stream",
     "text": [
      "                   all        419        452       0.98      0.982      0.992      0.836\n"
     ]
    },
    {
     "name": "stderr",
     "output_type": "stream",
     "text": [
      "\n"
     ]
    },
    {
     "name": "stdout",
     "output_type": "stream",
     "text": [
      "Closing dataloader mosaic\n",
      "\n",
      "      Epoch    GPU_mem   box_loss   cls_loss   dfl_loss  Instances       Size\n"
     ]
    },
    {
     "name": "stderr",
     "output_type": "stream",
     "text": [
      "      41/50      2.17G     0.6322     0.4372      1.859          5        640: 100%|██████████| 184/184 [00:45<00:00,  4.05it/s]\n",
      "                 Class     Images  Instances      Box(P          R      mAP50  mAP50-95): 100%|██████████| 27/27 [00:06<00:00,  4.16it/s]"
     ]
    },
    {
     "name": "stdout",
     "output_type": "stream",
     "text": [
      "                   all        419        452      0.985      0.985      0.993      0.839\n"
     ]
    },
    {
     "name": "stderr",
     "output_type": "stream",
     "text": [
      "\n"
     ]
    },
    {
     "name": "stdout",
     "output_type": "stream",
     "text": [
      "\n",
      "      Epoch    GPU_mem   box_loss   cls_loss   dfl_loss  Instances       Size\n"
     ]
    },
    {
     "name": "stderr",
     "output_type": "stream",
     "text": [
      "      42/50      2.17G     0.6242     0.4172      1.845          7        640: 100%|██████████| 184/184 [00:42<00:00,  4.35it/s]\n",
      "                 Class     Images  Instances      Box(P          R      mAP50  mAP50-95): 100%|██████████| 27/27 [00:06<00:00,  4.13it/s]"
     ]
    },
    {
     "name": "stdout",
     "output_type": "stream",
     "text": [
      "                   all        419        452      0.975      0.989      0.992      0.849\n"
     ]
    },
    {
     "name": "stderr",
     "output_type": "stream",
     "text": [
      "\n"
     ]
    },
    {
     "name": "stdout",
     "output_type": "stream",
     "text": [
      "\n",
      "      Epoch    GPU_mem   box_loss   cls_loss   dfl_loss  Instances       Size\n"
     ]
    },
    {
     "name": "stderr",
     "output_type": "stream",
     "text": [
      "      43/50      2.17G     0.6198     0.4006      1.831          6        640: 100%|██████████| 184/184 [00:42<00:00,  4.29it/s]\n",
      "                 Class     Images  Instances      Box(P          R      mAP50  mAP50-95): 100%|██████████| 27/27 [00:06<00:00,  3.93it/s]"
     ]
    },
    {
     "name": "stdout",
     "output_type": "stream",
     "text": [
      "                   all        419        452      0.986      0.987      0.993      0.849\n"
     ]
    },
    {
     "name": "stderr",
     "output_type": "stream",
     "text": [
      "\n"
     ]
    },
    {
     "name": "stdout",
     "output_type": "stream",
     "text": [
      "\n",
      "      Epoch    GPU_mem   box_loss   cls_loss   dfl_loss  Instances       Size\n"
     ]
    },
    {
     "name": "stderr",
     "output_type": "stream",
     "text": [
      "      44/50      2.17G     0.6122     0.4068      1.822          6        640: 100%|██████████| 184/184 [00:45<00:00,  4.06it/s]\n",
      "                 Class     Images  Instances      Box(P          R      mAP50  mAP50-95): 100%|██████████| 27/27 [00:07<00:00,  3.65it/s]"
     ]
    },
    {
     "name": "stdout",
     "output_type": "stream",
     "text": [
      "                   all        419        452      0.978      0.987      0.987      0.841\n"
     ]
    },
    {
     "name": "stderr",
     "output_type": "stream",
     "text": [
      "\n"
     ]
    },
    {
     "name": "stdout",
     "output_type": "stream",
     "text": [
      "\n",
      "      Epoch    GPU_mem   box_loss   cls_loss   dfl_loss  Instances       Size\n"
     ]
    },
    {
     "name": "stderr",
     "output_type": "stream",
     "text": [
      "      45/50      2.17G     0.5962     0.3978      1.815          4        640: 100%|██████████| 184/184 [00:45<00:00,  4.07it/s]\n",
      "                 Class     Images  Instances      Box(P          R      mAP50  mAP50-95): 100%|██████████| 27/27 [00:07<00:00,  3.86it/s]"
     ]
    },
    {
     "name": "stdout",
     "output_type": "stream",
     "text": [
      "                   all        419        452       0.98      0.987      0.993      0.863\n"
     ]
    },
    {
     "name": "stderr",
     "output_type": "stream",
     "text": [
      "\n"
     ]
    },
    {
     "name": "stdout",
     "output_type": "stream",
     "text": [
      "\n",
      "      Epoch    GPU_mem   box_loss   cls_loss   dfl_loss  Instances       Size\n"
     ]
    },
    {
     "name": "stderr",
     "output_type": "stream",
     "text": [
      "      46/50      2.17G     0.5936     0.3912      1.812          8        640: 100%|██████████| 184/184 [00:45<00:00,  4.02it/s]\n",
      "                 Class     Images  Instances      Box(P          R      mAP50  mAP50-95): 100%|██████████| 27/27 [00:06<00:00,  3.88it/s]"
     ]
    },
    {
     "name": "stdout",
     "output_type": "stream",
     "text": [
      "                   all        419        452       0.98      0.987      0.993      0.864\n"
     ]
    },
    {
     "name": "stderr",
     "output_type": "stream",
     "text": [
      "\n"
     ]
    },
    {
     "name": "stdout",
     "output_type": "stream",
     "text": [
      "\n",
      "      Epoch    GPU_mem   box_loss   cls_loss   dfl_loss  Instances       Size\n"
     ]
    },
    {
     "name": "stderr",
     "output_type": "stream",
     "text": [
      "      47/50      2.17G     0.5764     0.3821      1.786          9        640: 100%|██████████| 184/184 [00:44<00:00,  4.09it/s]\n",
      "                 Class     Images  Instances      Box(P          R      mAP50  mAP50-95): 100%|██████████| 27/27 [00:07<00:00,  3.56it/s]"
     ]
    },
    {
     "name": "stdout",
     "output_type": "stream",
     "text": [
      "                   all        419        452      0.977      0.987      0.991      0.862\n"
     ]
    },
    {
     "name": "stderr",
     "output_type": "stream",
     "text": [
      "\n"
     ]
    },
    {
     "name": "stdout",
     "output_type": "stream",
     "text": [
      "\n",
      "      Epoch    GPU_mem   box_loss   cls_loss   dfl_loss  Instances       Size\n"
     ]
    },
    {
     "name": "stderr",
     "output_type": "stream",
     "text": [
      "      48/50      2.17G     0.5558     0.3706      1.779          7        640: 100%|██████████| 184/184 [00:50<00:00,  3.63it/s]\n",
      "                 Class     Images  Instances      Box(P          R      mAP50  mAP50-95): 100%|██████████| 27/27 [00:08<00:00,  3.27it/s]"
     ]
    },
    {
     "name": "stdout",
     "output_type": "stream",
     "text": [
      "                   all        419        452       0.98      0.987      0.993      0.866\n"
     ]
    },
    {
     "name": "stderr",
     "output_type": "stream",
     "text": [
      "\n"
     ]
    },
    {
     "name": "stdout",
     "output_type": "stream",
     "text": [
      "\n",
      "      Epoch    GPU_mem   box_loss   cls_loss   dfl_loss  Instances       Size\n"
     ]
    },
    {
     "name": "stderr",
     "output_type": "stream",
     "text": [
      "      49/50      2.17G     0.5548     0.3642       1.78         10        640: 100%|██████████| 184/184 [00:47<00:00,  3.84it/s]\n",
      "                 Class     Images  Instances      Box(P          R      mAP50  mAP50-95): 100%|██████████| 27/27 [00:07<00:00,  3.66it/s]"
     ]
    },
    {
     "name": "stdout",
     "output_type": "stream",
     "text": [
      "                   all        419        452      0.987      0.987      0.993      0.868\n"
     ]
    },
    {
     "name": "stderr",
     "output_type": "stream",
     "text": [
      "\n"
     ]
    },
    {
     "name": "stdout",
     "output_type": "stream",
     "text": [
      "\n",
      "      Epoch    GPU_mem   box_loss   cls_loss   dfl_loss  Instances       Size\n"
     ]
    },
    {
     "name": "stderr",
     "output_type": "stream",
     "text": [
      "      50/50      2.17G     0.5482     0.3627       1.75          5        640: 100%|██████████| 184/184 [02:01<00:00,  1.51it/s]\n",
      "                 Class     Images  Instances      Box(P          R      mAP50  mAP50-95): 100%|██████████| 27/27 [00:08<00:00,  3.18it/s]"
     ]
    },
    {
     "name": "stdout",
     "output_type": "stream",
     "text": [
      "                   all        419        452      0.989      0.987      0.993      0.869\n"
     ]
    },
    {
     "name": "stderr",
     "output_type": "stream",
     "text": [
      "\n"
     ]
    },
    {
     "name": "stdout",
     "output_type": "stream",
     "text": [
      "\n",
      "50 epochs completed in 0.864 hours.\n",
      "Optimizer stripped from runs\\obb\\train\\weights\\last.pt, 6.5MB\n",
      "Optimizer stripped from runs\\obb\\train\\weights\\best.pt, 6.5MB\n",
      "\n",
      "Validating runs\\obb\\train\\weights\\best.pt...\n",
      "Ultralytics YOLOv8.2.103  Python-3.10.5 torch-2.4.1+cu121 CUDA:0 (NVIDIA GeForce RTX 2070 with Max-Q Design, 8192MiB)\n",
      "YOLOv8n-obb summary (fused): 187 layers, 3,077,414 parameters, 0 gradients, 8.3 GFLOPs\n"
     ]
    },
    {
     "name": "stderr",
     "output_type": "stream",
     "text": [
      "                 Class     Images  Instances      Box(P          R      mAP50  mAP50-95): 100%|██████████| 27/27 [00:09<00:00,  2.73it/s]\n"
     ]
    },
    {
     "name": "stdout",
     "output_type": "stream",
     "text": [
      "                   all        419        452      0.989      0.987      0.993      0.869\n",
      "Speed: 0.7ms preprocess, 3.8ms inference, 0.0ms loss, 5.2ms postprocess per image\n",
      "Results saved to \u001b[1mruns\\obb\\train\u001b[0m\n"
     ]
    },
    {
     "data": {
      "text/plain": [
       "ultralytics.utils.metrics.OBBMetrics object with attributes:\n",
       "\n",
       "ap_class_index: array([0])\n",
       "box: ultralytics.utils.metrics.Metric object\n",
       "confusion_matrix: <ultralytics.utils.metrics.ConfusionMatrix object at 0x00000221BB02FC70>\n",
       "curves: []\n",
       "curves_results: []\n",
       "fitness: 0.8812091732090249\n",
       "keys: ['metrics/precision(B)', 'metrics/recall(B)', 'metrics/mAP50(B)', 'metrics/mAP50-95(B)']\n",
       "maps: array([    0.86883])\n",
       "names: {0: 'plat'}\n",
       "plot: True\n",
       "results_dict: {'metrics/precision(B)': 0.9885754562779931, 'metrics/recall(B)': 0.9867256637168141, 'metrics/mAP50(B)': 0.9925999819620579, 'metrics/mAP50-95(B)': 0.8688324166809102, 'fitness': 0.8812091732090249}\n",
       "save_dir: WindowsPath('runs/obb/train')\n",
       "speed: {'preprocess': 0.6677034646628296, 'inference': 3.821794059225369, 'loss': 0.0, 'postprocess': 5.23634685252333}"
      ]
     },
     "execution_count": 4,
     "metadata": {},
     "output_type": "execute_result"
    }
   ],
   "source": [
    "# Load the YOLOv8 model\n",
    "model = YOLO('yolov8n-obb.pt')\n",
    "\n",
    "# Train the model\n",
    "model.train(data=os.path.join(base_dir, \"data.yaml\"), epochs=50, imgsz=640)"
   ]
  },
  {
   "cell_type": "code",
   "execution_count": 10,
   "metadata": {},
   "outputs": [],
   "source": [
    "model_best = YOLO('./runs/detect/train9/weights/best.pt')"
   ]
  },
  {
   "cell_type": "code",
   "execution_count": 5,
   "metadata": {},
   "outputs": [
    {
     "name": "stdout",
     "output_type": "stream",
     "text": [
      "\n",
      "image 1/1 C:\\Patricia Ho\\Braincore\\apnr\\data\\Test\\images\\01-image_1509470240_59f8b0204ebdf_jpg.rf.ac25aabee09cb7957daf2d6b83afc4aa.jpg: 640x640 9.0ms\n",
      "Speed: 3.0ms preprocess, 9.0ms inference, 118.0ms postprocess per image at shape (1, 3, 640, 640)\n",
      "Detected 'plat' in 01-image_1509470240_59f8b0204ebdf_jpg.rf.ac25aabee09cb7957daf2d6b83afc4aa.jpg.\n",
      "\n",
      "image 1/1 C:\\Patricia Ho\\Braincore\\apnr\\data\\Test\\images\\012-2013-kondisi-sangat-istimewa-plat-b-7dd9b622-c43e-4afd-a6af-d17aa7604035_jpg.rf.f38f7daf165e7800c841a558a28e325d.jpg: 640x640 13.0ms\n",
      "Speed: 6.0ms preprocess, 13.0ms inference, 4.0ms postprocess per image at shape (1, 3, 640, 640)\n",
      "Detected 'plat' in 012-2013-kondisi-sangat-istimewa-plat-b-7dd9b622-c43e-4afd-a6af-d17aa7604035_jpg.rf.f38f7daf165e7800c841a558a28e325d.jpg.\n",
      "\n",
      "image 1/1 C:\\Patricia Ho\\Braincore\\apnr\\data\\Test\\images\\019_jpg.rf.8c22a2b550ab504e6f348654afb902a6.jpg: 640x640 19.0ms\n",
      "Speed: 6.0ms preprocess, 19.0ms inference, 6.0ms postprocess per image at shape (1, 3, 640, 640)\n",
      "Detected 'plat' in 019_jpg.rf.8c22a2b550ab504e6f348654afb902a6.jpg.\n",
      "\n",
      "image 1/1 C:\\Patricia Ho\\Braincore\\apnr\\data\\Test\\images\\027891700_1620721435-liputan6-plat-nomor-01_jpg.rf.8dcc33efa1b772e2b6c2236d74e80521.jpg: 640x640 12.0ms\n",
      "Speed: 3.0ms preprocess, 12.0ms inference, 4.0ms postprocess per image at shape (1, 3, 640, 640)\n",
      "Detected 'plat' in 027891700_1620721435-liputan6-plat-nomor-01_jpg.rf.8dcc33efa1b772e2b6c2236d74e80521.jpg.\n",
      "\n",
      "image 1/1 C:\\Patricia Ho\\Braincore\\apnr\\data\\Test\\images\\027891700_1620721435-liputan6-plat-nomor-01_jpg.rf.9123fe1c11191d49dbaebc08ead3c521.jpg: 640x640 11.0ms\n",
      "Speed: 5.0ms preprocess, 11.0ms inference, 5.0ms postprocess per image at shape (1, 3, 640, 640)\n",
      "Detected 'plat' in 027891700_1620721435-liputan6-plat-nomor-01_jpg.rf.9123fe1c11191d49dbaebc08ead3c521.jpg.\n",
      "\n",
      "image 1/1 C:\\Patricia Ho\\Braincore\\apnr\\data\\Test\\images\\05_jpg.rf.33587a7975b94fbd03e7603737464391.jpg: 640x640 12.0ms\n",
      "Speed: 5.0ms preprocess, 12.0ms inference, 5.0ms postprocess per image at shape (1, 3, 640, 640)\n",
      "Detected 'plat' in 05_jpg.rf.33587a7975b94fbd03e7603737464391.jpg.\n",
      "\n",
      "image 1/1 C:\\Patricia Ho\\Braincore\\apnr\\data\\Test\\images\\110516aplat-1-_jpg.rf.60f197fd045951de93d91f078ae24459.jpg: 640x640 12.0ms\n",
      "Speed: 5.0ms preprocess, 12.0ms inference, 6.0ms postprocess per image at shape (1, 3, 640, 640)\n",
      "Detected 'plat' in 110516aplat-1-_jpg.rf.60f197fd045951de93d91f078ae24459.jpg.\n",
      "\n",
      "image 1/1 C:\\Patricia Ho\\Braincore\\apnr\\data\\Test\\images\\114-E-3536-O-06-10_jpg.rf.9e3a5c8b6e7e45bac1dcc2a073a02295.jpg: 640x640 12.0ms\n",
      "Speed: 5.0ms preprocess, 12.0ms inference, 4.0ms postprocess per image at shape (1, 3, 640, 640)\n",
      "Detected 'plat' in 114-E-3536-O-06-10_jpg.rf.9e3a5c8b6e7e45bac1dcc2a073a02295.jpg.\n",
      "\n",
      "image 1/1 C:\\Patricia Ho\\Braincore\\apnr\\data\\Test\\images\\118-E-4885-QZ-12-20_jpg.rf.654e0260ed78f31e068fcb6bd9abee83.jpg: 640x640 11.0ms\n",
      "Speed: 11.0ms preprocess, 11.0ms inference, 4.0ms postprocess per image at shape (1, 3, 640, 640)\n",
      "Detected 'plat' in 118-E-4885-QZ-12-20_jpg.rf.654e0260ed78f31e068fcb6bd9abee83.jpg.\n",
      "\n",
      "image 1/1 C:\\Patricia Ho\\Braincore\\apnr\\data\\Test\\images\\124-E-4564-RRR-11-21_jpg.rf.e4e8306598817cf2333885bef3649fcc.jpg: 640x640 13.0ms\n",
      "Speed: 4.0ms preprocess, 13.0ms inference, 4.0ms postprocess per image at shape (1, 3, 640, 640)\n",
      "Detected 'plat' in 124-E-4564-RRR-11-21_jpg.rf.e4e8306598817cf2333885bef3649fcc.jpg.\n",
      "\n",
      "image 1/1 C:\\Patricia Ho\\Braincore\\apnr\\data\\Test\\images\\129-E-6410-TX-06-18_jpg.rf.eb1499c721736a15806e881dabaa0092.jpg: 640x640 15.0ms\n",
      "Speed: 5.0ms preprocess, 15.0ms inference, 4.0ms postprocess per image at shape (1, 3, 640, 640)\n",
      "Detected 'plat' in 129-E-6410-TX-06-18_jpg.rf.eb1499c721736a15806e881dabaa0092.jpg.\n",
      "\n",
      "image 1/1 C:\\Patricia Ho\\Braincore\\apnr\\data\\Test\\images\\18890_jpg.rf.2318284ba1f149ea65bb19897d2b50ba.jpg: 640x640 14.0ms\n",
      "Speed: 4.0ms preprocess, 14.0ms inference, 5.0ms postprocess per image at shape (1, 3, 640, 640)\n",
      "Detected 'plat' in 18890_jpg.rf.2318284ba1f149ea65bb19897d2b50ba.jpg.\n",
      "\n",
      "image 1/1 C:\\Patricia Ho\\Braincore\\apnr\\data\\Test\\images\\199-E-5314-QR-03-20_jpg.rf.57c4526420b89bacc140a0a9f20afb6a.jpg: 640x640 11.0ms\n",
      "Speed: 4.0ms preprocess, 11.0ms inference, 3.0ms postprocess per image at shape (1, 3, 640, 640)\n",
      "Detected 'plat' in 199-E-5314-QR-03-20_jpg.rf.57c4526420b89bacc140a0a9f20afb6a.jpg.\n",
      "\n",
      "image 1/1 C:\\Patricia Ho\\Braincore\\apnr\\data\\Test\\images\\20-2B2Bkode2Bplat2Bkendaraan2Bkota2BSemarang2B_jpg.rf.139eb4cd280feb825e7519f8d26af787.jpg: 640x640 14.0ms\n",
      "Speed: 5.0ms preprocess, 14.0ms inference, 4.0ms postprocess per image at shape (1, 3, 640, 640)\n",
      "Detected 'plat' in 20-2B2Bkode2Bplat2Bkendaraan2Bkota2BSemarang2B_jpg.rf.139eb4cd280feb825e7519f8d26af787.jpg.\n",
      "\n",
      "image 1/1 C:\\Patricia Ho\\Braincore\\apnr\\data\\Test\\images\\20171211_122519_jpg.rf.b9053d374abe441933d95249bd5071fe.jpg: 640x640 12.0ms\n",
      "Speed: 6.0ms preprocess, 12.0ms inference, 4.0ms postprocess per image at shape (1, 3, 640, 640)\n",
      "Detected 'plat' in 20171211_122519_jpg.rf.b9053d374abe441933d95249bd5071fe.jpg.\n",
      "\n",
      "image 1/1 C:\\Patricia Ho\\Braincore\\apnr\\data\\Test\\images\\20171211_160452_jpg.rf.953645d4b5ad973303bb3a4248f75f8b.jpg: 640x640 13.0ms\n",
      "Speed: 5.0ms preprocess, 13.0ms inference, 5.0ms postprocess per image at shape (1, 3, 640, 640)\n",
      "Detected 'plat' in 20171211_160452_jpg.rf.953645d4b5ad973303bb3a4248f75f8b.jpg.\n",
      "\n",
      "image 1/1 C:\\Patricia Ho\\Braincore\\apnr\\data\\Test\\images\\20171212_073435_jpg.rf.a53fa10502a86f8f68f8b9153267e9ac.jpg: 640x640 11.0ms\n",
      "Speed: 5.0ms preprocess, 11.0ms inference, 5.0ms postprocess per image at shape (1, 3, 640, 640)\n",
      "Detected 'plat' in 20171212_073435_jpg.rf.a53fa10502a86f8f68f8b9153267e9ac.jpg.\n",
      "\n",
      "image 1/1 C:\\Patricia Ho\\Braincore\\apnr\\data\\Test\\images\\20171212_100559_jpg.rf.ca7c5a05e5c8069d9ab4968a6685782a.jpg: 640x640 12.0ms\n",
      "Speed: 4.0ms preprocess, 12.0ms inference, 4.0ms postprocess per image at shape (1, 3, 640, 640)\n",
      "Detected 'plat' in 20171212_100559_jpg.rf.ca7c5a05e5c8069d9ab4968a6685782a.jpg.\n",
      "\n",
      "image 1/1 C:\\Patricia Ho\\Braincore\\apnr\\data\\Test\\images\\20171212_124415_jpg.rf.44a7165a830a398259ffd9b4b79256cf.jpg: 640x640 12.0ms\n",
      "Speed: 5.0ms preprocess, 12.0ms inference, 4.0ms postprocess per image at shape (1, 3, 640, 640)\n",
      "Detected 'plat' in 20171212_124415_jpg.rf.44a7165a830a398259ffd9b4b79256cf.jpg.\n",
      "\n",
      "image 1/1 C:\\Patricia Ho\\Braincore\\apnr\\data\\Test\\images\\20171212_142336_jpg.rf.415977e04cb96bf3842c75d406dc89e5.jpg: 640x640 15.0ms\n",
      "Speed: 6.0ms preprocess, 15.0ms inference, 4.0ms postprocess per image at shape (1, 3, 640, 640)\n",
      "Detected 'plat' in 20171212_142336_jpg.rf.415977e04cb96bf3842c75d406dc89e5.jpg.\n",
      "\n",
      "image 1/1 C:\\Patricia Ho\\Braincore\\apnr\\data\\Test\\images\\20171214_091545_jpg.rf.eaee52efe3a0065b0ecee6e04b7a3ff2.jpg: 640x640 14.0ms\n",
      "Speed: 4.0ms preprocess, 14.0ms inference, 5.0ms postprocess per image at shape (1, 3, 640, 640)\n",
      "Detected 'plat' in 20171214_091545_jpg.rf.eaee52efe3a0065b0ecee6e04b7a3ff2.jpg.\n",
      "\n",
      "image 1/1 C:\\Patricia Ho\\Braincore\\apnr\\data\\Test\\images\\202-E-2965-TO-07-22_jpg.rf.5e6dcd3363269f8ab6a9da2b1393a49f.jpg: 640x640 12.0ms\n",
      "Speed: 4.0ms preprocess, 12.0ms inference, 4.0ms postprocess per image at shape (1, 3, 640, 640)\n",
      "Detected 'plat' in 202-E-2965-TO-07-22_jpg.rf.5e6dcd3363269f8ab6a9da2b1393a49f.jpg.\n",
      "\n",
      "image 1/1 C:\\Patricia Ho\\Braincore\\apnr\\data\\Test\\images\\20211122_114142_jpg.rf.cfaed5e0f2b7c6240bdd67258ff0b5e6.jpg: 640x640 12.0ms\n",
      "Speed: 4.0ms preprocess, 12.0ms inference, 4.0ms postprocess per image at shape (1, 3, 640, 640)\n",
      "Detected 'plat' in 20211122_114142_jpg.rf.cfaed5e0f2b7c6240bdd67258ff0b5e6.jpg.\n",
      "\n",
      "image 1/1 C:\\Patricia Ho\\Braincore\\apnr\\data\\Test\\images\\20211122_114147_jpg.rf.9440709abbeeb39b81c8096d6772e80a.jpg: 640x640 12.0ms\n",
      "Speed: 4.0ms preprocess, 12.0ms inference, 5.0ms postprocess per image at shape (1, 3, 640, 640)\n",
      "Detected 'plat' in 20211122_114147_jpg.rf.9440709abbeeb39b81c8096d6772e80a.jpg.\n",
      "\n",
      "image 1/1 C:\\Patricia Ho\\Braincore\\apnr\\data\\Test\\images\\20211122_114210_jpg.rf.c2ffdd6a55d0fde5855a4bf8b506a1ea.jpg: 640x640 20.0ms\n",
      "Speed: 6.0ms preprocess, 20.0ms inference, 7.0ms postprocess per image at shape (1, 3, 640, 640)\n",
      "Detected 'plat' in 20211122_114210_jpg.rf.c2ffdd6a55d0fde5855a4bf8b506a1ea.jpg.\n",
      "\n",
      "image 1/1 C:\\Patricia Ho\\Braincore\\apnr\\data\\Test\\images\\20211122_114233_jpg.rf.30575008943de7ad6341d41ec5e75efc.jpg: 640x640 11.0ms\n",
      "Speed: 4.0ms preprocess, 11.0ms inference, 5.0ms postprocess per image at shape (1, 3, 640, 640)\n",
      "Detected 'plat' in 20211122_114233_jpg.rf.30575008943de7ad6341d41ec5e75efc.jpg.\n",
      "\n",
      "image 1/1 C:\\Patricia Ho\\Braincore\\apnr\\data\\Test\\images\\20211122_114312_jpg.rf.2b1ea6b44c9ad589e4c584961a249828.jpg: 640x640 11.0ms\n",
      "Speed: 3.0ms preprocess, 11.0ms inference, 4.0ms postprocess per image at shape (1, 3, 640, 640)\n",
      "Detected 'plat' in 20211122_114312_jpg.rf.2b1ea6b44c9ad589e4c584961a249828.jpg.\n",
      "\n",
      "image 1/1 C:\\Patricia Ho\\Braincore\\apnr\\data\\Test\\images\\20211122_114352_jpg.rf.19aedf6c93dbd8318fb204c9f221da17.jpg: 640x640 17.0ms\n",
      "Speed: 4.0ms preprocess, 17.0ms inference, 4.0ms postprocess per image at shape (1, 3, 640, 640)\n",
      "Detected 'plat' in 20211122_114352_jpg.rf.19aedf6c93dbd8318fb204c9f221da17.jpg.\n",
      "\n",
      "image 1/1 C:\\Patricia Ho\\Braincore\\apnr\\data\\Test\\images\\20211122_114401_jpg.rf.0c0b060e71313237dbc797f6af31fd4d.jpg: 640x640 11.0ms\n",
      "Speed: 4.0ms preprocess, 11.0ms inference, 4.0ms postprocess per image at shape (1, 3, 640, 640)\n",
      "Detected 'plat' in 20211122_114401_jpg.rf.0c0b060e71313237dbc797f6af31fd4d.jpg.\n",
      "\n",
      "image 1/1 C:\\Patricia Ho\\Braincore\\apnr\\data\\Test\\images\\20211122_114406_jpg.rf.16089d6cabd4ca7617b7154b8f5b7284.jpg: 640x640 10.0ms\n",
      "Speed: 4.0ms preprocess, 10.0ms inference, 3.0ms postprocess per image at shape (1, 3, 640, 640)\n",
      "Detected 'plat' in 20211122_114406_jpg.rf.16089d6cabd4ca7617b7154b8f5b7284.jpg.\n",
      "\n",
      "image 1/1 C:\\Patricia Ho\\Braincore\\apnr\\data\\Test\\images\\20211122_114501_jpg.rf.a1801f78557d851da067e3c6ad0bd8d5.jpg: 640x640 10.0ms\n",
      "Speed: 4.0ms preprocess, 10.0ms inference, 3.0ms postprocess per image at shape (1, 3, 640, 640)\n",
      "Detected 'plat' in 20211122_114501_jpg.rf.a1801f78557d851da067e3c6ad0bd8d5.jpg.\n",
      "\n",
      "image 1/1 C:\\Patricia Ho\\Braincore\\apnr\\data\\Test\\images\\20211122_114541_jpg.rf.9a0773df7290b0623e739d2b3e373c4a.jpg: 640x640 (no detections), 10.0ms\n",
      "Speed: 3.0ms preprocess, 10.0ms inference, 0.0ms postprocess per image at shape (1, 3, 640, 640)\n",
      "No 'plat' detected in 20211122_114541_jpg.rf.9a0773df7290b0623e739d2b3e373c4a.jpg.\n",
      "\n",
      "image 1/1 C:\\Patricia Ho\\Braincore\\apnr\\data\\Test\\images\\20211122_114618_jpg.rf.a206c150f09f8709abcf1f804042430b.jpg: 640x640 10.0ms\n",
      "Speed: 4.0ms preprocess, 10.0ms inference, 4.0ms postprocess per image at shape (1, 3, 640, 640)\n",
      "Detected 'plat' in 20211122_114618_jpg.rf.a206c150f09f8709abcf1f804042430b.jpg.\n",
      "\n",
      "image 1/1 C:\\Patricia Ho\\Braincore\\apnr\\data\\Test\\images\\20211122_114649_jpg.rf.8d516bc209a006eb972dd1f9419a988f.jpg: 640x640 11.0ms\n",
      "Speed: 3.0ms preprocess, 11.0ms inference, 4.0ms postprocess per image at shape (1, 3, 640, 640)\n",
      "Detected 'plat' in 20211122_114649_jpg.rf.8d516bc209a006eb972dd1f9419a988f.jpg.\n",
      "\n",
      "image 1/1 C:\\Patricia Ho\\Braincore\\apnr\\data\\Test\\images\\215-E-6608-PAF-09-21_jpg.rf.6143fe200305f2dfb94ef710bb279a03.jpg: 640x640 12.0ms\n",
      "Speed: 3.0ms preprocess, 12.0ms inference, 3.0ms postprocess per image at shape (1, 3, 640, 640)\n",
      "Detected 'plat' in 215-E-6608-PAF-09-21_jpg.rf.6143fe200305f2dfb94ef710bb279a03.jpg.\n",
      "\n",
      "image 1/1 C:\\Patricia Ho\\Braincore\\apnr\\data\\Test\\images\\22-E-5234-YF-11-20_jpg.rf.85aef9b8b41ee31e860dc98ae272fdbd.jpg: 640x640 12.0ms\n",
      "Speed: 4.0ms preprocess, 12.0ms inference, 4.0ms postprocess per image at shape (1, 3, 640, 640)\n",
      "Detected 'plat' in 22-E-5234-YF-11-20_jpg.rf.85aef9b8b41ee31e860dc98ae272fdbd.jpg.\n",
      "\n",
      "image 1/1 C:\\Patricia Ho\\Braincore\\apnr\\data\\Test\\images\\239-E-6326-TQ-04-19_jpg.rf.2c61550f39f2532fd9fc1f6fe4c4cb26.jpg: 640x640 13.7ms\n",
      "Speed: 5.0ms preprocess, 13.7ms inference, 4.8ms postprocess per image at shape (1, 3, 640, 640)\n",
      "Detected 'plat' in 239-E-6326-TQ-04-19_jpg.rf.2c61550f39f2532fd9fc1f6fe4c4cb26.jpg.\n",
      "\n",
      "image 1/1 C:\\Patricia Ho\\Braincore\\apnr\\data\\Test\\images\\24-2BKode2BPlat2BKendaraan2BKota2BPadang2BSidempuan2B_jpg.rf.1f96b2c2e055a6818f5cd0a1e20a46a0.jpg: 640x640 12.8ms\n",
      "Speed: 5.0ms preprocess, 12.8ms inference, 6.0ms postprocess per image at shape (1, 3, 640, 640)\n",
      "Detected 'plat' in 24-2BKode2BPlat2BKendaraan2BKota2BPadang2BSidempuan2B_jpg.rf.1f96b2c2e055a6818f5cd0a1e20a46a0.jpg.\n",
      "\n",
      "image 1/1 C:\\Patricia Ho\\Braincore\\apnr\\data\\Test\\images\\24_jpg.rf.0c067e9c435fc5ca2ac4dc472fc718d4.jpg: 640x640 9.6ms\n",
      "Speed: 4.3ms preprocess, 9.6ms inference, 3.8ms postprocess per image at shape (1, 3, 640, 640)\n",
      "Detected 'plat' in 24_jpg.rf.0c067e9c435fc5ca2ac4dc472fc718d4.jpg.\n",
      "\n",
      "image 1/1 C:\\Patricia Ho\\Braincore\\apnr\\data\\Test\\images\\250-E-6031-ST-03-21_jpg.rf.0ca06216a8fef60d18b6fc560edf2a17.jpg: 640x640 11.9ms\n",
      "Speed: 3.8ms preprocess, 11.9ms inference, 5.0ms postprocess per image at shape (1, 3, 640, 640)\n",
      "Detected 'plat' in 250-E-6031-ST-03-21_jpg.rf.0ca06216a8fef60d18b6fc560edf2a17.jpg.\n",
      "\n",
      "image 1/1 C:\\Patricia Ho\\Braincore\\apnr\\data\\Test\\images\\28-2BKode2BPlat2BKendaraan2BKota2BMalang2B_jpg.rf.6b9246157f658cacee18635a4fb6a48c.jpg: 640x640 12.2ms\n",
      "Speed: 3.7ms preprocess, 12.2ms inference, 3.9ms postprocess per image at shape (1, 3, 640, 640)\n",
      "Detected 'plat' in 28-2BKode2BPlat2BKendaraan2BKota2BMalang2B_jpg.rf.6b9246157f658cacee18635a4fb6a48c.jpg.\n",
      "\n",
      "image 1/1 C:\\Patricia Ho\\Braincore\\apnr\\data\\Test\\images\\300px-Plat_Nomor_Nganjuk_283_Huruf29_jpg.rf.6279e1b4d64f7ec417ec0f3d531d4b11.jpg: 640x640 12.7ms\n",
      "Speed: 3.2ms preprocess, 12.7ms inference, 4.7ms postprocess per image at shape (1, 3, 640, 640)\n",
      "Detected 'plat' in 300px-Plat_Nomor_Nganjuk_283_Huruf29_jpg.rf.6279e1b4d64f7ec417ec0f3d531d4b11.jpg.\n",
      "\n",
      "image 1/1 C:\\Patricia Ho\\Braincore\\apnr\\data\\Test\\images\\301-E-6893-PAD-06-21_jpg.rf.c85ed99cb0275467cd38d94d29eb8431.jpg: 640x640 12.6ms\n",
      "Speed: 3.7ms preprocess, 12.6ms inference, 4.2ms postprocess per image at shape (1, 3, 640, 640)\n",
      "Detected 'plat' in 301-E-6893-PAD-06-21_jpg.rf.c85ed99cb0275467cd38d94d29eb8431.jpg.\n",
      "\n",
      "image 1/1 C:\\Patricia Ho\\Braincore\\apnr\\data\\Test\\images\\304-E-5381-PAB-03-21_jpg.rf.1810cab49ba689142a85ebc277336029.jpg: 640x640 10.3ms\n",
      "Speed: 2.7ms preprocess, 10.3ms inference, 5.0ms postprocess per image at shape (1, 3, 640, 640)\n",
      "Detected 'plat' in 304-E-5381-PAB-03-21_jpg.rf.1810cab49ba689142a85ebc277336029.jpg.\n",
      "\n",
      "image 1/1 C:\\Patricia Ho\\Braincore\\apnr\\data\\Test\\images\\318-E-5827-QT-06-20_jpg.rf.ebcc43eb46896c1c2aa8fa383c8fd10f.jpg: 640x640 13.0ms\n",
      "Speed: 4.4ms preprocess, 13.0ms inference, 4.9ms postprocess per image at shape (1, 3, 640, 640)\n",
      "Detected 'plat' in 318-E-5827-QT-06-20_jpg.rf.ebcc43eb46896c1c2aa8fa383c8fd10f.jpg.\n",
      "\n",
      "image 1/1 C:\\Patricia Ho\\Braincore\\apnr\\data\\Test\\images\\32-2BKode2BPlat2BKendaraan2BKota2BPematang2BSiantar2B_jpg.rf.99e6f74bf5cf6263d0b954235040f943.jpg: 640x640 12.2ms\n",
      "Speed: 3.5ms preprocess, 12.2ms inference, 4.6ms postprocess per image at shape (1, 3, 640, 640)\n",
      "Detected 'plat' in 32-2BKode2BPlat2BKendaraan2BKota2BPematang2BSiantar2B_jpg.rf.99e6f74bf5cf6263d0b954235040f943.jpg.\n",
      "\n",
      "image 1/1 C:\\Patricia Ho\\Braincore\\apnr\\data\\Test\\images\\320px-Plat_Nomor_Nganjuk_283_Huruf29_jpg.rf.dd61b7af251dc19d103e19a2090f78b1.jpg: 640x640 10.0ms\n",
      "Speed: 3.0ms preprocess, 10.0ms inference, 3.0ms postprocess per image at shape (1, 3, 640, 640)\n",
      "Detected 'plat' in 320px-Plat_Nomor_Nganjuk_283_Huruf29_jpg.rf.dd61b7af251dc19d103e19a2090f78b1.jpg.\n",
      "\n",
      "image 1/1 C:\\Patricia Ho\\Braincore\\apnr\\data\\Test\\images\\332-E-4876-Q-08-18_jpg.rf.2d9305652548dc650c881fe0c139f431.jpg: 640x640 11.0ms\n",
      "Speed: 4.0ms preprocess, 11.0ms inference, 4.0ms postprocess per image at shape (1, 3, 640, 640)\n",
      "Detected 'plat' in 332-E-4876-Q-08-18_jpg.rf.2d9305652548dc650c881fe0c139f431.jpg.\n",
      "\n",
      "image 1/1 C:\\Patricia Ho\\Braincore\\apnr\\data\\Test\\images\\334-E-5195-PL-04-20_jpg.rf.4365e8aa968d85b8efa92fbe6070cbac.jpg: 640x640 10.0ms\n",
      "Speed: 4.0ms preprocess, 10.0ms inference, 4.0ms postprocess per image at shape (1, 3, 640, 640)\n",
      "Detected 'plat' in 334-E-5195-PL-04-20_jpg.rf.4365e8aa968d85b8efa92fbe6070cbac.jpg.\n",
      "\n",
      "image 1/1 C:\\Patricia Ho\\Braincore\\apnr\\data\\Test\\images\\350-E-3577-PAI-12-21_jpg.rf.027e7afb2c0f20502e66c2fa77dc64ea.jpg: 640x640 10.0ms\n",
      "Speed: 3.0ms preprocess, 10.0ms inference, 4.0ms postprocess per image at shape (1, 3, 640, 640)\n",
      "Detected 'plat' in 350-E-3577-PAI-12-21_jpg.rf.027e7afb2c0f20502e66c2fa77dc64ea.jpg.\n",
      "\n",
      "image 1/1 C:\\Patricia Ho\\Braincore\\apnr\\data\\Test\\images\\352-E-5053-RG-09-20_jpg.rf.5f9db57f59bb60d01acfdb0d189152f6.jpg: 640x640 9.0ms\n",
      "Speed: 3.0ms preprocess, 9.0ms inference, 4.0ms postprocess per image at shape (1, 3, 640, 640)\n",
      "Detected 'plat' in 352-E-5053-RG-09-20_jpg.rf.5f9db57f59bb60d01acfdb0d189152f6.jpg.\n",
      "\n",
      "image 1/1 C:\\Patricia Ho\\Braincore\\apnr\\data\\Test\\images\\354-E-6250-PAJ-02-22_jpg.rf.b3a97ce3b6ed14eeabd1a470ae242acc.jpg: 640x640 45.0ms\n",
      "Speed: 8.0ms preprocess, 45.0ms inference, 6.0ms postprocess per image at shape (1, 3, 640, 640)\n",
      "Detected 'plat' in 354-E-6250-PAJ-02-22_jpg.rf.b3a97ce3b6ed14eeabd1a470ae242acc.jpg.\n",
      "\n",
      "image 1/1 C:\\Patricia Ho\\Braincore\\apnr\\data\\Test\\images\\357-E-4679-PAD-06-21_jpg.rf.bf8e19ce6dc5fbe7506004f496913b44.jpg: 640x640 14.0ms\n",
      "Speed: 5.0ms preprocess, 14.0ms inference, 4.0ms postprocess per image at shape (1, 3, 640, 640)\n",
      "Detected 'plat' in 357-E-4679-PAD-06-21_jpg.rf.bf8e19ce6dc5fbe7506004f496913b44.jpg.\n",
      "\n",
      "image 1/1 C:\\Patricia Ho\\Braincore\\apnr\\data\\Test\\images\\359-E-6270-OZ-01-21_jpg.rf.b5601cbb4a52f33b577afb43fbc7b622.jpg: 640x640 13.0ms\n",
      "Speed: 9.0ms preprocess, 13.0ms inference, 7.0ms postprocess per image at shape (1, 3, 640, 640)\n",
      "Detected 'plat' in 359-E-6270-OZ-01-21_jpg.rf.b5601cbb4a52f33b577afb43fbc7b622.jpg.\n",
      "\n",
      "image 1/1 C:\\Patricia Ho\\Braincore\\apnr\\data\\Test\\images\\36-E-4092-TJ-03-18_jpg.rf.3c7fc3a8c532c3e690d22c0b1a0387d7.jpg: 640x640 21.0ms\n",
      "Speed: 7.0ms preprocess, 21.0ms inference, 4.0ms postprocess per image at shape (1, 3, 640, 640)\n",
      "Detected 'plat' in 36-E-4092-TJ-03-18_jpg.rf.3c7fc3a8c532c3e690d22c0b1a0387d7.jpg.\n",
      "\n",
      "image 1/1 C:\\Patricia Ho\\Braincore\\apnr\\data\\Test\\images\\360-E-4690-PAL-04-22_jpg.rf.6c457841624048f12dd80d2fc5f0cdce.jpg: 640x640 10.0ms\n",
      "Speed: 5.0ms preprocess, 10.0ms inference, 4.0ms postprocess per image at shape (1, 3, 640, 640)\n",
      "Detected 'plat' in 360-E-4690-PAL-04-22_jpg.rf.6c457841624048f12dd80d2fc5f0cdce.jpg.\n",
      "\n",
      "image 1/1 C:\\Patricia Ho\\Braincore\\apnr\\data\\Test\\images\\361-E-3193-PS-08-17_jpg.rf.94b10cc9d718bb813589e34a4c013efa.jpg: 640x640 10.0ms\n",
      "Speed: 3.0ms preprocess, 10.0ms inference, 5.0ms postprocess per image at shape (1, 3, 640, 640)\n",
      "Detected 'plat' in 361-E-3193-PS-08-17_jpg.rf.94b10cc9d718bb813589e34a4c013efa.jpg.\n",
      "\n",
      "image 1/1 C:\\Patricia Ho\\Braincore\\apnr\\data\\Test\\images\\362-E-6525-SF-09-21_jpg.rf.611f100afc1b7fb40ca049b0919ab520.jpg: 640x640 10.0ms\n",
      "Speed: 3.0ms preprocess, 10.0ms inference, 3.0ms postprocess per image at shape (1, 3, 640, 640)\n",
      "Detected 'plat' in 362-E-6525-SF-09-21_jpg.rf.611f100afc1b7fb40ca049b0919ab520.jpg.\n",
      "\n",
      "image 1/1 C:\\Patricia Ho\\Braincore\\apnr\\data\\Test\\images\\38-2Bkode2Bplat2Bkendaraan2Bkota2BBalikpapan2B_jpg.rf.d53bc03747703972aa47f2a8463074bc.jpg: 640x640 9.0ms\n",
      "Speed: 3.0ms preprocess, 9.0ms inference, 3.0ms postprocess per image at shape (1, 3, 640, 640)\n",
      "Detected 'plat' in 38-2Bkode2Bplat2Bkendaraan2Bkota2BBalikpapan2B_jpg.rf.d53bc03747703972aa47f2a8463074bc.jpg.\n",
      "\n",
      "image 1/1 C:\\Patricia Ho\\Braincore\\apnr\\data\\Test\\images\\3_jpg.rf.681d868a1ccdbf45ca8df1ac050531c1.jpg: 640x640 10.0ms\n",
      "Speed: 4.0ms preprocess, 10.0ms inference, 3.0ms postprocess per image at shape (1, 3, 640, 640)\n",
      "Detected 'plat' in 3_jpg.rf.681d868a1ccdbf45ca8df1ac050531c1.jpg.\n",
      "\n",
      "image 1/1 C:\\Patricia Ho\\Braincore\\apnr\\data\\Test\\images\\4224933456_jpg.rf.985a25fd03186b1ebe1ee4be7b7b3239.jpg: 640x640 8.0ms\n",
      "Speed: 3.0ms preprocess, 8.0ms inference, 3.0ms postprocess per image at shape (1, 3, 640, 640)\n",
      "Detected 'plat' in 4224933456_jpg.rf.985a25fd03186b1ebe1ee4be7b7b3239.jpg.\n",
      "\n",
      "image 1/1 C:\\Patricia Ho\\Braincore\\apnr\\data\\Test\\images\\47-2Bkode2Bplat2Bkendaraan2Bkota2Bjayapura2B_jpg.rf.f4dfc986725e361a592f7ebf4d33194e.jpg: 640x640 8.0ms\n",
      "Speed: 3.0ms preprocess, 8.0ms inference, 3.0ms postprocess per image at shape (1, 3, 640, 640)\n",
      "Detected 'plat' in 47-2Bkode2Bplat2Bkendaraan2Bkota2Bjayapura2B_jpg.rf.f4dfc986725e361a592f7ebf4d33194e.jpg.\n",
      "\n",
      "image 1/1 C:\\Patricia Ho\\Braincore\\apnr\\data\\Test\\images\\47133a8d-f-968a_jpg.rf.380ffeea99ea490aa97305e0d581bbcb.jpg: 640x640 8.0ms\n",
      "Speed: 3.0ms preprocess, 8.0ms inference, 3.0ms postprocess per image at shape (1, 3, 640, 640)\n",
      "Detected 'plat' in 47133a8d-f-968a_jpg.rf.380ffeea99ea490aa97305e0d581bbcb.jpg.\n",
      "\n",
      "image 1/1 C:\\Patricia Ho\\Braincore\\apnr\\data\\Test\\images\\48-2Bkode2Bplat2Bkendaraan2Bkota2Bsorong2B_jpg.rf.d9117010f2029d767b5f734811e249de.jpg: 640x640 13.0ms\n",
      "Speed: 3.0ms preprocess, 13.0ms inference, 4.0ms postprocess per image at shape (1, 3, 640, 640)\n",
      "Detected 'plat' in 48-2Bkode2Bplat2Bkendaraan2Bkota2Bsorong2B_jpg.rf.d9117010f2029d767b5f734811e249de.jpg.\n",
      "\n",
      "image 1/1 C:\\Patricia Ho\\Braincore\\apnr\\data\\Test\\images\\50-Kode-plat-kendaraan-kota-bukittinggi-_jpg.rf.7f634f24b3d4eeb2be4072f2c8d0898d.jpg: 640x640 8.0ms\n",
      "Speed: 3.0ms preprocess, 8.0ms inference, 3.0ms postprocess per image at shape (1, 3, 640, 640)\n",
      "Detected 'plat' in 50-Kode-plat-kendaraan-kota-bukittinggi-_jpg.rf.7f634f24b3d4eeb2be4072f2c8d0898d.jpg.\n",
      "\n",
      "image 1/1 C:\\Patricia Ho\\Braincore\\apnr\\data\\Test\\images\\51-E-3083-PAH-10-21_jpg.rf.e84d9b22b815904cd6d3569872d434dd.jpg: 640x640 8.0ms\n",
      "Speed: 2.0ms preprocess, 8.0ms inference, 3.0ms postprocess per image at shape (1, 3, 640, 640)\n",
      "Detected 'plat' in 51-E-3083-PAH-10-21_jpg.rf.e84d9b22b815904cd6d3569872d434dd.jpg.\n",
      "\n",
      "image 1/1 C:\\Patricia Ho\\Braincore\\apnr\\data\\Test\\images\\5_jpg.rf.6a40816637eaa11fa150fc69471fafe8.jpg: 640x640 8.0ms\n",
      "Speed: 3.0ms preprocess, 8.0ms inference, 3.0ms postprocess per image at shape (1, 3, 640, 640)\n",
      "Detected 'plat' in 5_jpg.rf.6a40816637eaa11fa150fc69471fafe8.jpg.\n",
      "\n",
      "image 1/1 C:\\Patricia Ho\\Braincore\\apnr\\data\\Test\\images\\65-E-4235-PAL-04-22_jpg.rf.da45c1ae086de0fcc72e58f2b05c952f.jpg: 640x640 8.0ms\n",
      "Speed: 2.0ms preprocess, 8.0ms inference, 4.0ms postprocess per image at shape (1, 3, 640, 640)\n",
      "Detected 'plat' in 65-E-4235-PAL-04-22_jpg.rf.da45c1ae086de0fcc72e58f2b05c952f.jpg.\n",
      "\n",
      "image 1/1 C:\\Patricia Ho\\Braincore\\apnr\\data\\Test\\images\\78-E-1245-RG-02-20_jpg.rf.80bcaf413a72585d98fb3cd5a9c1ae2c.jpg: 640x640 9.0ms\n",
      "Speed: 3.0ms preprocess, 9.0ms inference, 3.0ms postprocess per image at shape (1, 3, 640, 640)\n",
      "Detected 'plat' in 78-E-1245-RG-02-20_jpg.rf.80bcaf413a72585d98fb3cd5a9c1ae2c.jpg.\n",
      "\n",
      "image 1/1 C:\\Patricia Ho\\Braincore\\apnr\\data\\Test\\images\\828801717_jpg.rf.b79f11220028afdd04b9a885618b217d.jpg: 640x640 13.0ms\n",
      "Speed: 3.0ms preprocess, 13.0ms inference, 3.0ms postprocess per image at shape (1, 3, 640, 640)\n",
      "Detected 'plat' in 828801717_jpg.rf.b79f11220028afdd04b9a885618b217d.jpg.\n",
      "\n",
      "image 1/1 C:\\Patricia Ho\\Braincore\\apnr\\data\\Test\\images\\85-E-2686-QH-04-19_jpg.rf.e70047c1a3827ad3decda2a6b592319e.jpg: 640x640 10.0ms\n",
      "Speed: 5.0ms preprocess, 10.0ms inference, 3.0ms postprocess per image at shape (1, 3, 640, 640)\n",
      "Detected 'plat' in 85-E-2686-QH-04-19_jpg.rf.e70047c1a3827ad3decda2a6b592319e.jpg.\n",
      "\n",
      "image 1/1 C:\\Patricia Ho\\Braincore\\apnr\\data\\Test\\images\\99-E-2984-TW-04-18_jpg.rf.17e6e666675fec4d44b041e90dfeebe4.jpg: 640x640 10.0ms\n",
      "Speed: 5.0ms preprocess, 10.0ms inference, 5.0ms postprocess per image at shape (1, 3, 640, 640)\n",
      "Detected 'plat' in 99-E-2984-TW-04-18_jpg.rf.17e6e666675fec4d44b041e90dfeebe4.jpg.\n",
      "\n",
      "image 1/1 C:\\Patricia Ho\\Braincore\\apnr\\data\\Test\\images\\agya31_jpg.rf.c1e175f2fcd52c7a62e879366c4ff8f0.jpg: 640x640 14.0ms\n",
      "Speed: 5.0ms preprocess, 14.0ms inference, 5.0ms postprocess per image at shape (1, 3, 640, 640)\n",
      "Detected 'plat' in agya31_jpg.rf.c1e175f2fcd52c7a62e879366c4ff8f0.jpg.\n",
      "\n",
      "image 1/1 C:\\Patricia Ho\\Braincore\\apnr\\data\\Test\\images\\agya6_jpg.rf.1aaad2e2f83ff493d000a72767cb55fc.jpg: 640x640 16.0ms\n",
      "Speed: 4.0ms preprocess, 16.0ms inference, 4.0ms postprocess per image at shape (1, 3, 640, 640)\n",
      "Detected 'plat' in agya6_jpg.rf.1aaad2e2f83ff493d000a72767cb55fc.jpg.\n",
      "\n",
      "image 1/1 C:\\Patricia Ho\\Braincore\\apnr\\data\\Test\\images\\avanza28_jpg.rf.3d099a1096844f3aec7fe5767bc5c3f6.jpg: 640x640 15.0ms\n",
      "Speed: 6.0ms preprocess, 15.0ms inference, 3.0ms postprocess per image at shape (1, 3, 640, 640)\n",
      "Detected 'plat' in avanza28_jpg.rf.3d099a1096844f3aec7fe5767bc5c3f6.jpg.\n",
      "\n",
      "image 1/1 C:\\Patricia Ho\\Braincore\\apnr\\data\\Test\\images\\b5mrhhwjlp7lrudti9dm2_jpg.rf.d135fe9fc1d4126c14bb25e21b98a69d.jpg: 640x640 9.0ms\n",
      "Speed: 3.0ms preprocess, 9.0ms inference, 4.0ms postprocess per image at shape (1, 3, 640, 640)\n",
      "Detected 'plat' in b5mrhhwjlp7lrudti9dm2_jpg.rf.d135fe9fc1d4126c14bb25e21b98a69d.jpg.\n",
      "\n",
      "image 1/1 C:\\Patricia Ho\\Braincore\\apnr\\data\\Test\\images\\b5mrhhwjlp7lrudti9dm_jpg.rf.f0406a29d7f2ebe4309a56198ebd504f.jpg: 640x640 10.0ms\n",
      "Speed: 3.0ms preprocess, 10.0ms inference, 4.0ms postprocess per image at shape (1, 3, 640, 640)\n",
      "Detected 'plat' in b5mrhhwjlp7lrudti9dm_jpg.rf.f0406a29d7f2ebe4309a56198ebd504f.jpg.\n",
      "\n",
      "image 1/1 C:\\Patricia Ho\\Braincore\\apnr\\data\\Test\\images\\BA1234E_jpg.rf.4046181c18acbcaf1296b0dfc545aae8.jpg: 640x640 9.0ms\n",
      "Speed: 3.0ms preprocess, 9.0ms inference, 4.0ms postprocess per image at shape (1, 3, 640, 640)\n",
      "Detected 'plat' in BA1234E_jpg.rf.4046181c18acbcaf1296b0dfc545aae8.jpg.\n",
      "\n",
      "image 1/1 C:\\Patricia Ho\\Braincore\\apnr\\data\\Test\\images\\BE0775U_jpg.rf.b894390aed24b509ac57447084b883d7.jpg: 640x640 11.0ms\n",
      "Speed: 3.0ms preprocess, 11.0ms inference, 4.0ms postprocess per image at shape (1, 3, 640, 640)\n",
      "Detected 'plat' in BE0775U_jpg.rf.b894390aed24b509ac57447084b883d7.jpg.\n",
      "\n",
      "image 1/1 C:\\Patricia Ho\\Braincore\\apnr\\data\\Test\\images\\BE6775U_jpg.rf.536ac3a64ca8ba39bea911d95808f622.jpg: 640x640 15.0ms\n",
      "Speed: 5.0ms preprocess, 15.0ms inference, 4.0ms postprocess per image at shape (1, 3, 640, 640)\n",
      "Detected 'plat' in BE6775U_jpg.rf.536ac3a64ca8ba39bea911d95808f622.jpg.\n",
      "\n",
      "image 1/1 C:\\Patricia Ho\\Braincore\\apnr\\data\\Test\\images\\BG1987A_jpg.rf.68328962bc44a8a126d70ac706a0b7cf.jpg: 640x640 (no detections), 9.0ms\n",
      "Speed: 2.0ms preprocess, 9.0ms inference, 1.0ms postprocess per image at shape (1, 3, 640, 640)\n",
      "No 'plat' detected in BG1987A_jpg.rf.68328962bc44a8a126d70ac706a0b7cf.jpg.\n",
      "\n",
      "image 1/1 C:\\Patricia Ho\\Braincore\\apnr\\data\\Test\\images\\BG9988C_jpg.rf.5a7851c688004f5a39e3f7f71941985e.jpg: 640x640 9.0ms\n",
      "Speed: 4.0ms preprocess, 9.0ms inference, 4.0ms postprocess per image at shape (1, 3, 640, 640)\n",
      "Detected 'plat' in BG9988C_jpg.rf.5a7851c688004f5a39e3f7f71941985e.jpg.\n",
      "\n",
      "image 1/1 C:\\Patricia Ho\\Braincore\\apnr\\data\\Test\\images\\biaya-pajak-plat-nomor-cantik-1200x720_jpg.rf.7ad2e2aa173bf3cf326b186588a5f12d.jpg: 640x640 10.0ms\n",
      "Speed: 3.0ms preprocess, 10.0ms inference, 4.0ms postprocess per image at shape (1, 3, 640, 640)\n",
      "Detected 'plat' in biaya-pajak-plat-nomor-cantik-1200x720_jpg.rf.7ad2e2aa173bf3cf326b186588a5f12d.jpg.\n",
      "\n",
      "image 1/1 C:\\Patricia Ho\\Braincore\\apnr\\data\\Test\\images\\biaya-pajak-plat-nomor-cantik-1200x720_jpg.rf.9fbff34ec58e7dce0bf8227ebb1c03af.jpg: 640x640 10.0ms\n",
      "Speed: 3.0ms preprocess, 10.0ms inference, 4.0ms postprocess per image at shape (1, 3, 640, 640)\n",
      "Detected 'plat' in biaya-pajak-plat-nomor-cantik-1200x720_jpg.rf.9fbff34ec58e7dce0bf8227ebb1c03af.jpg.\n",
      "\n",
      "image 1/1 C:\\Patricia Ho\\Braincore\\apnr\\data\\Test\\images\\BM3090V_jpg.rf.832deddcd886cffd2b333e311c056137.jpg: 640x640 (no detections), 14.0ms\n",
      "Speed: 3.0ms preprocess, 14.0ms inference, 1.0ms postprocess per image at shape (1, 3, 640, 640)\n",
      "No 'plat' detected in BM3090V_jpg.rf.832deddcd886cffd2b333e311c056137.jpg.\n",
      "\n",
      "image 1/1 C:\\Patricia Ho\\Braincore\\apnr\\data\\Test\\images\\BM3459A_jpg.rf.4ceb7063ebe33f08130eb5fb5869d85b.jpg: 640x640 (no detections), 12.0ms\n",
      "Speed: 4.0ms preprocess, 12.0ms inference, 1.0ms postprocess per image at shape (1, 3, 640, 640)\n",
      "No 'plat' detected in BM3459A_jpg.rf.4ceb7063ebe33f08130eb5fb5869d85b.jpg.\n",
      "\n",
      "image 1/1 C:\\Patricia Ho\\Braincore\\apnr\\data\\Test\\images\\BM6098V_jpg.rf.e4bb790f941fcf409c9a81fd46c8a0ce.jpg: 640x640 10.0ms\n",
      "Speed: 3.0ms preprocess, 10.0ms inference, 4.0ms postprocess per image at shape (1, 3, 640, 640)\n",
      "Detected 'plat' in BM6098V_jpg.rf.e4bb790f941fcf409c9a81fd46c8a0ce.jpg.\n",
      "\n",
      "image 1/1 C:\\Patricia Ho\\Braincore\\apnr\\data\\Test\\images\\BM6468Q_jpg.rf.e661ab22223cd9dd14ad16981ee1567e.jpg: 640x640 10.0ms\n",
      "Speed: 3.0ms preprocess, 10.0ms inference, 4.0ms postprocess per image at shape (1, 3, 640, 640)\n",
      "Detected 'plat' in BM6468Q_jpg.rf.e661ab22223cd9dd14ad16981ee1567e.jpg.\n",
      "\n",
      "image 1/1 C:\\Patricia Ho\\Braincore\\apnr\\data\\Test\\images\\brio30_jpg.rf.e28662e7659a74b8f87a78e65e667279.jpg: 640x640 14.0ms\n",
      "Speed: 5.0ms preprocess, 14.0ms inference, 5.0ms postprocess per image at shape (1, 3, 640, 640)\n",
      "Detected 'plat' in brio30_jpg.rf.e28662e7659a74b8f87a78e65e667279.jpg.\n",
      "\n",
      "image 1/1 C:\\Patricia Ho\\Braincore\\apnr\\data\\Test\\images\\Contoh-plat-nomor-pesanan-Foto-Twitter_jpg.rf.6649644e8aa8bd5cfdd1955e4ee9ca51.jpg: 640x640 14.0ms\n",
      "Speed: 3.0ms preprocess, 14.0ms inference, 5.0ms postprocess per image at shape (1, 3, 640, 640)\n",
      "Detected 'plat' in Contoh-plat-nomor-pesanan-Foto-Twitter_jpg.rf.6649644e8aa8bd5cfdd1955e4ee9ca51.jpg.\n",
      "\n",
      "image 1/1 C:\\Patricia Ho\\Braincore\\apnr\\data\\Test\\images\\crv15_jpg.rf.29de53d5b0707046b7db2bb000a03816.jpg: 640x640 11.0ms\n",
      "Speed: 4.0ms preprocess, 11.0ms inference, 5.0ms postprocess per image at shape (1, 3, 640, 640)\n",
      "Detected 'plat' in crv15_jpg.rf.29de53d5b0707046b7db2bb000a03816.jpg.\n",
      "\n",
      "image 1/1 C:\\Patricia Ho\\Braincore\\apnr\\data\\Test\\images\\crv26_jpg.rf.78666bc6333a00e8403334ceedcb33ca.jpg: 640x640 15.0ms\n",
      "Speed: 4.0ms preprocess, 15.0ms inference, 6.0ms postprocess per image at shape (1, 3, 640, 640)\n",
      "Detected 'plat' in crv26_jpg.rf.78666bc6333a00e8403334ceedcb33ca.jpg.\n",
      "\n",
      "image 1/1 C:\\Patricia Ho\\Braincore\\apnr\\data\\Test\\images\\crv33_jpg.rf.7437a66acae8f272a4d9220c956affea.jpg: 640x640 11.0ms\n",
      "Speed: 4.0ms preprocess, 11.0ms inference, 6.0ms postprocess per image at shape (1, 3, 640, 640)\n",
      "Detected 'plat' in crv33_jpg.rf.7437a66acae8f272a4d9220c956affea.jpg.\n",
      "\n",
      "image 1/1 C:\\Patricia Ho\\Braincore\\apnr\\data\\Test\\images\\cuplikan-video-razia-kendaraan-b-1564-rfd-oleh-ditlantas-polda-metro-jaya_jpg.rf.db248697af625185e8fdabca76b122ac.jpg: 640x640 17.0ms\n",
      "Speed: 5.0ms preprocess, 17.0ms inference, 5.0ms postprocess per image at shape (1, 3, 640, 640)\n",
      "Detected 'plat' in cuplikan-video-razia-kendaraan-b-1564-rfd-oleh-ditlantas-polda-metro-jaya_jpg.rf.db248697af625185e8fdabca76b122ac.jpg.\n",
      "\n",
      "image 1/1 C:\\Patricia Ho\\Braincore\\apnr\\data\\Test\\images\\D1582AC_jpg.rf.32297368311057d1c35dbbdc3c12b44d.jpg: 640x640 18.0ms\n",
      "Speed: 12.0ms preprocess, 18.0ms inference, 5.0ms postprocess per image at shape (1, 3, 640, 640)\n",
      "Detected 'plat' in D1582AC_jpg.rf.32297368311057d1c35dbbdc3c12b44d.jpg.\n",
      "\n",
      "image 1/1 C:\\Patricia Ho\\Braincore\\apnr\\data\\Test\\images\\D1583AC_jpg.rf.bdde042a9a7f612c4c8833e6ac2cec09.jpg: 640x640 15.0ms\n",
      "Speed: 4.0ms preprocess, 15.0ms inference, 5.0ms postprocess per image at shape (1, 3, 640, 640)\n",
      "Detected 'plat' in D1583AC_jpg.rf.bdde042a9a7f612c4c8833e6ac2cec09.jpg.\n",
      "\n",
      "image 1/1 C:\\Patricia Ho\\Braincore\\apnr\\data\\Test\\images\\D2753CG_jpg.rf.2e3501af60c8ef69ef7bb754d531121e.jpg: 640x640 15.0ms\n",
      "Speed: 3.0ms preprocess, 15.0ms inference, 5.0ms postprocess per image at shape (1, 3, 640, 640)\n",
      "Detected 'plat' in D2753CG_jpg.rf.2e3501af60c8ef69ef7bb754d531121e.jpg.\n",
      "\n",
      "image 1/1 C:\\Patricia Ho\\Braincore\\apnr\\data\\Test\\images\\D6634BC_jpg.rf.1023bd993ce777e67bf89bf1cd0daa96.jpg: 640x640 17.0ms\n",
      "Speed: 5.0ms preprocess, 17.0ms inference, 6.0ms postprocess per image at shape (1, 3, 640, 640)\n",
      "Detected 'plat' in D6634BC_jpg.rf.1023bd993ce777e67bf89bf1cd0daa96.jpg.\n",
      "\n",
      "image 1/1 C:\\Patricia Ho\\Braincore\\apnr\\data\\Test\\images\\DA4283W_jpg.rf.252fae90866f9c22d76d121784aaa1b0.jpg: 640x640 11.0ms\n",
      "Speed: 3.0ms preprocess, 11.0ms inference, 4.0ms postprocess per image at shape (1, 3, 640, 640)\n",
      "Detected 'plat' in DA4283W_jpg.rf.252fae90866f9c22d76d121784aaa1b0.jpg.\n",
      "\n",
      "image 1/1 C:\\Patricia Ho\\Braincore\\apnr\\data\\Test\\images\\DD8086Y_jpg.rf.d171f95f84387ba38998a4539b330064.jpg: 640x640 (no detections), 11.0ms\n",
      "Speed: 3.0ms preprocess, 11.0ms inference, 1.0ms postprocess per image at shape (1, 3, 640, 640)\n",
      "No 'plat' detected in DD8086Y_jpg.rf.d171f95f84387ba38998a4539b330064.jpg.\n",
      "\n",
      "image 1/1 C:\\Patricia Ho\\Braincore\\apnr\\data\\Test\\images\\E4539QH_jpg.rf.15ad3d866ce54b39bb9d9c5dea84b0e4.jpg: 640x640 11.0ms\n",
      "Speed: 3.0ms preprocess, 11.0ms inference, 4.0ms postprocess per image at shape (1, 3, 640, 640)\n",
      "Detected 'plat' in E4539QH_jpg.rf.15ad3d866ce54b39bb9d9c5dea84b0e4.jpg.\n",
      "\n",
      "image 1/1 C:\\Patricia Ho\\Braincore\\apnr\\data\\Test\\images\\ec5cd9b8-7-aa06_jpg.rf.ac458c046ca7e1033f163c2ed872dae1.jpg: 640x640 14.0ms\n",
      "Speed: 3.0ms preprocess, 14.0ms inference, 5.0ms postprocess per image at shape (1, 3, 640, 640)\n",
      "Detected 'plat' in ec5cd9b8-7-aa06_jpg.rf.ac458c046ca7e1033f163c2ed872dae1.jpg.\n",
      "\n",
      "image 1/1 C:\\Patricia Ho\\Braincore\\apnr\\data\\Test\\images\\hitam_32_jpg.rf.43c25a00cb1985549dc3fa677645274e.jpg: 640x640 13.0ms\n",
      "Speed: 5.0ms preprocess, 13.0ms inference, 4.0ms postprocess per image at shape (1, 3, 640, 640)\n",
      "Detected 'plat' in hitam_32_jpg.rf.43c25a00cb1985549dc3fa677645274e.jpg.\n",
      "\n",
      "image 1/1 C:\\Patricia Ho\\Braincore\\apnr\\data\\Test\\images\\hrv4_jpg.rf.58ea2a6cc363c6ae245e5b73e31da1ef.jpg: 640x640 16.9ms\n",
      "Speed: 5.0ms preprocess, 16.9ms inference, 6.4ms postprocess per image at shape (1, 3, 640, 640)\n",
      "Detected 'plat' in hrv4_jpg.rf.58ea2a6cc363c6ae245e5b73e31da1ef.jpg.\n",
      "\n",
      "image 1/1 C:\\Patricia Ho\\Braincore\\apnr\\data\\Test\\images\\images17_jpg.rf.0fd391255062575b103a4af8361ccadd.jpg: 640x640 13.0ms\n",
      "Speed: 5.0ms preprocess, 13.0ms inference, 6.0ms postprocess per image at shape (1, 3, 640, 640)\n",
      "Detected 'plat' in images17_jpg.rf.0fd391255062575b103a4af8361ccadd.jpg.\n",
      "\n",
      "image 1/1 C:\\Patricia Ho\\Braincore\\apnr\\data\\Test\\images\\images199_jpg.rf.55cbc841fbe7d53771c75bfea913c9be.jpg: 640x640 12.0ms\n",
      "Speed: 4.0ms preprocess, 12.0ms inference, 6.0ms postprocess per image at shape (1, 3, 640, 640)\n",
      "Detected 'plat' in images199_jpg.rf.55cbc841fbe7d53771c75bfea913c9be.jpg.\n",
      "\n",
      "image 1/1 C:\\Patricia Ho\\Braincore\\apnr\\data\\Test\\images\\images226_jpg.rf.e487b75041096009cb93f85c4894ef18.jpg: 640x640 14.9ms\n",
      "Speed: 4.0ms preprocess, 14.9ms inference, 4.8ms postprocess per image at shape (1, 3, 640, 640)\n",
      "Detected 'plat' in images226_jpg.rf.e487b75041096009cb93f85c4894ef18.jpg.\n",
      "\n",
      "image 1/1 C:\\Patricia Ho\\Braincore\\apnr\\data\\Test\\images\\images252_jpg.rf.198a759acbada84cdc5ad36d0a0ffed7.jpg: 640x640 12.0ms\n",
      "Speed: 4.4ms preprocess, 12.0ms inference, 4.8ms postprocess per image at shape (1, 3, 640, 640)\n",
      "Detected 'plat' in images252_jpg.rf.198a759acbada84cdc5ad36d0a0ffed7.jpg.\n",
      "\n",
      "image 1/1 C:\\Patricia Ho\\Braincore\\apnr\\data\\Test\\images\\images39_jpg.rf.4cb06ab1724933b67f4b76b836e362cd.jpg: 640x640 12.2ms\n",
      "Speed: 3.2ms preprocess, 12.2ms inference, 4.9ms postprocess per image at shape (1, 3, 640, 640)\n",
      "Detected 'plat' in images39_jpg.rf.4cb06ab1724933b67f4b76b836e362cd.jpg.\n",
      "\n",
      "image 1/1 C:\\Patricia Ho\\Braincore\\apnr\\data\\Test\\images\\images50_jpg.rf.3c1be18ee32c1561438ccc35cd8d0677.jpg: 640x640 11.9ms\n",
      "Speed: 3.8ms preprocess, 11.9ms inference, 4.3ms postprocess per image at shape (1, 3, 640, 640)\n",
      "Detected 'plat' in images50_jpg.rf.3c1be18ee32c1561438ccc35cd8d0677.jpg.\n",
      "\n",
      "image 1/1 C:\\Patricia Ho\\Braincore\\apnr\\data\\Test\\images\\images73_jpg.rf.90baa389e343c4ff13275cffcb03734f.jpg: 640x640 14.7ms\n",
      "Speed: 7.1ms preprocess, 14.7ms inference, 4.9ms postprocess per image at shape (1, 3, 640, 640)\n",
      "Detected 'plat' in images73_jpg.rf.90baa389e343c4ff13275cffcb03734f.jpg.\n",
      "\n",
      "image 1/1 C:\\Patricia Ho\\Braincore\\apnr\\data\\Test\\images\\images81_jpg.rf.655e3cf6f27683db97498b0d9cba1c5d.jpg: 640x640 16.7ms\n",
      "Speed: 5.5ms preprocess, 16.7ms inference, 6.4ms postprocess per image at shape (1, 3, 640, 640)\n",
      "Detected 'plat' in images81_jpg.rf.655e3cf6f27683db97498b0d9cba1c5d.jpg.\n",
      "\n",
      "image 1/1 C:\\Patricia Ho\\Braincore\\apnr\\data\\Test\\images\\IMG-20180108-WA0096_jpg.rf.e2fd1b2481f95a86ca65460eb091b634.jpg: 640x640 17.6ms\n",
      "Speed: 5.0ms preprocess, 17.6ms inference, 6.4ms postprocess per image at shape (1, 3, 640, 640)\n",
      "Detected 'plat' in IMG-20180108-WA0096_jpg.rf.e2fd1b2481f95a86ca65460eb091b634.jpg.\n",
      "\n",
      "image 1/1 C:\\Patricia Ho\\Braincore\\apnr\\data\\Test\\images\\IMG-20180108-WA0115_jpg.rf.77574059a1ab23c1d3c07f684106cbf8.jpg: 640x640 16.2ms\n",
      "Speed: 5.0ms preprocess, 16.2ms inference, 4.0ms postprocess per image at shape (1, 3, 640, 640)\n",
      "Detected 'plat' in IMG-20180108-WA0115_jpg.rf.77574059a1ab23c1d3c07f684106cbf8.jpg.\n",
      "\n",
      "image 1/1 C:\\Patricia Ho\\Braincore\\apnr\\data\\Test\\images\\IMG-20211122-WA0005_jpg.rf.85a72ba12071e72d830454b6d658b3f5.jpg: 640x640 12.0ms\n",
      "Speed: 4.0ms preprocess, 12.0ms inference, 4.0ms postprocess per image at shape (1, 3, 640, 640)\n",
      "Detected 'plat' in IMG-20211122-WA0005_jpg.rf.85a72ba12071e72d830454b6d658b3f5.jpg.\n",
      "\n",
      "image 1/1 C:\\Patricia Ho\\Braincore\\apnr\\data\\Test\\images\\IMG-20211122-WA0007_jpg.rf.561e9ab4bd7b4c63113b5a9cecc3e174.jpg: 640x640 12.0ms\n",
      "Speed: 3.0ms preprocess, 12.0ms inference, 4.0ms postprocess per image at shape (1, 3, 640, 640)\n",
      "Detected 'plat' in IMG-20211122-WA0007_jpg.rf.561e9ab4bd7b4c63113b5a9cecc3e174.jpg.\n",
      "\n",
      "image 1/1 C:\\Patricia Ho\\Braincore\\apnr\\data\\Test\\images\\IMG-20211122-WA0009_jpg.rf.6b9c5ab86913c3c5dfc545a0fadc3ab4.jpg: 640x640 (no detections), 12.0ms\n",
      "Speed: 3.0ms preprocess, 12.0ms inference, 0.0ms postprocess per image at shape (1, 3, 640, 640)\n",
      "No 'plat' detected in IMG-20211122-WA0009_jpg.rf.6b9c5ab86913c3c5dfc545a0fadc3ab4.jpg.\n",
      "\n",
      "image 1/1 C:\\Patricia Ho\\Braincore\\apnr\\data\\Test\\images\\IMG-20211122-WA0012_jpg.rf.a4029f0f2161619aa6297466f08967ea.jpg: 640x640 13.0ms\n",
      "Speed: 4.0ms preprocess, 13.0ms inference, 5.0ms postprocess per image at shape (1, 3, 640, 640)\n",
      "Detected 'plat' in IMG-20211122-WA0012_jpg.rf.a4029f0f2161619aa6297466f08967ea.jpg.\n",
      "\n",
      "image 1/1 C:\\Patricia Ho\\Braincore\\apnr\\data\\Test\\images\\IMG-20211122-WA0016_jpg.rf.1f3ab2c7e965ce14084da824cd99df53.jpg: 640x640 12.0ms\n",
      "Speed: 4.0ms preprocess, 12.0ms inference, 4.0ms postprocess per image at shape (1, 3, 640, 640)\n",
      "Detected 'plat' in IMG-20211122-WA0016_jpg.rf.1f3ab2c7e965ce14084da824cd99df53.jpg.\n",
      "\n",
      "image 1/1 C:\\Patricia Ho\\Braincore\\apnr\\data\\Test\\images\\IMG-20211122-WA0018_jpg.rf.40111f8ef9b3a01458288b30170b90c5.jpg: 640x640 (no detections), 17.0ms\n",
      "Speed: 4.0ms preprocess, 17.0ms inference, 1.0ms postprocess per image at shape (1, 3, 640, 640)\n",
      "No 'plat' detected in IMG-20211122-WA0018_jpg.rf.40111f8ef9b3a01458288b30170b90c5.jpg.\n",
      "\n",
      "image 1/1 C:\\Patricia Ho\\Braincore\\apnr\\data\\Test\\images\\IMG-20211122-WA0023_jpg.rf.1d09634bcfa0c065fa437beabb3ae712.jpg: 640x640 14.0ms\n",
      "Speed: 6.0ms preprocess, 14.0ms inference, 5.0ms postprocess per image at shape (1, 3, 640, 640)\n",
      "Detected 'plat' in IMG-20211122-WA0023_jpg.rf.1d09634bcfa0c065fa437beabb3ae712.jpg.\n",
      "\n",
      "image 1/1 C:\\Patricia Ho\\Braincore\\apnr\\data\\Test\\images\\IMG-20211122-WA0024_jpg.rf.f0a580f4cd52d94776467fbec44c4457.jpg: 640x640 13.0ms\n",
      "Speed: 5.0ms preprocess, 13.0ms inference, 4.0ms postprocess per image at shape (1, 3, 640, 640)\n",
      "Detected 'plat' in IMG-20211122-WA0024_jpg.rf.f0a580f4cd52d94776467fbec44c4457.jpg.\n",
      "\n",
      "image 1/1 C:\\Patricia Ho\\Braincore\\apnr\\data\\Test\\images\\IMG-20211122-WA0040_jpg.rf.52b7abf1e114340311f8a6adf1a560bc.jpg: 640x640 11.0ms\n",
      "Speed: 3.0ms preprocess, 11.0ms inference, 5.0ms postprocess per image at shape (1, 3, 640, 640)\n",
      "Detected 'plat' in IMG-20211122-WA0040_jpg.rf.52b7abf1e114340311f8a6adf1a560bc.jpg.\n",
      "\n",
      "image 1/1 C:\\Patricia Ho\\Braincore\\apnr\\data\\Test\\images\\IMG-20211122-WA0043_jpg.rf.13ba924e72ebc0c4e70cb71dbbf38476.jpg: 640x640 13.0ms\n",
      "Speed: 4.0ms preprocess, 13.0ms inference, 4.0ms postprocess per image at shape (1, 3, 640, 640)\n",
      "Detected 'plat' in IMG-20211122-WA0043_jpg.rf.13ba924e72ebc0c4e70cb71dbbf38476.jpg.\n",
      "\n",
      "image 1/1 C:\\Patricia Ho\\Braincore\\apnr\\data\\Test\\images\\IMG-20211122-WA0045_jpg.rf.11666b0c8f13ad4cb1e0786c627e8045.jpg: 640x640 11.0ms\n",
      "Speed: 4.0ms preprocess, 11.0ms inference, 4.0ms postprocess per image at shape (1, 3, 640, 640)\n",
      "Detected 'plat' in IMG-20211122-WA0045_jpg.rf.11666b0c8f13ad4cb1e0786c627e8045.jpg.\n",
      "\n",
      "image 1/1 C:\\Patricia Ho\\Braincore\\apnr\\data\\Test\\images\\IMG-20211122-WA0054_jpg.rf.21dea432de0cd39fed1ca699be594cc9.jpg: 640x640 11.0ms\n",
      "Speed: 3.0ms preprocess, 11.0ms inference, 5.0ms postprocess per image at shape (1, 3, 640, 640)\n",
      "Detected 'plat' in IMG-20211122-WA0054_jpg.rf.21dea432de0cd39fed1ca699be594cc9.jpg.\n",
      "\n",
      "image 1/1 C:\\Patricia Ho\\Braincore\\apnr\\data\\Test\\images\\IMG-20211123-WA0020_jpg.rf.69775bf4e31ab94445f556f827a01012.jpg: 640x640 13.0ms\n",
      "Speed: 4.0ms preprocess, 13.0ms inference, 6.0ms postprocess per image at shape (1, 3, 640, 640)\n",
      "Detected 'plat' in IMG-20211123-WA0020_jpg.rf.69775bf4e31ab94445f556f827a01012.jpg.\n",
      "\n",
      "image 1/1 C:\\Patricia Ho\\Braincore\\apnr\\data\\Test\\images\\IMG-20211123-WA0022_jpg.rf.f6cd09922cb3f9973643ca58f4ffa3c8.jpg: 640x640 17.0ms\n",
      "Speed: 5.0ms preprocess, 17.0ms inference, 5.0ms postprocess per image at shape (1, 3, 640, 640)\n",
      "Detected 'plat' in IMG-20211123-WA0022_jpg.rf.f6cd09922cb3f9973643ca58f4ffa3c8.jpg.\n",
      "\n",
      "image 1/1 C:\\Patricia Ho\\Braincore\\apnr\\data\\Test\\images\\IMG00110-20130916-1216_zpsb80cd632_jpg.rf.5276857dfcc34b4dc993bb902a0758b3.jpg: 640x640 13.0ms\n",
      "Speed: 5.0ms preprocess, 13.0ms inference, 5.0ms postprocess per image at shape (1, 3, 640, 640)\n",
      "Detected 'plat' in IMG00110-20130916-1216_zpsb80cd632_jpg.rf.5276857dfcc34b4dc993bb902a0758b3.jpg.\n",
      "\n",
      "image 1/1 C:\\Patricia Ho\\Braincore\\apnr\\data\\Test\\images\\jazz13_jpg.rf.3e7658fe6576b85c64d7947b9911b472.jpg: 640x640 11.0ms\n",
      "Speed: 3.0ms preprocess, 11.0ms inference, 4.0ms postprocess per image at shape (1, 3, 640, 640)\n",
      "Detected 'plat' in jazz13_jpg.rf.3e7658fe6576b85c64d7947b9911b472.jpg.\n",
      "\n",
      "image 1/1 C:\\Patricia Ho\\Braincore\\apnr\\data\\Test\\images\\Jenis-kode-plat-no_jpeg_jpg.rf.3987524b518e3f1a846a7a3bc421a6db.jpg: 640x640 11.0ms\n",
      "Speed: 4.0ms preprocess, 11.0ms inference, 4.0ms postprocess per image at shape (1, 3, 640, 640)\n",
      "Detected 'plat' in Jenis-kode-plat-no_jpeg_jpg.rf.3987524b518e3f1a846a7a3bc421a6db.jpg.\n",
      "\n",
      "image 1/1 C:\\Patricia Ho\\Braincore\\apnr\\data\\Test\\images\\jual-plat-nomor-murah-bekasi-jakarta-pesanan_scaled_jpg.rf.cb3df59c1cf9ecc52456caf2c8a4bbe5.jpg: 640x640 11.0ms\n",
      "Speed: 3.0ms preprocess, 11.0ms inference, 4.0ms postprocess per image at shape (1, 3, 640, 640)\n",
      "Detected 'plat' in jual-plat-nomor-murah-bekasi-jakarta-pesanan_scaled_jpg.rf.cb3df59c1cf9ecc52456caf2c8a4bbe5.jpg.\n",
      "\n",
      "image 1/1 C:\\Patricia Ho\\Braincore\\apnr\\data\\Test\\images\\Kode-Plat-Nomor-BE-Kab-Lampung-Timur_jpg.rf.65dafcd63f8a88a276374faf118b5685.jpg: 640x640 13.0ms\n",
      "Speed: 4.0ms preprocess, 13.0ms inference, 4.0ms postprocess per image at shape (1, 3, 640, 640)\n",
      "Detected 'plat' in Kode-Plat-Nomor-BE-Kab-Lampung-Timur_jpg.rf.65dafcd63f8a88a276374faf118b5685.jpg.\n",
      "\n",
      "image 1/1 C:\\Patricia Ho\\Braincore\\apnr\\data\\Test\\images\\Kode-Plat-Nomor-BM-Kota-Pekanbaru-1-_jpg.rf.13d98ec900c183767d02393c63f9fb41.jpg: 640x640 13.0ms\n",
      "Speed: 3.0ms preprocess, 13.0ms inference, 4.0ms postprocess per image at shape (1, 3, 640, 640)\n",
      "Detected 'plat' in Kode-Plat-Nomor-BM-Kota-Pekanbaru-1-_jpg.rf.13d98ec900c183767d02393c63f9fb41.jpg.\n",
      "\n",
      "image 1/1 C:\\Patricia Ho\\Braincore\\apnr\\data\\Test\\images\\kode-plat-nomor-s-4c16_jpg.rf.8a7765e5a19af132c3a82b4281ddbcc7.jpg: 640x640 16.0ms\n",
      "Speed: 5.0ms preprocess, 16.0ms inference, 6.0ms postprocess per image at shape (1, 3, 640, 640)\n",
      "Detected 'plat' in kode-plat-nomor-s-4c16_jpg.rf.8a7765e5a19af132c3a82b4281ddbcc7.jpg.\n",
      "\n",
      "image 1/1 C:\\Patricia Ho\\Braincore\\apnr\\data\\Test\\images\\maxresdefault_jpg.rf.63e5766b0c17cd1dae887ec8607dabd8.jpg: 640x640 12.0ms\n",
      "Speed: 3.0ms preprocess, 12.0ms inference, 4.0ms postprocess per image at shape (1, 3, 640, 640)\n",
      "Detected 'plat' in maxresdefault_jpg.rf.63e5766b0c17cd1dae887ec8607dabd8.jpg.\n",
      "\n",
      "image 1/1 C:\\Patricia Ho\\Braincore\\apnr\\data\\Test\\images\\mbol-huruf-dan-angka-pada-pelat-kendaraan-penjelasan-angka-dan-huruf-pada-pe_jpg.rf.c0c1839774396b39da40662a41a29e01.jpg: 640x640 12.0ms\n",
      "Speed: 3.0ms preprocess, 12.0ms inference, 4.0ms postprocess per image at shape (1, 3, 640, 640)\n",
      "Detected 'plat' in mbol-huruf-dan-angka-pada-pelat-kendaraan-penjelasan-angka-dan-huruf-pada-pe_jpg.rf.c0c1839774396b39da40662a41a29e01.jpg.\n",
      "\n",
      "image 1/1 C:\\Patricia Ho\\Braincore\\apnr\\data\\Test\\images\\nomor-cantik-001-5d6cd176097f3630f63b4d72_jpg.rf.a82fec924f9f945a8f8f1523d4beed51.jpg: 640x640 11.0ms\n",
      "Speed: 3.0ms preprocess, 11.0ms inference, 4.0ms postprocess per image at shape (1, 3, 640, 640)\n",
      "Detected 'plat' in nomor-cantik-001-5d6cd176097f3630f63b4d72_jpg.rf.a82fec924f9f945a8f8f1523d4beed51.jpg.\n",
      "\n",
      "image 1/1 C:\\Patricia Ho\\Braincore\\apnr\\data\\Test\\images\\plat-2-229d_jpeg_jpg.rf.86457272f8f391c9b8ed058bd4bae0be.jpg: 640x640 11.0ms\n",
      "Speed: 3.0ms preprocess, 11.0ms inference, 4.0ms postprocess per image at shape (1, 3, 640, 640)\n",
      "Detected 'plat' in plat-2-229d_jpeg_jpg.rf.86457272f8f391c9b8ed058bd4bae0be.jpg.\n",
      "\n",
      "image 1/1 C:\\Patricia Ho\\Braincore\\apnr\\data\\Test\\images\\plat-favorit-1_jpg.rf.1b286fb5c9bbc0dd9c50498f240675f0.jpg: 640x640 11.0ms\n",
      "Speed: 3.0ms preprocess, 11.0ms inference, 4.0ms postprocess per image at shape (1, 3, 640, 640)\n",
      "Detected 'plat' in plat-favorit-1_jpg.rf.1b286fb5c9bbc0dd9c50498f240675f0.jpg.\n",
      "\n",
      "image 1/1 C:\\Patricia Ho\\Braincore\\apnr\\data\\Test\\images\\plat-nomor-kosong_jpg.rf.ef670e27e6f37891f3ff211c3f5344cb.jpg: 640x640 10.0ms\n",
      "Speed: 3.0ms preprocess, 10.0ms inference, 4.0ms postprocess per image at shape (1, 3, 640, 640)\n",
      "Detected 'plat' in plat-nomor-kosong_jpg.rf.ef670e27e6f37891f3ff211c3f5344cb.jpg.\n",
      "\n",
      "image 1/1 C:\\Patricia Ho\\Braincore\\apnr\\data\\Test\\images\\plat-nomor-s-a2ec_jpg.rf.66295dd55bc52d390121350f31baa963.jpg: 640x640 16.0ms\n",
      "Speed: 4.0ms preprocess, 16.0ms inference, 6.0ms postprocess per image at shape (1, 3, 640, 640)\n",
      "Detected 'plat' in plat-nomor-s-a2ec_jpg.rf.66295dd55bc52d390121350f31baa963.jpg.\n",
      "\n",
      "image 1/1 C:\\Patricia Ho\\Braincore\\apnr\\data\\Test\\images\\plat_lucu-20150417-006-editor_jpg.rf.76f1a48bdad8933b94c693cccf2526ec.jpg: 640x640 11.0ms\n",
      "Speed: 4.0ms preprocess, 11.0ms inference, 5.0ms postprocess per image at shape (1, 3, 640, 640)\n",
      "Detected 'plat' in plat_lucu-20150417-006-editor_jpg.rf.76f1a48bdad8933b94c693cccf2526ec.jpg.\n",
      "\n",
      "image 1/1 C:\\Patricia Ho\\Braincore\\apnr\\data\\Test\\images\\P_20211122_114537_jpg.rf.9f17c1963c87fb7869c9b92d18340195.jpg: 640x640 (no detections), 11.0ms\n",
      "Speed: 3.0ms preprocess, 11.0ms inference, 1.0ms postprocess per image at shape (1, 3, 640, 640)\n",
      "No 'plat' detected in P_20211122_114537_jpg.rf.9f17c1963c87fb7869c9b92d18340195.jpg.\n",
      "\n",
      "image 1/1 C:\\Patricia Ho\\Braincore\\apnr\\data\\Test\\images\\P_20211122_114545_jpg.rf.a29e1104b2c359557f8eb3158c75160b.jpg: 640x640 (no detections), 11.0ms\n",
      "Speed: 3.0ms preprocess, 11.0ms inference, 1.0ms postprocess per image at shape (1, 3, 640, 640)\n",
      "No 'plat' detected in P_20211122_114545_jpg.rf.a29e1104b2c359557f8eb3158c75160b.jpg.\n",
      "\n",
      "image 1/1 C:\\Patricia Ho\\Braincore\\apnr\\data\\Test\\images\\WIN_20221217_09_33_57_Pro_jpg.rf.19abe46d622acd05c97c340bc2c22a26.jpg: 640x640 10.0ms\n",
      "Speed: 4.0ms preprocess, 10.0ms inference, 4.0ms postprocess per image at shape (1, 3, 640, 640)\n",
      "Detected 'plat' in WIN_20221217_09_33_57_Pro_jpg.rf.19abe46d622acd05c97c340bc2c22a26.jpg.\n"
     ]
    }
   ],
   "source": [
    "images_dir = os.path.join(test_dir, \"images\")\n",
    "labels_dir = os.path.join(test_dir, \"labels\")\n",
    "\n",
    "# Load the OBB YOLOv8 model\n",
    "model = YOLO('./runs/obb/train/weights/best.pt')  # Path to your trained OBB model\n",
    "\n",
    "# Initialize lists to store true and predicted labels\n",
    "y_true = []  # This will hold 1 (plat present) or 0 (no plat)\n",
    "y_pred = []  # This will hold 1 (detected plat) or 0 (no plat detected)\n",
    "\n",
    "# Define class for plat\n",
    "plat_class_id = 0  # Assuming class 0 corresponds to 'plat'\n",
    "\n",
    "# Process each image in the test set\n",
    "for img_name in os.listdir(images_dir):\n",
    "    if img_name.endswith(('.jpg', '.png', '.jpeg')):  # Filter for image files\n",
    "        img_path = os.path.join(images_dir, img_name)\n",
    "        \n",
    "        # Load image\n",
    "        image = cv2.imread(img_path)\n",
    "\n",
    "        # Run inference\n",
    "        results = model(img_path)\n",
    "\n",
    "        # Extract detections from the model results\n",
    "        detections = sv.Detections.from_ultralytics(results[0])\n",
    "\n",
    "        # Check if 'plat' was detected in the image\n",
    "        detected_plat = any(detection_class == plat_class_id for detection_class in detections.class_id)\n",
    "\n",
    "        # Load the true labels from the labels directory\n",
    "        label_path = os.path.join(labels_dir, img_name.replace('.jpg', '.txt').replace('.png', '.txt'))\n",
    "        \n",
    "        # Assume 'plat' is present if the label file exists and contains 'plat'\n",
    "        if os.path.exists(label_path):\n",
    "            true_labels = np.loadtxt(label_path, dtype=int, usecols=(0))  # Assuming class labels are in the first column\n",
    "            if true_labels.ndim == 0:  # Single label case\n",
    "                true_plat_present = (true_labels == plat_class_id)  # Check if it's a 'plat'\n",
    "            else:\n",
    "                true_plat_present = any(true_label == plat_class_id for true_label in true_labels)  # Check for 'plat'\n",
    "        else:\n",
    "            true_plat_present = False  # No label file means no plat in the image\n",
    "\n",
    "        # Add true and predicted values\n",
    "        y_true.append(1 if true_plat_present else 0)\n",
    "        y_pred.append(1 if detected_plat else 0)\n",
    "\n",
    "        # Print the detection status\n",
    "        if detected_plat:\n",
    "            print(f\"Detected 'plat' in {img_name}.\")\n",
    "        else:\n",
    "            print(f\"No 'plat' detected in {img_name}.\")"
   ]
  },
  {
   "cell_type": "code",
   "execution_count": 10,
   "metadata": {},
   "outputs": [],
   "source": [
    "%matplotlib inline"
   ]
  },
  {
   "cell_type": "code",
   "execution_count": 11,
   "metadata": {},
   "outputs": [
    {
     "name": "stdout",
     "output_type": "stream",
     "text": [
      "Accuracy: 0.94\n",
      "Precision: 1.00\n",
      "Recall: 0.94\n",
      "F1-Score: 0.97\n"
     ]
    },
    {
     "data": {
      "image/png": "[encoded data removed]",
      "text/plain": [
       "<Figure size 640x480 with 2 Axes>"
      ]
     },
     "metadata": {},
     "output_type": "display_data"
    }
   ],
   "source": [
    "if y_true and y_pred:  # Ensure we have true and predicted values to compare\n",
    "    # Calculate metrics (Accuracy, Precision, Recall, F1-Score)\n",
    "    accuracy = accuracy_score(y_true, y_pred)\n",
    "    precision = precision_score(y_true, y_pred)\n",
    "    recall = recall_score(y_true, y_pred)\n",
    "    f1 = f1_score(y_true, y_pred)\n",
    "    \n",
    "    # Display the results\n",
    "    print(f\"Accuracy: {accuracy:.2f}\")\n",
    "    print(f\"Precision: {precision:.2f}\")\n",
    "    print(f\"Recall: {recall:.2f}\")\n",
    "    print(f\"F1-Score: {f1:.2f}\")\n",
    "    \n",
    "    # Display the confusion matrix\n",
    "    cm = confusion_matrix(y_true, y_pred, labels=[0, 1])\n",
    "    disp = ConfusionMatrixDisplay(confusion_matrix=cm, display_labels=['No Plat', 'Plat'])\n",
    "    disp.plot(cmap=plt.cm.Blues)\n",
    "    plt.show()"
   ]
  },
  {
   "cell_type": "code",
   "execution_count": null,
   "metadata": {},
   "outputs": [],
   "source": []
  }
 ],
 "metadata": {
  "kernelspec": {
   "display_name": "Python 3 (ipykernel)",
   "language": "python",
   "name": "python3"
  },
  "language_info": {
   "codemirror_mode": {
    "name": "ipython",
    "version": 3
   },
   "file_extension": ".py",
   "mimetype": "text/x-python",
   "name": "python",
   "nbconvert_exporter": "python",
   "pygments_lexer": "ipython3",
   "version": "3.10.5"
  }
 },
 "nbformat": 4,
 "nbformat_minor": 4
}
