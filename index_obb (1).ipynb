{
  "cells": [
    {
      "cell_type": "code",
      "execution_count": 3,
      "metadata": {
        "id": "F-eGuf_fZSnX",
        "colab": {
          "base_uri": "https://localhost:8080/"
        },
        "outputId": "85e4babd-64e1-460d-9dbf-468c61368bfe"
      },
      "outputs": [
        {
          "output_type": "stream",
          "name": "stdout",
          "text": [
            "Creating new Ultralytics Settings v0.0.6 file ✅ \n",
            "View Ultralytics Settings with 'yolo settings' or at '/root/.config/Ultralytics/settings.json'\n",
            "Update Settings with 'yolo settings key=value', i.e. 'yolo settings runs_dir=path/to/dir'. For help see https://docs.ultralytics.com/quickstart/#ultralytics-settings.\n"
          ]
        }
      ],
      "source": [
        "import os\n",
        "import cv2\n",
        "import numpy as np\n",
        "import sys\n",
        "from ultralytics import YOLO\n",
        "import torch\n",
        "import torchvision.transforms as transforms\n",
        "import shutil\n",
        "from sklearn.metrics import confusion_matrix, ConfusionMatrixDisplay, accuracy_score, precision_score, recall_score, f1_score\n",
        "import supervision as sv\n",
        "import matplotlib.pyplot as plt"
      ]
    },
    {
      "cell_type": "code",
      "source": [
        "!pip install ultralytics --upgrade\n",
        "!pip install supervision\n",
        "!pip install roboflow\n",
        "\n",
        "from roboflow import Roboflow\n",
        "rf = Roboflow(api_key=\"gm9laVVmpThNSgEGjUZx\")\n",
        "project = rf.workspace(\"iksan-wijaya\").project(\"plat-detection-3-experimental\")\n",
        "version = project.version(3)\n",
        "dataset = version.download(\"yolov8-obb\")\n"
      ],
      "metadata": {
        "colab": {
          "base_uri": "https://localhost:8080/"
        },
        "id": "B1P_l1PxZniB",
        "outputId": "26dd1386-20e2-4a16-e094-2e0ad6c770e7"
      },
      "execution_count": 1,
      "outputs": [
        {
          "output_type": "stream",
          "name": "stdout",
          "text": [
            "Collecting ultralytics\n",
            "  Downloading ultralytics-8.3.19-py3-none-any.whl.metadata (34 kB)\n",
            "Requirement already satisfied: numpy>=1.23.0 in /usr/local/lib/python3.10/dist-packages (from ultralytics) (1.26.4)\n",
            "Requirement already satisfied: matplotlib>=3.3.0 in /usr/local/lib/python3.10/dist-packages (from ultralytics) (3.7.1)\n",
            "Requirement already satisfied: opencv-python>=4.6.0 in /usr/local/lib/python3.10/dist-packages (from ultralytics) (4.10.0.84)\n",
            "Requirement already satisfied: pillow>=7.1.2 in /usr/local/lib/python3.10/dist-packages (from ultralytics) (10.4.0)\n",
            "Requirement already satisfied: pyyaml>=5.3.1 in /usr/local/lib/python3.10/dist-packages (from ultralytics) (6.0.2)\n",
            "Requirement already satisfied: requests>=2.23.0 in /usr/local/lib/python3.10/dist-packages (from ultralytics) (2.32.3)\n",
            "Requirement already satisfied: scipy>=1.4.1 in /usr/local/lib/python3.10/dist-packages (from ultralytics) (1.13.1)\n",
            "Requirement already satisfied: torch>=1.8.0 in /usr/local/lib/python3.10/dist-packages (from ultralytics) (2.4.1+cu121)\n",
            "Requirement already satisfied: torchvision>=0.9.0 in /usr/local/lib/python3.10/dist-packages (from ultralytics) (0.19.1+cu121)\n",
            "Requirement already satisfied: tqdm>=4.64.0 in /usr/local/lib/python3.10/dist-packages (from ultralytics) (4.66.5)\n",
            "Requirement already satisfied: psutil in /usr/local/lib/python3.10/dist-packages (from ultralytics) (5.9.5)\n",
            "Requirement already satisfied: py-cpuinfo in /usr/local/lib/python3.10/dist-packages (from ultralytics) (9.0.0)\n",
            "Requirement already satisfied: pandas>=1.1.4 in /usr/local/lib/python3.10/dist-packages (from ultralytics) (2.2.2)\n",
            "Requirement already satisfied: seaborn>=0.11.0 in /usr/local/lib/python3.10/dist-packages (from ultralytics) (0.13.2)\n",
            "Collecting ultralytics-thop>=2.0.0 (from ultralytics)\n",
            "  Downloading ultralytics_thop-2.0.9-py3-none-any.whl.metadata (9.3 kB)\n",
            "Requirement already satisfied: contourpy>=1.0.1 in /usr/local/lib/python3.10/dist-packages (from matplotlib>=3.3.0->ultralytics) (1.3.0)\n",
            "Requirement already satisfied: cycler>=0.10 in /usr/local/lib/python3.10/dist-packages (from matplotlib>=3.3.0->ultralytics) (0.12.1)\n",
            "Requirement already satisfied: fonttools>=4.22.0 in /usr/local/lib/python3.10/dist-packages (from matplotlib>=3.3.0->ultralytics) (4.54.1)\n",
            "Requirement already satisfied: kiwisolver>=1.0.1 in /usr/local/lib/python3.10/dist-packages (from matplotlib>=3.3.0->ultralytics) (1.4.7)\n",
            "Requirement already satisfied: packaging>=20.0 in /usr/local/lib/python3.10/dist-packages (from matplotlib>=3.3.0->ultralytics) (24.1)\n",
            "Requirement already satisfied: pyparsing>=2.3.1 in /usr/local/lib/python3.10/dist-packages (from matplotlib>=3.3.0->ultralytics) (3.2.0)\n",
            "Requirement already satisfied: python-dateutil>=2.7 in /usr/local/lib/python3.10/dist-packages (from matplotlib>=3.3.0->ultralytics) (2.8.2)\n",
            "Requirement already satisfied: pytz>=2020.1 in /usr/local/lib/python3.10/dist-packages (from pandas>=1.1.4->ultralytics) (2024.2)\n",
            "Requirement already satisfied: tzdata>=2022.7 in /usr/local/lib/python3.10/dist-packages (from pandas>=1.1.4->ultralytics) (2024.2)\n",
            "Requirement already satisfied: charset-normalizer<4,>=2 in /usr/local/lib/python3.10/dist-packages (from requests>=2.23.0->ultralytics) (3.4.0)\n",
            "Requirement already satisfied: idna<4,>=2.5 in /usr/local/lib/python3.10/dist-packages (from requests>=2.23.0->ultralytics) (3.10)\n",
            "Requirement already satisfied: urllib3<3,>=1.21.1 in /usr/local/lib/python3.10/dist-packages (from requests>=2.23.0->ultralytics) (2.2.3)\n",
            "Requirement already satisfied: certifi>=2017.4.17 in /usr/local/lib/python3.10/dist-packages (from requests>=2.23.0->ultralytics) (2024.8.30)\n",
            "Requirement already satisfied: filelock in /usr/local/lib/python3.10/dist-packages (from torch>=1.8.0->ultralytics) (3.16.1)\n",
            "Requirement already satisfied: typing-extensions>=4.8.0 in /usr/local/lib/python3.10/dist-packages (from torch>=1.8.0->ultralytics) (4.12.2)\n",
            "Requirement already satisfied: sympy in /usr/local/lib/python3.10/dist-packages (from torch>=1.8.0->ultralytics) (1.13.3)\n",
            "Requirement already satisfied: networkx in /usr/local/lib/python3.10/dist-packages (from torch>=1.8.0->ultralytics) (3.4.1)\n",
            "Requirement already satisfied: jinja2 in /usr/local/lib/python3.10/dist-packages (from torch>=1.8.0->ultralytics) (3.1.4)\n",
            "Requirement already satisfied: fsspec in /usr/local/lib/python3.10/dist-packages (from torch>=1.8.0->ultralytics) (2024.6.1)\n",
            "Requirement already satisfied: six>=1.5 in /usr/local/lib/python3.10/dist-packages (from python-dateutil>=2.7->matplotlib>=3.3.0->ultralytics) (1.16.0)\n",
            "Requirement already satisfied: MarkupSafe>=2.0 in /usr/local/lib/python3.10/dist-packages (from jinja2->torch>=1.8.0->ultralytics) (3.0.1)\n",
            "Requirement already satisfied: mpmath<1.4,>=1.1.0 in /usr/local/lib/python3.10/dist-packages (from sympy->torch>=1.8.0->ultralytics) (1.3.0)\n",
            "Downloading ultralytics-8.3.19-py3-none-any.whl (876 kB)\n",
            "\u001b[2K   \u001b[90m━━━━━━━━━━━━━━━━━━━━━━━━━━━━━━━━━━━━━━━━\u001b[0m \u001b[32m876.6/876.6 kB\u001b[0m \u001b[31m13.7 MB/s\u001b[0m eta \u001b[36m0:00:00\u001b[0m\n",
            "\u001b[?25hDownloading ultralytics_thop-2.0.9-py3-none-any.whl (26 kB)\n",
            "Installing collected packages: ultralytics-thop, ultralytics\n",
            "Successfully installed ultralytics-8.3.19 ultralytics-thop-2.0.9\n",
            "Collecting supervision\n",
            "  Downloading supervision-0.24.0-py3-none-any.whl.metadata (14 kB)\n",
            "Requirement already satisfied: defusedxml<0.8.0,>=0.7.1 in /usr/local/lib/python3.10/dist-packages (from supervision) (0.7.1)\n",
            "Requirement already satisfied: matplotlib>=3.6.0 in /usr/local/lib/python3.10/dist-packages (from supervision) (3.7.1)\n",
            "Requirement already satisfied: numpy>=1.23.3 in /usr/local/lib/python3.10/dist-packages (from supervision) (1.26.4)\n",
            "Requirement already satisfied: opencv-python>=4.5.5.64 in /usr/local/lib/python3.10/dist-packages (from supervision) (4.10.0.84)\n",
            "Requirement already satisfied: pillow>=9.4 in /usr/local/lib/python3.10/dist-packages (from supervision) (10.4.0)\n",
            "Requirement already satisfied: pyyaml>=5.3 in /usr/local/lib/python3.10/dist-packages (from supervision) (6.0.2)\n",
            "Requirement already satisfied: scipy<2.0.0,>=1.10.0 in /usr/local/lib/python3.10/dist-packages (from supervision) (1.13.1)\n",
            "Requirement already satisfied: contourpy>=1.0.1 in /usr/local/lib/python3.10/dist-packages (from matplotlib>=3.6.0->supervision) (1.3.0)\n",
            "Requirement already satisfied: cycler>=0.10 in /usr/local/lib/python3.10/dist-packages (from matplotlib>=3.6.0->supervision) (0.12.1)\n",
            "Requirement already satisfied: fonttools>=4.22.0 in /usr/local/lib/python3.10/dist-packages (from matplotlib>=3.6.0->supervision) (4.54.1)\n",
            "Requirement already satisfied: kiwisolver>=1.0.1 in /usr/local/lib/python3.10/dist-packages (from matplotlib>=3.6.0->supervision) (1.4.7)\n",
            "Requirement already satisfied: packaging>=20.0 in /usr/local/lib/python3.10/dist-packages (from matplotlib>=3.6.0->supervision) (24.1)\n",
            "Requirement already satisfied: pyparsing>=2.3.1 in /usr/local/lib/python3.10/dist-packages (from matplotlib>=3.6.0->supervision) (3.2.0)\n",
            "Requirement already satisfied: python-dateutil>=2.7 in /usr/local/lib/python3.10/dist-packages (from matplotlib>=3.6.0->supervision) (2.8.2)\n",
            "Requirement already satisfied: six>=1.5 in /usr/local/lib/python3.10/dist-packages (from python-dateutil>=2.7->matplotlib>=3.6.0->supervision) (1.16.0)\n",
            "Downloading supervision-0.24.0-py3-none-any.whl (158 kB)\n",
            "\u001b[2K   \u001b[90m━━━━━━━━━━━━━━━━━━━━━━━━━━━━━━━━━━━━━━━━\u001b[0m \u001b[32m158.2/158.2 kB\u001b[0m \u001b[31m4.7 MB/s\u001b[0m eta \u001b[36m0:00:00\u001b[0m\n",
            "\u001b[?25hInstalling collected packages: supervision\n",
            "Successfully installed supervision-0.24.0\n",
            "Collecting roboflow\n",
            "  Downloading roboflow-1.1.48-py3-none-any.whl.metadata (9.7 kB)\n",
            "Requirement already satisfied: certifi in /usr/local/lib/python3.10/dist-packages (from roboflow) (2024.8.30)\n",
            "Collecting idna==3.7 (from roboflow)\n",
            "  Downloading idna-3.7-py3-none-any.whl.metadata (9.9 kB)\n",
            "Requirement already satisfied: cycler in /usr/local/lib/python3.10/dist-packages (from roboflow) (0.12.1)\n",
            "Requirement already satisfied: kiwisolver>=1.3.1 in /usr/local/lib/python3.10/dist-packages (from roboflow) (1.4.7)\n",
            "Requirement already satisfied: matplotlib in /usr/local/lib/python3.10/dist-packages (from roboflow) (3.7.1)\n",
            "Requirement already satisfied: numpy>=1.18.5 in /usr/local/lib/python3.10/dist-packages (from roboflow) (1.26.4)\n",
            "Requirement already satisfied: opencv-python-headless==4.10.0.84 in /usr/local/lib/python3.10/dist-packages (from roboflow) (4.10.0.84)\n",
            "Requirement already satisfied: Pillow>=7.1.2 in /usr/local/lib/python3.10/dist-packages (from roboflow) (10.4.0)\n",
            "Requirement already satisfied: python-dateutil in /usr/local/lib/python3.10/dist-packages (from roboflow) (2.8.2)\n",
            "Collecting python-dotenv (from roboflow)\n",
            "  Downloading python_dotenv-1.0.1-py3-none-any.whl.metadata (23 kB)\n",
            "Requirement already satisfied: requests in /usr/local/lib/python3.10/dist-packages (from roboflow) (2.32.3)\n",
            "Requirement already satisfied: six in /usr/local/lib/python3.10/dist-packages (from roboflow) (1.16.0)\n",
            "Requirement already satisfied: urllib3>=1.26.6 in /usr/local/lib/python3.10/dist-packages (from roboflow) (2.2.3)\n",
            "Requirement already satisfied: tqdm>=4.41.0 in /usr/local/lib/python3.10/dist-packages (from roboflow) (4.66.5)\n",
            "Requirement already satisfied: PyYAML>=5.3.1 in /usr/local/lib/python3.10/dist-packages (from roboflow) (6.0.2)\n",
            "Collecting requests-toolbelt (from roboflow)\n",
            "  Downloading requests_toolbelt-1.0.0-py2.py3-none-any.whl.metadata (14 kB)\n",
            "Collecting filetype (from roboflow)\n",
            "  Downloading filetype-1.2.0-py2.py3-none-any.whl.metadata (6.5 kB)\n",
            "Requirement already satisfied: contourpy>=1.0.1 in /usr/local/lib/python3.10/dist-packages (from matplotlib->roboflow) (1.3.0)\n",
            "Requirement already satisfied: fonttools>=4.22.0 in /usr/local/lib/python3.10/dist-packages (from matplotlib->roboflow) (4.54.1)\n",
            "Requirement already satisfied: packaging>=20.0 in /usr/local/lib/python3.10/dist-packages (from matplotlib->roboflow) (24.1)\n",
            "Requirement already satisfied: pyparsing>=2.3.1 in /usr/local/lib/python3.10/dist-packages (from matplotlib->roboflow) (3.2.0)\n",
            "Requirement already satisfied: charset-normalizer<4,>=2 in /usr/local/lib/python3.10/dist-packages (from requests->roboflow) (3.4.0)\n",
            "Downloading roboflow-1.1.48-py3-none-any.whl (80 kB)\n",
            "\u001b[2K   \u001b[90m━━━━━━━━━━━━━━━━━━━━━━━━━━━━━━━━━━━━━━━━\u001b[0m \u001b[32m80.3/80.3 kB\u001b[0m \u001b[31m7.7 MB/s\u001b[0m eta \u001b[36m0:00:00\u001b[0m\n",
            "\u001b[?25hDownloading idna-3.7-py3-none-any.whl (66 kB)\n",
            "\u001b[2K   \u001b[90m━━━━━━━━━━━━━━━━━━━━━━━━━━━━━━━━━━━━━━━━\u001b[0m \u001b[32m66.8/66.8 kB\u001b[0m \u001b[31m6.3 MB/s\u001b[0m eta \u001b[36m0:00:00\u001b[0m\n",
            "\u001b[?25hDownloading filetype-1.2.0-py2.py3-none-any.whl (19 kB)\n",
            "Downloading python_dotenv-1.0.1-py3-none-any.whl (19 kB)\n",
            "Downloading requests_toolbelt-1.0.0-py2.py3-none-any.whl (54 kB)\n",
            "\u001b[2K   \u001b[90m━━━━━━━━━━━━━━━━━━━━━━━━━━━━━━━━━━━━━━━━\u001b[0m \u001b[32m54.5/54.5 kB\u001b[0m \u001b[31m5.1 MB/s\u001b[0m eta \u001b[36m0:00:00\u001b[0m\n",
            "\u001b[?25hInstalling collected packages: filetype, python-dotenv, idna, requests-toolbelt, roboflow\n",
            "  Attempting uninstall: idna\n",
            "    Found existing installation: idna 3.10\n",
            "    Uninstalling idna-3.10:\n",
            "      Successfully uninstalled idna-3.10\n",
            "Successfully installed filetype-1.2.0 idna-3.7 python-dotenv-1.0.1 requests-toolbelt-1.0.0 roboflow-1.1.48\n",
            "loading Roboflow workspace...\n",
            "loading Roboflow project...\n"
          ]
        },
        {
          "output_type": "stream",
          "name": "stderr",
          "text": [
            "Downloading Dataset Version Zip in plat-detection-3-(experimental)-3 to yolov8-obb:: 100%|██████████| 205073/205073 [00:12<00:00, 16818.11it/s]"
          ]
        },
        {
          "output_type": "stream",
          "name": "stdout",
          "text": [
            "\n"
          ]
        },
        {
          "output_type": "stream",
          "name": "stderr",
          "text": [
            "\n",
            "Extracting Dataset Version Zip to plat-detection-3-(experimental)-3 in yolov8-obb:: 100%|██████████| 7982/7982 [00:01<00:00, 5435.26it/s]\n"
          ]
        }
      ]
    },
    {
      "cell_type": "code",
      "source": [
        "import os\n",
        "HOME = os.getcwd()\n",
        "print(HOME)"
      ],
      "metadata": {
        "colab": {
          "base_uri": "https://localhost:8080/"
        },
        "id": "JOR8YBtJZ2ek",
        "outputId": "27560ed5-002a-4d9c-ab84-d2e9881c27a3"
      },
      "execution_count": 2,
      "outputs": [
        {
          "output_type": "stream",
          "name": "stdout",
          "text": [
            "/content\n"
          ]
        }
      ]
    },
    {
      "cell_type": "code",
      "execution_count": 4,
      "metadata": {
        "id": "ow-p3cavZSnZ"
      },
      "outputs": [],
      "source": [
        "base_dir = \"/content/plat-detection-3-(experimental)-3\"\n",
        "\n",
        "train_dir = os.path.join(base_dir, \"train\")\n",
        "valid_dir = os.path.join(base_dir, \"valid\")\n",
        "test_dir = os.path.join(base_dir, \"test\")"
      ]
    },
    {
      "cell_type": "code",
      "execution_count": 5,
      "metadata": {
        "id": "K44vE42OZSnZ"
      },
      "outputs": [],
      "source": [
        "image_size = (640, 640)"
      ]
    },
    {
      "cell_type": "code",
      "execution_count": 6,
      "metadata": {
        "colab": {
          "base_uri": "https://localhost:8080/",
          "height": 1000,
          "referenced_widgets": [
            "cdea6275a91745d1927c15b9180ea81a",
            "f9e1672a29cd463b99dda0127f798240",
            "7b0150923ebf434db6e2d407bf0edb77",
            "8c996fb6554f42b7b68c786ad49af8a0",
            "fa42dd1150b849d9973ad4e57f402cbb",
            "0e4e3f880f1f4ccd8d53fe86e0e244cf",
            "b72f51e0cf7d4e42bbdaaf4ad8e48288",
            "a7473937ebd34e849b1bc3e7734f6055"
          ]
        },
        "id": "Zu_-tw4fZSna",
        "outputId": "68e621b1-efc8-40ba-833c-49b60236dbed"
      },
      "outputs": [
        {
          "output_type": "stream",
          "name": "stdout",
          "text": [
            "Downloading https://github.com/ultralytics/assets/releases/download/v8.3.0/yolov8n-obb.pt to 'yolov8n-obb.pt'...\n"
          ]
        },
        {
          "output_type": "stream",
          "name": "stderr",
          "text": [
            "100%|██████████| 6.26M/6.26M [00:00<00:00, 263MB/s]"
          ]
        },
        {
          "output_type": "stream",
          "name": "stdout",
          "text": [
            "Ultralytics 8.3.19 🚀 Python-3.10.12 torch-2.4.1+cu121 CUDA:0 (Tesla T4, 15102MiB)\n"
          ]
        },
        {
          "output_type": "stream",
          "name": "stderr",
          "text": [
            "\n"
          ]
        },
        {
          "output_type": "stream",
          "name": "stdout",
          "text": [
            "\u001b[34m\u001b[1mengine/trainer: \u001b[0mtask=obb, mode=train, model=yolov8n-obb.pt, data=/content/plat-detection-3-(experimental)-3/data.yaml, epochs=50, time=None, patience=100, batch=16, imgsz=640, save=True, save_period=-1, cache=False, device=None, workers=8, project=None, name=train, exist_ok=False, pretrained=True, optimizer=auto, verbose=True, seed=0, deterministic=True, single_cls=False, rect=False, cos_lr=False, close_mosaic=10, resume=False, amp=True, fraction=1.0, profile=False, freeze=None, multi_scale=False, overlap_mask=True, mask_ratio=4, dropout=0.0, val=True, split=val, save_json=False, save_hybrid=False, conf=None, iou=0.7, max_det=300, half=False, dnn=False, plots=True, source=None, vid_stride=1, stream_buffer=False, visualize=False, augment=False, agnostic_nms=False, classes=None, retina_masks=False, embed=None, show=False, save_frames=False, save_txt=False, save_conf=False, save_crop=False, show_labels=True, show_conf=True, show_boxes=True, line_width=None, format=torchscript, keras=False, optimize=False, int8=False, dynamic=False, simplify=True, opset=None, workspace=4, nms=False, lr0=0.01, lrf=0.01, momentum=0.937, weight_decay=0.0005, warmup_epochs=3.0, warmup_momentum=0.8, warmup_bias_lr=0.1, box=7.5, cls=0.5, dfl=1.5, pose=12.0, kobj=1.0, label_smoothing=0.0, nbs=64, hsv_h=0.015, hsv_s=0.7, hsv_v=0.4, degrees=0.0, translate=0.1, scale=0.5, shear=0.0, perspective=0.0, flipud=0.0, fliplr=0.5, bgr=0.0, mosaic=1.0, mixup=0.0, copy_paste=0.0, copy_paste_mode=flip, auto_augment=randaugment, erasing=0.4, crop_fraction=1.0, cfg=None, tracker=botsort.yaml, save_dir=runs/obb/train\n",
            "Downloading https://ultralytics.com/assets/Arial.ttf to '/root/.config/Ultralytics/Arial.ttf'...\n"
          ]
        },
        {
          "output_type": "stream",
          "name": "stderr",
          "text": [
            "100%|██████████| 755k/755k [00:00<00:00, 22.0MB/s]\n"
          ]
        },
        {
          "output_type": "stream",
          "name": "stdout",
          "text": [
            "Overriding model.yaml nc=15 with nc=1\n",
            "\n",
            "                   from  n    params  module                                       arguments                     \n",
            "  0                  -1  1       464  ultralytics.nn.modules.conv.Conv             [3, 16, 3, 2]                 \n",
            "  1                  -1  1      4672  ultralytics.nn.modules.conv.Conv             [16, 32, 3, 2]                \n",
            "  2                  -1  1      7360  ultralytics.nn.modules.block.C2f             [32, 32, 1, True]             \n",
            "  3                  -1  1     18560  ultralytics.nn.modules.conv.Conv             [32, 64, 3, 2]                \n",
            "  4                  -1  2     49664  ultralytics.nn.modules.block.C2f             [64, 64, 2, True]             \n",
            "  5                  -1  1     73984  ultralytics.nn.modules.conv.Conv             [64, 128, 3, 2]               \n",
            "  6                  -1  2    197632  ultralytics.nn.modules.block.C2f             [128, 128, 2, True]           \n",
            "  7                  -1  1    295424  ultralytics.nn.modules.conv.Conv             [128, 256, 3, 2]              \n",
            "  8                  -1  1    460288  ultralytics.nn.modules.block.C2f             [256, 256, 1, True]           \n",
            "  9                  -1  1    164608  ultralytics.nn.modules.block.SPPF            [256, 256, 5]                 \n",
            " 10                  -1  1         0  torch.nn.modules.upsampling.Upsample         [None, 2, 'nearest']          \n",
            " 11             [-1, 6]  1         0  ultralytics.nn.modules.conv.Concat           [1]                           \n",
            " 12                  -1  1    148224  ultralytics.nn.modules.block.C2f             [384, 128, 1]                 \n",
            " 13                  -1  1         0  torch.nn.modules.upsampling.Upsample         [None, 2, 'nearest']          \n",
            " 14             [-1, 4]  1         0  ultralytics.nn.modules.conv.Concat           [1]                           \n",
            " 15                  -1  1     37248  ultralytics.nn.modules.block.C2f             [192, 64, 1]                  \n",
            " 16                  -1  1     36992  ultralytics.nn.modules.conv.Conv             [64, 64, 3, 2]                \n",
            " 17            [-1, 12]  1         0  ultralytics.nn.modules.conv.Concat           [1]                           \n",
            " 18                  -1  1    123648  ultralytics.nn.modules.block.C2f             [192, 128, 1]                 \n",
            " 19                  -1  1    147712  ultralytics.nn.modules.conv.Conv             [128, 128, 3, 2]              \n",
            " 20             [-1, 9]  1         0  ultralytics.nn.modules.conv.Concat           [1]                           \n",
            " 21                  -1  1    493056  ultralytics.nn.modules.block.C2f             [384, 256, 1]                 \n",
            " 22        [15, 18, 21]  1    823174  ultralytics.nn.modules.head.OBB              [1, 1, [64, 128, 256]]        \n",
            "YOLOv8n-obb summary: 250 layers, 3,082,710 parameters, 3,082,694 gradients, 8.4 GFLOPs\n",
            "\n",
            "Transferred 391/397 items from pretrained weights\n",
            "\u001b[34m\u001b[1mTensorBoard: \u001b[0mStart with 'tensorboard --logdir runs/obb/train', view at http://localhost:6006/\n"
          ]
        },
        {
          "output_type": "stream",
          "name": "stderr",
          "text": [
            "\u001b[34m\u001b[1mwandb\u001b[0m: Using wandb-core as the SDK backend. Please refer to https://wandb.me/wandb-core for more information.\n"
          ]
        },
        {
          "output_type": "display_data",
          "data": {
            "text/plain": [
              "<IPython.core.display.Javascript object>"
            ],
            "application/javascript": [
              "\n",
              "        window._wandbApiKey = new Promise((resolve, reject) => {\n",
              "            function loadScript(url) {\n",
              "            return new Promise(function(resolve, reject) {\n",
              "                let newScript = document.createElement(\"script\");\n",
              "                newScript.onerror = reject;\n",
              "                newScript.onload = resolve;\n",
              "                document.body.appendChild(newScript);\n",
              "                newScript.src = url;\n",
              "            });\n",
              "            }\n",
              "            loadScript(\"https://cdn.jsdelivr.net/npm/postmate/build/postmate.min.js\").then(() => {\n",
              "            const iframe = document.createElement('iframe')\n",
              "            iframe.style.cssText = \"width:0;height:0;border:none\"\n",
              "            document.body.appendChild(iframe)\n",
              "            const handshake = new Postmate({\n",
              "                container: iframe,\n",
              "                url: 'https://wandb.ai/authorize'\n",
              "            });\n",
              "            const timeout = setTimeout(() => reject(\"Couldn't auto authenticate\"), 5000)\n",
              "            handshake.then(function(child) {\n",
              "                child.on('authorize', data => {\n",
              "                    clearTimeout(timeout)\n",
              "                    resolve(data)\n",
              "                });\n",
              "            });\n",
              "            })\n",
              "        });\n",
              "    "
            ]
          },
          "metadata": {}
        },
        {
          "output_type": "stream",
          "name": "stderr",
          "text": [
            "\u001b[34m\u001b[1mwandb\u001b[0m: Logging into wandb.ai. (Learn how to deploy a W&B server locally: https://wandb.me/wandb-server)\n",
            "\u001b[34m\u001b[1mwandb\u001b[0m: You can find your API key in your browser here: https://wandb.ai/authorize\n",
            "wandb: Paste an API key from your profile and hit enter, or press ctrl+c to quit:"
          ]
        },
        {
          "name": "stdout",
          "output_type": "stream",
          "text": [
            " ··········\n"
          ]
        },
        {
          "output_type": "stream",
          "name": "stderr",
          "text": [
            "\u001b[34m\u001b[1mwandb\u001b[0m: Appending key for api.wandb.ai to your netrc file: /root/.netrc\n"
          ]
        },
        {
          "output_type": "display_data",
          "data": {
            "text/plain": [
              "<IPython.core.display.HTML object>"
            ],
            "text/html": [
              "Tracking run with wandb version 0.18.3"
            ]
          },
          "metadata": {}
        },
        {
          "output_type": "display_data",
          "data": {
            "text/plain": [
              "<IPython.core.display.HTML object>"
            ],
            "text/html": [
              "Run data is saved locally in <code>/content/wandb/run-20241022_085501-t0t7dvck</code>"
            ]
          },
          "metadata": {}
        },
        {
          "output_type": "display_data",
          "data": {
            "text/plain": [
              "<IPython.core.display.HTML object>"
            ],
            "text/html": [
              "Syncing run <strong><a href='https://wandb.ai/m-kemal-university-of-syiah-kuala/Ultralytics/runs/t0t7dvck' target=\"_blank\">train</a></strong> to <a href='https://wandb.ai/m-kemal-university-of-syiah-kuala/Ultralytics' target=\"_blank\">Weights & Biases</a> (<a href='https://wandb.me/run' target=\"_blank\">docs</a>)<br/>"
            ]
          },
          "metadata": {}
        },
        {
          "output_type": "display_data",
          "data": {
            "text/plain": [
              "<IPython.core.display.HTML object>"
            ],
            "text/html": [
              " View project at <a href='https://wandb.ai/m-kemal-university-of-syiah-kuala/Ultralytics' target=\"_blank\">https://wandb.ai/m-kemal-university-of-syiah-kuala/Ultralytics</a>"
            ]
          },
          "metadata": {}
        },
        {
          "output_type": "display_data",
          "data": {
            "text/plain": [
              "<IPython.core.display.HTML object>"
            ],
            "text/html": [
              " View run at <a href='https://wandb.ai/m-kemal-university-of-syiah-kuala/Ultralytics/runs/t0t7dvck' target=\"_blank\">https://wandb.ai/m-kemal-university-of-syiah-kuala/Ultralytics/runs/t0t7dvck</a>"
            ]
          },
          "metadata": {}
        },
        {
          "output_type": "stream",
          "name": "stdout",
          "text": [
            "Freezing layer 'model.22.dfl.conv.weight'\n",
            "\u001b[34m\u001b[1mAMP: \u001b[0mrunning Automatic Mixed Precision (AMP) checks...\n",
            "Downloading https://github.com/ultralytics/assets/releases/download/v8.3.0/yolo11n.pt to 'yolo11n.pt'...\n"
          ]
        },
        {
          "output_type": "stream",
          "name": "stderr",
          "text": [
            "100%|██████████| 5.35M/5.35M [00:00<00:00, 301MB/s]\n"
          ]
        },
        {
          "output_type": "stream",
          "name": "stdout",
          "text": [
            "\u001b[34m\u001b[1mAMP: \u001b[0mchecks passed ✅\n"
          ]
        },
        {
          "output_type": "stream",
          "name": "stderr",
          "text": [
            "\u001b[34m\u001b[1mtrain: \u001b[0mScanning /content/plat-detection-3-(experimental)-3/train/labels... 3339 images, 24 backgrounds, 257 corrupt: 100%|██████████| 3339/3339 [00:02<00:00, 1115.73it/s]"
          ]
        },
        {
          "output_type": "stream",
          "name": "stdout",
          "text": [
            "\u001b[34m\u001b[1mtrain: \u001b[0mWARNING ⚠️ /content/plat-detection-3-(experimental)-3/train/images/1-E-3977-QM-09-19_jpg.rf.0e0eb04bbaac97f1ef2845dc4e00e609.jpg: ignoring corrupt image/label: non-normalized or out of bounds coordinates [     1.0352]\n",
            "\u001b[34m\u001b[1mtrain: \u001b[0mWARNING ⚠️ /content/plat-detection-3-(experimental)-3/train/images/1-E-3977-QM-09-19_jpg.rf.75ff357a80745f83ab10fc471042fee2.jpg: ignoring corrupt image/label: non-normalized or out of bounds coordinates [     1.0328]\n",
            "\u001b[34m\u001b[1mtrain: \u001b[0mWARNING ⚠️ /content/plat-detection-3-(experimental)-3/train/images/1-E-3977-QM-09-19_jpg.rf.d6e2031b6486bc204a765a056508a539.jpg: ignoring corrupt image/label: non-normalized or out of bounds coordinates [     1.0153]\n",
            "\u001b[34m\u001b[1mtrain: \u001b[0mWARNING ⚠️ /content/plat-detection-3-(experimental)-3/train/images/101-E-4604-PS-09-17_jpg.rf.38af8a9dd38be1f8ec8d3e63fba22cf4.jpg: ignoring corrupt image/label: non-normalized or out of bounds coordinates [     1.0672]\n",
            "\u001b[34m\u001b[1mtrain: \u001b[0mWARNING ⚠️ /content/plat-detection-3-(experimental)-3/train/images/101-E-4604-PS-09-17_jpg.rf.3c9530b48ca93c4da721ae265f9efc20.jpg: ignoring corrupt image/label: non-normalized or out of bounds coordinates [     1.0358]\n",
            "\u001b[34m\u001b[1mtrain: \u001b[0mWARNING ⚠️ /content/plat-detection-3-(experimental)-3/train/images/101-E-4604-PS-09-17_jpg.rf.71bb31497a41e7fb69bc37b29a4a630f.jpg: ignoring corrupt image/label: non-normalized or out of bounds coordinates [     1.0579]\n",
            "\u001b[34m\u001b[1mtrain: \u001b[0mWARNING ⚠️ /content/plat-detection-3-(experimental)-3/train/images/104-E-4939-PAE_jpg.rf.a8c3a4c926a57f64e59edfd65780cd9a.jpg: ignoring corrupt image/label: non-normalized or out of bounds coordinates [     1.0133]\n",
            "\u001b[34m\u001b[1mtrain: \u001b[0mWARNING ⚠️ /content/plat-detection-3-(experimental)-3/train/images/104-E-4939-PAE_jpg.rf.b5b6b3dce02f64fbeadfdabb17493f50.jpg: ignoring corrupt image/label: non-normalized or out of bounds coordinates [       1.04]\n",
            "\u001b[34m\u001b[1mtrain: \u001b[0mWARNING ⚠️ /content/plat-detection-3-(experimental)-3/train/images/107-E-4145-QZ-12-20_jpg.rf.a3ecef7db5d3272a41070bc878ac4feb.jpg: ignoring corrupt image/label: non-normalized or out of bounds coordinates [     1.0034]\n",
            "\u001b[34m\u001b[1mtrain: \u001b[0mWARNING ⚠️ /content/plat-detection-3-(experimental)-3/train/images/11-E-6562-QO-12-19_jpg.rf.fce075be56c9e4a95ac33123348b73d1.jpg: ignoring corrupt image/label: non-normalized or out of bounds coordinates [      1.007]\n",
            "\u001b[34m\u001b[1mtrain: \u001b[0mWARNING ⚠️ /content/plat-detection-3-(experimental)-3/train/images/115-E-5305-SM_jpg.rf.c1ab8f0fe7f6131ba0b6062a07c5c573.jpg: ignoring corrupt image/label: non-normalized or out of bounds coordinates [     1.0649]\n",
            "\u001b[34m\u001b[1mtrain: \u001b[0mWARNING ⚠️ /content/plat-detection-3-(experimental)-3/train/images/115-E-5305-SM_jpg.rf.cf83926625fc05e95f4c79d15bc554b7.jpg: ignoring corrupt image/label: non-normalized or out of bounds coordinates [     1.0663]\n",
            "\u001b[34m\u001b[1mtrain: \u001b[0mWARNING ⚠️ /content/plat-detection-3-(experimental)-3/train/images/115-E-5305-SM_jpg.rf.e1165ef72afd70dfaf3172a7af8fa9ce.jpg: ignoring corrupt image/label: non-normalized or out of bounds coordinates [     1.0235]\n",
            "\u001b[34m\u001b[1mtrain: \u001b[0mWARNING ⚠️ /content/plat-detection-3-(experimental)-3/train/images/116-E-5241-TP-09-22_jpg.rf.a4e6da966793d5b5b2f222d4641667cc.jpg: ignoring corrupt image/label: non-normalized or out of bounds coordinates [     1.0302]\n",
            "\u001b[34m\u001b[1mtrain: \u001b[0mWARNING ⚠️ /content/plat-detection-3-(experimental)-3/train/images/116-E-5241-TP-09-22_jpg.rf.d5874673e3b40ed4f4b3320aeabd1d81.jpg: ignoring corrupt image/label: non-normalized or out of bounds coordinates [     1.0561]\n",
            "\u001b[34m\u001b[1mtrain: \u001b[0mWARNING ⚠️ /content/plat-detection-3-(experimental)-3/train/images/119-E-4538-QK-08-19_jpg.rf.ba6e7f1b044a78bfff5413adc0a29a7c.jpg: ignoring corrupt image/label: non-normalized or out of bounds coordinates [     1.0086]\n",
            "\u001b[34m\u001b[1mtrain: \u001b[0mWARNING ⚠️ /content/plat-detection-3-(experimental)-3/train/images/123-E-4603-PAE_jpg.rf.34ba1b310a03611694609eefa95e37dd.jpg: ignoring corrupt image/label: non-normalized or out of bounds coordinates [     1.0227]\n",
            "\u001b[34m\u001b[1mtrain: \u001b[0mWARNING ⚠️ /content/plat-detection-3-(experimental)-3/train/images/123-E-4603-PAE_jpg.rf.bd183379b2b8dddfcd988fa5f624810b.jpg: ignoring corrupt image/label: non-normalized or out of bounds coordinates [     1.0377]\n",
            "\u001b[34m\u001b[1mtrain: \u001b[0mWARNING ⚠️ /content/plat-detection-3-(experimental)-3/train/images/123-E-4603-PAE_jpg.rf.f5c70ba94b147825651645dfd00eda1a.jpg: ignoring corrupt image/label: non-normalized or out of bounds coordinates [     1.0032]\n",
            "\u001b[34m\u001b[1mtrain: \u001b[0mWARNING ⚠️ /content/plat-detection-3-(experimental)-3/train/images/125-E-4172-QB_jpg.rf.4a754cb32a96fedc2e3ea4efd81ad16a.jpg: ignoring corrupt image/label: non-normalized or out of bounds coordinates [     1.0696]\n",
            "\u001b[34m\u001b[1mtrain: \u001b[0mWARNING ⚠️ /content/plat-detection-3-(experimental)-3/train/images/125-E-4172-QB_jpg.rf.5938cb257b2df4a6a14f4b65c05fa6e8.jpg: ignoring corrupt image/label: non-normalized or out of bounds coordinates [     1.0445]\n",
            "\u001b[34m\u001b[1mtrain: \u001b[0mWARNING ⚠️ /content/plat-detection-3-(experimental)-3/train/images/125-E-4172-QB_jpg.rf.a2133e8ef1172d36fb8283033851187b.jpg: ignoring corrupt image/label: non-normalized or out of bounds coordinates [     1.0403]\n",
            "\u001b[34m\u001b[1mtrain: \u001b[0mWARNING ⚠️ /content/plat-detection-3-(experimental)-3/train/images/128-E-4877-SV_jpg.rf.50ee14ec887e4913f807459b3fc104e9.jpg: ignoring corrupt image/label: non-normalized or out of bounds coordinates [     1.0544]\n",
            "\u001b[34m\u001b[1mtrain: \u001b[0mWARNING ⚠️ /content/plat-detection-3-(experimental)-3/train/images/128-E-4877-SV_jpg.rf.b951b9611f3f5539d5870451502e3913.jpg: ignoring corrupt image/label: non-normalized or out of bounds coordinates [     1.0253]\n",
            "\u001b[34m\u001b[1mtrain: \u001b[0mWARNING ⚠️ /content/plat-detection-3-(experimental)-3/train/images/128-E-4877-SV_jpg.rf.ef9cbc7fdefb0f6b619bfbe443ceba67.jpg: ignoring corrupt image/label: non-normalized or out of bounds coordinates [     1.0583]\n",
            "\u001b[34m\u001b[1mtrain: \u001b[0mWARNING ⚠️ /content/plat-detection-3-(experimental)-3/train/images/130-E-9967-P_jpg.rf.0f39bc3e23700f9590e127630b9ae24c.jpg: ignoring corrupt image/label: non-normalized or out of bounds coordinates [     1.0774]\n",
            "\u001b[34m\u001b[1mtrain: \u001b[0mWARNING ⚠️ /content/plat-detection-3-(experimental)-3/train/images/130-E-9967-P_jpg.rf.99d53ff7f6a4c5923454d7a167e7683a.jpg: ignoring corrupt image/label: non-normalized or out of bounds coordinates [     1.1005]\n",
            "\u001b[34m\u001b[1mtrain: \u001b[0mWARNING ⚠️ /content/plat-detection-3-(experimental)-3/train/images/130-E-9967-P_jpg.rf.9ec59e41650cbce2e9de27d2549e7489.jpg: ignoring corrupt image/label: non-normalized or out of bounds coordinates [     1.1351]\n",
            "\u001b[34m\u001b[1mtrain: \u001b[0mWARNING ⚠️ /content/plat-detection-3-(experimental)-3/train/images/136-E-3916-P_jpg.rf.836df06d516b753520b18f9eec98c689.jpg: ignoring corrupt image/label: non-normalized or out of bounds coordinates [      1.021]\n",
            "\u001b[34m\u001b[1mtrain: \u001b[0mWARNING ⚠️ /content/plat-detection-3-(experimental)-3/train/images/142-E-3229-SQ-11-18_jpg.rf.4ec3f2265bd9731835d6af8d870e324b.jpg: ignoring corrupt image/label: non-normalized or out of bounds coordinates [     1.1502]\n",
            "\u001b[34m\u001b[1mtrain: \u001b[0mWARNING ⚠️ /content/plat-detection-3-(experimental)-3/train/images/142-E-3229-SQ-11-18_jpg.rf.91366e7ab907808f90475a5e3c384656.jpg: ignoring corrupt image/label: non-normalized or out of bounds coordinates [     1.1763]\n",
            "\u001b[34m\u001b[1mtrain: \u001b[0mWARNING ⚠️ /content/plat-detection-3-(experimental)-3/train/images/142-E-3229-SQ-11-18_jpg.rf.a3e91c09a835acd9ec4146c05abc9af5.jpg: ignoring corrupt image/label: non-normalized or out of bounds coordinates [     1.1996]\n",
            "\u001b[34m\u001b[1mtrain: \u001b[0mWARNING ⚠️ /content/plat-detection-3-(experimental)-3/train/images/143-E-5279-SD-12-21_jpg.rf.5b7f4c3304db60478aa0513d96afc397.jpg: ignoring corrupt image/label: non-normalized or out of bounds coordinates [     1.1537]\n",
            "\u001b[34m\u001b[1mtrain: \u001b[0mWARNING ⚠️ /content/plat-detection-3-(experimental)-3/train/images/143-E-5279-SD-12-21_jpg.rf.90d49ee1713c02f31ff003655c0fcdb0.jpg: ignoring corrupt image/label: non-normalized or out of bounds coordinates [     1.0414]\n",
            "\u001b[34m\u001b[1mtrain: \u001b[0mWARNING ⚠️ /content/plat-detection-3-(experimental)-3/train/images/143-E-5279-SD-12-21_jpg.rf.d4a0c73ee7931bf4c62953f6d2b38246.jpg: ignoring corrupt image/label: non-normalized or out of bounds coordinates [     1.1163]\n",
            "\u001b[34m\u001b[1mtrain: \u001b[0mWARNING ⚠️ /content/plat-detection-3-(experimental)-3/train/images/148-E-3052-QU-06-20_jpg.rf.7ef4c92f02c1ca2df66d80779f3142ef.jpg: ignoring corrupt image/label: non-normalized or out of bounds coordinates [     1.0749]\n",
            "\u001b[34m\u001b[1mtrain: \u001b[0mWARNING ⚠️ /content/plat-detection-3-(experimental)-3/train/images/148-E-3052-QU-06-20_jpg.rf.c49d6f4b00d5b722b19508dccc717964.jpg: ignoring corrupt image/label: non-normalized or out of bounds coordinates [     1.0102]\n",
            "\u001b[34m\u001b[1mtrain: \u001b[0mWARNING ⚠️ /content/plat-detection-3-(experimental)-3/train/images/148-E-3052-QU-06-20_jpg.rf.e2dfb925512b84eb64600b1178743365.jpg: ignoring corrupt image/label: non-normalized or out of bounds coordinates [     1.0545]\n",
            "\u001b[34m\u001b[1mtrain: \u001b[0mWARNING ⚠️ /content/plat-detection-3-(experimental)-3/train/images/148-E-3052-QU_jpg.rf.701284a9f3bec357c9b2dc72c8aebc4c.jpg: ignoring corrupt image/label: non-normalized or out of bounds coordinates [     1.1101]\n",
            "\u001b[34m\u001b[1mtrain: \u001b[0mWARNING ⚠️ /content/plat-detection-3-(experimental)-3/train/images/148-E-3052-QU_jpg.rf.8f2ccafb155dd0d8f7ae9f10fccea753.jpg: ignoring corrupt image/label: non-normalized or out of bounds coordinates [     1.0446]\n",
            "\u001b[34m\u001b[1mtrain: \u001b[0mWARNING ⚠️ /content/plat-detection-3-(experimental)-3/train/images/148-E-3052-QU_jpg.rf.f459935ee460022aea392871eacd20ed.jpg: ignoring corrupt image/label: non-normalized or out of bounds coordinates [     1.0437]\n",
            "\u001b[34m\u001b[1mtrain: \u001b[0mWARNING ⚠️ /content/plat-detection-3-(experimental)-3/train/images/155-E-3392-TZ-07-18_jpg.rf.5cb381ac8e4ea9e41e11597f7e8a8c91.jpg: ignoring corrupt image/label: non-normalized or out of bounds coordinates [     1.0733]\n",
            "\u001b[34m\u001b[1mtrain: \u001b[0mWARNING ⚠️ /content/plat-detection-3-(experimental)-3/train/images/155-E-3392-TZ-07-18_jpg.rf.7be9647e83e9d6fa50e2496d7ac11eb7.jpg: ignoring corrupt image/label: non-normalized or out of bounds coordinates [       1.09]\n",
            "\u001b[34m\u001b[1mtrain: \u001b[0mWARNING ⚠️ /content/plat-detection-3-(experimental)-3/train/images/155-E-3392-TZ-07-18_jpg.rf.d355172151f6e41a25aa83adc81815e8.jpg: ignoring corrupt image/label: non-normalized or out of bounds coordinates [     1.0278]\n",
            "\u001b[34m\u001b[1mtrain: \u001b[0mWARNING ⚠️ /content/plat-detection-3-(experimental)-3/train/images/155-E-3392-TZ_jpg.rf.6269682bc2881f7fb55d119c8a928b0b.jpg: ignoring corrupt image/label: non-normalized or out of bounds coordinates [     1.0221]\n",
            "\u001b[34m\u001b[1mtrain: \u001b[0mWARNING ⚠️ /content/plat-detection-3-(experimental)-3/train/images/155-E-3392-TZ_jpg.rf.a364664f45e7bfc4f46a799d867fe2d5.jpg: ignoring corrupt image/label: non-normalized or out of bounds coordinates [     1.0403]\n",
            "\u001b[34m\u001b[1mtrain: \u001b[0mWARNING ⚠️ /content/plat-detection-3-(experimental)-3/train/images/161-E-3332-ST-02-19_jpg.rf.070cd18cc4ac26f405228cd1aae2e178.jpg: ignoring corrupt image/label: non-normalized or out of bounds coordinates [     1.0919]\n",
            "\u001b[34m\u001b[1mtrain: \u001b[0mWARNING ⚠️ /content/plat-detection-3-(experimental)-3/train/images/161-E-3332-ST-02-19_jpg.rf.cd94bc69353d428489c951616935be85.jpg: ignoring corrupt image/label: non-normalized or out of bounds coordinates [     1.0655]\n",
            "\u001b[34m\u001b[1mtrain: \u001b[0mWARNING ⚠️ /content/plat-detection-3-(experimental)-3/train/images/161-E-3332-ST-02-19_jpg.rf.e9b91316979db4707df0ffc59111599e.jpg: ignoring corrupt image/label: non-normalized or out of bounds coordinates [     1.0903]\n",
            "\u001b[34m\u001b[1mtrain: \u001b[0mWARNING ⚠️ /content/plat-detection-3-(experimental)-3/train/images/165-E-5555-SR-05-20_jpg.rf.f21b6350257d1b2766f0f0c0f7de0b53.jpg: ignoring corrupt image/label: non-normalized or out of bounds coordinates [     1.0011]\n",
            "\u001b[34m\u001b[1mtrain: \u001b[0mWARNING ⚠️ /content/plat-detection-3-(experimental)-3/train/images/167-E-4314-RP-01-22_jpg.rf.4f1677569885c9b66e716ac693d55828.jpg: ignoring corrupt image/label: non-normalized or out of bounds coordinates [     1.0539]\n",
            "\u001b[34m\u001b[1mtrain: \u001b[0mWARNING ⚠️ /content/plat-detection-3-(experimental)-3/train/images/167-E-4314-RP-01-22_jpg.rf.7666f969a94995b81be9ee207ccfda66.jpg: ignoring corrupt image/label: non-normalized or out of bounds coordinates [     1.0005]\n",
            "\u001b[34m\u001b[1mtrain: \u001b[0mWARNING ⚠️ /content/plat-detection-3-(experimental)-3/train/images/168-E-4092-PAE_jpg.rf.0ddd2f0e3dfb9fed77200fe39ce07b60.jpg: ignoring corrupt image/label: non-normalized or out of bounds coordinates [     1.0898]\n",
            "\u001b[34m\u001b[1mtrain: \u001b[0mWARNING ⚠️ /content/plat-detection-3-(experimental)-3/train/images/168-E-4092-PAE_jpg.rf.5b7f16ae36984dc20f432947c633b5e5.jpg: ignoring corrupt image/label: non-normalized or out of bounds coordinates [     1.0153]\n",
            "\u001b[34m\u001b[1mtrain: \u001b[0mWARNING ⚠️ /content/plat-detection-3-(experimental)-3/train/images/168-E-4092-PAE_jpg.rf.814befc8d8d5a326e4f71a130fa6c85a.jpg: ignoring corrupt image/label: non-normalized or out of bounds coordinates [     1.0414]\n",
            "\u001b[34m\u001b[1mtrain: \u001b[0mWARNING ⚠️ /content/plat-detection-3-(experimental)-3/train/images/171-E-5605-QZ_jpg.rf.74432edd69ef9e326f726cd784d4a2d1.jpg: ignoring corrupt image/label: non-normalized or out of bounds coordinates [     1.0042]\n",
            "\u001b[34m\u001b[1mtrain: \u001b[0mWARNING ⚠️ /content/plat-detection-3-(experimental)-3/train/images/171-E-5605-QZ_jpg.rf.91b611c431bd86026ecba1cf95f6e3fa.jpg: ignoring corrupt image/label: non-normalized or out of bounds coordinates [     1.0794]\n",
            "\u001b[34m\u001b[1mtrain: \u001b[0mWARNING ⚠️ /content/plat-detection-3-(experimental)-3/train/images/173-E-4019-TL_jpg.rf.8a5e45b0c6c6c4a490bff5f261364f86.jpg: ignoring corrupt image/label: non-normalized or out of bounds coordinates [     1.0563]\n",
            "\u001b[34m\u001b[1mtrain: \u001b[0mWARNING ⚠️ /content/plat-detection-3-(experimental)-3/train/images/173-E-4019-TL_jpg.rf.c685382f8de1932a2a5b6bb2750a7d46.jpg: ignoring corrupt image/label: non-normalized or out of bounds coordinates [     1.0733]\n",
            "\u001b[34m\u001b[1mtrain: \u001b[0mWARNING ⚠️ /content/plat-detection-3-(experimental)-3/train/images/18-E-3865-PAF_jpg.rf.14c328b0d025f3f69defa7f8245e6a9b.jpg: ignoring corrupt image/label: non-normalized or out of bounds coordinates [     1.0602]\n",
            "\u001b[34m\u001b[1mtrain: \u001b[0mWARNING ⚠️ /content/plat-detection-3-(experimental)-3/train/images/18-E-3865-PAF_jpg.rf.ea9f1586c7bff6b31fed6b79122fca71.jpg: ignoring corrupt image/label: non-normalized or out of bounds coordinates [     1.0539]\n",
            "\u001b[34m\u001b[1mtrain: \u001b[0mWARNING ⚠️ /content/plat-detection-3-(experimental)-3/train/images/180-E-3646-RL-05-20_jpg.rf.73fa79823d985e1f26bdeb5edd64b664.jpg: ignoring corrupt image/label: non-normalized or out of bounds coordinates [      1.193]\n",
            "\u001b[34m\u001b[1mtrain: \u001b[0mWARNING ⚠️ /content/plat-detection-3-(experimental)-3/train/images/180-E-3646-RL-05-20_jpg.rf.916364e568baee5a9767d8561ac20b5f.jpg: ignoring corrupt image/label: non-normalized or out of bounds coordinates [     1.1945]\n",
            "\u001b[34m\u001b[1mtrain: \u001b[0mWARNING ⚠️ /content/plat-detection-3-(experimental)-3/train/images/180-E-3646-RL-05-20_jpg.rf.cebbbef93029fac7ba2a467c5916a6fa.jpg: ignoring corrupt image/label: non-normalized or out of bounds coordinates [     1.1538]\n",
            "\u001b[34m\u001b[1mtrain: \u001b[0mWARNING ⚠️ /content/plat-detection-3-(experimental)-3/train/images/181-E-3708-TU-06-15_jpg.rf.0b12dab96a250220b3fe70904eab6402.jpg: ignoring corrupt image/label: non-normalized or out of bounds coordinates [     1.0984]\n",
            "\u001b[34m\u001b[1mtrain: \u001b[0mWARNING ⚠️ /content/plat-detection-3-(experimental)-3/train/images/181-E-3708-TU-06-15_jpg.rf.4582b9f95e3f4566445b5b90316db367.jpg: ignoring corrupt image/label: non-normalized or out of bounds coordinates [     1.1094]\n",
            "\u001b[34m\u001b[1mtrain: \u001b[0mWARNING ⚠️ /content/plat-detection-3-(experimental)-3/train/images/181-E-3708-TU-06-15_jpg.rf.d5c73a28fb2c772fdc92b02f6d3786ea.jpg: ignoring corrupt image/label: non-normalized or out of bounds coordinates [     1.1272]\n",
            "\u001b[34m\u001b[1mtrain: \u001b[0mWARNING ⚠️ /content/plat-detection-3-(experimental)-3/train/images/182-E-3996-RS-08-17_jpg.rf.223ab1d177203094612637beee1b9144.jpg: ignoring corrupt image/label: non-normalized or out of bounds coordinates [     1.1603]\n",
            "\u001b[34m\u001b[1mtrain: \u001b[0mWARNING ⚠️ /content/plat-detection-3-(experimental)-3/train/images/182-E-3996-RS-08-17_jpg.rf.52aa1b6d6db72f1d457ecc7386907acc.jpg: ignoring corrupt image/label: non-normalized or out of bounds coordinates [     1.1818]\n",
            "\u001b[34m\u001b[1mtrain: \u001b[0mWARNING ⚠️ /content/plat-detection-3-(experimental)-3/train/images/182-E-3996-RS-08-17_jpg.rf.f75c246443c46e793fb55690b62b957c.jpg: ignoring corrupt image/label: non-normalized or out of bounds coordinates [     1.0666]\n",
            "\u001b[34m\u001b[1mtrain: \u001b[0mWARNING ⚠️ /content/plat-detection-3-(experimental)-3/train/images/182-E-3996-RS_jpg.rf.63f0c8eeb0c384c65ea9a96bd7308bcb.jpg: ignoring corrupt image/label: non-normalized or out of bounds coordinates [     1.1637]\n",
            "\u001b[34m\u001b[1mtrain: \u001b[0mWARNING ⚠️ /content/plat-detection-3-(experimental)-3/train/images/182-E-3996-RS_jpg.rf.84b7c6b21887d4998c6225613a77281f.jpg: ignoring corrupt image/label: non-normalized or out of bounds coordinates [     1.1624]\n",
            "\u001b[34m\u001b[1mtrain: \u001b[0mWARNING ⚠️ /content/plat-detection-3-(experimental)-3/train/images/182-E-3996-RS_jpg.rf.cddf9854627f1a0b648fb800be0a2139.jpg: ignoring corrupt image/label: non-normalized or out of bounds coordinates [     1.1467]\n",
            "\u001b[34m\u001b[1mtrain: \u001b[0mWARNING ⚠️ /content/plat-detection-3-(experimental)-3/train/images/187-E-6737-SS_jpg.rf.4516289a43663027578b770cada3416e.jpg: ignoring corrupt image/label: non-normalized or out of bounds coordinates [     1.0449]\n",
            "\u001b[34m\u001b[1mtrain: \u001b[0mWARNING ⚠️ /content/plat-detection-3-(experimental)-3/train/images/187-E-6737-SS_jpg.rf.964d028c1f5e1ef6e9b995da2ebd514c.jpg: ignoring corrupt image/label: non-normalized or out of bounds coordinates [     1.0075]\n",
            "\u001b[34m\u001b[1mtrain: \u001b[0mWARNING ⚠️ /content/plat-detection-3-(experimental)-3/train/images/188-E-2647-SL_jpg.rf.71f68862b1b0a025d6492c765937a5b0.jpg: ignoring corrupt image/label: non-normalized or out of bounds coordinates [     1.0868]\n",
            "\u001b[34m\u001b[1mtrain: \u001b[0mWARNING ⚠️ /content/plat-detection-3-(experimental)-3/train/images/188-E-2647-SL_jpg.rf.b8d89af5244419c04ee098f388ab1c4f.jpg: ignoring corrupt image/label: non-normalized or out of bounds coordinates [     1.0887]\n",
            "\u001b[34m\u001b[1mtrain: \u001b[0mWARNING ⚠️ /content/plat-detection-3-(experimental)-3/train/images/188-E-2647-SL_jpg.rf.fe7ff38c5c3b0142b1369724ed4f4e33.jpg: ignoring corrupt image/label: non-normalized or out of bounds coordinates [     1.0094]\n",
            "\u001b[34m\u001b[1mtrain: \u001b[0mWARNING ⚠️ /content/plat-detection-3-(experimental)-3/train/images/189-E-5182-QO-11-19_jpg.rf.7284b2623de92a09749fdfeddb855ebb.jpg: ignoring corrupt image/label: non-normalized or out of bounds coordinates [     1.1058]\n",
            "\u001b[34m\u001b[1mtrain: \u001b[0mWARNING ⚠️ /content/plat-detection-3-(experimental)-3/train/images/189-E-5182-QO-11-19_jpg.rf.8caa8f23c9a6f5278ecea53a73065dfc.jpg: ignoring corrupt image/label: non-normalized or out of bounds coordinates [     1.0489]\n",
            "\u001b[34m\u001b[1mtrain: \u001b[0mWARNING ⚠️ /content/plat-detection-3-(experimental)-3/train/images/189-E-5182-QO-11-19_jpg.rf.fdd48b0f3feb4d1f41a97928765949d6.jpg: ignoring corrupt image/label: non-normalized or out of bounds coordinates [     1.0356]\n",
            "\u001b[34m\u001b[1mtrain: \u001b[0mWARNING ⚠️ /content/plat-detection-3-(experimental)-3/train/images/189-E-5182-QO_jpg.rf.2edaf4bafa1d16fb8cd3e956201bef6e.jpg: ignoring corrupt image/label: non-normalized or out of bounds coordinates [     1.0171]\n",
            "\u001b[34m\u001b[1mtrain: \u001b[0mWARNING ⚠️ /content/plat-detection-3-(experimental)-3/train/images/189-E-5182-QO_jpg.rf.cd43dea1b5de221a30f183f0b6120924.jpg: ignoring corrupt image/label: non-normalized or out of bounds coordinates [     1.0344]\n",
            "\u001b[34m\u001b[1mtrain: \u001b[0mWARNING ⚠️ /content/plat-detection-3-(experimental)-3/train/images/189-E-5182-QO_jpg.rf.e092a8d81da19b0300860e73892563e3.jpg: ignoring corrupt image/label: non-normalized or out of bounds coordinates [     1.1042]\n",
            "\u001b[34m\u001b[1mtrain: \u001b[0mWARNING ⚠️ /content/plat-detection-3-(experimental)-3/train/images/190-E-5621-OV-08-20_jpg.rf.162912e82de677a1e45f913054ac27e7.jpg: ignoring corrupt image/label: non-normalized or out of bounds coordinates [     1.0336]\n",
            "\u001b[34m\u001b[1mtrain: \u001b[0mWARNING ⚠️ /content/plat-detection-3-(experimental)-3/train/images/191-E-3690-ZV-02-20_jpg.rf.51b119737409ca7412a4eb5c98a848cc.jpg: ignoring corrupt image/label: non-normalized or out of bounds coordinates [     1.0071]\n",
            "\u001b[34m\u001b[1mtrain: \u001b[0mWARNING ⚠️ /content/plat-detection-3-(experimental)-3/train/images/191-E-3690-ZV-02-20_jpg.rf.b859688eaca57e9d6a6567a5d735bb8d.jpg: ignoring corrupt image/label: non-normalized or out of bounds coordinates [     1.0092]\n",
            "\u001b[34m\u001b[1mtrain: \u001b[0mWARNING ⚠️ /content/plat-detection-3-(experimental)-3/train/images/191-E-3690-ZV-02-20_jpg.rf.dd4ac89749f4334ededf5d7b54f706fd.jpg: ignoring corrupt image/label: non-normalized or out of bounds coordinates [     1.0143]\n",
            "\u001b[34m\u001b[1mtrain: \u001b[0mWARNING ⚠️ /content/plat-detection-3-(experimental)-3/train/images/191-E-3690-ZV_jpg.rf.1b6295064b71eadce7119289e8a4d570.jpg: ignoring corrupt image/label: non-normalized or out of bounds coordinates [     1.1045]\n",
            "\u001b[34m\u001b[1mtrain: \u001b[0mWARNING ⚠️ /content/plat-detection-3-(experimental)-3/train/images/191-E-3690-ZV_jpg.rf.295c339f7296ed0b849c6a606811d7f6.jpg: ignoring corrupt image/label: non-normalized or out of bounds coordinates [     1.0451]\n",
            "\u001b[34m\u001b[1mtrain: \u001b[0mWARNING ⚠️ /content/plat-detection-3-(experimental)-3/train/images/191-E-3690-ZV_jpg.rf.c78f4e5c4fa6de2c8128469cef710805.jpg: ignoring corrupt image/label: non-normalized or out of bounds coordinates [     1.0078]\n",
            "\u001b[34m\u001b[1mtrain: \u001b[0mWARNING ⚠️ /content/plat-detection-3-(experimental)-3/train/images/194-E-6037-SF-06-19_jpg.rf.38b715a5de77df0bec90616c4b2593d0.jpg: ignoring corrupt image/label: non-normalized or out of bounds coordinates [     1.0216]\n",
            "\u001b[34m\u001b[1mtrain: \u001b[0mWARNING ⚠️ /content/plat-detection-3-(experimental)-3/train/images/194-E-6037-SF-06-19_jpg.rf.99a1858e7e618c3e22ac7ef8acb837b8.jpg: ignoring corrupt image/label: non-normalized or out of bounds coordinates [     1.0557]\n",
            "\u001b[34m\u001b[1mtrain: \u001b[0mWARNING ⚠️ /content/plat-detection-3-(experimental)-3/train/images/195-E-2110-QP_jpg.rf.1351cee761ca050713a4a29a6aa91b94.jpg: ignoring corrupt image/label: non-normalized or out of bounds coordinates [     1.0496]\n",
            "\u001b[34m\u001b[1mtrain: \u001b[0mWARNING ⚠️ /content/plat-detection-3-(experimental)-3/train/images/195-E-2110-QP_jpg.rf.d72fc6ba0a37fb56f1148f5ac8545c54.jpg: ignoring corrupt image/label: non-normalized or out of bounds coordinates [     1.0265]\n",
            "\u001b[34m\u001b[1mtrain: \u001b[0mWARNING ⚠️ /content/plat-detection-3-(experimental)-3/train/images/20-E-4221-RL-04-19_jpg.rf.a7b96c4caedcd71e42c6458483ecb5c6.jpg: ignoring corrupt image/label: non-normalized or out of bounds coordinates [     1.1376]\n",
            "\u001b[34m\u001b[1mtrain: \u001b[0mWARNING ⚠️ /content/plat-detection-3-(experimental)-3/train/images/20-E-4221-RL-04-19_jpg.rf.d1a0d9c776ad1fe08d340467172c0f19.jpg: ignoring corrupt image/label: non-normalized or out of bounds coordinates [      1.057]\n",
            "\u001b[34m\u001b[1mtrain: \u001b[0mWARNING ⚠️ /content/plat-detection-3-(experimental)-3/train/images/20171211_110642_jpg.rf.448ecc83461eb8c8786602dee5d23d59.jpg: ignoring corrupt image/label: non-normalized or out of bounds coordinates [     1.0087]\n",
            "\u001b[34m\u001b[1mtrain: \u001b[0mWARNING ⚠️ /content/plat-detection-3-(experimental)-3/train/images/20171211_110642_jpg.rf.b3a89fade2a7a31de00802d374ba1589.jpg: ignoring corrupt image/label: non-normalized or out of bounds coordinates [     1.0051]\n",
            "\u001b[34m\u001b[1mtrain: \u001b[0mWARNING ⚠️ /content/plat-detection-3-(experimental)-3/train/images/20171214_121617_jpg.rf.1b6b26f0219eb171b2bdefdbf4724cf1.jpg: ignoring corrupt image/label: non-normalized or out of bounds coordinates [     1.0585]\n",
            "\u001b[34m\u001b[1mtrain: \u001b[0mWARNING ⚠️ /content/plat-detection-3-(experimental)-3/train/images/20171214_121617_jpg.rf.71733ef79a622484f420c89fd6d58fb8.jpg: ignoring corrupt image/label: non-normalized or out of bounds coordinates [     1.1189]\n",
            "\u001b[34m\u001b[1mtrain: \u001b[0mWARNING ⚠️ /content/plat-detection-3-(experimental)-3/train/images/204-E-6936-TF-10-21_jpg.rf.bbcc62387f7214a649031babdd9dbce3.jpg: ignoring corrupt image/label: non-normalized or out of bounds coordinates [     1.0391]\n",
            "\u001b[34m\u001b[1mtrain: \u001b[0mWARNING ⚠️ /content/plat-detection-3-(experimental)-3/train/images/204-E-6936-TF-10-21_jpg.rf.edd983d05564f38ba7dc5cea93915b0a.jpg: ignoring corrupt image/label: non-normalized or out of bounds coordinates [     1.0501]\n",
            "\u001b[34m\u001b[1mtrain: \u001b[0mWARNING ⚠️ /content/plat-detection-3-(experimental)-3/train/images/204-E-6936-TF-10-21_jpg.rf.fcb7f76afbb7ef0d4910e193f90d89e5.jpg: ignoring corrupt image/label: non-normalized or out of bounds coordinates [     1.0741]\n",
            "\u001b[34m\u001b[1mtrain: \u001b[0mWARNING ⚠️ /content/plat-detection-3-(experimental)-3/train/images/207-E-4396-RU_jpg.rf.3db71127095db5a4ab3497bb4f844b5f.jpg: ignoring corrupt image/label: non-normalized or out of bounds coordinates [     1.0044]\n",
            "\u001b[34m\u001b[1mtrain: \u001b[0mWARNING ⚠️ /content/plat-detection-3-(experimental)-3/train/images/207-E-4396-RU_jpg.rf.f3d33baad56f1c05f8aa62f7ed389708.jpg: ignoring corrupt image/label: non-normalized or out of bounds coordinates [     1.0403]\n",
            "\u001b[34m\u001b[1mtrain: \u001b[0mWARNING ⚠️ /content/plat-detection-3-(experimental)-3/train/images/210-E-3166-PAO-06-22_jpg.rf.83fe3ffe4594d55c1cef2378d13b27a6.jpg: ignoring corrupt image/label: non-normalized or out of bounds coordinates [     1.0069]\n",
            "\u001b[34m\u001b[1mtrain: \u001b[0mWARNING ⚠️ /content/plat-detection-3-(experimental)-3/train/images/212-E-3817-PAH-11-21_jpg.rf.46bdbb993b12cd1dd6ad340f43527193.jpg: ignoring corrupt image/label: non-normalized or out of bounds coordinates [     1.0198]\n",
            "\u001b[34m\u001b[1mtrain: \u001b[0mWARNING ⚠️ /content/plat-detection-3-(experimental)-3/train/images/212-E-3817-PAH-11-21_jpg.rf.9cb1c7a95af6bcd92a83924d90987751.jpg: ignoring corrupt image/label: non-normalized or out of bounds coordinates [     1.0735]\n",
            "\u001b[34m\u001b[1mtrain: \u001b[0mWARNING ⚠️ /content/plat-detection-3-(experimental)-3/train/images/212-E-3817-PAH-11-21_jpg.rf.f99dbb7e3630249b992beb16406e2e23.jpg: ignoring corrupt image/label: non-normalized or out of bounds coordinates [     1.0526]\n",
            "\u001b[34m\u001b[1mtrain: \u001b[0mWARNING ⚠️ /content/plat-detection-3-(experimental)-3/train/images/214-E-2086-RI-01-21_jpg.rf.ec0dd5f94892e93dc60bf73e6ec0c0c8.jpg: ignoring corrupt image/label: non-normalized or out of bounds coordinates [     1.0356]\n",
            "\u001b[34m\u001b[1mtrain: \u001b[0mWARNING ⚠️ /content/plat-detection-3-(experimental)-3/train/images/214-E-2086-RI_jpg.rf.11d177e7fc6188a65d5ccf71a18fe88c.jpg: ignoring corrupt image/label: non-normalized or out of bounds coordinates [     1.0135]\n",
            "\u001b[34m\u001b[1mtrain: \u001b[0mWARNING ⚠️ /content/plat-detection-3-(experimental)-3/train/images/217-E-4992-SW_jpg.rf.0781625700502bec7b43ca1ffd8cd049.jpg: ignoring corrupt image/label: non-normalized or out of bounds coordinates [     1.1083]\n",
            "\u001b[34m\u001b[1mtrain: \u001b[0mWARNING ⚠️ /content/plat-detection-3-(experimental)-3/train/images/217-E-4992-SW_jpg.rf.16439be8c0c656850e64fc87768f8920.jpg: ignoring corrupt image/label: non-normalized or out of bounds coordinates [     1.0021]\n",
            "\u001b[34m\u001b[1mtrain: \u001b[0mWARNING ⚠️ /content/plat-detection-3-(experimental)-3/train/images/217-E-4992-SW_jpg.rf.7979ad6d630e58ce7bab2588fb56c4ff.jpg: ignoring corrupt image/label: non-normalized or out of bounds coordinates [     1.0875]\n",
            "\u001b[34m\u001b[1mtrain: \u001b[0mWARNING ⚠️ /content/plat-detection-3-(experimental)-3/train/images/219-E-6312-SW-07-21_jpg.rf.0214eb095746f3af3dcaada637b829c1.jpg: ignoring corrupt image/label: non-normalized or out of bounds coordinates [     1.0087]\n",
            "\u001b[34m\u001b[1mtrain: \u001b[0mWARNING ⚠️ /content/plat-detection-3-(experimental)-3/train/images/219-E-6312-SW-07-21_jpg.rf.4185dfc04784e98e149d4ea4ce02b85f.jpg: ignoring corrupt image/label: non-normalized or out of bounds coordinates [     1.0241]\n",
            "\u001b[34m\u001b[1mtrain: \u001b[0mWARNING ⚠️ /content/plat-detection-3-(experimental)-3/train/images/219-E-6312-SW-07-21_jpg.rf.6d91bb45024cff2af20be716e17346d6.jpg: ignoring corrupt image/label: non-normalized or out of bounds coordinates [     1.0267]\n",
            "\u001b[34m\u001b[1mtrain: \u001b[0mWARNING ⚠️ /content/plat-detection-3-(experimental)-3/train/images/220-E-3246-OP_jpg.rf.21ab4dc411bc62bc928e3c09a5b3ce9b.jpg: ignoring corrupt image/label: non-normalized or out of bounds coordinates [     1.0335]\n",
            "\u001b[34m\u001b[1mtrain: \u001b[0mWARNING ⚠️ /content/plat-detection-3-(experimental)-3/train/images/220-E-3246-OP_jpg.rf.4559aa5a2b37d8a57c4198639105b3d2.jpg: ignoring corrupt image/label: non-normalized or out of bounds coordinates [     1.0335]\n",
            "\u001b[34m\u001b[1mtrain: \u001b[0mWARNING ⚠️ /content/plat-detection-3-(experimental)-3/train/images/223-E-6186-PAP-08-22_jpg.rf.23bb629c0538cb88e9676842f2c07d64.jpg: ignoring corrupt image/label: non-normalized or out of bounds coordinates [     1.0411]\n",
            "\u001b[34m\u001b[1mtrain: \u001b[0mWARNING ⚠️ /content/plat-detection-3-(experimental)-3/train/images/223-E-6186-PAP-08-22_jpg.rf.321084efb87676d002b93f1b419438da.jpg: ignoring corrupt image/label: non-normalized or out of bounds coordinates [     1.0691]\n",
            "\u001b[34m\u001b[1mtrain: \u001b[0mWARNING ⚠️ /content/plat-detection-3-(experimental)-3/train/images/223-E-6186-PAP-08-22_jpg.rf.60ded0b8af0ff90f85b8dbadab83cbf6.jpg: ignoring corrupt image/label: non-normalized or out of bounds coordinates [     1.0425]\n",
            "\u001b[34m\u001b[1mtrain: \u001b[0mWARNING ⚠️ /content/plat-detection-3-(experimental)-3/train/images/228-E-6450-TM-06-22_jpg.rf.3de79476ad040b7b01fe0d95af4d992c.jpg: ignoring corrupt image/label: non-normalized or out of bounds coordinates [     1.0008]\n",
            "\u001b[34m\u001b[1mtrain: \u001b[0mWARNING ⚠️ /content/plat-detection-3-(experimental)-3/train/images/228-E-6450-TM-06-22_jpg.rf.9ca53a4fef39f24d75255db2965ed300.jpg: ignoring corrupt image/label: non-normalized or out of bounds coordinates [     1.0013]\n",
            "\u001b[34m\u001b[1mtrain: \u001b[0mWARNING ⚠️ /content/plat-detection-3-(experimental)-3/train/images/228-E-6450-TM_jpg.rf.148656f99fa0ffc3d872f0ec5422eb23.jpg: ignoring corrupt image/label: non-normalized or out of bounds coordinates [     1.0109]\n",
            "\u001b[34m\u001b[1mtrain: \u001b[0mWARNING ⚠️ /content/plat-detection-3-(experimental)-3/train/images/228-E-6450-TM_jpg.rf.241c0d46079616832955bde0bac77a8c.jpg: ignoring corrupt image/label: non-normalized or out of bounds coordinates [      1.029]\n",
            "\u001b[34m\u001b[1mtrain: \u001b[0mWARNING ⚠️ /content/plat-detection-3-(experimental)-3/train/images/228-E-6450-TM_jpg.rf.c56b860c7b5cf52e3ed2ac51bc421f4d.jpg: ignoring corrupt image/label: non-normalized or out of bounds coordinates [     1.0542]\n",
            "\u001b[34m\u001b[1mtrain: \u001b[0mWARNING ⚠️ /content/plat-detection-3-(experimental)-3/train/images/230-E-3203-TR_jpg.rf.3d034dea460d509c770bdc7adf4da958.jpg: ignoring corrupt image/label: non-normalized or out of bounds coordinates [      1.038]\n",
            "\u001b[34m\u001b[1mtrain: \u001b[0mWARNING ⚠️ /content/plat-detection-3-(experimental)-3/train/images/230-E-3203-TR_jpg.rf.5bc2c7e5b7df01e260c12dde221cf74b.jpg: ignoring corrupt image/label: non-normalized or out of bounds coordinates [     1.0006]\n",
            "\u001b[34m\u001b[1mtrain: \u001b[0mWARNING ⚠️ /content/plat-detection-3-(experimental)-3/train/images/234-E-3904-P_jpg.rf.0e6f49ca89031f1d143270ed22f77942.jpg: ignoring corrupt image/label: non-normalized or out of bounds coordinates [     1.0667]\n",
            "\u001b[34m\u001b[1mtrain: \u001b[0mWARNING ⚠️ /content/plat-detection-3-(experimental)-3/train/images/243-E-3309-QF-02-19_jpg.rf.196bd0d0355f56fdaec02cb3a6704fbd.jpg: ignoring corrupt image/label: non-normalized or out of bounds coordinates [     1.1048]\n",
            "\u001b[34m\u001b[1mtrain: \u001b[0mWARNING ⚠️ /content/plat-detection-3-(experimental)-3/train/images/243-E-3309-QF-02-19_jpg.rf.315448d586410e2f501143f0a6a1033d.jpg: ignoring corrupt image/label: non-normalized or out of bounds coordinates [     1.0616]\n",
            "\u001b[34m\u001b[1mtrain: \u001b[0mWARNING ⚠️ /content/plat-detection-3-(experimental)-3/train/images/243-E-3309-QF-02-19_jpg.rf.e59b6e97410d34998670df9b79787a24.jpg: ignoring corrupt image/label: non-normalized or out of bounds coordinates [     1.1128]\n",
            "\u001b[34m\u001b[1mtrain: \u001b[0mWARNING ⚠️ /content/plat-detection-3-(experimental)-3/train/images/243-E-3309-QF_jpg.rf.47775b2b350ffe48f2ed14072cc299ce.jpg: ignoring corrupt image/label: non-normalized or out of bounds coordinates [     1.0914]\n",
            "\u001b[34m\u001b[1mtrain: \u001b[0mWARNING ⚠️ /content/plat-detection-3-(experimental)-3/train/images/243-E-3309-QF_jpg.rf.57f551f145051acd93add346e28e3f1e.jpg: ignoring corrupt image/label: non-normalized or out of bounds coordinates [     1.0624]\n",
            "\u001b[34m\u001b[1mtrain: \u001b[0mWARNING ⚠️ /content/plat-detection-3-(experimental)-3/train/images/243-E-3309-QF_jpg.rf.9780300ef43c1490507260bb99f83d34.jpg: ignoring corrupt image/label: non-normalized or out of bounds coordinates [     1.0492]\n",
            "\u001b[34m\u001b[1mtrain: \u001b[0mWARNING ⚠️ /content/plat-detection-3-(experimental)-3/train/images/244-E-6590-QW-09-20_jpg.rf.97d8545b885dc335f631d17b3d383804.jpg: ignoring corrupt image/label: non-normalized or out of bounds coordinates [      1.045]\n",
            "\u001b[34m\u001b[1mtrain: \u001b[0mWARNING ⚠️ /content/plat-detection-3-(experimental)-3/train/images/244-E-6590-QW-09-20_jpg.rf.c59fc1d4b107954bd7942ccb25986918.jpg: ignoring corrupt image/label: non-normalized or out of bounds coordinates [     1.0001]\n",
            "\u001b[34m\u001b[1mtrain: \u001b[0mWARNING ⚠️ /content/plat-detection-3-(experimental)-3/train/images/244-E-6590-QW-09-20_jpg.rf.f42065880b5de45164da353d04f4b6f1.jpg: ignoring corrupt image/label: non-normalized or out of bounds coordinates [     1.0144]\n",
            "\u001b[34m\u001b[1mtrain: \u001b[0mWARNING ⚠️ /content/plat-detection-3-(experimental)-3/train/images/247-E-2148-RI-01-16_jpg.rf.22512f810cb7d8c82c22f39a0f001f41.jpg: ignoring corrupt image/label: non-normalized or out of bounds coordinates [     1.0412]\n",
            "\u001b[34m\u001b[1mtrain: \u001b[0mWARNING ⚠️ /content/plat-detection-3-(experimental)-3/train/images/247-E-2148-RI-01-16_jpg.rf.7560306b434685d70a9d74d81e465062.jpg: ignoring corrupt image/label: non-normalized or out of bounds coordinates [     1.0007]\n",
            "\u001b[34m\u001b[1mtrain: \u001b[0mWARNING ⚠️ /content/plat-detection-3-(experimental)-3/train/images/25-E-2101-PAD_jpg.rf.75aac924e32370919ee031673818b645.jpg: ignoring corrupt image/label: non-normalized or out of bounds coordinates [     1.0081]\n",
            "\u001b[34m\u001b[1mtrain: \u001b[0mWARNING ⚠️ /content/plat-detection-3-(experimental)-3/train/images/25-E-2101-PAD_jpg.rf.d7a6bb0700087a69fae5cc432f5cd2ef.jpg: ignoring corrupt image/label: non-normalized or out of bounds coordinates [     1.1166]\n",
            "\u001b[34m\u001b[1mtrain: \u001b[0mWARNING ⚠️ /content/plat-detection-3-(experimental)-3/train/images/25-E-2101-PAD_jpg.rf.fdcbebee32324fab539ee4041e7c0882.jpg: ignoring corrupt image/label: non-normalized or out of bounds coordinates [     1.0954]\n",
            "\u001b[34m\u001b[1mtrain: \u001b[0mWARNING ⚠️ /content/plat-detection-3-(experimental)-3/train/images/254-E-4739-TA_jpg.rf.2c688590222433acfc3b794f96348166.jpg: ignoring corrupt image/label: non-normalized or out of bounds coordinates [     1.0237]\n",
            "\u001b[34m\u001b[1mtrain: \u001b[0mWARNING ⚠️ /content/plat-detection-3-(experimental)-3/train/images/254-E-4739-TA_jpg.rf.c0129382f359603cbe27a154efe6664c.jpg: ignoring corrupt image/label: non-normalized or out of bounds coordinates [     1.0426]\n",
            "\u001b[34m\u001b[1mtrain: \u001b[0mWARNING ⚠️ /content/plat-detection-3-(experimental)-3/train/images/256-E-4572-SS-01-16_jpg.rf.17a0f7ad0c5a56a5ae2e07337b971d14.jpg: ignoring corrupt image/label: non-normalized or out of bounds coordinates [     1.0157]\n",
            "\u001b[34m\u001b[1mtrain: \u001b[0mWARNING ⚠️ /content/plat-detection-3-(experimental)-3/train/images/256-E-4572-SS-01-16_jpg.rf.6df039e0ed1fcc73ff91bf01f3456fc2.jpg: ignoring corrupt image/label: non-normalized or out of bounds coordinates [     1.0037]\n",
            "\u001b[34m\u001b[1mtrain: \u001b[0mWARNING ⚠️ /content/plat-detection-3-(experimental)-3/train/images/262-E-3465-SL-02-20_jpg.rf.ad312e522433a841d5915ec1b55c3dd2.jpg: ignoring corrupt image/label: non-normalized or out of bounds coordinates [     1.1248]\n",
            "\u001b[34m\u001b[1mtrain: \u001b[0mWARNING ⚠️ /content/plat-detection-3-(experimental)-3/train/images/269-E-2101-TJ-02-22_jpg.rf.0829e2cb42db607c3c7452e4d1fc93b1.jpg: ignoring corrupt image/label: non-normalized or out of bounds coordinates [     1.0182]\n",
            "\u001b[34m\u001b[1mtrain: \u001b[0mWARNING ⚠️ /content/plat-detection-3-(experimental)-3/train/images/269-E-2101-TJ-02-22_jpg.rf.27d1fa7d3742141d81bae603cb044102.jpg: ignoring corrupt image/label: non-normalized or out of bounds coordinates [      1.028]\n",
            "\u001b[34m\u001b[1mtrain: \u001b[0mWARNING ⚠️ /content/plat-detection-3-(experimental)-3/train/images/269-E-2101-TJ_jpg.rf.10bb3684dc82dcf3b67ea9cee7c1cecd.jpg: ignoring corrupt image/label: non-normalized or out of bounds coordinates [     1.0175]\n",
            "\u001b[34m\u001b[1mtrain: \u001b[0mWARNING ⚠️ /content/plat-detection-3-(experimental)-3/train/images/269-E-2101-TJ_jpg.rf.f8b756ed413482146d0608b6b057bd50.jpg: ignoring corrupt image/label: non-normalized or out of bounds coordinates [     1.0251]\n",
            "\u001b[34m\u001b[1mtrain: \u001b[0mWARNING ⚠️ /content/plat-detection-3-(experimental)-3/train/images/273-E-6078-RM-09-22_jpg.rf.4e9c4cd2ad60745f6a3b8ca5e078ea1f.jpg: ignoring corrupt image/label: non-normalized or out of bounds coordinates [     1.0276]\n",
            "\u001b[34m\u001b[1mtrain: \u001b[0mWARNING ⚠️ /content/plat-detection-3-(experimental)-3/train/images/273-E-6078-RM-09-22_jpg.rf.e0c591ff348d926c1aa5cc5f1129c6ef.jpg: ignoring corrupt image/label: non-normalized or out of bounds coordinates [     1.0907]\n",
            "\u001b[34m\u001b[1mtrain: \u001b[0mWARNING ⚠️ /content/plat-detection-3-(experimental)-3/train/images/28-E-2393-TT_jpg.rf.c12b3130e9c112732c290de0248ca996.jpg: ignoring corrupt image/label: non-normalized or out of bounds coordinates [     1.0833]\n",
            "\u001b[34m\u001b[1mtrain: \u001b[0mWARNING ⚠️ /content/plat-detection-3-(experimental)-3/train/images/28-E-2393-TT_jpg.rf.da79ff713310ba8ad30e73fb17eb4abe.jpg: ignoring corrupt image/label: non-normalized or out of bounds coordinates [     1.0623]\n",
            "\u001b[34m\u001b[1mtrain: \u001b[0mWARNING ⚠️ /content/plat-detection-3-(experimental)-3/train/images/282-E-5519-PAK_jpg.rf.4e6cac6f6fae10cb44eb0a937e97777f.jpg: ignoring corrupt image/label: non-normalized or out of bounds coordinates [     1.0034]\n",
            "\u001b[34m\u001b[1mtrain: \u001b[0mWARNING ⚠️ /content/plat-detection-3-(experimental)-3/train/images/282-E-5519-PAK_jpg.rf.79f7b81f321716821033c49ecb7a636d.jpg: ignoring corrupt image/label: non-normalized or out of bounds coordinates [     1.0184]\n",
            "\u001b[34m\u001b[1mtrain: \u001b[0mWARNING ⚠️ /content/plat-detection-3-(experimental)-3/train/images/286-E-5817-PT-04-18_jpg.rf.def13c2bac0a1b66438208edeaa3019b.jpg: ignoring corrupt image/label: non-normalized or out of bounds coordinates [     1.0033]\n",
            "\u001b[34m\u001b[1mtrain: \u001b[0mWARNING ⚠️ /content/plat-detection-3-(experimental)-3/train/images/290-E-2157-PAO-06-22_jpg.rf.3e2893d281085f58d6a636c998233dab.jpg: ignoring corrupt image/label: non-normalized or out of bounds coordinates [      1.107]\n",
            "\u001b[34m\u001b[1mtrain: \u001b[0mWARNING ⚠️ /content/plat-detection-3-(experimental)-3/train/images/290-E-2157-PAO-06-22_jpg.rf.ece0af833dd6aa0269026cc9a19245a4.jpg: ignoring corrupt image/label: non-normalized or out of bounds coordinates [     1.1326]\n",
            "\u001b[34m\u001b[1mtrain: \u001b[0mWARNING ⚠️ /content/plat-detection-3-(experimental)-3/train/images/290-E-2157-PAO-06-22_jpg.rf.f10bedc05b46f88a543bda393c5e2a4d.jpg: ignoring corrupt image/label: non-normalized or out of bounds coordinates [     1.1777]\n",
            "\u001b[34m\u001b[1mtrain: \u001b[0mWARNING ⚠️ /content/plat-detection-3-(experimental)-3/train/images/290-E-2157-PAO_jpg.rf.654e3be50ecfeb2e4aa605df0fa9d526.jpg: ignoring corrupt image/label: non-normalized or out of bounds coordinates [     1.1974]\n",
            "\u001b[34m\u001b[1mtrain: \u001b[0mWARNING ⚠️ /content/plat-detection-3-(experimental)-3/train/images/290-E-2157-PAO_jpg.rf.79df2da90f31d75096b4af0d7a04ae87.jpg: ignoring corrupt image/label: non-normalized or out of bounds coordinates [     1.1782]\n",
            "\u001b[34m\u001b[1mtrain: \u001b[0mWARNING ⚠️ /content/plat-detection-3-(experimental)-3/train/images/290-E-2157-PAO_jpg.rf.fe3f64b768dc3ebe59f39b83ff946664.jpg: ignoring corrupt image/label: non-normalized or out of bounds coordinates [     1.1701]\n",
            "\u001b[34m\u001b[1mtrain: \u001b[0mWARNING ⚠️ /content/plat-detection-3-(experimental)-3/train/images/292-E-4890-QE-01-19_jpg.rf.947b9724136b9b79897d4693ead227f7.jpg: ignoring corrupt image/label: non-normalized or out of bounds coordinates [     1.0548]\n",
            "\u001b[34m\u001b[1mtrain: \u001b[0mWARNING ⚠️ /content/plat-detection-3-(experimental)-3/train/images/299-E-5051-SD-03-18_jpg.rf.143e0d709ba05721178ece217eee8331.jpg: ignoring corrupt image/label: non-normalized or out of bounds coordinates [     1.1358]\n",
            "\u001b[34m\u001b[1mtrain: \u001b[0mWARNING ⚠️ /content/plat-detection-3-(experimental)-3/train/images/299-E-5051-SD-03-18_jpg.rf.39f4dad9deacdd2439beddf49c03a0e8.jpg: ignoring corrupt image/label: non-normalized or out of bounds coordinates [     1.0901]\n",
            "\u001b[34m\u001b[1mtrain: \u001b[0mWARNING ⚠️ /content/plat-detection-3-(experimental)-3/train/images/299-E-5051-SD-03-18_jpg.rf.f19b8198d03718b6eedc01f44d0df611.jpg: ignoring corrupt image/label: non-normalized or out of bounds coordinates [     1.1393]\n",
            "\u001b[34m\u001b[1mtrain: \u001b[0mWARNING ⚠️ /content/plat-detection-3-(experimental)-3/train/images/299-E-5051-SD_jpg.rf.a7dde500acd125b78ffd5b286b413b9e.jpg: ignoring corrupt image/label: non-normalized or out of bounds coordinates [      1.067]\n",
            "\u001b[34m\u001b[1mtrain: \u001b[0mWARNING ⚠️ /content/plat-detection-3-(experimental)-3/train/images/299-E-5051-SD_jpg.rf.b35bf5c2a450a3fa831ece9ea6cc28b6.jpg: ignoring corrupt image/label: non-normalized or out of bounds coordinates [     1.1582]\n",
            "\u001b[34m\u001b[1mtrain: \u001b[0mWARNING ⚠️ /content/plat-detection-3-(experimental)-3/train/images/299-E-5051-SD_jpg.rf.febca077afc9713a43a2f6d4f97ddaf0.jpg: ignoring corrupt image/label: non-normalized or out of bounds coordinates [     1.1546]\n",
            "\u001b[34m\u001b[1mtrain: \u001b[0mWARNING ⚠️ /content/plat-detection-3-(experimental)-3/train/images/306-E-3270-SJ-08-22_jpg.rf.809464b79e7857b056183276b0d11a89.jpg: ignoring corrupt image/label: non-normalized or out of bounds coordinates [     1.0085]\n",
            "\u001b[34m\u001b[1mtrain: \u001b[0mWARNING ⚠️ /content/plat-detection-3-(experimental)-3/train/images/307-E-4238-QC-11-18_jpg.rf.8ce3d7fe253e9a79af797d186fd6efd5.jpg: ignoring corrupt image/label: non-normalized or out of bounds coordinates [     1.0473]\n",
            "\u001b[34m\u001b[1mtrain: \u001b[0mWARNING ⚠️ /content/plat-detection-3-(experimental)-3/train/images/314-E-3016-SB_jpg.rf.4ab46cf94e2a8e7fab1575dce7556098.jpg: ignoring corrupt image/label: non-normalized or out of bounds coordinates [     1.0176]\n",
            "\u001b[34m\u001b[1mtrain: \u001b[0mWARNING ⚠️ /content/plat-detection-3-(experimental)-3/train/images/314-E-3016-SB_jpg.rf.b97a1ff39a4cddcda90d9227c949d606.jpg: ignoring corrupt image/label: non-normalized or out of bounds coordinates [     1.0088]\n",
            "\u001b[34m\u001b[1mtrain: \u001b[0mWARNING ⚠️ /content/plat-detection-3-(experimental)-3/train/images/314-E-3016-SB_jpg.rf.c743242d998e9f7e0b01039c9c2d0f52.jpg: ignoring corrupt image/label: non-normalized or out of bounds coordinates [     1.0576]\n",
            "\u001b[34m\u001b[1mtrain: \u001b[0mWARNING ⚠️ /content/plat-detection-3-(experimental)-3/train/images/323-E-4886-TM-06-22_jpg.rf.41c1ac74b72efbfe4cd4510820b5b900.jpg: ignoring corrupt image/label: non-normalized or out of bounds coordinates [     1.0069]\n",
            "\u001b[34m\u001b[1mtrain: \u001b[0mWARNING ⚠️ /content/plat-detection-3-(experimental)-3/train/images/323-E-4886-TM-06-22_jpg.rf.6e515d6e05bd46fae115e59d5d594ee1.jpg: ignoring corrupt image/label: non-normalized or out of bounds coordinates [     1.0589]\n",
            "\u001b[34m\u001b[1mtrain: \u001b[0mWARNING ⚠️ /content/plat-detection-3-(experimental)-3/train/images/329-E-5078-QF-02-19_jpg.rf.4818b82028c5dcb6087ec531dabd2fd6.jpg: ignoring corrupt image/label: non-normalized or out of bounds coordinates [     1.1309]\n",
            "\u001b[34m\u001b[1mtrain: \u001b[0mWARNING ⚠️ /content/plat-detection-3-(experimental)-3/train/images/329-E-5078-QF-02-19_jpg.rf.5ca5f61abbef4ed5a2816cc311e0eafa.jpg: ignoring corrupt image/label: non-normalized or out of bounds coordinates [     1.1536]\n",
            "\u001b[34m\u001b[1mtrain: \u001b[0mWARNING ⚠️ /content/plat-detection-3-(experimental)-3/train/images/329-E-5078-QF-02-19_jpg.rf.84d7f0c0309ef72a076fb792e1dee7f0.jpg: ignoring corrupt image/label: non-normalized or out of bounds coordinates [     1.1485]\n",
            "\u001b[34m\u001b[1mtrain: \u001b[0mWARNING ⚠️ /content/plat-detection-3-(experimental)-3/train/images/33-E-5216-TI-11-21_jpg.rf.ce46250dc2103b81b83a77f9398d53f2.jpg: ignoring corrupt image/label: non-normalized or out of bounds coordinates [       1.01]\n",
            "\u001b[34m\u001b[1mtrain: \u001b[0mWARNING ⚠️ /content/plat-detection-3-(experimental)-3/train/images/330-E-5869-PAA-02-21_jpg.rf.9cb0247cf1983d5a33fbe140d085a78d.jpg: ignoring corrupt image/label: non-normalized or out of bounds coordinates [     1.0169]\n",
            "\u001b[34m\u001b[1mtrain: \u001b[0mWARNING ⚠️ /content/plat-detection-3-(experimental)-3/train/images/330-E-5869-PAA-02-21_jpg.rf.e760e1cb9a9d3ff26abb13cda41794d5.jpg: ignoring corrupt image/label: non-normalized or out of bounds coordinates [     1.0018]\n",
            "\u001b[34m\u001b[1mtrain: \u001b[0mWARNING ⚠️ /content/plat-detection-3-(experimental)-3/train/images/330-E-5869-PAA-02-21_jpg.rf.ed10b4c43f57747f36a6d3baeca5657c.jpg: ignoring corrupt image/label: non-normalized or out of bounds coordinates [      1.144]\n",
            "\u001b[34m\u001b[1mtrain: \u001b[0mWARNING ⚠️ /content/plat-detection-3-(experimental)-3/train/images/338-E-3851-PAI-12-21_jpg.rf.e102d594299bb9120d37c2022cc1da0c.jpg: ignoring corrupt image/label: non-normalized or out of bounds coordinates [     1.0214]\n",
            "\u001b[34m\u001b[1mtrain: \u001b[0mWARNING ⚠️ /content/plat-detection-3-(experimental)-3/train/images/340-E-4235-RP-01-22_jpg.rf.29d046c9ca99c55d38b7f43791d53406.jpg: ignoring corrupt image/label: non-normalized or out of bounds coordinates [      1.056]\n",
            "\u001b[34m\u001b[1mtrain: \u001b[0mWARNING ⚠️ /content/plat-detection-3-(experimental)-3/train/images/340-E-4235-RP-01-22_jpg.rf.bc4698df4584c65e7a5f32e06145cd5e.jpg: ignoring corrupt image/label: non-normalized or out of bounds coordinates [      1.029]\n",
            "\u001b[34m\u001b[1mtrain: \u001b[0mWARNING ⚠️ /content/plat-detection-3-(experimental)-3/train/images/345-E-2047-SF-05-19_jpg.rf.6ba3b113c944beb842ce6b3ce318f2e2.jpg: ignoring corrupt image/label: non-normalized or out of bounds coordinates [     1.0444]\n",
            "\u001b[34m\u001b[1mtrain: \u001b[0mWARNING ⚠️ /content/plat-detection-3-(experimental)-3/train/images/345-E-2047-SF-05-19_jpg.rf.eb6dbd81f871be6c5d1361b9a973c696.jpg: ignoring corrupt image/label: non-normalized or out of bounds coordinates [      1.063]\n",
            "\u001b[34m\u001b[1mtrain: \u001b[0mWARNING ⚠️ /content/plat-detection-3-(experimental)-3/train/images/35-E-5026-SF-06-18_jpg.rf.69f972c5dcc9f06670a942fb3e1050fb.jpg: ignoring corrupt image/label: non-normalized or out of bounds coordinates [     1.1556]\n",
            "\u001b[34m\u001b[1mtrain: \u001b[0mWARNING ⚠️ /content/plat-detection-3-(experimental)-3/train/images/35-E-5026-SF-06-18_jpg.rf.b8bbefed34741af8770b22d024c397cd.jpg: ignoring corrupt image/label: non-normalized or out of bounds coordinates [     1.0697]\n",
            "\u001b[34m\u001b[1mtrain: \u001b[0mWARNING ⚠️ /content/plat-detection-3-(experimental)-3/train/images/353-E-6270-SM_jpg.rf.a5dea04a833a2eb6709a329df23740a9.jpg: ignoring corrupt image/label: non-normalized or out of bounds coordinates [     1.0326]\n",
            "\u001b[34m\u001b[1mtrain: \u001b[0mWARNING ⚠️ /content/plat-detection-3-(experimental)-3/train/images/353-E-6270-SM_jpg.rf.c146f41f05ac89986c6e84dd7940bccd.jpg: ignoring corrupt image/label: non-normalized or out of bounds coordinates [      1.162]\n",
            "\u001b[34m\u001b[1mtrain: \u001b[0mWARNING ⚠️ /content/plat-detection-3-(experimental)-3/train/images/354-E-6250-PAJ_jpg.rf.921007cda2200b659e0025bd7acd46e9.jpg: ignoring corrupt image/label: non-normalized or out of bounds coordinates [     1.0017]\n",
            "\u001b[34m\u001b[1mtrain: \u001b[0mWARNING ⚠️ /content/plat-detection-3-(experimental)-3/train/images/354-E-6250-PAJ_jpg.rf.b6c46ada4e02126c0685897de779a459.jpg: ignoring corrupt image/label: non-normalized or out of bounds coordinates [     1.0425]\n",
            "\u001b[34m\u001b[1mtrain: \u001b[0mWARNING ⚠️ /content/plat-detection-3-(experimental)-3/train/images/47-E-4240-RY_jpg.rf.18bf712fe5148d9c6ee0fa6426bd9733.jpg: ignoring corrupt image/label: non-normalized or out of bounds coordinates [     1.0649]\n",
            "\u001b[34m\u001b[1mtrain: \u001b[0mWARNING ⚠️ /content/plat-detection-3-(experimental)-3/train/images/48-E-6073-OL_jpg.rf.ab09f04f0770fe79cb45ba3dc896c2c4.jpg: ignoring corrupt image/label: non-normalized or out of bounds coordinates [     1.0096]\n",
            "\u001b[34m\u001b[1mtrain: \u001b[0mWARNING ⚠️ /content/plat-detection-3-(experimental)-3/train/images/52-E-3765-QO-12-19_jpg.rf.a3920aa3fa86ceb8c17f5d968728e429.jpg: ignoring corrupt image/label: non-normalized or out of bounds coordinates [     1.0272]\n",
            "\u001b[34m\u001b[1mtrain: \u001b[0mWARNING ⚠️ /content/plat-detection-3-(experimental)-3/train/images/52-E-3765-QO-12-19_jpg.rf.ba25416a07350c15dc9bd78d58f4316c.jpg: ignoring corrupt image/label: non-normalized or out of bounds coordinates [     1.0194]\n",
            "\u001b[34m\u001b[1mtrain: \u001b[0mWARNING ⚠️ /content/plat-detection-3-(experimental)-3/train/images/52-E-3765-QO_jpg.rf.65462b8508d22dd12cafdef64203813b.jpg: ignoring corrupt image/label: non-normalized or out of bounds coordinates [     1.0296]\n",
            "\u001b[34m\u001b[1mtrain: \u001b[0mWARNING ⚠️ /content/plat-detection-3-(experimental)-3/train/images/52-E-3765-QO_jpg.rf.dbc81a94cf43ed41d909b42f8f111b93.jpg: ignoring corrupt image/label: non-normalized or out of bounds coordinates [     1.0343]\n",
            "\u001b[34m\u001b[1mtrain: \u001b[0mWARNING ⚠️ /content/plat-detection-3-(experimental)-3/train/images/56-E-5056-QD-12-18_jpg.rf.b5fa5174e05975a5e880d284e1df6f09.jpg: ignoring corrupt image/label: non-normalized or out of bounds coordinates [     1.0381]\n",
            "\u001b[34m\u001b[1mtrain: \u001b[0mWARNING ⚠️ /content/plat-detection-3-(experimental)-3/train/images/56-E-5056-QD-12-18_jpg.rf.f2733b49034d5e91bf2298ad987cbcf0.jpg: ignoring corrupt image/label: non-normalized or out of bounds coordinates [      1.037]\n",
            "\u001b[34m\u001b[1mtrain: \u001b[0mWARNING ⚠️ /content/plat-detection-3-(experimental)-3/train/images/56-E-5056-QD-12-18_jpg.rf.f566c26470b988d2417b3b91652145cf.jpg: ignoring corrupt image/label: non-normalized or out of bounds coordinates [     1.0313]\n",
            "\u001b[34m\u001b[1mtrain: \u001b[0mWARNING ⚠️ /content/plat-detection-3-(experimental)-3/train/images/58-E-5158-TP-09-17_jpg.rf.0d698fbdf5ecc5159912f2c3d5190c98.jpg: ignoring corrupt image/label: non-normalized or out of bounds coordinates [     1.3029]\n",
            "\u001b[34m\u001b[1mtrain: \u001b[0mWARNING ⚠️ /content/plat-detection-3-(experimental)-3/train/images/58-E-5158-TP-09-17_jpg.rf.6e83254ecea3585abdd4085a9ef7d860.jpg: ignoring corrupt image/label: non-normalized or out of bounds coordinates [     1.3127      1.0221]\n",
            "\u001b[34m\u001b[1mtrain: \u001b[0mWARNING ⚠️ /content/plat-detection-3-(experimental)-3/train/images/58-E-5158-TP-09-17_jpg.rf.d58e4b7a6c5a87447aab744947abe6f4.jpg: ignoring corrupt image/label: non-normalized or out of bounds coordinates [     1.2435]\n",
            "\u001b[34m\u001b[1mtrain: \u001b[0mWARNING ⚠️ /content/plat-detection-3-(experimental)-3/train/images/59-E-2153-SP-08-20_jpg.rf.4357800679b9ce4b060accfead697ebd.jpg: ignoring corrupt image/label: non-normalized or out of bounds coordinates [     1.1435]\n",
            "\u001b[34m\u001b[1mtrain: \u001b[0mWARNING ⚠️ /content/plat-detection-3-(experimental)-3/train/images/59-E-2153-SP-08-20_jpg.rf.f415d6bf54292faa387a58c2545743f2.jpg: ignoring corrupt image/label: non-normalized or out of bounds coordinates [     1.1288]\n",
            "\u001b[34m\u001b[1mtrain: \u001b[0mWARNING ⚠️ /content/plat-detection-3-(experimental)-3/train/images/59-E-2153-SP-08-20_jpg.rf.ffd1ad9555f7149b83b4b68961e570ea.jpg: ignoring corrupt image/label: non-normalized or out of bounds coordinates [     1.0902]\n",
            "\u001b[34m\u001b[1mtrain: \u001b[0mWARNING ⚠️ /content/plat-detection-3-(experimental)-3/train/images/62-E-3977-TH-12-18_jpg.rf.ae6bf9dc83e17271bab3e69930756bfc.jpg: ignoring corrupt image/label: non-normalized or out of bounds coordinates [     1.0378]\n",
            "\u001b[34m\u001b[1mtrain: \u001b[0mWARNING ⚠️ /content/plat-detection-3-(experimental)-3/train/images/62-E-3977-TH-12-18_jpg.rf.de31adc1f36637dca5fc83848ad4603d.jpg: ignoring corrupt image/label: non-normalized or out of bounds coordinates [     1.0267]\n",
            "\u001b[34m\u001b[1mtrain: \u001b[0mWARNING ⚠️ /content/plat-detection-3-(experimental)-3/train/images/68-E-1267-RB-01-21_jpg.rf.286d6c302c18d3a679c2f48f1867067a.jpg: ignoring corrupt image/label: non-normalized or out of bounds coordinates [     1.0918]\n",
            "\u001b[34m\u001b[1mtrain: \u001b[0mWARNING ⚠️ /content/plat-detection-3-(experimental)-3/train/images/68-E-1267-RB-01-21_jpg.rf.41be873e73aa01c6e017e303eaa2b39a.jpg: ignoring corrupt image/label: non-normalized or out of bounds coordinates [     1.0404]\n",
            "\u001b[34m\u001b[1mtrain: \u001b[0mWARNING ⚠️ /content/plat-detection-3-(experimental)-3/train/images/68-E-1267-RB-01-21_jpg.rf.cd81be5a8431e8c52d61f505bf053c19.jpg: ignoring corrupt image/label: non-normalized or out of bounds coordinates [     1.1093]\n",
            "\u001b[34m\u001b[1mtrain: \u001b[0mWARNING ⚠️ /content/plat-detection-3-(experimental)-3/train/images/68-E-1267-RB_jpg.rf.54c54471fce6c48442caa21dd64712d4.jpg: ignoring corrupt image/label: non-normalized or out of bounds coordinates [     1.0493]\n",
            "\u001b[34m\u001b[1mtrain: \u001b[0mWARNING ⚠️ /content/plat-detection-3-(experimental)-3/train/images/68-E-1267-RB_jpg.rf.6ccd9e9e0e38027fede44bde221271f4.jpg: ignoring corrupt image/label: non-normalized or out of bounds coordinates [     1.0605]\n",
            "\u001b[34m\u001b[1mtrain: \u001b[0mWARNING ⚠️ /content/plat-detection-3-(experimental)-3/train/images/70-E-4310-OR-03-20_jpg.rf.1b1dca5b3e4bfc84ef591213284fb068.jpg: ignoring corrupt image/label: non-normalized or out of bounds coordinates [     1.0381]\n",
            "\u001b[34m\u001b[1mtrain: \u001b[0mWARNING ⚠️ /content/plat-detection-3-(experimental)-3/train/images/70-E-4310-OR-03-20_jpg.rf.9dcf233699053420992fe473d8607659.jpg: ignoring corrupt image/label: non-normalized or out of bounds coordinates [     1.0518]\n",
            "\u001b[34m\u001b[1mtrain: \u001b[0mWARNING ⚠️ /content/plat-detection-3-(experimental)-3/train/images/70-E-4310-OR-03-20_jpg.rf.eb538eec7b2a276115487e9e45873c2a.jpg: ignoring corrupt image/label: non-normalized or out of bounds coordinates [     1.0247]\n",
            "\u001b[34m\u001b[1mtrain: \u001b[0mWARNING ⚠️ /content/plat-detection-3-(experimental)-3/train/images/73-E-5043-PAL_jpg.rf.8069bddd2b1401e8bc8c0c16145d395d.jpg: ignoring corrupt image/label: non-normalized or out of bounds coordinates [     1.0151]\n",
            "\u001b[34m\u001b[1mtrain: \u001b[0mWARNING ⚠️ /content/plat-detection-3-(experimental)-3/train/images/73-E-5043-PAL_jpg.rf.8a69659438efa70210c0b5706a2e0c43.jpg: ignoring corrupt image/label: non-normalized or out of bounds coordinates [     1.0382]\n",
            "\u001b[34m\u001b[1mtrain: \u001b[0mWARNING ⚠️ /content/plat-detection-3-(experimental)-3/train/images/75-E-2956-RP-03-22_jpg.rf.1d765758c70597665d76a5bb37d3e998.jpg: ignoring corrupt image/label: non-normalized or out of bounds coordinates [     1.1452]\n",
            "\u001b[34m\u001b[1mtrain: \u001b[0mWARNING ⚠️ /content/plat-detection-3-(experimental)-3/train/images/75-E-2956-RP-03-22_jpg.rf.4cfcce0b8477e3f1d6a1c5fa8a46dbf5.jpg: ignoring corrupt image/label: non-normalized or out of bounds coordinates [     1.1234]\n",
            "\u001b[34m\u001b[1mtrain: \u001b[0mWARNING ⚠️ /content/plat-detection-3-(experimental)-3/train/images/75-E-2956-RP-03-22_jpg.rf.b4fd7f1e0c8f48c52326222a31888b5b.jpg: ignoring corrupt image/label: non-normalized or out of bounds coordinates [     1.1051]\n",
            "\u001b[34m\u001b[1mtrain: \u001b[0mWARNING ⚠️ /content/plat-detection-3-(experimental)-3/train/images/84-E-6545-SN_jpg.rf.02202fecb027eda622ef5348bd7def13.jpg: ignoring corrupt image/label: non-normalized or out of bounds coordinates [     1.0056]\n",
            "\u001b[34m\u001b[1mtrain: \u001b[0mWARNING ⚠️ /content/plat-detection-3-(experimental)-3/train/images/84-E-6545-SN_jpg.rf.2a6333fb0f98a50f2ec32f13ce3aa0fd.jpg: ignoring corrupt image/label: non-normalized or out of bounds coordinates [     1.0601]\n",
            "\u001b[34m\u001b[1mtrain: \u001b[0mWARNING ⚠️ /content/plat-detection-3-(experimental)-3/train/images/87-E-6673-ZQ-04-18_jpg.rf.2e350cf9b8f3529290f839b9727bf9fe.jpg: ignoring corrupt image/label: non-normalized or out of bounds coordinates [     1.0872]\n",
            "\u001b[34m\u001b[1mtrain: \u001b[0mWARNING ⚠️ /content/plat-detection-3-(experimental)-3/train/images/87-E-6673-ZQ-04-18_jpg.rf.48a47ade11eb4a86f096dac4424f029e.jpg: ignoring corrupt image/label: non-normalized or out of bounds coordinates [     1.1427]\n",
            "\u001b[34m\u001b[1mtrain: \u001b[0mWARNING ⚠️ /content/plat-detection-3-(experimental)-3/train/images/87-E-6673-ZQ_jpg.rf.34c129e8321b055f8d769ffdf140c7c2.jpg: ignoring corrupt image/label: non-normalized or out of bounds coordinates [     1.1248]\n",
            "\u001b[34m\u001b[1mtrain: \u001b[0mWARNING ⚠️ /content/plat-detection-3-(experimental)-3/train/images/87-E-6673-ZQ_jpg.rf.7bdf496f6d44c5be94a81b2504522871.jpg: ignoring corrupt image/label: non-normalized or out of bounds coordinates [     1.0377]\n",
            "\u001b[34m\u001b[1mtrain: \u001b[0mWARNING ⚠️ /content/plat-detection-3-(experimental)-3/train/images/87-E-6673-ZQ_jpg.rf.c48d2b6d1d6ad31b2fccc47de47b4030.jpg: ignoring corrupt image/label: non-normalized or out of bounds coordinates [       1.07]\n",
            "\u001b[34m\u001b[1mtrain: \u001b[0mWARNING ⚠️ /content/plat-detection-3-(experimental)-3/train/images/88-E-3118-QP-01-20_jpg.rf.6dfd0b61dc51ac97a096c7494a3e16e0.jpg: ignoring corrupt image/label: non-normalized or out of bounds coordinates [     1.0001]\n",
            "\u001b[34m\u001b[1mtrain: \u001b[0mWARNING ⚠️ /content/plat-detection-3-(experimental)-3/train/images/88-E-3118-QP-01-20_jpg.rf.c9fe96ed4f3a81d8373bb30fc2c6361a.jpg: ignoring corrupt image/label: non-normalized or out of bounds coordinates [     1.0044]\n",
            "\u001b[34m\u001b[1mtrain: \u001b[0mWARNING ⚠️ /content/plat-detection-3-(experimental)-3/train/images/97-E-6457-CA-11-21_jpg.rf.5b6d48cec809a33f1392c3d883decf80.jpg: ignoring corrupt image/label: non-normalized or out of bounds coordinates [     1.0425]\n",
            "\u001b[34m\u001b[1mtrain: \u001b[0mWARNING ⚠️ /content/plat-detection-3-(experimental)-3/train/images/B1003UF_jpg.rf.a4e793cac759675c36b8e44ffb7f0902.jpg: ignoring corrupt image/label: non-normalized or out of bounds coordinates [     1.0405]\n",
            "\u001b[34m\u001b[1mtrain: \u001b[0mWARNING ⚠️ /content/plat-detection-3-(experimental)-3/train/images/B1420BX_jpg.rf.013ed477e66868e2577117612e9f5ec2.jpg: ignoring corrupt image/label: non-normalized or out of bounds coordinates [     1.0084]\n",
            "\u001b[34m\u001b[1mtrain: \u001b[0mWARNING ⚠️ /content/plat-detection-3-(experimental)-3/train/images/B1420BX_jpg.rf.d0b749fc207f0abaaee60f47a01c833f.jpg: ignoring corrupt image/label: non-normalized or out of bounds coordinates [     1.0205]\n",
            "\u001b[34m\u001b[1mtrain: \u001b[0mWARNING ⚠️ /content/plat-detection-3-(experimental)-3/train/images/B1420BX_jpg.rf.e8f41922d7e1e09123bf4bd2bf7c84eb.jpg: ignoring corrupt image/label: non-normalized or out of bounds coordinates [     1.0108]\n",
            "\u001b[34m\u001b[1mtrain: \u001b[0mWARNING ⚠️ /content/plat-detection-3-(experimental)-3/train/images/B6173TU_jpg.rf.68e97cc2c61d04b827a2e3513ec5e24d.jpg: ignoring corrupt image/label: non-normalized or out of bounds coordinates [     1.3024]\n",
            "\u001b[34m\u001b[1mtrain: \u001b[0mWARNING ⚠️ /content/plat-detection-3-(experimental)-3/train/images/B6173TU_jpg.rf.c522f7697f595c4c857c1c1fac07fbed.jpg: ignoring corrupt image/label: non-normalized or out of bounds coordinates [     1.2908      1.0179]\n",
            "\u001b[34m\u001b[1mtrain: \u001b[0mWARNING ⚠️ /content/plat-detection-3-(experimental)-3/train/images/B6173TU_jpg.rf.fcbf18ca7eb4d422ceebf7ba917bf40f.jpg: ignoring corrupt image/label: non-normalized or out of bounds coordinates [     1.0308]\n",
            "\u001b[34m\u001b[1mtrain: \u001b[0mWARNING ⚠️ /content/plat-detection-3-(experimental)-3/train/images/D4232UT_jpg.rf.9350151bb33396295d6bd461903bb622.jpg: ignoring corrupt image/label: non-normalized or out of bounds coordinates [     1.1961]\n",
            "\u001b[34m\u001b[1mtrain: \u001b[0mWARNING ⚠️ /content/plat-detection-3-(experimental)-3/train/images/D4232UT_jpg.rf.9fa2962a396494b6bfd722d74ef9ea38.jpg: ignoring corrupt image/label: non-normalized or out of bounds coordinates [     1.0977]\n",
            "\u001b[34m\u001b[1mtrain: \u001b[0mWARNING ⚠️ /content/plat-detection-3-(experimental)-3/train/images/D4232UT_jpg.rf.df78223520b0674f60b8229f28fb8169.jpg: ignoring corrupt image/label: non-normalized or out of bounds coordinates [     1.0224]\n",
            "\u001b[34m\u001b[1mtrain: \u001b[0mWARNING ⚠️ /content/plat-detection-3-(experimental)-3/train/images/DM2042H_jpg.rf.e6beab4fe847832c70955fe482e653d6.jpg: ignoring corrupt image/label: non-normalized or out of bounds coordinates [     1.1509]\n",
            "\u001b[34m\u001b[1mtrain: \u001b[0mWARNING ⚠️ /content/plat-detection-3-(experimental)-3/train/images/DM2042H_jpg.rf.eac7ef0881f3fbcba1f64422c811320a.jpg: ignoring corrupt image/label: non-normalized or out of bounds coordinates [     1.0364]\n",
            "\u001b[34m\u001b[1mtrain: \u001b[0mWARNING ⚠️ /content/plat-detection-3-(experimental)-3/train/images/M2042HC_jpg.rf.05f4127950a4e132f4dd3d05975050db.jpg: ignoring corrupt image/label: non-normalized or out of bounds coordinates [     1.1896]\n",
            "\u001b[34m\u001b[1mtrain: \u001b[0mWARNING ⚠️ /content/plat-detection-3-(experimental)-3/train/images/M2042HC_jpg.rf.d3e80845bcd985a72b5a3309e57a78c4.jpg: ignoring corrupt image/label: non-normalized or out of bounds coordinates [     1.1949]\n",
            "\u001b[34m\u001b[1mtrain: \u001b[0mWARNING ⚠️ /content/plat-detection-3-(experimental)-3/train/images/M2042HC_jpg.rf.e634e12bca915d9e0d958fb1565bf6ed.jpg: ignoring corrupt image/label: non-normalized or out of bounds coordinates [     1.0342]\n",
            "\u001b[34m\u001b[1mtrain: \u001b[0mWARNING ⚠️ /content/plat-detection-3-(experimental)-3/train/images/PB2592I_jpg.rf.5f0ea23f7319b1133d8c33237b46a89b.jpg: ignoring corrupt image/label: non-normalized or out of bounds coordinates [     1.0787]\n",
            "\u001b[34m\u001b[1mtrain: \u001b[0mWARNING ⚠️ /content/plat-detection-3-(experimental)-3/train/images/PB2592I_jpg.rf.b4229dcd666ce751e99206b29e54c2cf.jpg: ignoring corrupt image/label: non-normalized or out of bounds coordinates [     1.1391]\n",
            "\u001b[34m\u001b[1mtrain: \u001b[0mWARNING ⚠️ /content/plat-detection-3-(experimental)-3/train/images/PB2592I_jpg.rf.f25e9f6fde719b2aac2560b33ed986d6.jpg: ignoring corrupt image/label: non-normalized or out of bounds coordinates [     1.0127]\n"
          ]
        },
        {
          "output_type": "stream",
          "name": "stderr",
          "text": [
            "\n"
          ]
        },
        {
          "output_type": "stream",
          "name": "stdout",
          "text": [
            "\u001b[34m\u001b[1mtrain: \u001b[0mNew cache created: /content/plat-detection-3-(experimental)-3/train/labels.cache\n",
            "\u001b[34m\u001b[1malbumentations: \u001b[0mBlur(p=0.01, blur_limit=(3, 7)), MedianBlur(p=0.01, blur_limit=(3, 7)), ToGray(p=0.01, num_output_channels=3, method='weighted_average'), CLAHE(p=0.01, clip_limit=(1, 4.0), tile_grid_size=(8, 8))\n"
          ]
        },
        {
          "output_type": "stream",
          "name": "stderr",
          "text": [
            "UserWarning: A new version of Albumentations is available: 1.4.18 (you have 1.4.15). Upgrade using: pip install -U albumentations. To disable automatic update checks, set the environment variable NO_ALBUMENTATIONS_UPDATE to 1.\n",
            "\u001b[34m\u001b[1mval: \u001b[0mScanning /content/plat-detection-3-(experimental)-3/valid/labels... 488 images, 1 backgrounds, 54 corrupt: 100%|██████████| 488/488 [00:00<00:00, 843.33it/s]"
          ]
        },
        {
          "output_type": "stream",
          "name": "stdout",
          "text": [
            "\u001b[34m\u001b[1mval: \u001b[0mWARNING ⚠️ /content/plat-detection-3-(experimental)-3/valid/images/106-E-4670-TL-05-22_jpg.rf.767f95258abd3a7ad3cf3198171bca5c.jpg: ignoring corrupt image/label: non-normalized or out of bounds coordinates [     1.0139]\n",
            "\u001b[34m\u001b[1mval: \u001b[0mWARNING ⚠️ /content/plat-detection-3-(experimental)-3/valid/images/111-E-6810-IX-05-20_jpg.rf.70a1e83f186131251d45f0cf034cb61a.jpg: ignoring corrupt image/label: non-normalized or out of bounds coordinates [       1.02]\n",
            "\u001b[34m\u001b[1mval: \u001b[0mWARNING ⚠️ /content/plat-detection-3-(experimental)-3/valid/images/111-E-6810-IX_jpg.rf.8e4c33c1feccdfd66597c59227bc8d0b.jpg: ignoring corrupt image/label: non-normalized or out of bounds coordinates [     1.0187]\n",
            "\u001b[34m\u001b[1mval: \u001b[0mWARNING ⚠️ /content/plat-detection-3-(experimental)-3/valid/images/113-E-2283-RG_jpg.rf.cb4af0495b37981df2d877c2c448e7f5.jpg: ignoring corrupt image/label: non-normalized or out of bounds coordinates [     1.0479]\n",
            "\u001b[34m\u001b[1mval: \u001b[0mWARNING ⚠️ /content/plat-detection-3-(experimental)-3/valid/images/115-E-5305-SM-06-20_jpg.rf.7fe05ff1e17b3541ae39a0a98825f2fe.jpg: ignoring corrupt image/label: non-normalized or out of bounds coordinates [     1.0033]\n",
            "\u001b[34m\u001b[1mval: \u001b[0mWARNING ⚠️ /content/plat-detection-3-(experimental)-3/valid/images/123-E-4603-PAE-07-21_jpg.rf.f94576b7d5b69611916bbdaefb8c0676.jpg: ignoring corrupt image/label: non-normalized or out of bounds coordinates [     1.0606]\n",
            "\u001b[34m\u001b[1mval: \u001b[0mWARNING ⚠️ /content/plat-detection-3-(experimental)-3/valid/images/125-E-4172-QB-11-22_jpg.rf.12edb9bc0287fe6be3ba4392ff2b3c03.jpg: ignoring corrupt image/label: non-normalized or out of bounds coordinates [     1.0489]\n",
            "\u001b[34m\u001b[1mval: \u001b[0mWARNING ⚠️ /content/plat-detection-3-(experimental)-3/valid/images/128-E-4877-SV-05-21_jpg.rf.bef868cd670e0fdebe38337db11efd9d.jpg: ignoring corrupt image/label: non-normalized or out of bounds coordinates [     1.0528]\n",
            "\u001b[34m\u001b[1mval: \u001b[0mWARNING ⚠️ /content/plat-detection-3-(experimental)-3/valid/images/130-E-9967-P-12-22_jpg.rf.386b24dd9586ac29423e3c396fda4e3d.jpg: ignoring corrupt image/label: non-normalized or out of bounds coordinates [     1.0823]\n",
            "\u001b[34m\u001b[1mval: \u001b[0mWARNING ⚠️ /content/plat-detection-3-(experimental)-3/valid/images/14-E-1129-RP-07-18_jpg.rf.6f881d5de380caf2ee371705d711264d.jpg: ignoring corrupt image/label: non-normalized or out of bounds coordinates [     1.0225]\n",
            "\u001b[34m\u001b[1mval: \u001b[0mWARNING ⚠️ /content/plat-detection-3-(experimental)-3/valid/images/149-E-4217-TT-01-18_jpg.rf.bf2ce888ed961bf5099d1871816538db.jpg: ignoring corrupt image/label: non-normalized or out of bounds coordinates [     1.0416]\n",
            "\u001b[34m\u001b[1mval: \u001b[0mWARNING ⚠️ /content/plat-detection-3-(experimental)-3/valid/images/154-E-6151-PAL-04-22_jpg.rf.9389de84b3f339cc5b66a56bfd78ce29.jpg: ignoring corrupt image/label: non-normalized or out of bounds coordinates [     1.0975]\n",
            "\u001b[34m\u001b[1mval: \u001b[0mWARNING ⚠️ /content/plat-detection-3-(experimental)-3/valid/images/156-E-3426-SB-10-18_jpg.rf.fb2b6c3f80b27c21499f1b46516de1b5.jpg: ignoring corrupt image/label: non-normalized or out of bounds coordinates [     1.0148]\n",
            "\u001b[34m\u001b[1mval: \u001b[0mWARNING ⚠️ /content/plat-detection-3-(experimental)-3/valid/images/165-E-5555-SR_jpg.rf.dc7e1a0e830e45a69221cfb29e9ae508.jpg: ignoring corrupt image/label: non-normalized or out of bounds coordinates [     1.0008]\n",
            "\u001b[34m\u001b[1mval: \u001b[0mWARNING ⚠️ /content/plat-detection-3-(experimental)-3/valid/images/170-E-3913-QS-04-20_jpg.rf.503cbf5880886be17c9931da4fec4049.jpg: ignoring corrupt image/label: non-normalized or out of bounds coordinates [      1.032]\n",
            "\u001b[34m\u001b[1mval: \u001b[0mWARNING ⚠️ /content/plat-detection-3-(experimental)-3/valid/images/173-E-4019-TL-05-22_jpg.rf.862defc6745eb1852fa951756f3e1525.jpg: ignoring corrupt image/label: non-normalized or out of bounds coordinates [     1.1007]\n",
            "\u001b[34m\u001b[1mval: \u001b[0mWARNING ⚠️ /content/plat-detection-3-(experimental)-3/valid/images/176-E-4386-IY-09-18_jpg.rf.609e33e31b52cc8218f9419ed02d3ec6.jpg: ignoring corrupt image/label: non-normalized or out of bounds coordinates [     1.0534]\n",
            "\u001b[34m\u001b[1mval: \u001b[0mWARNING ⚠️ /content/plat-detection-3-(experimental)-3/valid/images/188-E-2647-SL-01-20_jpg.rf.4fe4e107648d1eb7582f050b5d24863b.jpg: ignoring corrupt image/label: non-normalized or out of bounds coordinates [     1.0001]\n",
            "\u001b[34m\u001b[1mval: \u001b[0mWARNING ⚠️ /content/plat-detection-3-(experimental)-3/valid/images/195-E-2110-QP-12-19_jpg.rf.67b73854e0d6df8b83f4909b61baaa55.jpg: ignoring corrupt image/label: non-normalized or out of bounds coordinates [     1.0685]\n",
            "\u001b[34m\u001b[1mval: \u001b[0mWARNING ⚠️ /content/plat-detection-3-(experimental)-3/valid/images/198-E-3040-SI-09-19_jpg.rf.38a9d870e43e61cdf7ba8ed3a861227c.jpg: ignoring corrupt image/label: non-normalized or out of bounds coordinates [     1.1202]\n",
            "\u001b[34m\u001b[1mval: \u001b[0mWARNING ⚠️ /content/plat-detection-3-(experimental)-3/valid/images/20171211_110659_jpg.rf.d69611a71d9669da5a6266826f92da8d.jpg: ignoring corrupt image/label: non-normalized or out of bounds coordinates [     1.0274]\n",
            "\u001b[34m\u001b[1mval: \u001b[0mWARNING ⚠️ /content/plat-detection-3-(experimental)-3/valid/images/20171212_073402_jpg.rf.25322d813c959e57cf076ff3ba0f3669.jpg: ignoring corrupt image/label: non-normalized or out of bounds coordinates [     1.0387]\n",
            "\u001b[34m\u001b[1mval: \u001b[0mWARNING ⚠️ /content/plat-detection-3-(experimental)-3/valid/images/20171212_100708_jpg.rf.30bd4dd0a33fb2e5a365bb5929134dd7.jpg: ignoring corrupt image/label: non-normalized or out of bounds coordinates [     1.0234]\n",
            "\u001b[34m\u001b[1mval: \u001b[0mWARNING ⚠️ /content/plat-detection-3-(experimental)-3/valid/images/20171212_124357_jpg.rf.a75ba83efc0a01e56e7bcebfc25a5fe0.jpg: ignoring corrupt image/label: non-normalized or out of bounds coordinates [      1.017]\n",
            "\u001b[34m\u001b[1mval: \u001b[0mWARNING ⚠️ /content/plat-detection-3-(experimental)-3/valid/images/20171212_142243_jpg.rf.631915e822454367042f58c0c43c64d2.jpg: ignoring corrupt image/label: non-normalized or out of bounds coordinates [     1.0115]\n",
            "\u001b[34m\u001b[1mval: \u001b[0mWARNING ⚠️ /content/plat-detection-3-(experimental)-3/valid/images/217-E-4992-SW-06-15_jpg.rf.99e410414f4429b807b70500e5bcbba0.jpg: ignoring corrupt image/label: non-normalized or out of bounds coordinates [     1.0826]\n",
            "\u001b[34m\u001b[1mval: \u001b[0mWARNING ⚠️ /content/plat-detection-3-(experimental)-3/valid/images/220-E-3246-OP-12-19_jpg.rf.ed67808e9e5532b8fe494db8e85fbef6.jpg: ignoring corrupt image/label: non-normalized or out of bounds coordinates [       1.06]\n",
            "\u001b[34m\u001b[1mval: \u001b[0mWARNING ⚠️ /content/plat-detection-3-(experimental)-3/valid/images/225-E-3061-SQ-10-20_jpg.rf.1c30fb773d11bf2058ec37a8226cdd0a.jpg: ignoring corrupt image/label: non-normalized or out of bounds coordinates [     1.0353]\n",
            "\u001b[34m\u001b[1mval: \u001b[0mWARNING ⚠️ /content/plat-detection-3-(experimental)-3/valid/images/236-E-536-YY-00-00_jpg.rf.5709d5325934c84ca0fa7a2b44aa6d89.jpg: ignoring corrupt image/label: non-normalized or out of bounds coordinates [      1.101]\n",
            "\u001b[34m\u001b[1mval: \u001b[0mWARNING ⚠️ /content/plat-detection-3-(experimental)-3/valid/images/236-E-536-YY_jpg.rf.982ae3227a16edfeb11d527d8c9ecac2.jpg: ignoring corrupt image/label: non-normalized or out of bounds coordinates [     1.0149]\n",
            "\u001b[34m\u001b[1mval: \u001b[0mWARNING ⚠️ /content/plat-detection-3-(experimental)-3/valid/images/241-E-4510-PL_jpg.rf.a38c0e3e59d5dc77658d244bc72e00f6.jpg: ignoring corrupt image/label: non-normalized or out of bounds coordinates [     1.0382]\n",
            "\u001b[34m\u001b[1mval: \u001b[0mWARNING ⚠️ /content/plat-detection-3-(experimental)-3/valid/images/25-E-2101-PAD-06-21_jpg.rf.b30901f4be80407912b5ef9e62d72eed.jpg: ignoring corrupt image/label: non-normalized or out of bounds coordinates [     1.1171]\n",
            "\u001b[34m\u001b[1mval: \u001b[0mWARNING ⚠️ /content/plat-detection-3-(experimental)-3/valid/images/256-E-4572-SS_jpg.rf.5eb64be99439cd6ed976c7aced8aba1b.jpg: ignoring corrupt image/label: non-normalized or out of bounds coordinates [     1.0417]\n",
            "\u001b[34m\u001b[1mval: \u001b[0mWARNING ⚠️ /content/plat-detection-3-(experimental)-3/valid/images/297-E-1169-PY-05-20_jpg.rf.f22879b9d99e057a28e73ca9fa468f8e.jpg: ignoring corrupt image/label: non-normalized or out of bounds coordinates [     1.0692]\n",
            "\u001b[34m\u001b[1mval: \u001b[0mWARNING ⚠️ /content/plat-detection-3-(experimental)-3/valid/images/314-E-3016-SB-10-18_jpg.rf.695a66f1757d64bfb36e5364ffdeacee.jpg: ignoring corrupt image/label: non-normalized or out of bounds coordinates [     1.0199]\n",
            "\u001b[34m\u001b[1mval: \u001b[0mWARNING ⚠️ /content/plat-detection-3-(experimental)-3/valid/images/317-E-5064-SE_jpg.rf.3005f9b210779b6df1b2f4afe97d604f.jpg: ignoring corrupt image/label: non-normalized or out of bounds coordinates [     1.0361]\n",
            "\u001b[34m\u001b[1mval: \u001b[0mWARNING ⚠️ /content/plat-detection-3-(experimental)-3/valid/images/331-E-2843-HB-08-21_jpg.rf.65313485fee587fdd3c94c2733e712d7.jpg: ignoring corrupt image/label: non-normalized or out of bounds coordinates [     1.0168]\n",
            "\u001b[34m\u001b[1mval: \u001b[0mWARNING ⚠️ /content/plat-detection-3-(experimental)-3/valid/images/336-E-2909-TP-12-21_jpg.rf.2a9f570a24de3c26fae29f8e2faca375.jpg: ignoring corrupt image/label: non-normalized or out of bounds coordinates [     1.0372]\n",
            "\u001b[34m\u001b[1mval: \u001b[0mWARNING ⚠️ /content/plat-detection-3-(experimental)-3/valid/images/337-E-3955-PAK-02-22_jpg.rf.4e6cda82ce81880686d3f98d76e6ab6f.jpg: ignoring corrupt image/label: non-normalized or out of bounds coordinates [     1.2406]\n",
            "\u001b[34m\u001b[1mval: \u001b[0mWARNING ⚠️ /content/plat-detection-3-(experimental)-3/valid/images/342-E-2544-QD-11-18_jpg.rf.daafde322961ac6bd4b92f183c82f7f4.jpg: ignoring corrupt image/label: non-normalized or out of bounds coordinates [     1.0396]\n",
            "\u001b[34m\u001b[1mval: \u001b[0mWARNING ⚠️ /content/plat-detection-3-(experimental)-3/valid/images/348-E-4160TQ-10-17_jpeg_jpg.rf.369bfc5f41166f3f3b59d18fb63e5b20.jpg: ignoring corrupt image/label: non-normalized or out of bounds coordinates [     1.0427]\n",
            "\u001b[34m\u001b[1mval: \u001b[0mWARNING ⚠️ /content/plat-detection-3-(experimental)-3/valid/images/35-E-5026-SF_jpg.rf.ee8852daa4b2c255287b2c4d2a628475.jpg: ignoring corrupt image/label: non-normalized or out of bounds coordinates [     1.0432]\n",
            "\u001b[34m\u001b[1mval: \u001b[0mWARNING ⚠️ /content/plat-detection-3-(experimental)-3/valid/images/38-E-3747-RE-08-15_jpg.rf.c840940e0819d2798ebeb22b9a2749e0.jpg: ignoring corrupt image/label: non-normalized or out of bounds coordinates [     1.0655]\n",
            "\u001b[34m\u001b[1mval: \u001b[0mWARNING ⚠️ /content/plat-detection-3-(experimental)-3/valid/images/40-E-2324-OM-09-19_jpg.rf.0f462caa7dbe3c25ee038652006ea1a5.jpg: ignoring corrupt image/label: non-normalized or out of bounds coordinates [     1.0077]\n",
            "\u001b[34m\u001b[1mval: \u001b[0mWARNING ⚠️ /content/plat-detection-3-(experimental)-3/valid/images/46-E-4531-TV-04-18_jpg.rf.156bf2fd41da3f2576f50642f868306c.jpg: ignoring corrupt image/label: non-normalized or out of bounds coordinates [     1.0824]\n",
            "\u001b[34m\u001b[1mval: \u001b[0mWARNING ⚠️ /content/plat-detection-3-(experimental)-3/valid/images/7-E-4594-Q-08-18_jpg.rf.1696d072bc97d5153aedb6b49aa3625c.jpg: ignoring corrupt image/label: non-normalized or out of bounds coordinates [     1.0263]\n",
            "\u001b[34m\u001b[1mval: \u001b[0mWARNING ⚠️ /content/plat-detection-3-(experimental)-3/valid/images/74-E-2393-TT-01-18_jpg.rf.4fdec37afeadb637c9abaf1a5b800c44.jpg: ignoring corrupt image/label: non-normalized or out of bounds coordinates [     1.0149]\n",
            "\u001b[34m\u001b[1mval: \u001b[0mWARNING ⚠️ /content/plat-detection-3-(experimental)-3/valid/images/75-E-2956-RP_jpg.rf.d1458a2ee70d2dea8f8533e72de50437.jpg: ignoring corrupt image/label: non-normalized or out of bounds coordinates [     1.1232]\n",
            "\u001b[34m\u001b[1mval: \u001b[0mWARNING ⚠️ /content/plat-detection-3-(experimental)-3/valid/images/77-E-6295-QL-09-19_jpg.rf.2b63786adb78e72087008f17f63bc08d.jpg: ignoring corrupt image/label: non-normalized or out of bounds coordinates [      1.096]\n",
            "\u001b[34m\u001b[1mval: \u001b[0mWARNING ⚠️ /content/plat-detection-3-(experimental)-3/valid/images/86-E-5202-TA-03-19_jpg.rf.51f5a0c8a3987729d04f7009d5e35daa.jpg: ignoring corrupt image/label: non-normalized or out of bounds coordinates [     1.0659]\n",
            "\u001b[34m\u001b[1mval: \u001b[0mWARNING ⚠️ /content/plat-detection-3-(experimental)-3/valid/images/9-E-2633-RO-11-16_jpg.rf.3b57f8a98e3224623e3795e9ff9165ad.jpg: ignoring corrupt image/label: non-normalized or out of bounds coordinates [     1.0987]\n",
            "\u001b[34m\u001b[1mval: \u001b[0mWARNING ⚠️ /content/plat-detection-3-(experimental)-3/valid/images/90-E-5811-RO-10-18_jpg.rf.46c37fb0e97f4079b3faed4a875bad70.jpg: ignoring corrupt image/label: non-normalized or out of bounds coordinates [     1.0059]\n",
            "\u001b[34m\u001b[1mval: \u001b[0mWARNING ⚠️ /content/plat-detection-3-(experimental)-3/valid/images/91-E-6554-ZL-05-22_jpg.rf.15386228cff8a4e65952324711f69007.jpg: ignoring corrupt image/label: non-normalized or out of bounds coordinates [     1.0434]\n",
            "\u001b[34m\u001b[1mval: \u001b[0mWARNING ⚠️ /content/plat-detection-3-(experimental)-3/valid/images/DM2043H_jpg.rf.a68007f82598969b06e2f9d34536186e.jpg: ignoring corrupt image/label: non-normalized or out of bounds coordinates [     1.1527]\n"
          ]
        },
        {
          "output_type": "stream",
          "name": "stderr",
          "text": [
            "\n"
          ]
        },
        {
          "output_type": "stream",
          "name": "stdout",
          "text": [
            "\u001b[34m\u001b[1mval: \u001b[0mNew cache created: /content/plat-detection-3-(experimental)-3/valid/labels.cache\n",
            "Plotting labels to runs/obb/train/labels.jpg... \n",
            "\u001b[34m\u001b[1moptimizer:\u001b[0m 'optimizer=auto' found, ignoring 'lr0=0.01' and 'momentum=0.937' and determining best 'optimizer', 'lr0' and 'momentum' automatically... \n",
            "\u001b[34m\u001b[1moptimizer:\u001b[0m AdamW(lr=0.002, momentum=0.9) with parameter groups 63 weight(decay=0.0), 73 weight(decay=0.0005), 72 bias(decay=0.0)\n",
            "\u001b[34m\u001b[1mTensorBoard: \u001b[0mmodel graph visualization added ✅\n",
            "Image sizes 640 train, 640 val\n",
            "Using 2 dataloader workers\n",
            "Logging results to \u001b[1mruns/obb/train\u001b[0m\n",
            "Starting training for 50 epochs...\n",
            "\n",
            "      Epoch    GPU_mem   box_loss   cls_loss   dfl_loss  Instances       Size\n"
          ]
        },
        {
          "output_type": "stream",
          "name": "stderr",
          "text": [
            "       1/50      2.56G      1.352      1.473      2.911         27        640: 100%|██████████| 193/193 [01:16<00:00,  2.53it/s]\n",
            "                 Class     Images  Instances      Box(P          R      mAP50  mAP50-95): 100%|██████████| 28/28 [00:04<00:00,  5.98it/s]\n"
          ]
        },
        {
          "output_type": "stream",
          "name": "stdout",
          "text": [
            "                   all        434        467      0.931      0.919      0.954      0.532\n",
            "\n",
            "      Epoch    GPU_mem   box_loss   cls_loss   dfl_loss  Instances       Size\n"
          ]
        },
        {
          "output_type": "stream",
          "name": "stderr",
          "text": [
            "       2/50      2.17G      1.087     0.8489      2.652         27        640: 100%|██████████| 193/193 [01:10<00:00,  2.75it/s]\n",
            "                 Class     Images  Instances      Box(P          R      mAP50  mAP50-95): 100%|██████████| 28/28 [00:04<00:00,  6.00it/s]"
          ]
        },
        {
          "output_type": "stream",
          "name": "stdout",
          "text": [
            "                   all        434        467      0.844      0.867      0.922      0.563\n"
          ]
        },
        {
          "output_type": "stream",
          "name": "stderr",
          "text": [
            "\n"
          ]
        },
        {
          "output_type": "stream",
          "name": "stdout",
          "text": [
            "\n",
            "      Epoch    GPU_mem   box_loss   cls_loss   dfl_loss  Instances       Size\n"
          ]
        },
        {
          "output_type": "stream",
          "name": "stderr",
          "text": [
            "       3/50      2.18G      1.056     0.7943      2.604         34        640: 100%|██████████| 193/193 [01:10<00:00,  2.74it/s]\n",
            "                 Class     Images  Instances      Box(P          R      mAP50  mAP50-95): 100%|██████████| 28/28 [00:04<00:00,  5.85it/s]"
          ]
        },
        {
          "output_type": "stream",
          "name": "stdout",
          "text": [
            "                   all        434        467      0.814      0.931      0.937      0.602\n"
          ]
        },
        {
          "output_type": "stream",
          "name": "stderr",
          "text": [
            "\n"
          ]
        },
        {
          "output_type": "stream",
          "name": "stdout",
          "text": [
            "\n",
            "      Epoch    GPU_mem   box_loss   cls_loss   dfl_loss  Instances       Size\n"
          ]
        },
        {
          "output_type": "stream",
          "name": "stderr",
          "text": [
            "       4/50      2.18G      1.001     0.7502      2.575         23        640: 100%|██████████| 193/193 [01:09<00:00,  2.77it/s]\n",
            "                 Class     Images  Instances      Box(P          R      mAP50  mAP50-95): 100%|██████████| 28/28 [00:05<00:00,  5.19it/s]"
          ]
        },
        {
          "output_type": "stream",
          "name": "stdout",
          "text": [
            "                   all        434        467      0.912      0.983      0.967      0.641\n"
          ]
        },
        {
          "output_type": "stream",
          "name": "stderr",
          "text": [
            "\n"
          ]
        },
        {
          "output_type": "stream",
          "name": "stdout",
          "text": [
            "\n",
            "      Epoch    GPU_mem   box_loss   cls_loss   dfl_loss  Instances       Size\n"
          ]
        },
        {
          "output_type": "stream",
          "name": "stderr",
          "text": [
            "       5/50      2.19G     0.9519     0.7231      2.502         29        640: 100%|██████████| 193/193 [01:12<00:00,  2.67it/s]\n",
            "                 Class     Images  Instances      Box(P          R      mAP50  mAP50-95): 100%|██████████| 28/28 [00:04<00:00,  6.00it/s]"
          ]
        },
        {
          "output_type": "stream",
          "name": "stdout",
          "text": [
            "                   all        434        467      0.773      0.878      0.909      0.668\n"
          ]
        },
        {
          "output_type": "stream",
          "name": "stderr",
          "text": [
            "\n"
          ]
        },
        {
          "output_type": "stream",
          "name": "stdout",
          "text": [
            "\n",
            "      Epoch    GPU_mem   box_loss   cls_loss   dfl_loss  Instances       Size\n"
          ]
        },
        {
          "output_type": "stream",
          "name": "stderr",
          "text": [
            "       6/50      2.17G     0.9257     0.6922      2.487         25        640: 100%|██████████| 193/193 [01:09<00:00,  2.78it/s]\n",
            "                 Class     Images  Instances      Box(P          R      mAP50  mAP50-95): 100%|██████████| 28/28 [00:05<00:00,  5.38it/s]"
          ]
        },
        {
          "output_type": "stream",
          "name": "stdout",
          "text": [
            "                   all        434        467      0.825      0.845      0.916      0.674\n"
          ]
        },
        {
          "output_type": "stream",
          "name": "stderr",
          "text": [
            "\n"
          ]
        },
        {
          "output_type": "stream",
          "name": "stdout",
          "text": [
            "\n",
            "      Epoch    GPU_mem   box_loss   cls_loss   dfl_loss  Instances       Size\n"
          ]
        },
        {
          "output_type": "stream",
          "name": "stderr",
          "text": [
            "       7/50      2.18G     0.9065     0.6597      2.464         25        640: 100%|██████████| 193/193 [01:10<00:00,  2.75it/s]\n",
            "                 Class     Images  Instances      Box(P          R      mAP50  mAP50-95): 100%|██████████| 28/28 [00:05<00:00,  5.00it/s]"
          ]
        },
        {
          "output_type": "stream",
          "name": "stdout",
          "text": [
            "                   all        434        467      0.883      0.972       0.96      0.695\n"
          ]
        },
        {
          "output_type": "stream",
          "name": "stderr",
          "text": [
            "\n"
          ]
        },
        {
          "output_type": "stream",
          "name": "stdout",
          "text": [
            "\n",
            "      Epoch    GPU_mem   box_loss   cls_loss   dfl_loss  Instances       Size\n"
          ]
        },
        {
          "output_type": "stream",
          "name": "stderr",
          "text": [
            "       8/50      2.18G      0.894     0.6501      2.425         25        640: 100%|██████████| 193/193 [01:09<00:00,  2.79it/s]\n",
            "                 Class     Images  Instances      Box(P          R      mAP50  mAP50-95): 100%|██████████| 28/28 [00:05<00:00,  4.88it/s]"
          ]
        },
        {
          "output_type": "stream",
          "name": "stdout",
          "text": [
            "                   all        434        467      0.882      0.929      0.966      0.716\n"
          ]
        },
        {
          "output_type": "stream",
          "name": "stderr",
          "text": [
            "\n"
          ]
        },
        {
          "output_type": "stream",
          "name": "stdout",
          "text": [
            "\n",
            "      Epoch    GPU_mem   box_loss   cls_loss   dfl_loss  Instances       Size\n"
          ]
        },
        {
          "output_type": "stream",
          "name": "stderr",
          "text": [
            "       9/50      2.18G     0.8686     0.6323      2.404         26        640: 100%|██████████| 193/193 [01:13<00:00,  2.61it/s]\n",
            "                 Class     Images  Instances      Box(P          R      mAP50  mAP50-95): 100%|██████████| 28/28 [00:04<00:00,  5.69it/s]"
          ]
        },
        {
          "output_type": "stream",
          "name": "stdout",
          "text": [
            "                   all        434        467      0.915      0.955      0.975      0.726\n"
          ]
        },
        {
          "output_type": "stream",
          "name": "stderr",
          "text": [
            "\n"
          ]
        },
        {
          "output_type": "stream",
          "name": "stdout",
          "text": [
            "\n",
            "      Epoch    GPU_mem   box_loss   cls_loss   dfl_loss  Instances       Size\n"
          ]
        },
        {
          "output_type": "stream",
          "name": "stderr",
          "text": [
            "      10/50      2.17G     0.8666      0.629      2.381         21        640: 100%|██████████| 193/193 [01:10<00:00,  2.72it/s]\n",
            "                 Class     Images  Instances      Box(P          R      mAP50  mAP50-95): 100%|██████████| 28/28 [00:04<00:00,  6.05it/s]"
          ]
        },
        {
          "output_type": "stream",
          "name": "stdout",
          "text": [
            "                   all        434        467      0.937       0.96      0.978      0.757\n"
          ]
        },
        {
          "output_type": "stream",
          "name": "stderr",
          "text": [
            "\n"
          ]
        },
        {
          "output_type": "stream",
          "name": "stdout",
          "text": [
            "\n",
            "      Epoch    GPU_mem   box_loss   cls_loss   dfl_loss  Instances       Size\n"
          ]
        },
        {
          "output_type": "stream",
          "name": "stderr",
          "text": [
            "      11/50      2.18G     0.8399     0.6008      2.376         26        640: 100%|██████████| 193/193 [01:11<00:00,  2.69it/s]\n",
            "                 Class     Images  Instances      Box(P          R      mAP50  mAP50-95): 100%|██████████| 28/28 [00:05<00:00,  5.06it/s]"
          ]
        },
        {
          "output_type": "stream",
          "name": "stdout",
          "text": [
            "                   all        434        467      0.849      0.925      0.947      0.702\n"
          ]
        },
        {
          "output_type": "stream",
          "name": "stderr",
          "text": [
            "\n"
          ]
        },
        {
          "output_type": "stream",
          "name": "stdout",
          "text": [
            "\n",
            "      Epoch    GPU_mem   box_loss   cls_loss   dfl_loss  Instances       Size\n"
          ]
        },
        {
          "output_type": "stream",
          "name": "stderr",
          "text": [
            "      12/50      2.18G     0.8349     0.5957      2.359         27        640: 100%|██████████| 193/193 [01:08<00:00,  2.81it/s]\n",
            "                 Class     Images  Instances      Box(P          R      mAP50  mAP50-95): 100%|██████████| 28/28 [00:05<00:00,  5.48it/s]"
          ]
        },
        {
          "output_type": "stream",
          "name": "stdout",
          "text": [
            "                   all        434        467       0.95      0.975      0.978      0.794\n"
          ]
        },
        {
          "output_type": "stream",
          "name": "stderr",
          "text": [
            "\n"
          ]
        },
        {
          "output_type": "stream",
          "name": "stdout",
          "text": [
            "\n",
            "      Epoch    GPU_mem   box_loss   cls_loss   dfl_loss  Instances       Size\n"
          ]
        },
        {
          "output_type": "stream",
          "name": "stderr",
          "text": [
            "      13/50       2.2G     0.8386     0.5924      2.347         24        640: 100%|██████████| 193/193 [01:10<00:00,  2.73it/s]\n",
            "                 Class     Images  Instances      Box(P          R      mAP50  mAP50-95): 100%|██████████| 28/28 [00:04<00:00,  5.93it/s]"
          ]
        },
        {
          "output_type": "stream",
          "name": "stdout",
          "text": [
            "                   all        434        467      0.944      0.976      0.979      0.785\n"
          ]
        },
        {
          "output_type": "stream",
          "name": "stderr",
          "text": [
            "\n"
          ]
        },
        {
          "output_type": "stream",
          "name": "stdout",
          "text": [
            "\n",
            "      Epoch    GPU_mem   box_loss   cls_loss   dfl_loss  Instances       Size\n"
          ]
        },
        {
          "output_type": "stream",
          "name": "stderr",
          "text": [
            "      14/50      2.17G     0.8424     0.6023      2.354         25        640: 100%|██████████| 193/193 [01:08<00:00,  2.80it/s]\n",
            "                 Class     Images  Instances      Box(P          R      mAP50  mAP50-95): 100%|██████████| 28/28 [00:04<00:00,  6.02it/s]"
          ]
        },
        {
          "output_type": "stream",
          "name": "stdout",
          "text": [
            "                   all        434        467      0.902      0.946      0.969      0.773\n"
          ]
        },
        {
          "output_type": "stream",
          "name": "stderr",
          "text": [
            "\n"
          ]
        },
        {
          "output_type": "stream",
          "name": "stdout",
          "text": [
            "\n",
            "      Epoch    GPU_mem   box_loss   cls_loss   dfl_loss  Instances       Size\n"
          ]
        },
        {
          "output_type": "stream",
          "name": "stderr",
          "text": [
            "      15/50      2.18G     0.8377     0.5786      2.341         24        640: 100%|██████████| 193/193 [01:09<00:00,  2.78it/s]\n",
            "                 Class     Images  Instances      Box(P          R      mAP50  mAP50-95): 100%|██████████| 28/28 [00:04<00:00,  5.87it/s]"
          ]
        },
        {
          "output_type": "stream",
          "name": "stdout",
          "text": [
            "                   all        434        467      0.886      0.966      0.965      0.775\n"
          ]
        },
        {
          "output_type": "stream",
          "name": "stderr",
          "text": [
            "\n"
          ]
        },
        {
          "output_type": "stream",
          "name": "stdout",
          "text": [
            "\n",
            "      Epoch    GPU_mem   box_loss   cls_loss   dfl_loss  Instances       Size\n"
          ]
        },
        {
          "output_type": "stream",
          "name": "stderr",
          "text": [
            "      16/50      2.18G     0.8071     0.5637      2.294         26        640: 100%|██████████| 193/193 [01:08<00:00,  2.81it/s]\n",
            "                 Class     Images  Instances      Box(P          R      mAP50  mAP50-95): 100%|██████████| 28/28 [00:04<00:00,  6.08it/s]"
          ]
        },
        {
          "output_type": "stream",
          "name": "stdout",
          "text": [
            "                   all        434        467      0.908      0.927      0.964       0.76\n"
          ]
        },
        {
          "output_type": "stream",
          "name": "stderr",
          "text": [
            "\n"
          ]
        },
        {
          "output_type": "stream",
          "name": "stdout",
          "text": [
            "\n",
            "      Epoch    GPU_mem   box_loss   cls_loss   dfl_loss  Instances       Size\n"
          ]
        },
        {
          "output_type": "stream",
          "name": "stderr",
          "text": [
            "      17/50      2.18G     0.8116     0.5631       2.32         30        640: 100%|██████████| 193/193 [01:12<00:00,  2.66it/s]\n",
            "                 Class     Images  Instances      Box(P          R      mAP50  mAP50-95): 100%|██████████| 28/28 [00:04<00:00,  6.08it/s]"
          ]
        },
        {
          "output_type": "stream",
          "name": "stdout",
          "text": [
            "                   all        434        467      0.936      0.972      0.981      0.793\n"
          ]
        },
        {
          "output_type": "stream",
          "name": "stderr",
          "text": [
            "\n"
          ]
        },
        {
          "output_type": "stream",
          "name": "stdout",
          "text": [
            "\n",
            "      Epoch    GPU_mem   box_loss   cls_loss   dfl_loss  Instances       Size\n"
          ]
        },
        {
          "output_type": "stream",
          "name": "stderr",
          "text": [
            "      18/50      2.17G     0.7927     0.5571      2.302         22        640: 100%|██████████| 193/193 [01:08<00:00,  2.82it/s]\n",
            "                 Class     Images  Instances      Box(P          R      mAP50  mAP50-95): 100%|██████████| 28/28 [00:04<00:00,  6.14it/s]"
          ]
        },
        {
          "output_type": "stream",
          "name": "stdout",
          "text": [
            "                   all        434        467      0.907      0.927      0.965      0.759\n"
          ]
        },
        {
          "output_type": "stream",
          "name": "stderr",
          "text": [
            "\n"
          ]
        },
        {
          "output_type": "stream",
          "name": "stdout",
          "text": [
            "\n",
            "      Epoch    GPU_mem   box_loss   cls_loss   dfl_loss  Instances       Size\n"
          ]
        },
        {
          "output_type": "stream",
          "name": "stderr",
          "text": [
            "      19/50      2.18G     0.7838     0.5453      2.299         27        640: 100%|██████████| 193/193 [01:09<00:00,  2.79it/s]\n",
            "                 Class     Images  Instances      Box(P          R      mAP50  mAP50-95): 100%|██████████| 28/28 [00:04<00:00,  6.01it/s]"
          ]
        },
        {
          "output_type": "stream",
          "name": "stdout",
          "text": [
            "                   all        434        467      0.956      0.971      0.986      0.774\n"
          ]
        },
        {
          "output_type": "stream",
          "name": "stderr",
          "text": [
            "\n"
          ]
        },
        {
          "output_type": "stream",
          "name": "stdout",
          "text": [
            "\n",
            "      Epoch    GPU_mem   box_loss   cls_loss   dfl_loss  Instances       Size\n"
          ]
        },
        {
          "output_type": "stream",
          "name": "stderr",
          "text": [
            "      20/50      2.18G     0.7817     0.5357      2.312         25        640: 100%|██████████| 193/193 [01:09<00:00,  2.79it/s]\n",
            "                 Class     Images  Instances      Box(P          R      mAP50  mAP50-95): 100%|██████████| 28/28 [00:05<00:00,  5.48it/s]"
          ]
        },
        {
          "output_type": "stream",
          "name": "stdout",
          "text": [
            "                   all        434        467      0.934      0.857       0.96      0.754\n"
          ]
        },
        {
          "output_type": "stream",
          "name": "stderr",
          "text": [
            "\n"
          ]
        },
        {
          "output_type": "stream",
          "name": "stdout",
          "text": [
            "\n",
            "      Epoch    GPU_mem   box_loss   cls_loss   dfl_loss  Instances       Size\n"
          ]
        },
        {
          "output_type": "stream",
          "name": "stderr",
          "text": [
            "      21/50      2.18G     0.7783     0.5339      2.299         27        640: 100%|██████████| 193/193 [01:05<00:00,  2.95it/s]\n",
            "                 Class     Images  Instances      Box(P          R      mAP50  mAP50-95): 100%|██████████| 28/28 [00:07<00:00,  3.94it/s]"
          ]
        },
        {
          "output_type": "stream",
          "name": "stdout",
          "text": [
            "                   all        434        467      0.933      0.962      0.982      0.809\n"
          ]
        },
        {
          "output_type": "stream",
          "name": "stderr",
          "text": [
            "\n"
          ]
        },
        {
          "output_type": "stream",
          "name": "stdout",
          "text": [
            "\n",
            "      Epoch    GPU_mem   box_loss   cls_loss   dfl_loss  Instances       Size\n"
          ]
        },
        {
          "output_type": "stream",
          "name": "stderr",
          "text": [
            "      22/50      2.17G     0.7773     0.5359      2.279         31        640: 100%|██████████| 193/193 [01:10<00:00,  2.72it/s]\n",
            "                 Class     Images  Instances      Box(P          R      mAP50  mAP50-95): 100%|██████████| 28/28 [00:06<00:00,  4.38it/s]"
          ]
        },
        {
          "output_type": "stream",
          "name": "stdout",
          "text": [
            "                   all        434        467       0.92       0.94      0.978      0.755\n"
          ]
        },
        {
          "output_type": "stream",
          "name": "stderr",
          "text": [
            "\n"
          ]
        },
        {
          "output_type": "stream",
          "name": "stdout",
          "text": [
            "\n",
            "      Epoch    GPU_mem   box_loss   cls_loss   dfl_loss  Instances       Size\n"
          ]
        },
        {
          "output_type": "stream",
          "name": "stderr",
          "text": [
            "      23/50      2.18G      0.764     0.5215      2.266         25        640: 100%|██████████| 193/193 [01:05<00:00,  2.94it/s]\n",
            "                 Class     Images  Instances      Box(P          R      mAP50  mAP50-95): 100%|██████████| 28/28 [00:06<00:00,  4.06it/s]"
          ]
        },
        {
          "output_type": "stream",
          "name": "stdout",
          "text": [
            "                   all        434        467       0.96      0.985      0.985      0.811\n"
          ]
        },
        {
          "output_type": "stream",
          "name": "stderr",
          "text": [
            "\n"
          ]
        },
        {
          "output_type": "stream",
          "name": "stdout",
          "text": [
            "\n",
            "      Epoch    GPU_mem   box_loss   cls_loss   dfl_loss  Instances       Size\n"
          ]
        },
        {
          "output_type": "stream",
          "name": "stderr",
          "text": [
            "      24/50      2.18G     0.7442     0.5113      2.256         25        640: 100%|██████████| 193/193 [01:04<00:00,  2.99it/s]\n",
            "                 Class     Images  Instances      Box(P          R      mAP50  mAP50-95): 100%|██████████| 28/28 [00:07<00:00,  3.81it/s]"
          ]
        },
        {
          "output_type": "stream",
          "name": "stdout",
          "text": [
            "                   all        434        467      0.963      0.985      0.987       0.82\n"
          ]
        },
        {
          "output_type": "stream",
          "name": "stderr",
          "text": [
            "\n"
          ]
        },
        {
          "output_type": "stream",
          "name": "stdout",
          "text": [
            "\n",
            "      Epoch    GPU_mem   box_loss   cls_loss   dfl_loss  Instances       Size\n"
          ]
        },
        {
          "output_type": "stream",
          "name": "stderr",
          "text": [
            "      25/50      2.18G     0.7595     0.5117      2.258         24        640: 100%|██████████| 193/193 [01:05<00:00,  2.96it/s]\n",
            "                 Class     Images  Instances      Box(P          R      mAP50  mAP50-95): 100%|██████████| 28/28 [00:06<00:00,  4.23it/s]"
          ]
        },
        {
          "output_type": "stream",
          "name": "stdout",
          "text": [
            "                   all        434        467      0.958      0.976      0.987      0.804\n"
          ]
        },
        {
          "output_type": "stream",
          "name": "stderr",
          "text": [
            "\n"
          ]
        },
        {
          "output_type": "stream",
          "name": "stdout",
          "text": [
            "\n",
            "      Epoch    GPU_mem   box_loss   cls_loss   dfl_loss  Instances       Size\n"
          ]
        },
        {
          "output_type": "stream",
          "name": "stderr",
          "text": [
            "      26/50      2.17G     0.7513     0.5139      2.265         29        640: 100%|██████████| 193/193 [01:09<00:00,  2.76it/s]\n",
            "                 Class     Images  Instances      Box(P          R      mAP50  mAP50-95): 100%|██████████| 28/28 [00:05<00:00,  5.30it/s]"
          ]
        },
        {
          "output_type": "stream",
          "name": "stdout",
          "text": [
            "                   all        434        467      0.968      0.987      0.989      0.806\n"
          ]
        },
        {
          "output_type": "stream",
          "name": "stderr",
          "text": [
            "\n"
          ]
        },
        {
          "output_type": "stream",
          "name": "stdout",
          "text": [
            "\n",
            "      Epoch    GPU_mem   box_loss   cls_loss   dfl_loss  Instances       Size\n"
          ]
        },
        {
          "output_type": "stream",
          "name": "stderr",
          "text": [
            "      27/50      2.18G     0.7586     0.5163       2.25         29        640: 100%|██████████| 193/193 [01:08<00:00,  2.82it/s]\n",
            "                 Class     Images  Instances      Box(P          R      mAP50  mAP50-95): 100%|██████████| 28/28 [00:04<00:00,  5.93it/s]"
          ]
        },
        {
          "output_type": "stream",
          "name": "stdout",
          "text": [
            "                   all        434        467      0.958      0.975      0.988      0.826\n"
          ]
        },
        {
          "output_type": "stream",
          "name": "stderr",
          "text": [
            "\n"
          ]
        },
        {
          "output_type": "stream",
          "name": "stdout",
          "text": [
            "\n",
            "      Epoch    GPU_mem   box_loss   cls_loss   dfl_loss  Instances       Size\n"
          ]
        },
        {
          "output_type": "stream",
          "name": "stderr",
          "text": [
            "      28/50      2.18G     0.7332     0.5108      2.216         30        640: 100%|██████████| 193/193 [01:06<00:00,  2.88it/s]\n",
            "                 Class     Images  Instances      Box(P          R      mAP50  mAP50-95): 100%|██████████| 28/28 [00:04<00:00,  6.23it/s]"
          ]
        },
        {
          "output_type": "stream",
          "name": "stdout",
          "text": [
            "                   all        434        467      0.961      0.983      0.989      0.817\n"
          ]
        },
        {
          "output_type": "stream",
          "name": "stderr",
          "text": [
            "\n"
          ]
        },
        {
          "output_type": "stream",
          "name": "stdout",
          "text": [
            "\n",
            "      Epoch    GPU_mem   box_loss   cls_loss   dfl_loss  Instances       Size\n"
          ]
        },
        {
          "output_type": "stream",
          "name": "stderr",
          "text": [
            "      29/50      2.18G     0.7403     0.5032      2.225         27        640: 100%|██████████| 193/193 [01:06<00:00,  2.89it/s]\n",
            "                 Class     Images  Instances      Box(P          R      mAP50  mAP50-95): 100%|██████████| 28/28 [00:04<00:00,  6.05it/s]"
          ]
        },
        {
          "output_type": "stream",
          "name": "stdout",
          "text": [
            "                   all        434        467      0.971      0.983      0.987      0.779\n"
          ]
        },
        {
          "output_type": "stream",
          "name": "stderr",
          "text": [
            "\n"
          ]
        },
        {
          "output_type": "stream",
          "name": "stdout",
          "text": [
            "\n",
            "      Epoch    GPU_mem   box_loss   cls_loss   dfl_loss  Instances       Size\n"
          ]
        },
        {
          "output_type": "stream",
          "name": "stderr",
          "text": [
            "      30/50      2.17G     0.7319     0.4956      2.224         23        640: 100%|██████████| 193/193 [01:08<00:00,  2.83it/s]\n",
            "                 Class     Images  Instances      Box(P          R      mAP50  mAP50-95): 100%|██████████| 28/28 [00:06<00:00,  4.18it/s]"
          ]
        },
        {
          "output_type": "stream",
          "name": "stdout",
          "text": [
            "                   all        434        467      0.931      0.983      0.984      0.823\n"
          ]
        },
        {
          "output_type": "stream",
          "name": "stderr",
          "text": [
            "\n"
          ]
        },
        {
          "output_type": "stream",
          "name": "stdout",
          "text": [
            "\n",
            "      Epoch    GPU_mem   box_loss   cls_loss   dfl_loss  Instances       Size\n"
          ]
        },
        {
          "output_type": "stream",
          "name": "stderr",
          "text": [
            "      31/50      2.18G     0.7255     0.4907      2.245         21        640: 100%|██████████| 193/193 [01:03<00:00,  3.06it/s]\n",
            "                 Class     Images  Instances      Box(P          R      mAP50  mAP50-95): 100%|██████████| 28/28 [00:07<00:00,  3.98it/s]"
          ]
        },
        {
          "output_type": "stream",
          "name": "stdout",
          "text": [
            "                   all        434        467      0.974      0.974      0.991      0.835\n"
          ]
        },
        {
          "output_type": "stream",
          "name": "stderr",
          "text": [
            "\n"
          ]
        },
        {
          "output_type": "stream",
          "name": "stdout",
          "text": [
            "\n",
            "      Epoch    GPU_mem   box_loss   cls_loss   dfl_loss  Instances       Size\n"
          ]
        },
        {
          "output_type": "stream",
          "name": "stderr",
          "text": [
            "      32/50      2.18G      0.714     0.4904      2.199         30        640: 100%|██████████| 193/193 [01:03<00:00,  3.04it/s]\n",
            "                 Class     Images  Instances      Box(P          R      mAP50  mAP50-95): 100%|██████████| 28/28 [00:06<00:00,  4.01it/s]"
          ]
        },
        {
          "output_type": "stream",
          "name": "stdout",
          "text": [
            "                   all        434        467      0.947      0.952      0.983      0.811\n"
          ]
        },
        {
          "output_type": "stream",
          "name": "stderr",
          "text": [
            "\n"
          ]
        },
        {
          "output_type": "stream",
          "name": "stdout",
          "text": [
            "\n",
            "      Epoch    GPU_mem   box_loss   cls_loss   dfl_loss  Instances       Size\n"
          ]
        },
        {
          "output_type": "stream",
          "name": "stderr",
          "text": [
            "      33/50      2.18G     0.7055     0.4785      2.205         29        640: 100%|██████████| 193/193 [01:05<00:00,  2.95it/s]\n",
            "                 Class     Images  Instances      Box(P          R      mAP50  mAP50-95): 100%|██████████| 28/28 [00:06<00:00,  4.38it/s]"
          ]
        },
        {
          "output_type": "stream",
          "name": "stdout",
          "text": [
            "                   all        434        467      0.955      0.958      0.985      0.803\n"
          ]
        },
        {
          "output_type": "stream",
          "name": "stderr",
          "text": [
            "\n"
          ]
        },
        {
          "output_type": "stream",
          "name": "stdout",
          "text": [
            "\n",
            "      Epoch    GPU_mem   box_loss   cls_loss   dfl_loss  Instances       Size\n"
          ]
        },
        {
          "output_type": "stream",
          "name": "stderr",
          "text": [
            "      34/50      2.17G     0.7066     0.4772      2.192         32        640: 100%|██████████| 193/193 [01:04<00:00,  2.99it/s]\n",
            "                 Class     Images  Instances      Box(P          R      mAP50  mAP50-95): 100%|██████████| 28/28 [00:05<00:00,  4.99it/s]"
          ]
        },
        {
          "output_type": "stream",
          "name": "stdout",
          "text": [
            "                   all        434        467      0.894      0.961      0.974      0.791\n"
          ]
        },
        {
          "output_type": "stream",
          "name": "stderr",
          "text": [
            "\n"
          ]
        },
        {
          "output_type": "stream",
          "name": "stdout",
          "text": [
            "\n",
            "      Epoch    GPU_mem   box_loss   cls_loss   dfl_loss  Instances       Size\n"
          ]
        },
        {
          "output_type": "stream",
          "name": "stderr",
          "text": [
            "      35/50      2.18G     0.7105     0.4811      2.199         27        640: 100%|██████████| 193/193 [01:10<00:00,  2.73it/s]\n",
            "                 Class     Images  Instances      Box(P          R      mAP50  mAP50-95): 100%|██████████| 28/28 [00:07<00:00,  3.99it/s]"
          ]
        },
        {
          "output_type": "stream",
          "name": "stdout",
          "text": [
            "                   all        434        467      0.967      0.985       0.99      0.841\n"
          ]
        },
        {
          "output_type": "stream",
          "name": "stderr",
          "text": [
            "\n"
          ]
        },
        {
          "output_type": "stream",
          "name": "stdout",
          "text": [
            "\n",
            "      Epoch    GPU_mem   box_loss   cls_loss   dfl_loss  Instances       Size\n"
          ]
        },
        {
          "output_type": "stream",
          "name": "stderr",
          "text": [
            "      36/50      2.18G     0.7022     0.4784      2.193         20        640: 100%|██████████| 193/193 [01:05<00:00,  2.96it/s]\n",
            "                 Class     Images  Instances      Box(P          R      mAP50  mAP50-95): 100%|██████████| 28/28 [00:06<00:00,  4.59it/s]"
          ]
        },
        {
          "output_type": "stream",
          "name": "stdout",
          "text": [
            "                   all        434        467      0.972      0.971      0.991      0.837\n"
          ]
        },
        {
          "output_type": "stream",
          "name": "stderr",
          "text": [
            "\n"
          ]
        },
        {
          "output_type": "stream",
          "name": "stdout",
          "text": [
            "\n",
            "      Epoch    GPU_mem   box_loss   cls_loss   dfl_loss  Instances       Size\n"
          ]
        },
        {
          "output_type": "stream",
          "name": "stderr",
          "text": [
            "      37/50      2.18G     0.7016     0.4759      2.189         24        640: 100%|██████████| 193/193 [01:07<00:00,  2.88it/s]\n",
            "                 Class     Images  Instances      Box(P          R      mAP50  mAP50-95): 100%|██████████| 28/28 [00:05<00:00,  5.54it/s]"
          ]
        },
        {
          "output_type": "stream",
          "name": "stdout",
          "text": [
            "                   all        434        467      0.958      0.983      0.987      0.838\n"
          ]
        },
        {
          "output_type": "stream",
          "name": "stderr",
          "text": [
            "\n"
          ]
        },
        {
          "output_type": "stream",
          "name": "stdout",
          "text": [
            "\n",
            "      Epoch    GPU_mem   box_loss   cls_loss   dfl_loss  Instances       Size\n"
          ]
        },
        {
          "output_type": "stream",
          "name": "stderr",
          "text": [
            "      38/50      2.17G     0.6965     0.4745      2.193         35        640: 100%|██████████| 193/193 [01:09<00:00,  2.78it/s]\n",
            "                 Class     Images  Instances      Box(P          R      mAP50  mAP50-95): 100%|██████████| 28/28 [00:04<00:00,  5.99it/s]"
          ]
        },
        {
          "output_type": "stream",
          "name": "stdout",
          "text": [
            "                   all        434        467       0.98      0.979       0.99      0.839\n"
          ]
        },
        {
          "output_type": "stream",
          "name": "stderr",
          "text": [
            "\n"
          ]
        },
        {
          "output_type": "stream",
          "name": "stdout",
          "text": [
            "\n",
            "      Epoch    GPU_mem   box_loss   cls_loss   dfl_loss  Instances       Size\n"
          ]
        },
        {
          "output_type": "stream",
          "name": "stderr",
          "text": [
            "      39/50      2.18G     0.6803     0.4606      2.178         20        640: 100%|██████████| 193/193 [01:12<00:00,  2.65it/s]\n",
            "                 Class     Images  Instances      Box(P          R      mAP50  mAP50-95): 100%|██████████| 28/28 [00:06<00:00,  4.61it/s]"
          ]
        },
        {
          "output_type": "stream",
          "name": "stdout",
          "text": [
            "                   all        434        467      0.967      0.987      0.991      0.836\n"
          ]
        },
        {
          "output_type": "stream",
          "name": "stderr",
          "text": [
            "\n"
          ]
        },
        {
          "output_type": "stream",
          "name": "stdout",
          "text": [
            "\n",
            "      Epoch    GPU_mem   box_loss   cls_loss   dfl_loss  Instances       Size\n"
          ]
        },
        {
          "output_type": "stream",
          "name": "stderr",
          "text": [
            "      40/50      2.18G     0.6897     0.4718      2.181         23        640: 100%|██████████| 193/193 [01:05<00:00,  2.95it/s]\n",
            "                 Class     Images  Instances      Box(P          R      mAP50  mAP50-95): 100%|██████████| 28/28 [00:06<00:00,  4.37it/s]"
          ]
        },
        {
          "output_type": "stream",
          "name": "stdout",
          "text": [
            "                   all        434        467      0.975      0.983       0.99      0.824\n"
          ]
        },
        {
          "output_type": "stream",
          "name": "stderr",
          "text": [
            "\n"
          ]
        },
        {
          "output_type": "stream",
          "name": "stdout",
          "text": [
            "Closing dataloader mosaic\n",
            "\u001b[34m\u001b[1malbumentations: \u001b[0mBlur(p=0.01, blur_limit=(3, 7)), MedianBlur(p=0.01, blur_limit=(3, 7)), ToGray(p=0.01, num_output_channels=3, method='weighted_average'), CLAHE(p=0.01, clip_limit=(1, 4.0), tile_grid_size=(8, 8))\n",
            "\n",
            "      Epoch    GPU_mem   box_loss   cls_loss   dfl_loss  Instances       Size\n"
          ]
        },
        {
          "output_type": "stream",
          "name": "stderr",
          "text": [
            "      41/50      2.46G     0.6588     0.4523       1.91         15        640: 100%|██████████| 193/193 [01:03<00:00,  3.02it/s]\n",
            "                 Class     Images  Instances      Box(P          R      mAP50  mAP50-95): 100%|██████████| 28/28 [00:04<00:00,  5.63it/s]"
          ]
        },
        {
          "output_type": "stream",
          "name": "stdout",
          "text": [
            "                   all        434        467      0.979      0.987      0.993      0.855\n"
          ]
        },
        {
          "output_type": "stream",
          "name": "stderr",
          "text": [
            "\n"
          ]
        },
        {
          "output_type": "stream",
          "name": "stdout",
          "text": [
            "\n",
            "      Epoch    GPU_mem   box_loss   cls_loss   dfl_loss  Instances       Size\n"
          ]
        },
        {
          "output_type": "stream",
          "name": "stderr",
          "text": [
            "      42/50      2.17G     0.6512     0.4267      1.918          9        640: 100%|██████████| 193/193 [01:04<00:00,  3.01it/s]\n",
            "                 Class     Images  Instances      Box(P          R      mAP50  mAP50-95): 100%|██████████| 28/28 [00:04<00:00,  6.25it/s]"
          ]
        },
        {
          "output_type": "stream",
          "name": "stdout",
          "text": [
            "                   all        434        467      0.981      0.985      0.991      0.845\n"
          ]
        },
        {
          "output_type": "stream",
          "name": "stderr",
          "text": [
            "\n"
          ]
        },
        {
          "output_type": "stream",
          "name": "stdout",
          "text": [
            "\n",
            "      Epoch    GPU_mem   box_loss   cls_loss   dfl_loss  Instances       Size\n"
          ]
        },
        {
          "output_type": "stream",
          "name": "stderr",
          "text": [
            "      43/50      2.18G     0.6359     0.4151       1.89         10        640: 100%|██████████| 193/193 [01:01<00:00,  3.13it/s]\n",
            "                 Class     Images  Instances      Box(P          R      mAP50  mAP50-95): 100%|██████████| 28/28 [00:07<00:00,  3.88it/s]"
          ]
        },
        {
          "output_type": "stream",
          "name": "stdout",
          "text": [
            "                   all        434        467      0.975      0.985      0.991      0.848\n"
          ]
        },
        {
          "output_type": "stream",
          "name": "stderr",
          "text": [
            "\n"
          ]
        },
        {
          "output_type": "stream",
          "name": "stdout",
          "text": [
            "\n",
            "      Epoch    GPU_mem   box_loss   cls_loss   dfl_loss  Instances       Size\n"
          ]
        },
        {
          "output_type": "stream",
          "name": "stderr",
          "text": [
            "      44/50      2.18G     0.6209     0.4123      1.885          8        640: 100%|██████████| 193/193 [01:03<00:00,  3.04it/s]\n",
            "                 Class     Images  Instances      Box(P          R      mAP50  mAP50-95): 100%|██████████| 28/28 [00:04<00:00,  6.28it/s]"
          ]
        },
        {
          "output_type": "stream",
          "name": "stdout",
          "text": [
            "                   all        434        467      0.978      0.987      0.992      0.857\n"
          ]
        },
        {
          "output_type": "stream",
          "name": "stderr",
          "text": [
            "\n"
          ]
        },
        {
          "output_type": "stream",
          "name": "stdout",
          "text": [
            "\n",
            "      Epoch    GPU_mem   box_loss   cls_loss   dfl_loss  Instances       Size\n"
          ]
        },
        {
          "output_type": "stream",
          "name": "stderr",
          "text": [
            "      45/50      2.18G     0.6139     0.4036      1.868          7        640: 100%|██████████| 193/193 [01:03<00:00,  3.03it/s]\n",
            "                 Class     Images  Instances      Box(P          R      mAP50  mAP50-95): 100%|██████████| 28/28 [00:04<00:00,  6.11it/s]"
          ]
        },
        {
          "output_type": "stream",
          "name": "stdout",
          "text": [
            "                   all        434        467       0.98      0.987      0.993      0.863\n"
          ]
        },
        {
          "output_type": "stream",
          "name": "stderr",
          "text": [
            "\n"
          ]
        },
        {
          "output_type": "stream",
          "name": "stdout",
          "text": [
            "\n",
            "      Epoch    GPU_mem   box_loss   cls_loss   dfl_loss  Instances       Size\n"
          ]
        },
        {
          "output_type": "stream",
          "name": "stderr",
          "text": [
            "      46/50      2.17G     0.5982     0.3874      1.863          9        640: 100%|██████████| 193/193 [01:00<00:00,  3.18it/s]\n",
            "                 Class     Images  Instances      Box(P          R      mAP50  mAP50-95): 100%|██████████| 28/28 [00:06<00:00,  4.15it/s]"
          ]
        },
        {
          "output_type": "stream",
          "name": "stdout",
          "text": [
            "                   all        434        467      0.979      0.983      0.991      0.864\n"
          ]
        },
        {
          "output_type": "stream",
          "name": "stderr",
          "text": [
            "\n"
          ]
        },
        {
          "output_type": "stream",
          "name": "stdout",
          "text": [
            "\n",
            "      Epoch    GPU_mem   box_loss   cls_loss   dfl_loss  Instances       Size\n"
          ]
        },
        {
          "output_type": "stream",
          "name": "stderr",
          "text": [
            "      47/50      2.18G     0.5882     0.3824      1.864          9        640: 100%|██████████| 193/193 [01:01<00:00,  3.12it/s]\n",
            "                 Class     Images  Instances      Box(P          R      mAP50  mAP50-95): 100%|██████████| 28/28 [00:04<00:00,  6.19it/s]"
          ]
        },
        {
          "output_type": "stream",
          "name": "stdout",
          "text": [
            "                   all        434        467      0.979      0.986      0.993      0.875\n"
          ]
        },
        {
          "output_type": "stream",
          "name": "stderr",
          "text": [
            "\n"
          ]
        },
        {
          "output_type": "stream",
          "name": "stdout",
          "text": [
            "\n",
            "      Epoch    GPU_mem   box_loss   cls_loss   dfl_loss  Instances       Size\n"
          ]
        },
        {
          "output_type": "stream",
          "name": "stderr",
          "text": [
            "      48/50      2.19G     0.5905     0.3817      1.832         13        640: 100%|██████████| 193/193 [01:03<00:00,  3.04it/s]\n",
            "                 Class     Images  Instances      Box(P          R      mAP50  mAP50-95): 100%|██████████| 28/28 [00:08<00:00,  3.50it/s]"
          ]
        },
        {
          "output_type": "stream",
          "name": "stdout",
          "text": [
            "                   all        434        467       0.98      0.985      0.992      0.868\n"
          ]
        },
        {
          "output_type": "stream",
          "name": "stderr",
          "text": [
            "\n"
          ]
        },
        {
          "output_type": "stream",
          "name": "stdout",
          "text": [
            "\n",
            "      Epoch    GPU_mem   box_loss   cls_loss   dfl_loss  Instances       Size\n"
          ]
        },
        {
          "output_type": "stream",
          "name": "stderr",
          "text": [
            "      49/50      2.18G     0.5654     0.3649      1.827          7        640: 100%|██████████| 193/193 [01:02<00:00,  3.10it/s]\n",
            "                 Class     Images  Instances      Box(P          R      mAP50  mAP50-95): 100%|██████████| 28/28 [00:06<00:00,  4.47it/s]"
          ]
        },
        {
          "output_type": "stream",
          "name": "stdout",
          "text": [
            "                   all        434        467      0.987      0.982      0.993      0.879\n"
          ]
        },
        {
          "output_type": "stream",
          "name": "stderr",
          "text": [
            "\n"
          ]
        },
        {
          "output_type": "stream",
          "name": "stdout",
          "text": [
            "\n",
            "      Epoch    GPU_mem   box_loss   cls_loss   dfl_loss  Instances       Size\n"
          ]
        },
        {
          "output_type": "stream",
          "name": "stderr",
          "text": [
            "      50/50      2.17G      0.569     0.3715      1.825          7        640: 100%|██████████| 193/193 [01:01<00:00,  3.16it/s]\n",
            "                 Class     Images  Instances      Box(P          R      mAP50  mAP50-95): 100%|██████████| 28/28 [00:04<00:00,  5.81it/s]"
          ]
        },
        {
          "output_type": "stream",
          "name": "stdout",
          "text": [
            "                   all        434        467      0.981      0.983      0.993      0.872\n"
          ]
        },
        {
          "output_type": "stream",
          "name": "stderr",
          "text": [
            "\n"
          ]
        },
        {
          "output_type": "stream",
          "name": "stdout",
          "text": [
            "\n",
            "50 epochs completed in 1.028 hours.\n",
            "Optimizer stripped from runs/obb/train/weights/last.pt, 6.4MB\n",
            "Optimizer stripped from runs/obb/train/weights/best.pt, 6.4MB\n",
            "\n",
            "Validating runs/obb/train/weights/best.pt...\n",
            "Ultralytics 8.3.19 🚀 Python-3.10.12 torch-2.4.1+cu121 CUDA:0 (Tesla T4, 15102MiB)\n",
            "YOLOv8n-obb summary (fused): 187 layers, 3,077,414 parameters, 0 gradients, 8.3 GFLOPs\n"
          ]
        },
        {
          "output_type": "stream",
          "name": "stderr",
          "text": [
            "                 Class     Images  Instances      Box(P          R      mAP50  mAP50-95): 100%|██████████| 28/28 [00:08<00:00,  3.26it/s]\n"
          ]
        },
        {
          "output_type": "stream",
          "name": "stdout",
          "text": [
            "                   all        434        467      0.987      0.982      0.993       0.88\n",
            "Speed: 0.3ms preprocess, 3.2ms inference, 0.0ms loss, 6.3ms postprocess per image\n",
            "Results saved to \u001b[1mruns/obb/train\u001b[0m\n"
          ]
        },
        {
          "output_type": "display_data",
          "data": {
            "text/plain": [
              "VBox(children=(Label(value='8.095 MB of 8.095 MB uploaded\\r'), FloatProgress(value=1.0, max=1.0)))"
            ],
            "application/vnd.jupyter.widget-view+json": {
              "version_major": 2,
              "version_minor": 0,
              "model_id": "cdea6275a91745d1927c15b9180ea81a"
            }
          },
          "metadata": {}
        },
        {
          "output_type": "display_data",
          "data": {
            "text/plain": [
              "<IPython.core.display.HTML object>"
            ],
            "text/html": [
              "<style>\n",
              "    table.wandb td:nth-child(1) { padding: 0 10px; text-align: left ; width: auto;} td:nth-child(2) {text-align: left ; width: 100%}\n",
              "    .wandb-row { display: flex; flex-direction: row; flex-wrap: wrap; justify-content: flex-start; width: 100% }\n",
              "    .wandb-col { display: flex; flex-direction: column; flex-basis: 100%; flex: 1; padding: 10px; }\n",
              "    </style>\n",
              "<div class=\"wandb-row\"><div class=\"wandb-col\"><h3>Run history:</h3><br/><table class=\"wandb\"><tr><td>lr/pg0</td><td>▃▆███▇▇▇▇▇▇▆▆▆▆▆▅▅▅▅▅▅▄▄▄▄▄▄▃▃▃▃▂▂▂▂▂▁▁▁</td></tr><tr><td>lr/pg1</td><td>▃▆███▇▇▇▇▇▇▆▆▆▆▆▅▅▅▅▅▅▄▄▄▄▄▄▃▃▃▃▂▂▂▂▂▁▁▁</td></tr><tr><td>lr/pg2</td><td>▃▆███▇▇▇▇▇▇▆▆▆▆▆▅▅▅▅▄▄▄▄▄▄▃▃▃▃▃▂▂▂▂▂▂▁▁▁</td></tr><tr><td>metrics/mAP50(B)</td><td>▅▂▃▆▁▅▆▆▇▄▇▆▆▆▇▅▇▇▇▇██▇▇█▇▆█████████████</td></tr><tr><td>metrics/mAP50-95(B)</td><td>▁▂▂▃▄▅▅▆▄▆▆▆▆▆▆▅▇▅▇▇▇▇▇▆▇▇▆▆▇▇▇▇▇█▇█████</td></tr><tr><td>metrics/precision(B)</td><td>▆▃▂▆▁▅▆▆▃▇▅▅▅▆▅▆▆▆▇▇▇▇▇▇▆▇▇▅▇██▇████████</td></tr><tr><td>metrics/recall(B)</td><td>▄▂▅█▂▇▅▆▇▅▇▆▅▇▅▁▇▅███▇███▆▆▇█▇██████████</td></tr><tr><td>model/GFLOPs</td><td>▁</td></tr><tr><td>model/parameters</td><td>▁</td></tr><tr><td>model/speed_PyTorch(ms)</td><td>▁</td></tr><tr><td>train/box_loss</td><td>█▆▅▄▄▄▄▄▃▃▃▃▃▃▃▃▃▃▃▃▃▃▂▃▂▂▂▂▂▂▂▂▂▂▂▁▁▁▁▁</td></tr><tr><td>train/cls_loss</td><td>█▇▇▆▆▅▅▅▄▄▄▄▄▄▄▃▃▃▃▃▃▃▃▃▃▃▃▃▃▃▂▂▂▂▂▁▁▁▁▁</td></tr><tr><td>train/dfl_loss</td><td>█▆▆▆▅▅▅▅▅▅▄▄▄▄▄▄▄▄▄▄▄▄▄▄▄▃▃▃▃▃▃▃▂▂▁▁▁▁▁▁</td></tr><tr><td>val/box_loss</td><td>█▆▅▃▄▃▃▃▃▂▂▂▂▂▃▂▂▂▂▂▂▂▃▂▂▂▂▁▂▁▁▂▁▁▁▁▁▁▁▁</td></tr><tr><td>val/cls_loss</td><td>▇██▅█▅▅▅▅▆▄▄▄▅▄▃▃▄▂▃▂▂▃▃▂▃▄▂▂▂▂▂▁▂▁▁▁▁▁▁</td></tr><tr><td>val/dfl_loss</td><td>█▆▅▅▄▅▄▃▃▃▃▃▃▃▂▃▂▂▂▃▂▂▃▂▂▂▃▂▂▂▂▂▂▂▂▁▁▁▁▁</td></tr></table><br/></div><div class=\"wandb-col\"><h3>Run summary:</h3><br/><table class=\"wandb\"><tr><td>lr/pg0</td><td>6e-05</td></tr><tr><td>lr/pg1</td><td>6e-05</td></tr><tr><td>lr/pg2</td><td>6e-05</td></tr><tr><td>metrics/mAP50(B)</td><td>0.99268</td></tr><tr><td>metrics/mAP50-95(B)</td><td>0.87965</td></tr><tr><td>metrics/precision(B)</td><td>0.98708</td></tr><tr><td>metrics/recall(B)</td><td>0.98189</td></tr><tr><td>model/GFLOPs</td><td>8.442</td></tr><tr><td>model/parameters</td><td>3082710</td></tr><tr><td>model/speed_PyTorch(ms)</td><td>3.067</td></tr><tr><td>train/box_loss</td><td>0.56895</td></tr><tr><td>train/cls_loss</td><td>0.37146</td></tr><tr><td>train/dfl_loss</td><td>1.8254</td></tr><tr><td>val/box_loss</td><td>0.56517</td></tr><tr><td>val/cls_loss</td><td>0.34213</td></tr><tr><td>val/dfl_loss</td><td>2.21386</td></tr></table><br/></div></div>"
            ]
          },
          "metadata": {}
        },
        {
          "output_type": "display_data",
          "data": {
            "text/plain": [
              "<IPython.core.display.HTML object>"
            ],
            "text/html": [
              " View run <strong style=\"color:#cdcd00\">train</strong> at: <a href='https://wandb.ai/m-kemal-university-of-syiah-kuala/Ultralytics/runs/t0t7dvck' target=\"_blank\">https://wandb.ai/m-kemal-university-of-syiah-kuala/Ultralytics/runs/t0t7dvck</a><br/> View project at: <a href='https://wandb.ai/m-kemal-university-of-syiah-kuala/Ultralytics' target=\"_blank\">https://wandb.ai/m-kemal-university-of-syiah-kuala/Ultralytics</a><br/>Synced 5 W&B file(s), 0 media file(s), 2 artifact file(s) and 20 other file(s)"
            ]
          },
          "metadata": {}
        },
        {
          "output_type": "display_data",
          "data": {
            "text/plain": [
              "<IPython.core.display.HTML object>"
            ],
            "text/html": [
              "Find logs at: <code>./wandb/run-20241022_085501-t0t7dvck/logs</code>"
            ]
          },
          "metadata": {}
        },
        {
          "output_type": "execute_result",
          "data": {
            "text/plain": [
              "ultralytics.utils.metrics.OBBMetrics object with attributes:\n",
              "\n",
              "ap_class_index: array([0])\n",
              "box: ultralytics.utils.metrics.Metric object\n",
              "confusion_matrix: <ultralytics.utils.metrics.ConfusionMatrix object at 0x7cee2527c340>\n",
              "curves: []\n",
              "curves_results: []\n",
              "fitness: 0.8909558401762344\n",
              "keys: ['metrics/precision(B)', 'metrics/recall(B)', 'metrics/mAP50(B)', 'metrics/mAP50-95(B)']\n",
              "maps: array([    0.87965])\n",
              "names: {0: 'plat'}\n",
              "plot: True\n",
              "results_dict: {'metrics/precision(B)': 0.987084105796564, 'metrics/recall(B)': 0.9818938853200095, 'metrics/mAP50(B)': 0.9926793588222204, 'metrics/mAP50-95(B)': 0.879653226993347, 'fitness': 0.8909558401762344}\n",
              "save_dir: PosixPath('runs/obb/train')\n",
              "speed: {'preprocess': 0.34380178847071213, 'inference': 3.2318978815034787, 'loss': 0.0010591498168382777, 'postprocess': 6.251175282737626}"
            ]
          },
          "metadata": {},
          "execution_count": 6
        }
      ],
      "source": [
        "# Load the YOLOv8 model\n",
        "model = YOLO('yolov8n-obb.pt')\n",
        "\n",
        "# Train the model\n",
        "model.train(data=os.path.join(base_dir, \"data.yaml\"), epochs=50, imgsz=640)"
      ]
    },
    {
      "cell_type": "code",
      "execution_count": 7,
      "metadata": {
        "id": "5fLZTJgvZSnb"
      },
      "outputs": [],
      "source": [
        "model_best = YOLO('/content/runs/obb/train/weights/best.pt')"
      ]
    },
    {
      "cell_type": "code",
      "execution_count": 8,
      "metadata": {
        "id": "A9722jtJZSnb",
        "outputId": "443fc980-f543-4b14-a1bf-88709d9f8fec",
        "colab": {
          "base_uri": "https://localhost:8080/"
        }
      },
      "outputs": [
        {
          "output_type": "stream",
          "name": "stdout",
          "text": [
            "\n",
            "image 1/1 /content/plat-detection-3-(experimental)-3/test/images/20211122_114210_jpg.rf.c2ffdd6a55d0fde5855a4bf8b506a1ea.jpg: 640x640 28.4ms\n",
            "Speed: 2.2ms preprocess, 28.4ms inference, 4.7ms postprocess per image at shape (1, 3, 640, 640)\n",
            "Detected 'plat' in 20211122_114210_jpg.rf.c2ffdd6a55d0fde5855a4bf8b506a1ea.jpg.\n",
            "\n",
            "image 1/1 /content/plat-detection-3-(experimental)-3/test/images/images39_jpg.rf.4cb06ab1724933b67f4b76b836e362cd.jpg: 640x640 9.8ms\n",
            "Speed: 3.3ms preprocess, 9.8ms inference, 3.2ms postprocess per image at shape (1, 3, 640, 640)\n",
            "Detected 'plat' in images39_jpg.rf.4cb06ab1724933b67f4b76b836e362cd.jpg.\n",
            "\n",
            "image 1/1 /content/plat-detection-3-(experimental)-3/test/images/65-E-4235-PAL_jpg.rf.cd59a35ae6ced98f4adeac54345a60d7.jpg: 640x640 14.1ms\n",
            "Speed: 2.4ms preprocess, 14.1ms inference, 5.9ms postprocess per image at shape (1, 3, 640, 640)\n",
            "Detected 'plat' in 65-E-4235-PAL_jpg.rf.cd59a35ae6ced98f4adeac54345a60d7.jpg.\n",
            "\n",
            "image 1/1 /content/plat-detection-3-(experimental)-3/test/images/IMG-20180108-WA0115_jpg.rf.77574059a1ab23c1d3c07f684106cbf8.jpg: 640x640 12.2ms\n",
            "Speed: 2.3ms preprocess, 12.2ms inference, 3.1ms postprocess per image at shape (1, 3, 640, 640)\n",
            "Detected 'plat' in IMG-20180108-WA0115_jpg.rf.77574059a1ab23c1d3c07f684106cbf8.jpg.\n",
            "\n",
            "image 1/1 /content/plat-detection-3-(experimental)-3/test/images/BM3090V_jpg.rf.832deddcd886cffd2b333e311c056137.jpg: 640x640 10.1ms\n",
            "Speed: 2.0ms preprocess, 10.1ms inference, 3.1ms postprocess per image at shape (1, 3, 640, 640)\n",
            "Detected 'plat' in BM3090V_jpg.rf.832deddcd886cffd2b333e311c056137.jpg.\n",
            "\n",
            "image 1/1 /content/plat-detection-3-(experimental)-3/test/images/47133a8d-f-968a_jpg.rf.380ffeea99ea490aa97305e0d581bbcb.jpg: 640x640 12.8ms\n",
            "Speed: 2.0ms preprocess, 12.8ms inference, 3.4ms postprocess per image at shape (1, 3, 640, 640)\n",
            "Detected 'plat' in 47133a8d-f-968a_jpg.rf.380ffeea99ea490aa97305e0d581bbcb.jpg.\n",
            "\n",
            "image 1/1 /content/plat-detection-3-(experimental)-3/test/images/Kode-Plat-Nomor-BE-Kab-Lampung-Timur_jpg.rf.65dafcd63f8a88a276374faf118b5685.jpg: 640x640 10.5ms\n",
            "Speed: 1.9ms preprocess, 10.5ms inference, 3.3ms postprocess per image at shape (1, 3, 640, 640)\n",
            "Detected 'plat' in Kode-Plat-Nomor-BE-Kab-Lampung-Timur_jpg.rf.65dafcd63f8a88a276374faf118b5685.jpg.\n",
            "\n",
            "image 1/1 /content/plat-detection-3-(experimental)-3/test/images/250-E-6031-ST-03-21_jpg.rf.0ca06216a8fef60d18b6fc560edf2a17.jpg: 640x640 14.7ms\n",
            "Speed: 2.0ms preprocess, 14.7ms inference, 3.8ms postprocess per image at shape (1, 3, 640, 640)\n",
            "Detected 'plat' in 250-E-6031-ST-03-21_jpg.rf.0ca06216a8fef60d18b6fc560edf2a17.jpg.\n",
            "\n",
            "image 1/1 /content/plat-detection-3-(experimental)-3/test/images/118-E-4885-QZ-12-20_jpg.rf.654e0260ed78f31e068fcb6bd9abee83.jpg: 640x640 14.9ms\n",
            "Speed: 1.9ms preprocess, 14.9ms inference, 3.6ms postprocess per image at shape (1, 3, 640, 640)\n",
            "Detected 'plat' in 118-E-4885-QZ-12-20_jpg.rf.654e0260ed78f31e068fcb6bd9abee83.jpg.\n",
            "\n",
            "image 1/1 /content/plat-detection-3-(experimental)-3/test/images/hitam_32_jpg.rf.43c25a00cb1985549dc3fa677645274e.jpg: 640x640 15.0ms\n",
            "Speed: 1.9ms preprocess, 15.0ms inference, 5.3ms postprocess per image at shape (1, 3, 640, 640)\n",
            "Detected 'plat' in hitam_32_jpg.rf.43c25a00cb1985549dc3fa677645274e.jpg.\n",
            "\n",
            "image 1/1 /content/plat-detection-3-(experimental)-3/test/images/avanza28_jpg.rf.3d099a1096844f3aec7fe5767bc5c3f6.jpg: 640x640 16.8ms\n",
            "Speed: 1.9ms preprocess, 16.8ms inference, 2.6ms postprocess per image at shape (1, 3, 640, 640)\n",
            "Detected 'plat' in avanza28_jpg.rf.3d099a1096844f3aec7fe5767bc5c3f6.jpg.\n",
            "\n",
            "image 1/1 /content/plat-detection-3-(experimental)-3/test/images/jazz13_jpg.rf.3e7658fe6576b85c64d7947b9911b472.jpg: 640x640 14.0ms\n",
            "Speed: 3.7ms preprocess, 14.0ms inference, 3.7ms postprocess per image at shape (1, 3, 640, 640)\n",
            "Detected 'plat' in jazz13_jpg.rf.3e7658fe6576b85c64d7947b9911b472.jpg.\n",
            "\n",
            "image 1/1 /content/plat-detection-3-(experimental)-3/test/images/BM6468Q_jpg.rf.e661ab22223cd9dd14ad16981ee1567e.jpg: 640x640 17.0ms\n",
            "Speed: 2.5ms preprocess, 17.0ms inference, 4.0ms postprocess per image at shape (1, 3, 640, 640)\n",
            "Detected 'plat' in BM6468Q_jpg.rf.e661ab22223cd9dd14ad16981ee1567e.jpg.\n",
            "\n",
            "image 1/1 /content/plat-detection-3-(experimental)-3/test/images/20171212_100559_jpg.rf.ca7c5a05e5c8069d9ab4968a6685782a.jpg: 640x640 16.3ms\n",
            "Speed: 3.3ms preprocess, 16.3ms inference, 5.3ms postprocess per image at shape (1, 3, 640, 640)\n",
            "Detected 'plat' in 20171212_100559_jpg.rf.ca7c5a05e5c8069d9ab4968a6685782a.jpg.\n",
            "\n",
            "image 1/1 /content/plat-detection-3-(experimental)-3/test/images/48-2Bkode2Bplat2Bkendaraan2Bkota2Bsorong2B_jpg.rf.d9117010f2029d767b5f734811e249de.jpg: 640x640 24.7ms\n",
            "Speed: 2.1ms preprocess, 24.7ms inference, 3.6ms postprocess per image at shape (1, 3, 640, 640)\n",
            "Detected 'plat' in 48-2Bkode2Bplat2Bkendaraan2Bkota2Bsorong2B_jpg.rf.d9117010f2029d767b5f734811e249de.jpg.\n",
            "\n",
            "image 1/1 /content/plat-detection-3-(experimental)-3/test/images/20211122_114147_jpg.rf.9440709abbeeb39b81c8096d6772e80a.jpg: 640x640 16.2ms\n",
            "Speed: 2.0ms preprocess, 16.2ms inference, 3.6ms postprocess per image at shape (1, 3, 640, 640)\n",
            "Detected 'plat' in 20211122_114147_jpg.rf.9440709abbeeb39b81c8096d6772e80a.jpg.\n",
            "\n",
            "image 1/1 /content/plat-detection-3-(experimental)-3/test/images/212-E-3817-PAH_jpg.rf.286a4d77563a4a557ae8462fc0895c2b.jpg: 640x640 12.7ms\n",
            "Speed: 2.8ms preprocess, 12.7ms inference, 3.8ms postprocess per image at shape (1, 3, 640, 640)\n",
            "Detected 'plat' in 212-E-3817-PAH_jpg.rf.286a4d77563a4a557ae8462fc0895c2b.jpg.\n",
            "\n",
            "image 1/1 /content/plat-detection-3-(experimental)-3/test/images/304-E-5381-PAB_jpg.rf.bbb37ea809697982dcd1437667b0f9c0.jpg: 640x640 11.9ms\n",
            "Speed: 1.9ms preprocess, 11.9ms inference, 3.5ms postprocess per image at shape (1, 3, 640, 640)\n",
            "Detected 'plat' in 304-E-5381-PAB_jpg.rf.bbb37ea809697982dcd1437667b0f9c0.jpg.\n",
            "\n",
            "image 1/1 /content/plat-detection-3-(experimental)-3/test/images/360-E-4690-PAL-04-22_jpg.rf.6c457841624048f12dd80d2fc5f0cdce.jpg: 640x640 15.0ms\n",
            "Speed: 2.0ms preprocess, 15.0ms inference, 4.2ms postprocess per image at shape (1, 3, 640, 640)\n",
            "Detected 'plat' in 360-E-4690-PAL-04-22_jpg.rf.6c457841624048f12dd80d2fc5f0cdce.jpg.\n",
            "\n",
            "image 1/1 /content/plat-detection-3-(experimental)-3/test/images/IMG-20211122-WA0016_jpg.rf.1f3ab2c7e965ce14084da824cd99df53.jpg: 640x640 14.7ms\n",
            "Speed: 2.1ms preprocess, 14.7ms inference, 4.1ms postprocess per image at shape (1, 3, 640, 640)\n",
            "Detected 'plat' in IMG-20211122-WA0016_jpg.rf.1f3ab2c7e965ce14084da824cd99df53.jpg.\n",
            "\n",
            "image 1/1 /content/plat-detection-3-(experimental)-3/test/images/agya31_jpg.rf.c1e175f2fcd52c7a62e879366c4ff8f0.jpg: 640x640 14.0ms\n",
            "Speed: 2.0ms preprocess, 14.0ms inference, 4.0ms postprocess per image at shape (1, 3, 640, 640)\n",
            "Detected 'plat' in agya31_jpg.rf.c1e175f2fcd52c7a62e879366c4ff8f0.jpg.\n",
            "\n",
            "image 1/1 /content/plat-detection-3-(experimental)-3/test/images/IMG-20211122-WA0023_jpg.rf.1d09634bcfa0c065fa437beabb3ae712.jpg: 640x640 10.7ms\n",
            "Speed: 2.2ms preprocess, 10.7ms inference, 3.3ms postprocess per image at shape (1, 3, 640, 640)\n",
            "Detected 'plat' in IMG-20211122-WA0023_jpg.rf.1d09634bcfa0c065fa437beabb3ae712.jpg.\n",
            "\n",
            "image 1/1 /content/plat-detection-3-(experimental)-3/test/images/maxresdefault_jpg.rf.63e5766b0c17cd1dae887ec8607dabd8.jpg: 640x640 13.8ms\n",
            "Speed: 3.5ms preprocess, 13.8ms inference, 4.3ms postprocess per image at shape (1, 3, 640, 640)\n",
            "Detected 'plat' in maxresdefault_jpg.rf.63e5766b0c17cd1dae887ec8607dabd8.jpg.\n",
            "\n",
            "image 1/1 /content/plat-detection-3-(experimental)-3/test/images/plat-2-229d_jpeg_jpg.rf.86457272f8f391c9b8ed058bd4bae0be.jpg: 640x640 (no detections), 13.3ms\n",
            "Speed: 2.2ms preprocess, 13.3ms inference, 0.6ms postprocess per image at shape (1, 3, 640, 640)\n",
            "No 'plat' detected in plat-2-229d_jpeg_jpg.rf.86457272f8f391c9b8ed058bd4bae0be.jpg.\n",
            "\n",
            "image 1/1 /content/plat-detection-3-(experimental)-3/test/images/112-E-5718-OT_jpg.rf.ae4caea42bee821970bdd529cb2bc039.jpg: 640x640 17.3ms\n",
            "Speed: 2.5ms preprocess, 17.3ms inference, 4.9ms postprocess per image at shape (1, 3, 640, 640)\n",
            "Detected 'plat' in 112-E-5718-OT_jpg.rf.ae4caea42bee821970bdd529cb2bc039.jpg.\n",
            "\n",
            "image 1/1 /content/plat-detection-3-(experimental)-3/test/images/P_20211122_114537_jpg.rf.9f17c1963c87fb7869c9b92d18340195.jpg: 640x640 15.9ms\n",
            "Speed: 2.6ms preprocess, 15.9ms inference, 4.8ms postprocess per image at shape (1, 3, 640, 640)\n",
            "Detected 'plat' in P_20211122_114537_jpg.rf.9f17c1963c87fb7869c9b92d18340195.jpg.\n",
            "\n",
            "image 1/1 /content/plat-detection-3-(experimental)-3/test/images/20171214_091545_jpg.rf.eaee52efe3a0065b0ecee6e04b7a3ff2.jpg: 640x640 18.7ms\n",
            "Speed: 2.6ms preprocess, 18.7ms inference, 5.8ms postprocess per image at shape (1, 3, 640, 640)\n",
            "Detected 'plat' in 20171214_091545_jpg.rf.eaee52efe3a0065b0ecee6e04b7a3ff2.jpg.\n",
            "\n",
            "image 1/1 /content/plat-detection-3-(experimental)-3/test/images/WIN_20221217_09_33_57_Pro_jpg.rf.19abe46d622acd05c97c340bc2c22a26.jpg: 640x640 21.2ms\n",
            "Speed: 3.8ms preprocess, 21.2ms inference, 5.9ms postprocess per image at shape (1, 3, 640, 640)\n",
            "Detected 'plat' in WIN_20221217_09_33_57_Pro_jpg.rf.19abe46d622acd05c97c340bc2c22a26.jpg.\n",
            "\n",
            "image 1/1 /content/plat-detection-3-(experimental)-3/test/images/202-E-2965-TO-07-22_jpg.rf.5e6dcd3363269f8ab6a9da2b1393a49f.jpg: 640x640 13.4ms\n",
            "Speed: 2.3ms preprocess, 13.4ms inference, 3.4ms postprocess per image at shape (1, 3, 640, 640)\n",
            "Detected 'plat' in 202-E-2965-TO-07-22_jpg.rf.5e6dcd3363269f8ab6a9da2b1393a49f.jpg.\n",
            "\n",
            "image 1/1 /content/plat-detection-3-(experimental)-3/test/images/mbol-huruf-dan-angka-pada-pelat-kendaraan-penjelasan-angka-dan-huruf-pada-pe_jpg.rf.c0c1839774396b39da40662a41a29e01.jpg: 640x640 13.1ms\n",
            "Speed: 4.3ms preprocess, 13.1ms inference, 4.1ms postprocess per image at shape (1, 3, 640, 640)\n",
            "Detected 'plat' in mbol-huruf-dan-angka-pada-pelat-kendaraan-penjelasan-angka-dan-huruf-pada-pe_jpg.rf.c0c1839774396b39da40662a41a29e01.jpg.\n",
            "\n",
            "image 1/1 /content/plat-detection-3-(experimental)-3/test/images/BM6098V_jpg.rf.e4bb790f941fcf409c9a81fd46c8a0ce.jpg: 640x640 (no detections), 12.9ms\n",
            "Speed: 2.2ms preprocess, 12.9ms inference, 0.7ms postprocess per image at shape (1, 3, 640, 640)\n",
            "No 'plat' detected in BM6098V_jpg.rf.e4bb790f941fcf409c9a81fd46c8a0ce.jpg.\n",
            "\n",
            "image 1/1 /content/plat-detection-3-(experimental)-3/test/images/IMG-20211122-WA0018_jpg.rf.40111f8ef9b3a01458288b30170b90c5.jpg: 640x640 18.3ms\n",
            "Speed: 2.0ms preprocess, 18.3ms inference, 3.9ms postprocess per image at shape (1, 3, 640, 640)\n",
            "Detected 'plat' in IMG-20211122-WA0018_jpg.rf.40111f8ef9b3a01458288b30170b90c5.jpg.\n",
            "\n",
            "image 1/1 /content/plat-detection-3-(experimental)-3/test/images/20171211_160452_jpg.rf.953645d4b5ad973303bb3a4248f75f8b.jpg: 640x640 14.0ms\n",
            "Speed: 2.0ms preprocess, 14.0ms inference, 3.6ms postprocess per image at shape (1, 3, 640, 640)\n",
            "Detected 'plat' in 20171211_160452_jpg.rf.953645d4b5ad973303bb3a4248f75f8b.jpg.\n",
            "\n",
            "image 1/1 /content/plat-detection-3-(experimental)-3/test/images/plat_lucu-20150417-006-editor_jpg.rf.76f1a48bdad8933b94c693cccf2526ec.jpg: 640x640 13.1ms\n",
            "Speed: 1.9ms preprocess, 13.1ms inference, 3.5ms postprocess per image at shape (1, 3, 640, 640)\n",
            "Detected 'plat' in plat_lucu-20150417-006-editor_jpg.rf.76f1a48bdad8933b94c693cccf2526ec.jpg.\n",
            "\n",
            "image 1/1 /content/plat-detection-3-(experimental)-3/test/images/301-E-6893-PAD-06-21_jpg.rf.c85ed99cb0275467cd38d94d29eb8431.jpg: 640x640 10.8ms\n",
            "Speed: 1.9ms preprocess, 10.8ms inference, 3.5ms postprocess per image at shape (1, 3, 640, 640)\n",
            "Detected 'plat' in 301-E-6893-PAD-06-21_jpg.rf.c85ed99cb0275467cd38d94d29eb8431.jpg.\n",
            "\n",
            "image 1/1 /content/plat-detection-3-(experimental)-3/test/images/828801717_jpg.rf.b79f11220028afdd04b9a885618b217d.jpg: 640x640 10.3ms\n",
            "Speed: 1.9ms preprocess, 10.3ms inference, 3.4ms postprocess per image at shape (1, 3, 640, 640)\n",
            "Detected 'plat' in 828801717_jpg.rf.b79f11220028afdd04b9a885618b217d.jpg.\n",
            "\n",
            "image 1/1 /content/plat-detection-3-(experimental)-3/test/images/P_20211122_114545_jpg.rf.a29e1104b2c359557f8eb3158c75160b.jpg: 640x640 15.7ms\n",
            "Speed: 2.5ms preprocess, 15.7ms inference, 5.1ms postprocess per image at shape (1, 3, 640, 640)\n",
            "Detected 'plat' in P_20211122_114545_jpg.rf.a29e1104b2c359557f8eb3158c75160b.jpg.\n",
            "\n",
            "image 1/1 /content/plat-detection-3-(experimental)-3/test/images/images252_jpg.rf.198a759acbada84cdc5ad36d0a0ffed7.jpg: 640x640 18.3ms\n",
            "Speed: 2.7ms preprocess, 18.3ms inference, 5.7ms postprocess per image at shape (1, 3, 640, 640)\n",
            "Detected 'plat' in images252_jpg.rf.198a759acbada84cdc5ad36d0a0ffed7.jpg.\n",
            "\n",
            "image 1/1 /content/plat-detection-3-(experimental)-3/test/images/kode-plat-nomor-s-4c16_jpg.rf.8a7765e5a19af132c3a82b4281ddbcc7.jpg: 640x640 12.8ms\n",
            "Speed: 3.5ms preprocess, 12.8ms inference, 8.6ms postprocess per image at shape (1, 3, 640, 640)\n",
            "Detected 'plat' in kode-plat-nomor-s-4c16_jpg.rf.8a7765e5a19af132c3a82b4281ddbcc7.jpg.\n",
            "\n",
            "image 1/1 /content/plat-detection-3-(experimental)-3/test/images/99-E-2984-TW-04-18_jpg.rf.17e6e666675fec4d44b041e90dfeebe4.jpg: 640x640 (no detections), 13.1ms\n",
            "Speed: 3.0ms preprocess, 13.1ms inference, 6.3ms postprocess per image at shape (1, 3, 640, 640)\n",
            "No 'plat' detected in 99-E-2984-TW-04-18_jpg.rf.17e6e666675fec4d44b041e90dfeebe4.jpg.\n",
            "\n",
            "image 1/1 /content/plat-detection-3-(experimental)-3/test/images/361-E-3193-PS-08-17_jpg.rf.94b10cc9d718bb813589e34a4c013efa.jpg: 640x640 20.7ms\n",
            "Speed: 1.9ms preprocess, 20.7ms inference, 3.7ms postprocess per image at shape (1, 3, 640, 640)\n",
            "Detected 'plat' in 361-E-3193-PS-08-17_jpg.rf.94b10cc9d718bb813589e34a4c013efa.jpg.\n",
            "\n",
            "image 1/1 /content/plat-detection-3-(experimental)-3/test/images/169-E-2637-WM_jpg.rf.03a7a51aea54201a49f824a96848a66d.jpg: 640x640 12.0ms\n",
            "Speed: 2.6ms preprocess, 12.0ms inference, 5.0ms postprocess per image at shape (1, 3, 640, 640)\n",
            "Detected 'plat' in 169-E-2637-WM_jpg.rf.03a7a51aea54201a49f824a96848a66d.jpg.\n",
            "\n",
            "image 1/1 /content/plat-detection-3-(experimental)-3/test/images/20-2B2Bkode2Bplat2Bkendaraan2Bkota2BSemarang2B_jpg.rf.139eb4cd280feb825e7519f8d26af787.jpg: 640x640 13.7ms\n",
            "Speed: 2.1ms preprocess, 13.7ms inference, 5.2ms postprocess per image at shape (1, 3, 640, 640)\n",
            "Detected 'plat' in 20-2B2Bkode2Bplat2Bkendaraan2Bkota2BSemarang2B_jpg.rf.139eb4cd280feb825e7519f8d26af787.jpg.\n",
            "\n",
            "image 1/1 /content/plat-detection-3-(experimental)-3/test/images/biaya-pajak-plat-nomor-cantik-1200x720_jpg.rf.9fbff34ec58e7dce0bf8227ebb1c03af.jpg: 640x640 10.8ms\n",
            "Speed: 1.9ms preprocess, 10.8ms inference, 7.7ms postprocess per image at shape (1, 3, 640, 640)\n",
            "Detected 'plat' in biaya-pajak-plat-nomor-cantik-1200x720_jpg.rf.9fbff34ec58e7dce0bf8227ebb1c03af.jpg.\n",
            "\n",
            "image 1/1 /content/plat-detection-3-(experimental)-3/test/images/ec5cd9b8-7-aa06_jpg.rf.ac458c046ca7e1033f163c2ed872dae1.jpg: 640x640 15.3ms\n",
            "Speed: 5.6ms preprocess, 15.3ms inference, 3.7ms postprocess per image at shape (1, 3, 640, 640)\n",
            "Detected 'plat' in ec5cd9b8-7-aa06_jpg.rf.ac458c046ca7e1033f163c2ed872dae1.jpg.\n",
            "\n",
            "image 1/1 /content/plat-detection-3-(experimental)-3/test/images/cuplikan-video-razia-kendaraan-b-1564-rfd-oleh-ditlantas-polda-metro-jaya_jpg.rf.db248697af625185e8fdabca76b122ac.jpg: 640x640 14.9ms\n",
            "Speed: 5.3ms preprocess, 14.9ms inference, 3.4ms postprocess per image at shape (1, 3, 640, 640)\n",
            "Detected 'plat' in cuplikan-video-razia-kendaraan-b-1564-rfd-oleh-ditlantas-polda-metro-jaya_jpg.rf.db248697af625185e8fdabca76b122ac.jpg.\n",
            "\n",
            "image 1/1 /content/plat-detection-3-(experimental)-3/test/images/4224933456_jpg.rf.985a25fd03186b1ebe1ee4be7b7b3239.jpg: 640x640 20.2ms\n",
            "Speed: 2.0ms preprocess, 20.2ms inference, 3.6ms postprocess per image at shape (1, 3, 640, 640)\n",
            "Detected 'plat' in 4224933456_jpg.rf.985a25fd03186b1ebe1ee4be7b7b3239.jpg.\n",
            "\n",
            "image 1/1 /content/plat-detection-3-(experimental)-3/test/images/IMG-20211122-WA0024_jpg.rf.f0a580f4cd52d94776467fbec44c4457.jpg: 640x640 23.0ms\n",
            "Speed: 2.1ms preprocess, 23.0ms inference, 8.6ms postprocess per image at shape (1, 3, 640, 640)\n",
            "Detected 'plat' in IMG-20211122-WA0024_jpg.rf.f0a580f4cd52d94776467fbec44c4457.jpg.\n",
            "\n",
            "image 1/1 /content/plat-detection-3-(experimental)-3/test/images/304-E-5381-PAB-03-21_jpg.rf.1810cab49ba689142a85ebc277336029.jpg: 640x640 23.6ms\n",
            "Speed: 4.6ms preprocess, 23.6ms inference, 6.1ms postprocess per image at shape (1, 3, 640, 640)\n",
            "Detected 'plat' in 304-E-5381-PAB-03-21_jpg.rf.1810cab49ba689142a85ebc277336029.jpg.\n",
            "\n",
            "image 1/1 /content/plat-detection-3-(experimental)-3/test/images/20211122_114618_jpg.rf.a206c150f09f8709abcf1f804042430b.jpg: 640x640 20.3ms\n",
            "Speed: 2.0ms preprocess, 20.3ms inference, 7.9ms postprocess per image at shape (1, 3, 640, 640)\n",
            "Detected 'plat' in 20211122_114618_jpg.rf.a206c150f09f8709abcf1f804042430b.jpg.\n",
            "\n",
            "image 1/1 /content/plat-detection-3-(experimental)-3/test/images/28-2BKode2BPlat2BKendaraan2BKota2BMalang2B_jpg.rf.6b9246157f658cacee18635a4fb6a48c.jpg: 640x640 14.3ms\n",
            "Speed: 4.2ms preprocess, 14.3ms inference, 4.0ms postprocess per image at shape (1, 3, 640, 640)\n",
            "Detected 'plat' in 28-2BKode2BPlat2BKendaraan2BKota2BMalang2B_jpg.rf.6b9246157f658cacee18635a4fb6a48c.jpg.\n",
            "\n",
            "image 1/1 /content/plat-detection-3-(experimental)-3/test/images/20171211_122519_jpg.rf.b9053d374abe441933d95249bd5071fe.jpg: 640x640 10.2ms\n",
            "Speed: 2.8ms preprocess, 10.2ms inference, 3.2ms postprocess per image at shape (1, 3, 640, 640)\n",
            "Detected 'plat' in 20171211_122519_jpg.rf.b9053d374abe441933d95249bd5071fe.jpg.\n",
            "\n",
            "image 1/1 /content/plat-detection-3-(experimental)-3/test/images/38-2Bkode2Bplat2Bkendaraan2Bkota2BBalikpapan2B_jpg.rf.d53bc03747703972aa47f2a8463074bc.jpg: 640x640 14.4ms\n",
            "Speed: 2.1ms preprocess, 14.4ms inference, 4.7ms postprocess per image at shape (1, 3, 640, 640)\n",
            "Detected 'plat' in 38-2Bkode2Bplat2Bkendaraan2Bkota2BBalikpapan2B_jpg.rf.d53bc03747703972aa47f2a8463074bc.jpg.\n",
            "\n",
            "image 1/1 /content/plat-detection-3-(experimental)-3/test/images/359-E-6270-OZ-01-21_jpg.rf.b5601cbb4a52f33b577afb43fbc7b622.jpg: 640x640 10.7ms\n",
            "Speed: 2.1ms preprocess, 10.7ms inference, 3.8ms postprocess per image at shape (1, 3, 640, 640)\n",
            "Detected 'plat' in 359-E-6270-OZ-01-21_jpg.rf.b5601cbb4a52f33b577afb43fbc7b622.jpg.\n",
            "\n",
            "image 1/1 /content/plat-detection-3-(experimental)-3/test/images/IMG-20211123-WA0022_jpg.rf.f6cd09922cb3f9973643ca58f4ffa3c8.jpg: 640x640 (no detections), 9.7ms\n",
            "Speed: 2.2ms preprocess, 9.7ms inference, 0.6ms postprocess per image at shape (1, 3, 640, 640)\n",
            "No 'plat' detected in IMG-20211123-WA0022_jpg.rf.f6cd09922cb3f9973643ca58f4ffa3c8.jpg.\n",
            "\n",
            "image 1/1 /content/plat-detection-3-(experimental)-3/test/images/DD8086Y_jpg.rf.d171f95f84387ba38998a4539b330064.jpg: 640x640 (no detections), 13.4ms\n",
            "Speed: 1.9ms preprocess, 13.4ms inference, 0.6ms postprocess per image at shape (1, 3, 640, 640)\n",
            "No 'plat' detected in DD8086Y_jpg.rf.d171f95f84387ba38998a4539b330064.jpg.\n",
            "\n",
            "image 1/1 /content/plat-detection-3-(experimental)-3/test/images/20211122_114501_jpg.rf.a1801f78557d851da067e3c6ad0bd8d5.jpg: 640x640 10.8ms\n",
            "Speed: 2.1ms preprocess, 10.8ms inference, 4.5ms postprocess per image at shape (1, 3, 640, 640)\n",
            "Detected 'plat' in 20211122_114501_jpg.rf.a1801f78557d851da067e3c6ad0bd8d5.jpg.\n",
            "\n",
            "image 1/1 /content/plat-detection-3-(experimental)-3/test/images/262-E-3465-SL_jpg.rf.55ba7e553fb87bfddabf695e5a7ef0e4.jpg: 640x640 15.4ms\n",
            "Speed: 2.5ms preprocess, 15.4ms inference, 6.0ms postprocess per image at shape (1, 3, 640, 640)\n",
            "Detected 'plat' in 262-E-3465-SL_jpg.rf.55ba7e553fb87bfddabf695e5a7ef0e4.jpg.\n",
            "\n",
            "image 1/1 /content/plat-detection-3-(experimental)-3/test/images/20211122_114352_jpg.rf.19aedf6c93dbd8318fb204c9f221da17.jpg: 640x640 14.2ms\n",
            "Speed: 2.0ms preprocess, 14.2ms inference, 4.5ms postprocess per image at shape (1, 3, 640, 640)\n",
            "Detected 'plat' in 20211122_114352_jpg.rf.19aedf6c93dbd8318fb204c9f221da17.jpg.\n",
            "\n",
            "image 1/1 /content/plat-detection-3-(experimental)-3/test/images/BM3459A_jpg.rf.4ceb7063ebe33f08130eb5fb5869d85b.jpg: 640x640 (no detections), 14.6ms\n",
            "Speed: 2.6ms preprocess, 14.6ms inference, 0.7ms postprocess per image at shape (1, 3, 640, 640)\n",
            "No 'plat' detected in BM3459A_jpg.rf.4ceb7063ebe33f08130eb5fb5869d85b.jpg.\n",
            "\n",
            "image 1/1 /content/plat-detection-3-(experimental)-3/test/images/20211122_114406_jpg.rf.16089d6cabd4ca7617b7154b8f5b7284.jpg: 640x640 11.6ms\n",
            "Speed: 1.9ms preprocess, 11.6ms inference, 3.8ms postprocess per image at shape (1, 3, 640, 640)\n",
            "Detected 'plat' in 20211122_114406_jpg.rf.16089d6cabd4ca7617b7154b8f5b7284.jpg.\n",
            "\n",
            "image 1/1 /content/plat-detection-3-(experimental)-3/test/images/215-E-6608-PAF-09-21_jpg.rf.6143fe200305f2dfb94ef710bb279a03.jpg: 640x640 12.8ms\n",
            "Speed: 2.0ms preprocess, 12.8ms inference, 3.4ms postprocess per image at shape (1, 3, 640, 640)\n",
            "Detected 'plat' in 215-E-6608-PAF-09-21_jpg.rf.6143fe200305f2dfb94ef710bb279a03.jpg.\n",
            "\n",
            "image 1/1 /content/plat-detection-3-(experimental)-3/test/images/Jenis-kode-plat-no_jpeg_jpg.rf.3987524b518e3f1a846a7a3bc421a6db.jpg: 640x640 15.8ms\n",
            "Speed: 2.1ms preprocess, 15.8ms inference, 7.3ms postprocess per image at shape (1, 3, 640, 640)\n",
            "Detected 'plat' in Jenis-kode-plat-no_jpeg_jpg.rf.3987524b518e3f1a846a7a3bc421a6db.jpg.\n",
            "\n",
            "image 1/1 /content/plat-detection-3-(experimental)-3/test/images/027891700_1620721435-liputan6-plat-nomor-01_jpg.rf.8dcc33efa1b772e2b6c2236d74e80521.jpg: 640x640 21.6ms\n",
            "Speed: 2.3ms preprocess, 21.6ms inference, 7.8ms postprocess per image at shape (1, 3, 640, 640)\n",
            "Detected 'plat' in 027891700_1620721435-liputan6-plat-nomor-01_jpg.rf.8dcc33efa1b772e2b6c2236d74e80521.jpg.\n",
            "\n",
            "image 1/1 /content/plat-detection-3-(experimental)-3/test/images/IMG-20211122-WA0043_jpg.rf.13ba924e72ebc0c4e70cb71dbbf38476.jpg: 640x640 23.8ms\n",
            "Speed: 6.3ms preprocess, 23.8ms inference, 3.6ms postprocess per image at shape (1, 3, 640, 640)\n",
            "Detected 'plat' in IMG-20211122-WA0043_jpg.rf.13ba924e72ebc0c4e70cb71dbbf38476.jpg.\n",
            "\n",
            "image 1/1 /content/plat-detection-3-(experimental)-3/test/images/362-E-6525-SF-09-21_jpg.rf.611f100afc1b7fb40ca049b0919ab520.jpg: 640x640 22.4ms\n",
            "Speed: 1.9ms preprocess, 22.4ms inference, 3.4ms postprocess per image at shape (1, 3, 640, 640)\n",
            "Detected 'plat' in 362-E-6525-SF-09-21_jpg.rf.611f100afc1b7fb40ca049b0919ab520.jpg.\n",
            "\n",
            "image 1/1 /content/plat-detection-3-(experimental)-3/test/images/332-E-4876-Q-08-18_jpg.rf.2d9305652548dc650c881fe0c139f431.jpg: 640x640 21.2ms\n",
            "Speed: 2.0ms preprocess, 21.2ms inference, 5.1ms postprocess per image at shape (1, 3, 640, 640)\n",
            "Detected 'plat' in 332-E-4876-Q-08-18_jpg.rf.2d9305652548dc650c881fe0c139f431.jpg.\n",
            "\n",
            "image 1/1 /content/plat-detection-3-(experimental)-3/test/images/BG9988C_jpg.rf.5a7851c688004f5a39e3f7f71941985e.jpg: 640x640 19.2ms\n",
            "Speed: 2.0ms preprocess, 19.2ms inference, 5.3ms postprocess per image at shape (1, 3, 640, 640)\n",
            "Detected 'plat' in BG9988C_jpg.rf.5a7851c688004f5a39e3f7f71941985e.jpg.\n",
            "\n",
            "image 1/1 /content/plat-detection-3-(experimental)-3/test/images/65-E-4235-PAL-04-22_jpg.rf.da45c1ae086de0fcc72e58f2b05c952f.jpg: 640x640 10.4ms\n",
            "Speed: 3.5ms preprocess, 10.4ms inference, 3.8ms postprocess per image at shape (1, 3, 640, 640)\n",
            "Detected 'plat' in 65-E-4235-PAL-04-22_jpg.rf.da45c1ae086de0fcc72e58f2b05c952f.jpg.\n",
            "\n",
            "image 1/1 /content/plat-detection-3-(experimental)-3/test/images/124-E-4564-RRR-11-21_jpg.rf.e4e8306598817cf2333885bef3649fcc.jpg: 640x640 10.8ms\n",
            "Speed: 2.0ms preprocess, 10.8ms inference, 3.2ms postprocess per image at shape (1, 3, 640, 640)\n",
            "Detected 'plat' in 124-E-4564-RRR-11-21_jpg.rf.e4e8306598817cf2333885bef3649fcc.jpg.\n",
            "\n",
            "image 1/1 /content/plat-detection-3-(experimental)-3/test/images/IMG-20211122-WA0040_jpg.rf.52b7abf1e114340311f8a6adf1a560bc.jpg: 640x640 10.1ms\n",
            "Speed: 1.9ms preprocess, 10.1ms inference, 3.2ms postprocess per image at shape (1, 3, 640, 640)\n",
            "Detected 'plat' in IMG-20211122-WA0040_jpg.rf.52b7abf1e114340311f8a6adf1a560bc.jpg.\n",
            "\n",
            "image 1/1 /content/plat-detection-3-(experimental)-3/test/images/019_jpg.rf.8c22a2b550ab504e6f348654afb902a6.jpg: 640x640 10.6ms\n",
            "Speed: 2.2ms preprocess, 10.6ms inference, 3.2ms postprocess per image at shape (1, 3, 640, 640)\n",
            "Detected 'plat' in 019_jpg.rf.8c22a2b550ab504e6f348654afb902a6.jpg.\n",
            "\n",
            "image 1/1 /content/plat-detection-3-(experimental)-3/test/images/agya6_jpg.rf.1aaad2e2f83ff493d000a72767cb55fc.jpg: 640x640 9.5ms\n",
            "Speed: 2.0ms preprocess, 9.5ms inference, 3.3ms postprocess per image at shape (1, 3, 640, 640)\n",
            "Detected 'plat' in agya6_jpg.rf.1aaad2e2f83ff493d000a72767cb55fc.jpg.\n",
            "\n",
            "image 1/1 /content/plat-detection-3-(experimental)-3/test/images/24_jpg.rf.0c067e9c435fc5ca2ac4dc472fc718d4.jpg: 640x640 9.3ms\n",
            "Speed: 1.9ms preprocess, 9.3ms inference, 3.2ms postprocess per image at shape (1, 3, 640, 640)\n",
            "Detected 'plat' in 24_jpg.rf.0c067e9c435fc5ca2ac4dc472fc718d4.jpg.\n",
            "\n",
            "image 1/1 /content/plat-detection-3-(experimental)-3/test/images/images226_jpg.rf.e487b75041096009cb93f85c4894ef18.jpg: 640x640 9.5ms\n",
            "Speed: 1.9ms preprocess, 9.5ms inference, 3.3ms postprocess per image at shape (1, 3, 640, 640)\n",
            "Detected 'plat' in images226_jpg.rf.e487b75041096009cb93f85c4894ef18.jpg.\n",
            "\n",
            "image 1/1 /content/plat-detection-3-(experimental)-3/test/images/IMG-20211122-WA0045_jpg.rf.11666b0c8f13ad4cb1e0786c627e8045.jpg: 640x640 9.7ms\n",
            "Speed: 1.8ms preprocess, 9.7ms inference, 2.9ms postprocess per image at shape (1, 3, 640, 640)\n",
            "Detected 'plat' in IMG-20211122-WA0045_jpg.rf.11666b0c8f13ad4cb1e0786c627e8045.jpg.\n",
            "\n",
            "image 1/1 /content/plat-detection-3-(experimental)-3/test/images/IMG-20211122-WA0054_jpg.rf.21dea432de0cd39fed1ca699be594cc9.jpg: 640x640 9.7ms\n",
            "Speed: 1.8ms preprocess, 9.7ms inference, 3.0ms postprocess per image at shape (1, 3, 640, 640)\n",
            "Detected 'plat' in IMG-20211122-WA0054_jpg.rf.21dea432de0cd39fed1ca699be594cc9.jpg.\n",
            "\n",
            "image 1/1 /content/plat-detection-3-(experimental)-3/test/images/330-E-5869-PAA_jpg.rf.50fd6cc2520e117a681a780da259c596.jpg: 640x640 11.3ms\n",
            "Speed: 1.9ms preprocess, 11.3ms inference, 3.5ms postprocess per image at shape (1, 3, 640, 640)\n",
            "Detected 'plat' in 330-E-5869-PAA_jpg.rf.50fd6cc2520e117a681a780da259c596.jpg.\n",
            "\n",
            "image 1/1 /content/plat-detection-3-(experimental)-3/test/images/20211122_114312_jpg.rf.2b1ea6b44c9ad589e4c584961a249828.jpg: 640x640 9.8ms\n",
            "Speed: 2.0ms preprocess, 9.8ms inference, 3.7ms postprocess per image at shape (1, 3, 640, 640)\n",
            "Detected 'plat' in 20211122_114312_jpg.rf.2b1ea6b44c9ad589e4c584961a249828.jpg.\n",
            "\n",
            "image 1/1 /content/plat-detection-3-(experimental)-3/test/images/36-E-4092-TJ-03-18_jpg.rf.3c7fc3a8c532c3e690d22c0b1a0387d7.jpg: 640x640 10.1ms\n",
            "Speed: 2.0ms preprocess, 10.1ms inference, 3.2ms postprocess per image at shape (1, 3, 640, 640)\n",
            "Detected 'plat' in 36-E-4092-TJ-03-18_jpg.rf.3c7fc3a8c532c3e690d22c0b1a0387d7.jpg.\n",
            "\n",
            "image 1/1 /content/plat-detection-3-(experimental)-3/test/images/20211122_114233_jpg.rf.30575008943de7ad6341d41ec5e75efc.jpg: 640x640 9.5ms\n",
            "Speed: 1.9ms preprocess, 9.5ms inference, 3.1ms postprocess per image at shape (1, 3, 640, 640)\n",
            "Detected 'plat' in 20211122_114233_jpg.rf.30575008943de7ad6341d41ec5e75efc.jpg.\n",
            "\n",
            "image 1/1 /content/plat-detection-3-(experimental)-3/test/images/50-Kode-plat-kendaraan-kota-bukittinggi-_jpg.rf.7f634f24b3d4eeb2be4072f2c8d0898d.jpg: 640x640 9.8ms\n",
            "Speed: 1.9ms preprocess, 9.8ms inference, 3.4ms postprocess per image at shape (1, 3, 640, 640)\n",
            "Detected 'plat' in 50-Kode-plat-kendaraan-kota-bukittinggi-_jpg.rf.7f634f24b3d4eeb2be4072f2c8d0898d.jpg.\n",
            "\n",
            "image 1/1 /content/plat-detection-3-(experimental)-3/test/images/plat-nomor-kosong_jpg.rf.ef670e27e6f37891f3ff211c3f5344cb.jpg: 640x640 9.1ms\n",
            "Speed: 1.9ms preprocess, 9.1ms inference, 3.4ms postprocess per image at shape (1, 3, 640, 640)\n",
            "Detected 'plat' in plat-nomor-kosong_jpg.rf.ef670e27e6f37891f3ff211c3f5344cb.jpg.\n",
            "\n",
            "image 1/1 /content/plat-detection-3-(experimental)-3/test/images/crv26_jpg.rf.78666bc6333a00e8403334ceedcb33ca.jpg: 640x640 9.0ms\n",
            "Speed: 1.8ms preprocess, 9.0ms inference, 3.1ms postprocess per image at shape (1, 3, 640, 640)\n",
            "Detected 'plat' in crv26_jpg.rf.78666bc6333a00e8403334ceedcb33ca.jpg.\n",
            "\n",
            "image 1/1 /content/plat-detection-3-(experimental)-3/test/images/Kode-Plat-Nomor-BM-Kota-Pekanbaru-1-_jpg.rf.13d98ec900c183767d02393c63f9fb41.jpg: 640x640 9.4ms\n",
            "Speed: 1.8ms preprocess, 9.4ms inference, 3.4ms postprocess per image at shape (1, 3, 640, 640)\n",
            "Detected 'plat' in Kode-Plat-Nomor-BM-Kota-Pekanbaru-1-_jpg.rf.13d98ec900c183767d02393c63f9fb41.jpg.\n",
            "\n",
            "image 1/1 /content/plat-detection-3-(experimental)-3/test/images/20211122_114649_jpg.rf.8d516bc209a006eb972dd1f9419a988f.jpg: 640x640 9.1ms\n",
            "Speed: 1.9ms preprocess, 9.1ms inference, 3.2ms postprocess per image at shape (1, 3, 640, 640)\n",
            "Detected 'plat' in 20211122_114649_jpg.rf.8d516bc209a006eb972dd1f9419a988f.jpg.\n",
            "\n",
            "image 1/1 /content/plat-detection-3-(experimental)-3/test/images/78-E-1245-RG-02-20_jpg.rf.80bcaf413a72585d98fb3cd5a9c1ae2c.jpg: 640x640 9.9ms\n",
            "Speed: 2.1ms preprocess, 9.9ms inference, 3.3ms postprocess per image at shape (1, 3, 640, 640)\n",
            "Detected 'plat' in 78-E-1245-RG-02-20_jpg.rf.80bcaf413a72585d98fb3cd5a9c1ae2c.jpg.\n",
            "\n",
            "image 1/1 /content/plat-detection-3-(experimental)-3/test/images/plat-favorit-1_jpg.rf.1b286fb5c9bbc0dd9c50498f240675f0.jpg: 640x640 9.4ms\n",
            "Speed: 2.1ms preprocess, 9.4ms inference, 3.3ms postprocess per image at shape (1, 3, 640, 640)\n",
            "Detected 'plat' in plat-favorit-1_jpg.rf.1b286fb5c9bbc0dd9c50498f240675f0.jpg.\n",
            "\n",
            "image 1/1 /content/plat-detection-3-(experimental)-3/test/images/BA1234E_jpg.rf.4046181c18acbcaf1296b0dfc545aae8.jpg: 640x640 9.5ms\n",
            "Speed: 2.0ms preprocess, 9.5ms inference, 3.2ms postprocess per image at shape (1, 3, 640, 640)\n",
            "Detected 'plat' in BA1234E_jpg.rf.4046181c18acbcaf1296b0dfc545aae8.jpg.\n",
            "\n",
            "image 1/1 /content/plat-detection-3-(experimental)-3/test/images/images199_jpg.rf.55cbc841fbe7d53771c75bfea913c9be.jpg: 640x640 9.6ms\n",
            "Speed: 1.9ms preprocess, 9.6ms inference, 3.3ms postprocess per image at shape (1, 3, 640, 640)\n",
            "Detected 'plat' in images199_jpg.rf.55cbc841fbe7d53771c75bfea913c9be.jpg.\n",
            "\n",
            "image 1/1 /content/plat-detection-3-(experimental)-3/test/images/jual-plat-nomor-murah-bekasi-jakarta-pesanan_scaled_jpg.rf.cb3df59c1cf9ecc52456caf2c8a4bbe5.jpg: 640x640 14.9ms\n",
            "Speed: 2.0ms preprocess, 14.9ms inference, 3.4ms postprocess per image at shape (1, 3, 640, 640)\n",
            "Detected 'plat' in jual-plat-nomor-murah-bekasi-jakarta-pesanan_scaled_jpg.rf.cb3df59c1cf9ecc52456caf2c8a4bbe5.jpg.\n",
            "\n",
            "image 1/1 /content/plat-detection-3-(experimental)-3/test/images/47-2Bkode2Bplat2Bkendaraan2Bkota2Bjayapura2B_jpg.rf.f4dfc986725e361a592f7ebf4d33194e.jpg: 640x640 13.8ms\n",
            "Speed: 4.0ms preprocess, 13.8ms inference, 3.4ms postprocess per image at shape (1, 3, 640, 640)\n",
            "Detected 'plat' in 47-2Bkode2Bplat2Bkendaraan2Bkota2Bjayapura2B_jpg.rf.f4dfc986725e361a592f7ebf4d33194e.jpg.\n",
            "\n",
            "image 1/1 /content/plat-detection-3-(experimental)-3/test/images/crv33_jpg.rf.7437a66acae8f272a4d9220c956affea.jpg: 640x640 10.1ms\n",
            "Speed: 2.9ms preprocess, 10.1ms inference, 3.1ms postprocess per image at shape (1, 3, 640, 640)\n",
            "Detected 'plat' in crv33_jpg.rf.7437a66acae8f272a4d9220c956affea.jpg.\n",
            "\n",
            "image 1/1 /content/plat-detection-3-(experimental)-3/test/images/images73_jpg.rf.90baa389e343c4ff13275cffcb03734f.jpg: 640x640 11.2ms\n",
            "Speed: 2.5ms preprocess, 11.2ms inference, 3.1ms postprocess per image at shape (1, 3, 640, 640)\n",
            "Detected 'plat' in images73_jpg.rf.90baa389e343c4ff13275cffcb03734f.jpg.\n",
            "\n",
            "image 1/1 /content/plat-detection-3-(experimental)-3/test/images/20171212_073435_jpg.rf.a53fa10502a86f8f68f8b9153267e9ac.jpg: 640x640 12.0ms\n",
            "Speed: 1.9ms preprocess, 12.0ms inference, 7.3ms postprocess per image at shape (1, 3, 640, 640)\n",
            "Detected 'plat' in 20171212_073435_jpg.rf.a53fa10502a86f8f68f8b9153267e9ac.jpg.\n",
            "\n",
            "image 1/1 /content/plat-detection-3-(experimental)-3/test/images/IMG00110-20130916-1216_zpsb80cd632_jpg.rf.5276857dfcc34b4dc993bb902a0758b3.jpg: 640x640 15.2ms\n",
            "Speed: 2.5ms preprocess, 15.2ms inference, 3.4ms postprocess per image at shape (1, 3, 640, 640)\n",
            "Detected 'plat' in IMG00110-20130916-1216_zpsb80cd632_jpg.rf.5276857dfcc34b4dc993bb902a0758b3.jpg.\n",
            "\n",
            "image 1/1 /content/plat-detection-3-(experimental)-3/test/images/D6634BC_jpg.rf.1023bd993ce777e67bf89bf1cd0daa96.jpg: 640x640 13.6ms\n",
            "Speed: 1.9ms preprocess, 13.6ms inference, 3.4ms postprocess per image at shape (1, 3, 640, 640)\n",
            "Detected 'plat' in D6634BC_jpg.rf.1023bd993ce777e67bf89bf1cd0daa96.jpg.\n",
            "\n",
            "image 1/1 /content/plat-detection-3-(experimental)-3/test/images/354-E-6250-PAJ-02-22_jpg.rf.b3a97ce3b6ed14eeabd1a470ae242acc.jpg: 640x640 15.4ms\n",
            "Speed: 2.2ms preprocess, 15.4ms inference, 5.3ms postprocess per image at shape (1, 3, 640, 640)\n",
            "Detected 'plat' in 354-E-6250-PAJ-02-22_jpg.rf.b3a97ce3b6ed14eeabd1a470ae242acc.jpg.\n",
            "\n",
            "image 1/1 /content/plat-detection-3-(experimental)-3/test/images/E4539QH_jpg.rf.15ad3d866ce54b39bb9d9c5dea84b0e4.jpg: 640x640 16.7ms\n",
            "Speed: 2.5ms preprocess, 16.7ms inference, 7.0ms postprocess per image at shape (1, 3, 640, 640)\n",
            "Detected 'plat' in E4539QH_jpg.rf.15ad3d866ce54b39bb9d9c5dea84b0e4.jpg.\n",
            "\n",
            "image 1/1 /content/plat-detection-3-(experimental)-3/test/images/20171212_142336_jpg.rf.415977e04cb96bf3842c75d406dc89e5.jpg: 640x640 14.0ms\n",
            "Speed: 2.5ms preprocess, 14.0ms inference, 6.1ms postprocess per image at shape (1, 3, 640, 640)\n",
            "Detected 'plat' in 20171212_142336_jpg.rf.415977e04cb96bf3842c75d406dc89e5.jpg.\n",
            "\n",
            "image 1/1 /content/plat-detection-3-(experimental)-3/test/images/20211122_114541_jpg.rf.9a0773df7290b0623e739d2b3e373c4a.jpg: 640x640 15.7ms\n",
            "Speed: 2.0ms preprocess, 15.7ms inference, 3.8ms postprocess per image at shape (1, 3, 640, 640)\n",
            "Detected 'plat' in 20211122_114541_jpg.rf.9a0773df7290b0623e739d2b3e373c4a.jpg.\n",
            "\n",
            "image 1/1 /content/plat-detection-3-(experimental)-3/test/images/3_jpg.rf.681d868a1ccdbf45ca8df1ac050531c1.jpg: 640x640 17.0ms\n",
            "Speed: 4.0ms preprocess, 17.0ms inference, 6.7ms postprocess per image at shape (1, 3, 640, 640)\n",
            "Detected 'plat' in 3_jpg.rf.681d868a1ccdbf45ca8df1ac050531c1.jpg.\n",
            "\n",
            "image 1/1 /content/plat-detection-3-(experimental)-3/test/images/D1583AC_jpg.rf.bdde042a9a7f612c4c8833e6ac2cec09.jpg: 640x640 20.1ms\n",
            "Speed: 2.3ms preprocess, 20.1ms inference, 6.8ms postprocess per image at shape (1, 3, 640, 640)\n",
            "Detected 'plat' in D1583AC_jpg.rf.bdde042a9a7f612c4c8833e6ac2cec09.jpg.\n",
            "\n",
            "image 1/1 /content/plat-detection-3-(experimental)-3/test/images/05_jpg.rf.33587a7975b94fbd03e7603737464391.jpg: 640x640 20.2ms\n",
            "Speed: 3.1ms preprocess, 20.2ms inference, 5.9ms postprocess per image at shape (1, 3, 640, 640)\n",
            "Detected 'plat' in 05_jpg.rf.33587a7975b94fbd03e7603737464391.jpg.\n",
            "\n",
            "image 1/1 /content/plat-detection-3-(experimental)-3/test/images/D1582AC_jpg.rf.32297368311057d1c35dbbdc3c12b44d.jpg: 640x640 19.2ms\n",
            "Speed: 2.0ms preprocess, 19.2ms inference, 7.0ms postprocess per image at shape (1, 3, 640, 640)\n",
            "Detected 'plat' in D1582AC_jpg.rf.32297368311057d1c35dbbdc3c12b44d.jpg.\n",
            "\n",
            "image 1/1 /content/plat-detection-3-(experimental)-3/test/images/IMG-20211123-WA0020_jpg.rf.69775bf4e31ab94445f556f827a01012.jpg: 640x640 21.1ms\n",
            "Speed: 3.7ms preprocess, 21.1ms inference, 5.1ms postprocess per image at shape (1, 3, 640, 640)\n",
            "Detected 'plat' in IMG-20211123-WA0020_jpg.rf.69775bf4e31ab94445f556f827a01012.jpg.\n",
            "\n",
            "image 1/1 /content/plat-detection-3-(experimental)-3/test/images/Contoh-plat-nomor-pesanan-Foto-Twitter_jpg.rf.6649644e8aa8bd5cfdd1955e4ee9ca51.jpg: 640x640 15.7ms\n",
            "Speed: 3.8ms preprocess, 15.7ms inference, 6.6ms postprocess per image at shape (1, 3, 640, 640)\n",
            "Detected 'plat' in Contoh-plat-nomor-pesanan-Foto-Twitter_jpg.rf.6649644e8aa8bd5cfdd1955e4ee9ca51.jpg.\n",
            "\n",
            "image 1/1 /content/plat-detection-3-(experimental)-3/test/images/IMG-20211122-WA0012_jpg.rf.a4029f0f2161619aa6297466f08967ea.jpg: 640x640 16.8ms\n",
            "Speed: 3.7ms preprocess, 16.8ms inference, 5.4ms postprocess per image at shape (1, 3, 640, 640)\n",
            "Detected 'plat' in IMG-20211122-WA0012_jpg.rf.a4029f0f2161619aa6297466f08967ea.jpg.\n",
            "\n",
            "image 1/1 /content/plat-detection-3-(experimental)-3/test/images/20211122_114401_jpg.rf.0c0b060e71313237dbc797f6af31fd4d.jpg: 640x640 16.4ms\n",
            "Speed: 3.2ms preprocess, 16.4ms inference, 3.4ms postprocess per image at shape (1, 3, 640, 640)\n",
            "Detected 'plat' in 20211122_114401_jpg.rf.0c0b060e71313237dbc797f6af31fd4d.jpg.\n",
            "\n",
            "image 1/1 /content/plat-detection-3-(experimental)-3/test/images/IMG-20180108-WA0096_jpg.rf.e2fd1b2481f95a86ca65460eb091b634.jpg: 640x640 14.9ms\n",
            "Speed: 2.1ms preprocess, 14.9ms inference, 8.4ms postprocess per image at shape (1, 3, 640, 640)\n",
            "Detected 'plat' in IMG-20180108-WA0096_jpg.rf.e2fd1b2481f95a86ca65460eb091b634.jpg.\n",
            "\n",
            "image 1/1 /content/plat-detection-3-(experimental)-3/test/images/114-E-3536-O-06-10_jpg.rf.9e3a5c8b6e7e45bac1dcc2a073a02295.jpg: 640x640 (no detections), 18.1ms\n",
            "Speed: 2.0ms preprocess, 18.1ms inference, 0.6ms postprocess per image at shape (1, 3, 640, 640)\n",
            "No 'plat' detected in 114-E-3536-O-06-10_jpg.rf.9e3a5c8b6e7e45bac1dcc2a073a02295.jpg.\n",
            "\n",
            "image 1/1 /content/plat-detection-3-(experimental)-3/test/images/IMG-20211122-WA0005_jpg.rf.85a72ba12071e72d830454b6d658b3f5.jpg: 640x640 13.4ms\n",
            "Speed: 1.9ms preprocess, 13.4ms inference, 7.4ms postprocess per image at shape (1, 3, 640, 640)\n",
            "Detected 'plat' in IMG-20211122-WA0005_jpg.rf.85a72ba12071e72d830454b6d658b3f5.jpg.\n",
            "\n",
            "image 1/1 /content/plat-detection-3-(experimental)-3/test/images/18890_jpg.rf.2318284ba1f149ea65bb19897d2b50ba.jpg: 640x640 14.0ms\n",
            "Speed: 2.1ms preprocess, 14.0ms inference, 7.6ms postprocess per image at shape (1, 3, 640, 640)\n",
            "Detected 'plat' in 18890_jpg.rf.2318284ba1f149ea65bb19897d2b50ba.jpg.\n",
            "\n",
            "image 1/1 /content/plat-detection-3-(experimental)-3/test/images/239-E-6326-TQ-04-19_jpg.rf.2c61550f39f2532fd9fc1f6fe4c4cb26.jpg: 640x640 14.5ms\n",
            "Speed: 5.1ms preprocess, 14.5ms inference, 3.7ms postprocess per image at shape (1, 3, 640, 640)\n",
            "Detected 'plat' in 239-E-6326-TQ-04-19_jpg.rf.2c61550f39f2532fd9fc1f6fe4c4cb26.jpg.\n",
            "\n",
            "image 1/1 /content/plat-detection-3-(experimental)-3/test/images/brio30_jpg.rf.e28662e7659a74b8f87a78e65e667279.jpg: 640x640 15.9ms\n",
            "Speed: 1.9ms preprocess, 15.9ms inference, 4.1ms postprocess per image at shape (1, 3, 640, 640)\n",
            "Detected 'plat' in brio30_jpg.rf.e28662e7659a74b8f87a78e65e667279.jpg.\n",
            "\n",
            "image 1/1 /content/plat-detection-3-(experimental)-3/test/images/51-E-3083-PAH-10-21_jpg.rf.e84d9b22b815904cd6d3569872d434dd.jpg: 640x640 9.8ms\n",
            "Speed: 2.0ms preprocess, 9.8ms inference, 3.0ms postprocess per image at shape (1, 3, 640, 640)\n",
            "Detected 'plat' in 51-E-3083-PAH-10-21_jpg.rf.e84d9b22b815904cd6d3569872d434dd.jpg.\n",
            "\n",
            "image 1/1 /content/plat-detection-3-(experimental)-3/test/images/300px-Plat_Nomor_Nganjuk_283_Huruf29_jpg.rf.6279e1b4d64f7ec417ec0f3d531d4b11.jpg: 640x640 9.9ms\n",
            "Speed: 1.9ms preprocess, 9.9ms inference, 3.2ms postprocess per image at shape (1, 3, 640, 640)\n",
            "Detected 'plat' in 300px-Plat_Nomor_Nganjuk_283_Huruf29_jpg.rf.6279e1b4d64f7ec417ec0f3d531d4b11.jpg.\n",
            "\n",
            "image 1/1 /content/plat-detection-3-(experimental)-3/test/images/22-E-5234-YF-11-20_jpg.rf.85aef9b8b41ee31e860dc98ae272fdbd.jpg: 640x640 9.7ms\n",
            "Speed: 1.9ms preprocess, 9.7ms inference, 3.4ms postprocess per image at shape (1, 3, 640, 640)\n",
            "Detected 'plat' in 22-E-5234-YF-11-20_jpg.rf.85aef9b8b41ee31e860dc98ae272fdbd.jpg.\n",
            "\n",
            "image 1/1 /content/plat-detection-3-(experimental)-3/test/images/biaya-pajak-plat-nomor-cantik-1200x720_jpg.rf.7ad2e2aa173bf3cf326b186588a5f12d.jpg: 640x640 11.1ms\n",
            "Speed: 2.0ms preprocess, 11.1ms inference, 3.4ms postprocess per image at shape (1, 3, 640, 640)\n",
            "Detected 'plat' in biaya-pajak-plat-nomor-cantik-1200x720_jpg.rf.7ad2e2aa173bf3cf326b186588a5f12d.jpg.\n",
            "\n",
            "image 1/1 /content/plat-detection-3-(experimental)-3/test/images/hrv4_jpg.rf.58ea2a6cc363c6ae245e5b73e31da1ef.jpg: 640x640 10.8ms\n",
            "Speed: 2.1ms preprocess, 10.8ms inference, 3.4ms postprocess per image at shape (1, 3, 640, 640)\n",
            "Detected 'plat' in hrv4_jpg.rf.58ea2a6cc363c6ae245e5b73e31da1ef.jpg.\n",
            "\n",
            "image 1/1 /content/plat-detection-3-(experimental)-3/test/images/images50_jpg.rf.3c1be18ee32c1561438ccc35cd8d0677.jpg: 640x640 19.0ms\n",
            "Speed: 1.9ms preprocess, 19.0ms inference, 3.0ms postprocess per image at shape (1, 3, 640, 640)\n",
            "Detected 'plat' in images50_jpg.rf.3c1be18ee32c1561438ccc35cd8d0677.jpg.\n",
            "\n",
            "image 1/1 /content/plat-detection-3-(experimental)-3/test/images/200-E-6978-OW_jpg.rf.227f7466ba4194e60ccf7d00d82e6558.jpg: 640x640 14.3ms\n",
            "Speed: 2.0ms preprocess, 14.3ms inference, 5.3ms postprocess per image at shape (1, 3, 640, 640)\n",
            "Detected 'plat' in 200-E-6978-OW_jpg.rf.227f7466ba4194e60ccf7d00d82e6558.jpg.\n",
            "\n",
            "image 1/1 /content/plat-detection-3-(experimental)-3/test/images/110516aplat-1-_jpg.rf.60f197fd045951de93d91f078ae24459.jpg: 640x640 14.6ms\n",
            "Speed: 1.8ms preprocess, 14.6ms inference, 7.1ms postprocess per image at shape (1, 3, 640, 640)\n",
            "Detected 'plat' in 110516aplat-1-_jpg.rf.60f197fd045951de93d91f078ae24459.jpg.\n",
            "\n",
            "image 1/1 /content/plat-detection-3-(experimental)-3/test/images/235-E-1893-PQ_jpg.rf.46112a255936af0ebb5d080356ad3265.jpg: 640x640 16.1ms\n",
            "Speed: 3.4ms preprocess, 16.1ms inference, 11.3ms postprocess per image at shape (1, 3, 640, 640)\n",
            "Detected 'plat' in 235-E-1893-PQ_jpg.rf.46112a255936af0ebb5d080356ad3265.jpg.\n",
            "\n",
            "image 1/1 /content/plat-detection-3-(experimental)-3/test/images/350-E-3577-PAI-12-21_jpg.rf.027e7afb2c0f20502e66c2fa77dc64ea.jpg: 640x640 15.5ms\n",
            "Speed: 2.0ms preprocess, 15.5ms inference, 3.0ms postprocess per image at shape (1, 3, 640, 640)\n",
            "Detected 'plat' in 350-E-3577-PAI-12-21_jpg.rf.027e7afb2c0f20502e66c2fa77dc64ea.jpg.\n",
            "\n",
            "image 1/1 /content/plat-detection-3-(experimental)-3/test/images/320px-Plat_Nomor_Nganjuk_283_Huruf29_jpg.rf.dd61b7af251dc19d103e19a2090f78b1.jpg: 640x640 9.8ms\n",
            "Speed: 2.8ms preprocess, 9.8ms inference, 3.1ms postprocess per image at shape (1, 3, 640, 640)\n",
            "Detected 'plat' in 320px-Plat_Nomor_Nganjuk_283_Huruf29_jpg.rf.dd61b7af251dc19d103e19a2090f78b1.jpg.\n",
            "\n",
            "image 1/1 /content/plat-detection-3-(experimental)-3/test/images/b5mrhhwjlp7lrudti9dm_jpg.rf.f0406a29d7f2ebe4309a56198ebd504f.jpg: 640x640 9.3ms\n",
            "Speed: 2.0ms preprocess, 9.3ms inference, 3.1ms postprocess per image at shape (1, 3, 640, 640)\n",
            "Detected 'plat' in b5mrhhwjlp7lrudti9dm_jpg.rf.f0406a29d7f2ebe4309a56198ebd504f.jpg.\n",
            "\n",
            "image 1/1 /content/plat-detection-3-(experimental)-3/test/images/129-E-6410-TX-06-18_jpg.rf.eb1499c721736a15806e881dabaa0092.jpg: 640x640 10.3ms\n",
            "Speed: 1.9ms preprocess, 10.3ms inference, 3.0ms postprocess per image at shape (1, 3, 640, 640)\n",
            "Detected 'plat' in 129-E-6410-TX-06-18_jpg.rf.eb1499c721736a15806e881dabaa0092.jpg.\n",
            "\n",
            "image 1/1 /content/plat-detection-3-(experimental)-3/test/images/crv15_jpg.rf.29de53d5b0707046b7db2bb000a03816.jpg: 640x640 11.4ms\n",
            "Speed: 1.9ms preprocess, 11.4ms inference, 3.7ms postprocess per image at shape (1, 3, 640, 640)\n",
            "Detected 'plat' in crv15_jpg.rf.29de53d5b0707046b7db2bb000a03816.jpg.\n",
            "\n",
            "image 1/1 /content/plat-detection-3-(experimental)-3/test/images/01-image_1509470240_59f8b0204ebdf_jpg.rf.ac25aabee09cb7957daf2d6b83afc4aa.jpg: 640x640 10.6ms\n",
            "Speed: 1.9ms preprocess, 10.6ms inference, 3.3ms postprocess per image at shape (1, 3, 640, 640)\n",
            "Detected 'plat' in 01-image_1509470240_59f8b0204ebdf_jpg.rf.ac25aabee09cb7957daf2d6b83afc4aa.jpg.\n",
            "\n",
            "image 1/1 /content/plat-detection-3-(experimental)-3/test/images/027891700_1620721435-liputan6-plat-nomor-01_jpg.rf.9123fe1c11191d49dbaebc08ead3c521.jpg: 640x640 10.2ms\n",
            "Speed: 2.1ms preprocess, 10.2ms inference, 2.8ms postprocess per image at shape (1, 3, 640, 640)\n",
            "Detected 'plat' in 027891700_1620721435-liputan6-plat-nomor-01_jpg.rf.9123fe1c11191d49dbaebc08ead3c521.jpg.\n",
            "\n",
            "image 1/1 /content/plat-detection-3-(experimental)-3/test/images/BE0775U_jpg.rf.b894390aed24b509ac57447084b883d7.jpg: 640x640 10.2ms\n",
            "Speed: 1.9ms preprocess, 10.2ms inference, 2.8ms postprocess per image at shape (1, 3, 640, 640)\n",
            "Detected 'plat' in BE0775U_jpg.rf.b894390aed24b509ac57447084b883d7.jpg.\n",
            "\n",
            "image 1/1 /content/plat-detection-3-(experimental)-3/test/images/20211122_114142_jpg.rf.cfaed5e0f2b7c6240bdd67258ff0b5e6.jpg: 640x640 13.6ms\n",
            "Speed: 1.8ms preprocess, 13.6ms inference, 3.4ms postprocess per image at shape (1, 3, 640, 640)\n",
            "Detected 'plat' in 20211122_114142_jpg.rf.cfaed5e0f2b7c6240bdd67258ff0b5e6.jpg.\n",
            "\n",
            "image 1/1 /content/plat-detection-3-(experimental)-3/test/images/302-E-3922-OI_jpg.rf.9d3597b7607b6bbcc1e7db32809c1770.jpg: 640x640 10.8ms\n",
            "Speed: 1.9ms preprocess, 10.8ms inference, 3.8ms postprocess per image at shape (1, 3, 640, 640)\n",
            "Detected 'plat' in 302-E-3922-OI_jpg.rf.9d3597b7607b6bbcc1e7db32809c1770.jpg.\n",
            "\n",
            "image 1/1 /content/plat-detection-3-(experimental)-3/test/images/334-E-5195-PL-04-20_jpg.rf.4365e8aa968d85b8efa92fbe6070cbac.jpg: 640x640 11.0ms\n",
            "Speed: 1.9ms preprocess, 11.0ms inference, 5.8ms postprocess per image at shape (1, 3, 640, 640)\n",
            "Detected 'plat' in 334-E-5195-PL-04-20_jpg.rf.4365e8aa968d85b8efa92fbe6070cbac.jpg.\n",
            "\n",
            "image 1/1 /content/plat-detection-3-(experimental)-3/test/images/IMG-20211122-WA0007_jpg.rf.561e9ab4bd7b4c63113b5a9cecc3e174.jpg: 640x640 13.6ms\n",
            "Speed: 5.8ms preprocess, 13.6ms inference, 3.5ms postprocess per image at shape (1, 3, 640, 640)\n",
            "Detected 'plat' in IMG-20211122-WA0007_jpg.rf.561e9ab4bd7b4c63113b5a9cecc3e174.jpg.\n",
            "\n",
            "image 1/1 /content/plat-detection-3-(experimental)-3/test/images/012-2013-kondisi-sangat-istimewa-plat-b-7dd9b622-c43e-4afd-a6af-d17aa7604035_jpg.rf.f38f7daf165e7800c841a558a28e325d.jpg: 640x640 16.2ms\n",
            "Speed: 1.9ms preprocess, 16.2ms inference, 3.2ms postprocess per image at shape (1, 3, 640, 640)\n",
            "Detected 'plat' in 012-2013-kondisi-sangat-istimewa-plat-b-7dd9b622-c43e-4afd-a6af-d17aa7604035_jpg.rf.f38f7daf165e7800c841a558a28e325d.jpg.\n",
            "\n",
            "image 1/1 /content/plat-detection-3-(experimental)-3/test/images/IMG-20211122-WA0009_jpg.rf.6b9c5ab86913c3c5dfc545a0fadc3ab4.jpg: 640x640 14.8ms\n",
            "Speed: 2.9ms preprocess, 14.8ms inference, 3.4ms postprocess per image at shape (1, 3, 640, 640)\n",
            "Detected 'plat' in IMG-20211122-WA0009_jpg.rf.6b9c5ab86913c3c5dfc545a0fadc3ab4.jpg.\n",
            "\n",
            "image 1/1 /content/plat-detection-3-(experimental)-3/test/images/b5mrhhwjlp7lrudti9dm2_jpg.rf.d135fe9fc1d4126c14bb25e21b98a69d.jpg: 640x640 12.8ms\n",
            "Speed: 1.9ms preprocess, 12.8ms inference, 5.9ms postprocess per image at shape (1, 3, 640, 640)\n",
            "Detected 'plat' in b5mrhhwjlp7lrudti9dm2_jpg.rf.d135fe9fc1d4126c14bb25e21b98a69d.jpg.\n",
            "\n",
            "image 1/1 /content/plat-detection-3-(experimental)-3/test/images/318-E-5827-QT-06-20_jpg.rf.ebcc43eb46896c1c2aa8fa383c8fd10f.jpg: 640x640 12.5ms\n",
            "Speed: 4.9ms preprocess, 12.5ms inference, 3.3ms postprocess per image at shape (1, 3, 640, 640)\n",
            "Detected 'plat' in 318-E-5827-QT-06-20_jpg.rf.ebcc43eb46896c1c2aa8fa383c8fd10f.jpg.\n",
            "\n",
            "image 1/1 /content/plat-detection-3-(experimental)-3/test/images/336-E-2909-TP_jpg.rf.835f0c76d4ca918efacde34e24c77443.jpg: 640x640 13.7ms\n",
            "Speed: 2.0ms preprocess, 13.7ms inference, 4.6ms postprocess per image at shape (1, 3, 640, 640)\n",
            "Detected 'plat' in 336-E-2909-TP_jpg.rf.835f0c76d4ca918efacde34e24c77443.jpg.\n",
            "\n",
            "image 1/1 /content/plat-detection-3-(experimental)-3/test/images/357-E-4679-PAD-06-21_jpg.rf.bf8e19ce6dc5fbe7506004f496913b44.jpg: 640x640 15.4ms\n",
            "Speed: 2.1ms preprocess, 15.4ms inference, 4.7ms postprocess per image at shape (1, 3, 640, 640)\n",
            "Detected 'plat' in 357-E-4679-PAD-06-21_jpg.rf.bf8e19ce6dc5fbe7506004f496913b44.jpg.\n",
            "\n",
            "image 1/1 /content/plat-detection-3-(experimental)-3/test/images/85-E-2686-QH-04-19_jpg.rf.e70047c1a3827ad3decda2a6b592319e.jpg: 640x640 14.5ms\n",
            "Speed: 1.9ms preprocess, 14.5ms inference, 4.0ms postprocess per image at shape (1, 3, 640, 640)\n",
            "Detected 'plat' in 85-E-2686-QH-04-19_jpg.rf.e70047c1a3827ad3decda2a6b592319e.jpg.\n",
            "\n",
            "image 1/1 /content/plat-detection-3-(experimental)-3/test/images/DA4283W_jpg.rf.252fae90866f9c22d76d121784aaa1b0.jpg: 640x640 19.6ms\n",
            "Speed: 2.1ms preprocess, 19.6ms inference, 3.3ms postprocess per image at shape (1, 3, 640, 640)\n",
            "Detected 'plat' in DA4283W_jpg.rf.252fae90866f9c22d76d121784aaa1b0.jpg.\n",
            "\n",
            "image 1/1 /content/plat-detection-3-(experimental)-3/test/images/images81_jpg.rf.655e3cf6f27683db97498b0d9cba1c5d.jpg: 640x640 16.1ms\n",
            "Speed: 1.9ms preprocess, 16.1ms inference, 4.3ms postprocess per image at shape (1, 3, 640, 640)\n",
            "Detected 'plat' in images81_jpg.rf.655e3cf6f27683db97498b0d9cba1c5d.jpg.\n",
            "\n",
            "image 1/1 /content/plat-detection-3-(experimental)-3/test/images/images17_jpg.rf.0fd391255062575b103a4af8361ccadd.jpg: 640x640 12.4ms\n",
            "Speed: 1.8ms preprocess, 12.4ms inference, 5.4ms postprocess per image at shape (1, 3, 640, 640)\n",
            "Detected 'plat' in images17_jpg.rf.0fd391255062575b103a4af8361ccadd.jpg.\n",
            "\n",
            "image 1/1 /content/plat-detection-3-(experimental)-3/test/images/D2753CG_jpg.rf.2e3501af60c8ef69ef7bb754d531121e.jpg: 640x640 (no detections), 14.6ms\n",
            "Speed: 3.8ms preprocess, 14.6ms inference, 1.8ms postprocess per image at shape (1, 3, 640, 640)\n",
            "No 'plat' detected in D2753CG_jpg.rf.2e3501af60c8ef69ef7bb754d531121e.jpg.\n",
            "\n",
            "image 1/1 /content/plat-detection-3-(experimental)-3/test/images/BG1987A_jpg.rf.68328962bc44a8a126d70ac706a0b7cf.jpg: 640x640 (no detections), 16.7ms\n",
            "Speed: 1.9ms preprocess, 16.7ms inference, 1.9ms postprocess per image at shape (1, 3, 640, 640)\n",
            "No 'plat' detected in BG1987A_jpg.rf.68328962bc44a8a126d70ac706a0b7cf.jpg.\n",
            "\n",
            "image 1/1 /content/plat-detection-3-(experimental)-3/test/images/BE6775U_jpg.rf.536ac3a64ca8ba39bea911d95808f622.jpg: 640x640 13.5ms\n",
            "Speed: 3.3ms preprocess, 13.5ms inference, 4.2ms postprocess per image at shape (1, 3, 640, 640)\n",
            "Detected 'plat' in BE6775U_jpg.rf.536ac3a64ca8ba39bea911d95808f622.jpg.\n",
            "\n",
            "image 1/1 /content/plat-detection-3-(experimental)-3/test/images/24-2BKode2BPlat2BKendaraan2BKota2BPadang2BSidempuan2B_jpg.rf.1f96b2c2e055a6818f5cd0a1e20a46a0.jpg: 640x640 20.7ms\n",
            "Speed: 2.1ms preprocess, 20.7ms inference, 6.6ms postprocess per image at shape (1, 3, 640, 640)\n",
            "Detected 'plat' in 24-2BKode2BPlat2BKendaraan2BKota2BPadang2BSidempuan2B_jpg.rf.1f96b2c2e055a6818f5cd0a1e20a46a0.jpg.\n",
            "\n",
            "image 1/1 /content/plat-detection-3-(experimental)-3/test/images/nomor-cantik-001-5d6cd176097f3630f63b4d72_jpg.rf.a82fec924f9f945a8f8f1523d4beed51.jpg: 640x640 24.6ms\n",
            "Speed: 1.9ms preprocess, 24.6ms inference, 5.1ms postprocess per image at shape (1, 3, 640, 640)\n",
            "Detected 'plat' in nomor-cantik-001-5d6cd176097f3630f63b4d72_jpg.rf.a82fec924f9f945a8f8f1523d4beed51.jpg.\n",
            "\n",
            "image 1/1 /content/plat-detection-3-(experimental)-3/test/images/54-E-5627-SF_jpg.rf.7090f60308a1fe22601ec2b91d5a00fd.jpg: 640x640 18.0ms\n",
            "Speed: 2.1ms preprocess, 18.0ms inference, 3.9ms postprocess per image at shape (1, 3, 640, 640)\n",
            "Detected 'plat' in 54-E-5627-SF_jpg.rf.7090f60308a1fe22601ec2b91d5a00fd.jpg.\n",
            "\n",
            "image 1/1 /content/plat-detection-3-(experimental)-3/test/images/352-E-5053-RG-09-20_jpg.rf.5f9db57f59bb60d01acfdb0d189152f6.jpg: 640x640 18.8ms\n",
            "Speed: 2.0ms preprocess, 18.8ms inference, 3.7ms postprocess per image at shape (1, 3, 640, 640)\n",
            "Detected 'plat' in 352-E-5053-RG-09-20_jpg.rf.5f9db57f59bb60d01acfdb0d189152f6.jpg.\n",
            "\n",
            "image 1/1 /content/plat-detection-3-(experimental)-3/test/images/plat-nomor-s-a2ec_jpg.rf.66295dd55bc52d390121350f31baa963.jpg: 640x640 18.9ms\n",
            "Speed: 5.7ms preprocess, 18.9ms inference, 3.8ms postprocess per image at shape (1, 3, 640, 640)\n",
            "Detected 'plat' in plat-nomor-s-a2ec_jpg.rf.66295dd55bc52d390121350f31baa963.jpg.\n",
            "\n",
            "image 1/1 /content/plat-detection-3-(experimental)-3/test/images/20171212_124415_jpg.rf.44a7165a830a398259ffd9b4b79256cf.jpg: 640x640 14.8ms\n",
            "Speed: 1.9ms preprocess, 14.8ms inference, 6.0ms postprocess per image at shape (1, 3, 640, 640)\n",
            "Detected 'plat' in 20171212_124415_jpg.rf.44a7165a830a398259ffd9b4b79256cf.jpg.\n",
            "\n",
            "image 1/1 /content/plat-detection-3-(experimental)-3/test/images/5_jpg.rf.6a40816637eaa11fa150fc69471fafe8.jpg: 640x640 14.6ms\n",
            "Speed: 2.9ms preprocess, 14.6ms inference, 3.3ms postprocess per image at shape (1, 3, 640, 640)\n",
            "Detected 'plat' in 5_jpg.rf.6a40816637eaa11fa150fc69471fafe8.jpg.\n",
            "\n",
            "image 1/1 /content/plat-detection-3-(experimental)-3/test/images/199-E-5314-QR-03-20_jpg.rf.57c4526420b89bacc140a0a9f20afb6a.jpg: 640x640 20.5ms\n",
            "Speed: 2.0ms preprocess, 20.5ms inference, 3.7ms postprocess per image at shape (1, 3, 640, 640)\n",
            "Detected 'plat' in 199-E-5314-QR-03-20_jpg.rf.57c4526420b89bacc140a0a9f20afb6a.jpg.\n",
            "\n",
            "image 1/1 /content/plat-detection-3-(experimental)-3/test/images/32-2BKode2BPlat2BKendaraan2BKota2BPematang2BSiantar2B_jpg.rf.99e6f74bf5cf6263d0b954235040f943.jpg: 640x640 18.2ms\n",
            "Speed: 2.1ms preprocess, 18.2ms inference, 3.0ms postprocess per image at shape (1, 3, 640, 640)\n",
            "Detected 'plat' in 32-2BKode2BPlat2BKendaraan2BKota2BPematang2BSiantar2B_jpg.rf.99e6f74bf5cf6263d0b954235040f943.jpg.\n"
          ]
        }
      ],
      "source": [
        "images_dir = os.path.join(test_dir, \"images\")\n",
        "labels_dir = os.path.join(test_dir, \"labels\")\n",
        "\n",
        "# Load the OBB YOLOv8 model\n",
        "model = YOLO('/content/runs/obb/train/weights/best.pt')  # Path to your trained OBB model\n",
        "\n",
        "# Initialize lists to store true and predicted labels\n",
        "y_true = []  # This will hold 1 (plat present) or 0 (no plat)\n",
        "y_pred = []  # This will hold 1 (detected plat) or 0 (no plat detected)\n",
        "\n",
        "# Define class for plat\n",
        "plat_class_id = 0  # Assuming class 0 corresponds to 'plat'\n",
        "\n",
        "# Process each image in the test set\n",
        "for img_name in os.listdir(images_dir):\n",
        "    if img_name.endswith(('.jpg', '.png', '.jpeg')):  # Filter for image files\n",
        "        img_path = os.path.join(images_dir, img_name)\n",
        "\n",
        "        # Load image\n",
        "        image = cv2.imread(img_path)\n",
        "\n",
        "        # Run inference\n",
        "        results = model(img_path)\n",
        "\n",
        "        # Extract detections from the model results\n",
        "        detections = sv.Detections.from_ultralytics(results[0])\n",
        "\n",
        "        # Check if 'plat' was detected in the image\n",
        "        detected_plat = any(detection_class == plat_class_id for detection_class in detections.class_id)\n",
        "\n",
        "        # Load the true labels from the labels directory\n",
        "        label_path = os.path.join(labels_dir, img_name.replace('.jpg', '.txt').replace('.png', '.txt'))\n",
        "\n",
        "        # Assume 'plat' is present if the label file exists and contains 'plat'\n",
        "        if os.path.exists(label_path):\n",
        "            true_labels = np.loadtxt(label_path, dtype=int, usecols=(0))  # Assuming class labels are in the first column\n",
        "            if true_labels.ndim == 0:  # Single label case\n",
        "                true_plat_present = (true_labels == plat_class_id)  # Check if it's a 'plat'\n",
        "            else:\n",
        "                true_plat_present = any(true_label == plat_class_id for true_label in true_labels)  # Check for 'plat'\n",
        "        else:\n",
        "            true_plat_present = False  # No label file means no plat in the image\n",
        "\n",
        "        # Add true and predicted values\n",
        "        y_true.append(1 if true_plat_present else 0)\n",
        "        y_pred.append(1 if detected_plat else 0)\n",
        "\n",
        "        # Print the detection status\n",
        "        if detected_plat:\n",
        "            print(f\"Detected 'plat' in {img_name}.\")\n",
        "        else:\n",
        "            print(f\"No 'plat' detected in {img_name}.\")"
      ]
    },
    {
      "cell_type": "code",
      "execution_count": 9,
      "metadata": {
        "id": "JBKLJY5JZSnb"
      },
      "outputs": [],
      "source": [
        "%matplotlib inline"
      ]
    },
    {
      "cell_type": "code",
      "execution_count": 10,
      "metadata": {
        "id": "eroZsr3UZSnb",
        "outputId": "e3593223-69d5-4d65-b4cd-df93b5859824",
        "colab": {
          "base_uri": "https://localhost:8080/",
          "height": 518
        }
      },
      "outputs": [
        {
          "output_type": "stream",
          "name": "stdout",
          "text": [
            "Accuracy: 0.94\n",
            "Precision: 1.00\n",
            "Recall: 0.94\n",
            "F1-Score: 0.97\n"
          ]
        },
        {
          "output_type": "display_data",
          "data": {
            "text/plain": [
              "<Figure size 640x480 with 2 Axes>"
            ],
            "image/png": "[encoded data removed]"
          },
          "metadata": {}
        }
      ],
      "source": [
        "if y_true and y_pred:  # Ensure we have true and predicted values to compare\n",
        "    # Calculate metrics (Accuracy, Precision, Recall, F1-Score)\n",
        "    accuracy = accuracy_score(y_true, y_pred)\n",
        "    precision = precision_score(y_true, y_pred)\n",
        "    recall = recall_score(y_true, y_pred)\n",
        "    f1 = f1_score(y_true, y_pred)\n",
        "\n",
        "    # Display the results\n",
        "    print(f\"Accuracy: {accuracy:.2f}\")\n",
        "    print(f\"Precision: {precision:.2f}\")\n",
        "    print(f\"Recall: {recall:.2f}\")\n",
        "    print(f\"F1-Score: {f1:.2f}\")\n",
        "\n",
        "    # Display the confusion matrix\n",
        "    cm = confusion_matrix(y_true, y_pred, labels=[0, 1])\n",
        "    disp = ConfusionMatrixDisplay(confusion_matrix=cm, display_labels=['No Plat', 'Plat'])\n",
        "    disp.plot(cmap=plt.cm.Blues)\n",
        "    plt.show()"
      ]
    },
    {
      "cell_type": "code",
      "execution_count": 11,
      "metadata": {
        "id": "9C3UQ0STZSnc",
        "colab": {
          "base_uri": "https://localhost:8080/"
        },
        "outputId": "89c4df60-65fd-45a8-822b-2c1663caf115"
      },
      "outputs": [
        {
          "output_type": "stream",
          "name": "stdout",
          "text": [
            "Mounted at /content/drive\n"
          ]
        }
      ],
      "source": [
        "from google.colab import drive\n",
        "drive.mount('/content/drive')"
      ]
    },
    {
      "cell_type": "code",
      "source": [
        "import shutil\n",
        "\n",
        "shutil.copytree('/content/runs', '/content/drive/MyDrive/runs')"
      ],
      "metadata": {
        "colab": {
          "base_uri": "https://localhost:8080/",
          "height": 35
        },
        "id": "SCBLECbGrAJD",
        "outputId": "bda6b7f8-acb9-4a37-e490-600fd56c2546"
      },
      "execution_count": 13,
      "outputs": [
        {
          "output_type": "execute_result",
          "data": {
            "text/plain": [
              "'/content/drive/MyDrive/runs'"
            ],
            "application/vnd.google.colaboratory.intrinsic+json": {
              "type": "string"
            }
          },
          "metadata": {},
          "execution_count": 13
        }
      ]
    }
  ],
  "metadata": {
    "kernelspec": {
      "display_name": "Python 3",
      "name": "python3"
    },
    "language_info": {
      "codemirror_mode": {
        "name": "ipython",
        "version": 3
      },
      "file_extension": ".py",
      "mimetype": "text/x-python",
      "name": "python",
      "nbconvert_exporter": "python",
      "pygments_lexer": "ipython3",
      "version": "3.10.5"
    },
    "colab": {
      "provenance": [],
      "gpuType": "T4"
    },
    "accelerator": "GPU",
    "widgets": {
      "application/vnd.jupyter.widget-state+json": {
        "cdea6275a91745d1927c15b9180ea81a": {
          "model_module": "@jupyter-widgets/controls",
          "model_name": "VBoxModel",
          "model_module_version": "1.5.0",
          "state": {
            "_dom_classes": [],
            "_model_module": "@jupyter-widgets/controls",
            "_model_module_version": "1.5.0",
            "_model_name": "VBoxModel",
            "_view_count": null,
            "_view_module": "@jupyter-widgets/controls",
            "_view_module_version": "1.5.0",
            "_view_name": "VBoxView",
            "box_style": "",
            "children": [
              "IPY_MODEL_f9e1672a29cd463b99dda0127f798240",
              "IPY_MODEL_7b0150923ebf434db6e2d407bf0edb77"
            ],
            "layout": "IPY_MODEL_8c996fb6554f42b7b68c786ad49af8a0"
          }
        },
        "f9e1672a29cd463b99dda0127f798240": {
          "model_module": "@jupyter-widgets/controls",
          "model_name": "LabelModel",
          "model_module_version": "1.5.0",
          "state": {
            "_dom_classes": [],
            "_model_module": "@jupyter-widgets/controls",
            "_model_module_version": "1.5.0",
            "_model_name": "LabelModel",
            "_view_count": null,
            "_view_module": "@jupyter-widgets/controls",
            "_view_module_version": "1.5.0",
            "_view_name": "LabelView",
            "description": "",
            "description_tooltip": null,
            "layout": "IPY_MODEL_fa42dd1150b849d9973ad4e57f402cbb",
            "placeholder": "​",
            "style": "IPY_MODEL_0e4e3f880f1f4ccd8d53fe86e0e244cf",
            "value": "14.244 MB of 14.244 MB uploaded\r"
          }
        },
        "7b0150923ebf434db6e2d407bf0edb77": {
          "model_module": "@jupyter-widgets/controls",
          "model_name": "FloatProgressModel",
          "model_module_version": "1.5.0",
          "state": {
            "_dom_classes": [],
            "_model_module": "@jupyter-widgets/controls",
            "_model_module_version": "1.5.0",
            "_model_name": "FloatProgressModel",
            "_view_count": null,
            "_view_module": "@jupyter-widgets/controls",
            "_view_module_version": "1.5.0",
            "_view_name": "ProgressView",
            "bar_style": "",
            "description": "",
            "description_tooltip": null,
            "layout": "IPY_MODEL_b72f51e0cf7d4e42bbdaaf4ad8e48288",
            "max": 1,
            "min": 0,
            "orientation": "horizontal",
            "style": "IPY_MODEL_a7473937ebd34e849b1bc3e7734f6055",
            "value": 1
          }
        },
        "8c996fb6554f42b7b68c786ad49af8a0": {
          "model_module": "@jupyter-widgets/base",
          "model_name": "LayoutModel",
          "model_module_version": "1.2.0",
          "state": {
            "_model_module": "@jupyter-widgets/base",
            "_model_module_version": "1.2.0",
            "_model_name": "LayoutModel",
            "_view_count": null,
            "_view_module": "@jupyter-widgets/base",
            "_view_module_version": "1.2.0",
            "_view_name": "LayoutView",
            "align_content": null,
            "align_items": null,
            "align_self": null,
            "border": null,
            "bottom": null,
            "display": null,
            "flex": null,
            "flex_flow": null,
            "grid_area": null,
            "grid_auto_columns": null,
            "grid_auto_flow": null,
            "grid_auto_rows": null,
            "grid_column": null,
            "grid_gap": null,
            "grid_row": null,
            "grid_template_areas": null,
            "grid_template_columns": null,
            "grid_template_rows": null,
            "height": null,
            "justify_content": null,
            "justify_items": null,
            "left": null,
            "margin": null,
            "max_height": null,
            "max_width": null,
            "min_height": null,
            "min_width": null,
            "object_fit": null,
            "object_position": null,
            "order": null,
            "overflow": null,
            "overflow_x": null,
            "overflow_y": null,
            "padding": null,
            "right": null,
            "top": null,
            "visibility": null,
            "width": null
          }
        },
        "fa42dd1150b849d9973ad4e57f402cbb": {
          "model_module": "@jupyter-widgets/base",
          "model_name": "LayoutModel",
          "model_module_version": "1.2.0",
          "state": {
            "_model_module": "@jupyter-widgets/base",
            "_model_module_version": "1.2.0",
            "_model_name": "LayoutModel",
            "_view_count": null,
            "_view_module": "@jupyter-widgets/base",
            "_view_module_version": "1.2.0",
            "_view_name": "LayoutView",
            "align_content": null,
            "align_items": null,
            "align_self": null,
            "border": null,
            "bottom": null,
            "display": null,
            "flex": null,
            "flex_flow": null,
            "grid_area": null,
            "grid_auto_columns": null,
            "grid_auto_flow": null,
            "grid_auto_rows": null,
            "grid_column": null,
            "grid_gap": null,
            "grid_row": null,
            "grid_template_areas": null,
            "grid_template_columns": null,
            "grid_template_rows": null,
            "height": null,
            "justify_content": null,
            "justify_items": null,
            "left": null,
            "margin": null,
            "max_height": null,
            "max_width": null,
            "min_height": null,
            "min_width": null,
            "object_fit": null,
            "object_position": null,
            "order": null,
            "overflow": null,
            "overflow_x": null,
            "overflow_y": null,
            "padding": null,
            "right": null,
            "top": null,
            "visibility": null,
            "width": null
          }
        },
        "0e4e3f880f1f4ccd8d53fe86e0e244cf": {
          "model_module": "@jupyter-widgets/controls",
          "model_name": "DescriptionStyleModel",
          "model_module_version": "1.5.0",
          "state": {
            "_model_module": "@jupyter-widgets/controls",
            "_model_module_version": "1.5.0",
            "_model_name": "DescriptionStyleModel",
            "_view_count": null,
            "_view_module": "@jupyter-widgets/base",
            "_view_module_version": "1.2.0",
            "_view_name": "StyleView",
            "description_width": ""
          }
        },
        "b72f51e0cf7d4e42bbdaaf4ad8e48288": {
          "model_module": "@jupyter-widgets/base",
          "model_name": "LayoutModel",
          "model_module_version": "1.2.0",
          "state": {
            "_model_module": "@jupyter-widgets/base",
            "_model_module_version": "1.2.0",
            "_model_name": "LayoutModel",
            "_view_count": null,
            "_view_module": "@jupyter-widgets/base",
            "_view_module_version": "1.2.0",
            "_view_name": "LayoutView",
            "align_content": null,
            "align_items": null,
            "align_self": null,
            "border": null,
            "bottom": null,
            "display": null,
            "flex": null,
            "flex_flow": null,
            "grid_area": null,
            "grid_auto_columns": null,
            "grid_auto_flow": null,
            "grid_auto_rows": null,
            "grid_column": null,
            "grid_gap": null,
            "grid_row": null,
            "grid_template_areas": null,
            "grid_template_columns": null,
            "grid_template_rows": null,
            "height": null,
            "justify_content": null,
            "justify_items": null,
            "left": null,
            "margin": null,
            "max_height": null,
            "max_width": null,
            "min_height": null,
            "min_width": null,
            "object_fit": null,
            "object_position": null,
            "order": null,
            "overflow": null,
            "overflow_x": null,
            "overflow_y": null,
            "padding": null,
            "right": null,
            "top": null,
            "visibility": null,
            "width": null
          }
        },
        "a7473937ebd34e849b1bc3e7734f6055": {
          "model_module": "@jupyter-widgets/controls",
          "model_name": "ProgressStyleModel",
          "model_module_version": "1.5.0",
          "state": {
            "_model_module": "@jupyter-widgets/controls",
            "_model_module_version": "1.5.0",
            "_model_name": "ProgressStyleModel",
            "_view_count": null,
            "_view_module": "@jupyter-widgets/base",
            "_view_module_version": "1.2.0",
            "_view_name": "StyleView",
            "bar_color": null,
            "description_width": ""
          }
        }
      }
    }
  },
  "nbformat": 4,
  "nbformat_minor": 0
}